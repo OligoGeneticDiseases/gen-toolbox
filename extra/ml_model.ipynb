{
 "cells": [
  {
   "cell_type": "code",
   "outputs": [],
   "source": [
    "import hail as hl\n",
    "import os"
   ],
   "metadata": {
    "collapsed": false
   },
   "id": "f3f775e80cdc8749"
  },
  {
   "cell_type": "code",
   "outputs": [],
   "source": [
    "hl.init()"
   ],
   "metadata": {
    "collapsed": false
   },
   "id": "f44c185f039777c9"
  },
  {
   "cell_type": "code",
   "outputs": [],
   "source": [
    "# Example usage of the vcfs_to_matrixtable function\n",
    "vcf_path = \"./tests-t/in_silico_sorted.vcf\" # Example list of VCF files\n",
    "destination_path = \"./extra/output/mt/in_silico_sorted.mt\" # Destination for the MatrixTable"
   ],
   "metadata": {
    "collapsed": false
   },
   "id": "a597f46813ee14ed"
  },
  {
   "cell_type": "code",
   "outputs": [],
   "source": [
    "def vcfs_to_matrixtable(f, destination=None, write=True, annotate=True):\n",
    "    \"\"\"\n",
    "    Converts VCF files to Hail MatrixTable format, optionally annotates with VEP, and writes to disk.\n",
    "    \n",
    "    Args:\n",
    "    f (str or list): Path to a single VCF file, a list of VCF files, or a file containing a list of VCF file paths.\n",
    "    destination (str): Path where the MatrixTable should be written.\n",
    "    write (bool): If True, writes the MatrixTable to the specified destination.\n",
    "    annotate (bool): If True, annotates the VCF with VEP.\n",
    "    \n",
    "    Returns:\n",
    "    Hail MatrixTable: The loaded (and optionally annotated) MatrixTable.\n",
    "    \"\"\"\n",
    "    files = []\n",
    "    if isinstance(f, list):\n",
    "        files.extend(f)\n",
    "    elif not f.endswith(\".vcf\") and not f.endswith(\".gz\"):\n",
    "        with open(f) as vcflist:\n",
    "            for vcfpath in vcflist:\n",
    "                stripped = vcfpath.strip()\n",
    "                assert os.path.exists(stripped), f\"Path {stripped} does not exist.\"\n",
    "                files.append(stripped)\n",
    "    else:\n",
    "        assert os.path.exists(f), f\"Path {f} does not exist.\"\n",
    "        files.append(f)  # Only one file\n",
    "\n",
    "    # Setup contig recoding to standardize chromosome naming conventions\n",
    "    contig_prefix = \"chr\"\n",
    "    contig_recoding = {f\"{contig_prefix}{i}\": str(i) for i in range(1, 23)}\n",
    "    contig_recoding.update({\"chrX\": \"X\", \"chrY\": \"Y\"})\n",
    "    \n",
    "    # Import VCF(s) as MatrixTable\n",
    "    mt = hl.import_vcf(files, force=True, reference_genome=\"GRCh37\", contig_recoding=contig_recoding)\n",
    "\n",
    "    if annotate:\n",
    "        # Filter out star alleles as they can cause issues with certain annotations\n",
    "        mt = mt.filter_rows(mt.alleles[1] != \"*\")\n",
    "        mt = hl.vep(mt, config=\"./src/config/vep_settings.json\", csq=True)  # Annotate with VEP #TODO: pane siia õige json fail\n",
    "\n",
    "    if write:\n",
    "        if destination is not None:\n",
    "            if not os.path.exists(destination):\n",
    "                os.makedirs(os.path.dirname(destination), exist_ok=True)\n",
    "                mt.write(destination)\n",
    "            else:\n",
    "                raise FileExistsError(f\"Destination {destination} already exists.\")\n",
    "    \n",
    "    return mt\n",
    "\n",
    "# Initialize Hail\n",
    "# Convert VCFs to MatrixTable, annotate with VEP, and write to disk\n",
    "mt = vcfs_to_matrixtable(vcf_files, destination=destination_path, write=True, annotate=True)\n",
    "# Further analysis on the MatrixTable 'mt' can proceed from here"
   ],
   "metadata": {
    "collapsed": false,
    "is_executing": true
   },
   "id": "85e0d36a9fb50e31"
  }
 ],
 "metadata": {
  "kernelspec": {
   "display_name": "Python 3",
   "language": "python",
   "name": "python3"
  },
  "language_info": {
   "codemirror_mode": {
    "name": "ipython",
    "version": 2
   },
   "file_extension": ".py",
   "mimetype": "text/x-python",
   "name": "python",
   "nbconvert_exporter": "python",
   "pygments_lexer": "ipython2",
   "version": "2.7.6"
  }
 },
 "nbformat": 4,
 "nbformat_minor": 5
}
