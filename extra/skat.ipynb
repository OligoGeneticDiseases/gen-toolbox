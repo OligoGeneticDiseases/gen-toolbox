{
 "cells": [
  {
   "cell_type": "code",
   "id": "initial_id",
   "metadata": {
    "collapsed": true,
    "ExecuteTime": {
     "end_time": "2025-06-03T21:05:16.073966Z",
     "start_time": "2025-06-03T21:05:10.892973Z"
    }
   },
   "source": [
    "import hail\n",
    "from pyspark import SparkContext, SparkConf\n",
    "#!/usr/bin/env python3\n",
    "import os\n",
    "import json\n",
    "from pathlib import Path\n",
    "from math import ceil\n",
    "import hail as hl\n",
    "from src.data_processing.vcf.hail_metods import parse_empty  # helper for empty values\n",
    "from src.utils.general.string_operations import trim_prefix  # helper for trimming prefixes\n",
    "hl.stop()"
   ],
   "outputs": [
    {
     "data": {
      "text/html": [
       "    <style>\n",
       "        .bk-notebook-logo {\n",
       "            display: block;\n",
       "            width: 20px;\n",
       "            height: 20px;\n",
       "            background-image: url(data:image/png;base64,iVBORw0KGgoAAAANSUhEUgAAABQAAAAUCAYAAACNiR0NAAAABHNCSVQICAgIfAhkiAAAAAlwSFlzAAALEgAACxIB0t1+/AAAABx0RVh0U29mdHdhcmUAQWRvYmUgRmlyZXdvcmtzIENTNui8sowAAAOkSURBVDiNjZRtaJVlGMd/1/08zzln5zjP1LWcU9N0NkN8m2CYjpgQYQXqSs0I84OLIC0hkEKoPtiH3gmKoiJDU7QpLgoLjLIQCpEsNJ1vqUOdO7ppbuec5+V+rj4ctwzd8IIbbi6u+8f1539dt3A78eXC7QizUF7gyV1fD1Yqg4JWz84yffhm0qkFqBogB9rM8tZdtwVsPUhWhGcFJngGeWrPzHm5oaMmkfEg1usvLFyc8jLRqDOMru7AyC8saQr7GG7f5fvDeH7Ej8CM66nIF+8yngt6HWaKh7k49Soy9nXurCi1o3qUbS3zWfrYeQDTB/Qj6kX6Ybhw4B+bOYoLKCC9H3Nu/leUTZ1JdRWkkn2ldcCamzrcf47KKXdAJllSlxAOkRgyHsGC/zRday5Qld9DyoM4/q/rUoy/CXh3jzOu3bHUVZeU+DEn8FInkPBFlu3+nW3Nw0mk6vCDiWg8CeJaxEwuHS3+z5RgY+YBR6V1Z1nxSOfoaPa4LASWxxdNp+VWTk7+4vzaou8v8PN+xo+KY2xsw6une2frhw05CTYOmQvsEhjhWjn0bmXPjpE1+kplmmkP3suftwTubK9Vq22qKmrBhpY4jvd5afdRA3wGjFAgcnTK2s4hY0/GPNIb0nErGMCRxWOOX64Z8RAC4oCXdklmEvcL8o0BfkNK4lUg9HTl+oPlQxdNo3Mg4Nv175e/1LDGzZen30MEjRUtmXSfiTVu1kK8W4txyV6BMKlbgk3lMwYCiusNy9fVfvvwMxv8Ynl6vxoByANLTWplvuj/nF9m2+PDtt1eiHPBr1oIfhCChQMBw6Aw0UulqTKZdfVvfG7VcfIqLG9bcldL/+pdWTLxLUy8Qq38heUIjh4XlzZxzQm19lLFlr8vdQ97rjZVOLf8nclzckbcD4wxXMidpX30sFd37Fv/GtwwhzhxGVAprjbg0gCAEeIgwCZyTV2Z1REEW8O4py0wsjeloKoMr6iCY6dP92H6Vw/oTyICIthibxjm/DfN9lVz8IqtqKYLUXfoKVMVQVVJOElGjrnnUt9T9wbgp8AyYKaGlqingHZU/uG2NTZSVqwHQTWkx9hxjkpWDaCg6Ckj5qebgBVbT3V3NNXMSiWSDdGV3hrtzla7J+duwPOToIg42ChPQOQjspnSlp1V+Gjdged7+8UN5CRAV7a5EdFNwCjEaBR27b3W890TE7g24NAP/mMDXRWrGoFPQI9ls/MWO2dWFAar/xcOIImbbpA3zgAAAABJRU5ErkJggg==);\n",
       "        }\n",
       "    </style>\n",
       "    <div>\n",
       "        <a href=\"https://bokeh.org\" target=\"_blank\" class=\"bk-notebook-logo\"></a>\n",
       "        <span id=\"aab8376b-418e-4e44-99e7-c927787c82e8\">Loading BokehJS ...</span>\n",
       "    </div>\n"
      ]
     },
     "metadata": {},
     "output_type": "display_data"
    },
    {
     "data": {
      "application/javascript": "(function(root) {\n  function now() {\n    return new Date();\n  }\n\n  const force = true;\n\n  if (typeof root._bokeh_onload_callbacks === \"undefined\" || force === true) {\n    root._bokeh_onload_callbacks = [];\n    root._bokeh_is_loading = undefined;\n  }\n\nconst JS_MIME_TYPE = 'application/javascript';\n  const HTML_MIME_TYPE = 'text/html';\n  const EXEC_MIME_TYPE = 'application/vnd.bokehjs_exec.v0+json';\n  const CLASS_NAME = 'output_bokeh rendered_html';\n\n  /**\n   * Render data to the DOM node\n   */\n  function render(props, node) {\n    const script = document.createElement(\"script\");\n    node.appendChild(script);\n  }\n\n  /**\n   * Handle when an output is cleared or removed\n   */\n  function handleClearOutput(event, handle) {\n    function drop(id) {\n      const view = Bokeh.index.get_by_id(id)\n      if (view != null) {\n        view.model.document.clear()\n        Bokeh.index.delete(view)\n      }\n    }\n\n    const cell = handle.cell;\n\n    const id = cell.output_area._bokeh_element_id;\n    const server_id = cell.output_area._bokeh_server_id;\n\n    // Clean up Bokeh references\n    if (id != null) {\n      drop(id)\n    }\n\n    if (server_id !== undefined) {\n      // Clean up Bokeh references\n      const cmd_clean = \"from bokeh.io.state import curstate; print(curstate().uuid_to_server['\" + server_id + \"'].get_sessions()[0].document.roots[0]._id)\";\n      cell.notebook.kernel.execute(cmd_clean, {\n        iopub: {\n          output: function(msg) {\n            const id = msg.content.text.trim()\n            drop(id)\n          }\n        }\n      });\n      // Destroy server and session\n      const cmd_destroy = \"import bokeh.io.notebook as ion; ion.destroy_server('\" + server_id + \"')\";\n      cell.notebook.kernel.execute(cmd_destroy);\n    }\n  }\n\n  /**\n   * Handle when a new output is added\n   */\n  function handleAddOutput(event, handle) {\n    const output_area = handle.output_area;\n    const output = handle.output;\n\n    // limit handleAddOutput to display_data with EXEC_MIME_TYPE content only\n    if ((output.output_type != \"display_data\") || (!Object.prototype.hasOwnProperty.call(output.data, EXEC_MIME_TYPE))) {\n      return\n    }\n\n    const toinsert = output_area.element.find(\".\" + CLASS_NAME.split(' ')[0]);\n\n    if (output.metadata[EXEC_MIME_TYPE][\"id\"] !== undefined) {\n      toinsert[toinsert.length - 1].firstChild.textContent = output.data[JS_MIME_TYPE];\n      // store reference to embed id on output_area\n      output_area._bokeh_element_id = output.metadata[EXEC_MIME_TYPE][\"id\"];\n    }\n    if (output.metadata[EXEC_MIME_TYPE][\"server_id\"] !== undefined) {\n      const bk_div = document.createElement(\"div\");\n      bk_div.innerHTML = output.data[HTML_MIME_TYPE];\n      const script_attrs = bk_div.children[0].attributes;\n      for (let i = 0; i < script_attrs.length; i++) {\n        toinsert[toinsert.length - 1].firstChild.setAttribute(script_attrs[i].name, script_attrs[i].value);\n        toinsert[toinsert.length - 1].firstChild.textContent = bk_div.children[0].textContent\n      }\n      // store reference to server id on output_area\n      output_area._bokeh_server_id = output.metadata[EXEC_MIME_TYPE][\"server_id\"];\n    }\n  }\n\n  function register_renderer(events, OutputArea) {\n\n    function append_mime(data, metadata, element) {\n      // create a DOM node to render to\n      const toinsert = this.create_output_subarea(\n        metadata,\n        CLASS_NAME,\n        EXEC_MIME_TYPE\n      );\n      this.keyboard_manager.register_events(toinsert);\n      // Render to node\n      const props = {data: data, metadata: metadata[EXEC_MIME_TYPE]};\n      render(props, toinsert[toinsert.length - 1]);\n      element.append(toinsert);\n      return toinsert\n    }\n\n    /* Handle when an output is cleared or removed */\n    events.on('clear_output.CodeCell', handleClearOutput);\n    events.on('delete.Cell', handleClearOutput);\n\n    /* Handle when a new output is added */\n    events.on('output_added.OutputArea', handleAddOutput);\n\n    /**\n     * Register the mime type and append_mime function with output_area\n     */\n    OutputArea.prototype.register_mime_type(EXEC_MIME_TYPE, append_mime, {\n      /* Is output safe? */\n      safe: true,\n      /* Index of renderer in `output_area.display_order` */\n      index: 0\n    });\n  }\n\n  // register the mime type if in Jupyter Notebook environment and previously unregistered\n  if (root.Jupyter !== undefined) {\n    const events = require('base/js/events');\n    const OutputArea = require('notebook/js/outputarea').OutputArea;\n\n    if (OutputArea.prototype.mime_types().indexOf(EXEC_MIME_TYPE) == -1) {\n      register_renderer(events, OutputArea);\n    }\n  }\n  if (typeof (root._bokeh_timeout) === \"undefined\" || force === true) {\n    root._bokeh_timeout = Date.now() + 5000;\n    root._bokeh_failed_load = false;\n  }\n\n  const NB_LOAD_WARNING = {'data': {'text/html':\n     \"<div style='background-color: #fdd'>\\n\"+\n     \"<p>\\n\"+\n     \"BokehJS does not appear to have successfully loaded. If loading BokehJS from CDN, this \\n\"+\n     \"may be due to a slow or bad network connection. Possible fixes:\\n\"+\n     \"</p>\\n\"+\n     \"<ul>\\n\"+\n     \"<li>re-rerun `output_notebook()` to attempt to load from CDN again, or</li>\\n\"+\n     \"<li>use INLINE resources instead, as so:</li>\\n\"+\n     \"</ul>\\n\"+\n     \"<code>\\n\"+\n     \"from bokeh.resources import INLINE\\n\"+\n     \"output_notebook(resources=INLINE)\\n\"+\n     \"</code>\\n\"+\n     \"</div>\"}};\n\n  function display_loaded() {\n    const el = document.getElementById(\"aab8376b-418e-4e44-99e7-c927787c82e8\");\n    if (el != null) {\n      el.textContent = \"BokehJS is loading...\";\n    }\n    if (root.Bokeh !== undefined) {\n      if (el != null) {\n        el.textContent = \"BokehJS \" + root.Bokeh.version + \" successfully loaded.\";\n      }\n    } else if (Date.now() < root._bokeh_timeout) {\n      setTimeout(display_loaded, 100)\n    }\n  }\n\n  function run_callbacks() {\n    try {\n      root._bokeh_onload_callbacks.forEach(function(callback) {\n        if (callback != null)\n          callback();\n      });\n    } finally {\n      delete root._bokeh_onload_callbacks\n    }\n    console.debug(\"Bokeh: all callbacks have finished\");\n  }\n\n  function load_libs(css_urls, js_urls, callback) {\n    if (css_urls == null) css_urls = [];\n    if (js_urls == null) js_urls = [];\n\n    root._bokeh_onload_callbacks.push(callback);\n    if (root._bokeh_is_loading > 0) {\n      console.debug(\"Bokeh: BokehJS is being loaded, scheduling callback at\", now());\n      return null;\n    }\n    if (js_urls == null || js_urls.length === 0) {\n      run_callbacks();\n      return null;\n    }\n    console.debug(\"Bokeh: BokehJS not loaded, scheduling load and callback at\", now());\n    root._bokeh_is_loading = css_urls.length + js_urls.length;\n\n    function on_load() {\n      root._bokeh_is_loading--;\n      if (root._bokeh_is_loading === 0) {\n        console.debug(\"Bokeh: all BokehJS libraries/stylesheets loaded\");\n        run_callbacks()\n      }\n    }\n\n    function on_error(url) {\n      console.error(\"failed to load \" + url);\n    }\n\n    for (let i = 0; i < css_urls.length; i++) {\n      const url = css_urls[i];\n      const element = document.createElement(\"link\");\n      element.onload = on_load;\n      element.onerror = on_error.bind(null, url);\n      element.rel = \"stylesheet\";\n      element.type = \"text/css\";\n      element.href = url;\n      console.debug(\"Bokeh: injecting link tag for BokehJS stylesheet: \", url);\n      document.body.appendChild(element);\n    }\n\n    for (let i = 0; i < js_urls.length; i++) {\n      const url = js_urls[i];\n      const element = document.createElement('script');\n      element.onload = on_load;\n      element.onerror = on_error.bind(null, url);\n      element.async = false;\n      element.src = url;\n      console.debug(\"Bokeh: injecting script tag for BokehJS library: \", url);\n      document.head.appendChild(element);\n    }\n  };\n\n  function inject_raw_css(css) {\n    const element = document.createElement(\"style\");\n    element.appendChild(document.createTextNode(css));\n    document.body.appendChild(element);\n  }\n\n  const js_urls = [\"https://cdn.bokeh.org/bokeh/release/bokeh-3.3.4.min.js\", \"https://cdn.bokeh.org/bokeh/release/bokeh-gl-3.3.4.min.js\", \"https://cdn.bokeh.org/bokeh/release/bokeh-widgets-3.3.4.min.js\", \"https://cdn.bokeh.org/bokeh/release/bokeh-tables-3.3.4.min.js\", \"https://cdn.bokeh.org/bokeh/release/bokeh-mathjax-3.3.4.min.js\"];\n  const css_urls = [];\n\n  const inline_js = [    function(Bokeh) {\n      Bokeh.set_log_level(\"info\");\n    },\nfunction(Bokeh) {\n    }\n  ];\n\n  function run_inline_js() {\n    if (root.Bokeh !== undefined || force === true) {\n          for (let i = 0; i < inline_js.length; i++) {\n      inline_js[i].call(root, root.Bokeh);\n    }\nif (force === true) {\n        display_loaded();\n      }} else if (Date.now() < root._bokeh_timeout) {\n      setTimeout(run_inline_js, 100);\n    } else if (!root._bokeh_failed_load) {\n      console.log(\"Bokeh: BokehJS failed to load within specified timeout.\");\n      root._bokeh_failed_load = true;\n    } else if (force !== true) {\n      const cell = $(document.getElementById(\"aab8376b-418e-4e44-99e7-c927787c82e8\")).parents('.cell').data().cell;\n      cell.output_area.append_execute_result(NB_LOAD_WARNING)\n    }\n  }\n\n  if (root._bokeh_is_loading === 0) {\n    console.debug(\"Bokeh: BokehJS loaded, going straight to plotting\");\n    run_inline_js();\n  } else {\n    load_libs(css_urls, js_urls, function() {\n      console.debug(\"Bokeh: BokehJS plotting callback run at\", now());\n      run_inline_js();\n    });\n  }\n}(window));",
      "application/vnd.bokehjs_load.v0+json": "(function(root) {\n  function now() {\n    return new Date();\n  }\n\n  const force = true;\n\n  if (typeof root._bokeh_onload_callbacks === \"undefined\" || force === true) {\n    root._bokeh_onload_callbacks = [];\n    root._bokeh_is_loading = undefined;\n  }\n\n\n  if (typeof (root._bokeh_timeout) === \"undefined\" || force === true) {\n    root._bokeh_timeout = Date.now() + 5000;\n    root._bokeh_failed_load = false;\n  }\n\n  const NB_LOAD_WARNING = {'data': {'text/html':\n     \"<div style='background-color: #fdd'>\\n\"+\n     \"<p>\\n\"+\n     \"BokehJS does not appear to have successfully loaded. If loading BokehJS from CDN, this \\n\"+\n     \"may be due to a slow or bad network connection. Possible fixes:\\n\"+\n     \"</p>\\n\"+\n     \"<ul>\\n\"+\n     \"<li>re-rerun `output_notebook()` to attempt to load from CDN again, or</li>\\n\"+\n     \"<li>use INLINE resources instead, as so:</li>\\n\"+\n     \"</ul>\\n\"+\n     \"<code>\\n\"+\n     \"from bokeh.resources import INLINE\\n\"+\n     \"output_notebook(resources=INLINE)\\n\"+\n     \"</code>\\n\"+\n     \"</div>\"}};\n\n  function display_loaded() {\n    const el = document.getElementById(\"aab8376b-418e-4e44-99e7-c927787c82e8\");\n    if (el != null) {\n      el.textContent = \"BokehJS is loading...\";\n    }\n    if (root.Bokeh !== undefined) {\n      if (el != null) {\n        el.textContent = \"BokehJS \" + root.Bokeh.version + \" successfully loaded.\";\n      }\n    } else if (Date.now() < root._bokeh_timeout) {\n      setTimeout(display_loaded, 100)\n    }\n  }\n\n  function run_callbacks() {\n    try {\n      root._bokeh_onload_callbacks.forEach(function(callback) {\n        if (callback != null)\n          callback();\n      });\n    } finally {\n      delete root._bokeh_onload_callbacks\n    }\n    console.debug(\"Bokeh: all callbacks have finished\");\n  }\n\n  function load_libs(css_urls, js_urls, callback) {\n    if (css_urls == null) css_urls = [];\n    if (js_urls == null) js_urls = [];\n\n    root._bokeh_onload_callbacks.push(callback);\n    if (root._bokeh_is_loading > 0) {\n      console.debug(\"Bokeh: BokehJS is being loaded, scheduling callback at\", now());\n      return null;\n    }\n    if (js_urls == null || js_urls.length === 0) {\n      run_callbacks();\n      return null;\n    }\n    console.debug(\"Bokeh: BokehJS not loaded, scheduling load and callback at\", now());\n    root._bokeh_is_loading = css_urls.length + js_urls.length;\n\n    function on_load() {\n      root._bokeh_is_loading--;\n      if (root._bokeh_is_loading === 0) {\n        console.debug(\"Bokeh: all BokehJS libraries/stylesheets loaded\");\n        run_callbacks()\n      }\n    }\n\n    function on_error(url) {\n      console.error(\"failed to load \" + url);\n    }\n\n    for (let i = 0; i < css_urls.length; i++) {\n      const url = css_urls[i];\n      const element = document.createElement(\"link\");\n      element.onload = on_load;\n      element.onerror = on_error.bind(null, url);\n      element.rel = \"stylesheet\";\n      element.type = \"text/css\";\n      element.href = url;\n      console.debug(\"Bokeh: injecting link tag for BokehJS stylesheet: \", url);\n      document.body.appendChild(element);\n    }\n\n    for (let i = 0; i < js_urls.length; i++) {\n      const url = js_urls[i];\n      const element = document.createElement('script');\n      element.onload = on_load;\n      element.onerror = on_error.bind(null, url);\n      element.async = false;\n      element.src = url;\n      console.debug(\"Bokeh: injecting script tag for BokehJS library: \", url);\n      document.head.appendChild(element);\n    }\n  };\n\n  function inject_raw_css(css) {\n    const element = document.createElement(\"style\");\n    element.appendChild(document.createTextNode(css));\n    document.body.appendChild(element);\n  }\n\n  const js_urls = [\"https://cdn.bokeh.org/bokeh/release/bokeh-3.3.4.min.js\", \"https://cdn.bokeh.org/bokeh/release/bokeh-gl-3.3.4.min.js\", \"https://cdn.bokeh.org/bokeh/release/bokeh-widgets-3.3.4.min.js\", \"https://cdn.bokeh.org/bokeh/release/bokeh-tables-3.3.4.min.js\", \"https://cdn.bokeh.org/bokeh/release/bokeh-mathjax-3.3.4.min.js\"];\n  const css_urls = [];\n\n  const inline_js = [    function(Bokeh) {\n      Bokeh.set_log_level(\"info\");\n    },\nfunction(Bokeh) {\n    }\n  ];\n\n  function run_inline_js() {\n    if (root.Bokeh !== undefined || force === true) {\n          for (let i = 0; i < inline_js.length; i++) {\n      inline_js[i].call(root, root.Bokeh);\n    }\nif (force === true) {\n        display_loaded();\n      }} else if (Date.now() < root._bokeh_timeout) {\n      setTimeout(run_inline_js, 100);\n    } else if (!root._bokeh_failed_load) {\n      console.log(\"Bokeh: BokehJS failed to load within specified timeout.\");\n      root._bokeh_failed_load = true;\n    } else if (force !== true) {\n      const cell = $(document.getElementById(\"aab8376b-418e-4e44-99e7-c927787c82e8\")).parents('.cell').data().cell;\n      cell.output_area.append_execute_result(NB_LOAD_WARNING)\n    }\n  }\n\n  if (root._bokeh_is_loading === 0) {\n    console.debug(\"Bokeh: BokehJS loaded, going straight to plotting\");\n    run_inline_js();\n  } else {\n    load_libs(css_urls, js_urls, function() {\n      console.debug(\"Bokeh: BokehJS plotting callback run at\", now());\n      run_inline_js();\n    });\n  }\n}(window));"
     },
     "metadata": {},
     "output_type": "display_data"
    }
   ],
   "execution_count": 1
  },
  {
   "metadata": {
    "ExecuteTime": {
     "end_time": "2025-06-03T21:05:25.331477Z",
     "start_time": "2025-06-03T21:05:16.075804Z"
    }
   },
   "cell_type": "code",
   "source": [
    "\n",
    "\n",
    "hail_home = Path(hl.__file__).parent.__str__()\n",
    "\n",
    "###########################################################################\n",
    "# Spark/Hail Configuration\n",
    "###########################################################################\n",
    "def setup_spark_config(tmp_dir):\n",
    "    path = Path.cwd().resolve().parents[0] / \"src\" / \"config\" / \"spark_conf.json\"\n",
    "    with path.open() as f:\n",
    "        conf_data = json.load(f)\n",
    "\n",
    "    #conf_data[\"spark.jars\"] = conf_data[\"spark.jars\"].format(hail_home=hail_home)\n",
    "    conf_data[\"spark.driver.extraClassPath\"] = conf_data[\n",
    "        \"spark.driver.extraClassPath\"\n",
    "    ].format(hail_home=hail_home)\n",
    "    conf_data[\"spark.local.dir\"] = conf_data[\"spark.local.dir\"].format(local_dir=tmp_dir)\n",
    "\n",
    "    os.environ[\"SPARK_JAVA_OPTS\"] = \"-XX:-UsePerfData\"\n",
    "    conf = SparkConf().setAll(conf_data.items())\n",
    "    return conf\n",
    "    \n",
    "def init_spark_and_run(conf, out_dir, tmp_dir):\n",
    "    sc = SparkContext(conf=conf)\n",
    "\n",
    "    conf.set(\"spark.jars\", f\"{hail_home}/backend/hail-all-spark.jar\")\n",
    "    conf.set(\"spark.driver.extraClassPath\", f\"{hail_home}/backend/hail-all-spark.jar\")\n",
    "    conf.set(\"spark.driver.extraJavaOptions\",\"-XX:-UsePerfData\")\n",
    "    conf.set(\"spark.executor.extraJavaOptions\", \"-XX:-UsePerfData\")\n",
    "    conf.set(\"spark.eventLog.dir\", f\"{out_dir}\")\n",
    "\n",
    "    os.environ[\"TMPDIR\"] = f\"{tmp_dir}\"\n",
    "    hl.init(\n",
    "        backend=\"spark\",\n",
    "        sc=sc,\n",
    "        min_block_size=4096,\n",
    "        tmp_dir=tmp_dir,\n",
    "        local_tmpdir=tmp_dir,\n",
    "        log=hl.utils.timestamp_path(f\"{tmp_dir}/logfile\", f\".skat.log\")\n",
    "    )\n",
    "\n",
    "    print(sc.getConf().getAll())\n",
    "\n",
    "\n",
    "# Log output directory\n",
    "out_dir = \"/mnt/sdb/tmp-skat/\"\n",
    "tmp_dir = \"/mnt/sdb/tmp-skat\"\n",
    "conf = setup_spark_config(tmp_dir)\n",
    "\n",
    "init_spark_and_run(conf, out_dir, tmp_dir)\n",
    "# Define the output directories.\n",
    "skat_mtx_output_dir = \"/mnt/sdb/tmp-skat/skat_mtx\"\n",
    "intermediate_dir = os.path.join(skat_mtx_output_dir, \"intermediate_batches\")\n",
    "\n",
    "\n",
    "###########################################################################\n",
    "# Define contig recoding dictionary for GRCh37.\n",
    "###########################################################################\n",
    "contig_recoding = {f\"chr{i}\": str(i) for i in range(1, 23)}\n",
    "contig_recoding.update({\"chrX\": \"X\", \"chrY\": \"Y\", \"chrM\": \"MT\"})"
   ],
   "id": "873bd6b656190b52",
   "outputs": [
    {
     "name": "stderr",
     "output_type": "stream",
     "text": [
      "SLF4J: Failed to load class \"org.slf4j.impl.StaticLoggerBinder\".\n",
      "SLF4J: Defaulting to no-operation (NOP) logger implementation\n",
      "SLF4J: See http://www.slf4j.org/codes.html#StaticLoggerBinder for further details.\n",
      "pip-installed Hail requires additional configuration options in Spark referring\n",
      "  to the path to the Hail Python module directory HAIL_DIR,\n",
      "  e.g. /path/to/python/site-packages/hail:\n",
      "    spark.jars=HAIL_DIR/backend/hail-all-spark.jar\n",
      "    spark.driver.extraClassPath=HAIL_DIR/backend/hail-all-spark.jar\n",
      "    spark.executor.extraClassPath=./hail-all-spark.jarRunning on Apache Spark version 3.5.4\n",
      "SparkUI available at http://tu-kliin-1-oligogen-1-virtual--1475-7.openstacklocal:4040\n",
      "Welcome to\n",
      "     __  __     <>__\n",
      "    / /_/ /__  __/ /\n",
      "   / __  / _ `/ / /\n",
      "  /_/ /_/\\_,_/_/_/   version 0.2.133-4c60fddb171a\n",
      "LOGGING: writing to /mnt/sdb/tmp-skat/logfile-20250604-0005.skat.log\n"
     ]
    },
    {
     "name": "stdout",
     "output_type": "stream",
     "text": [
      "[('spark.repl.local.jars', ''), ('spark.local.dir', '/mnt/sdb/tmp-skat'), ('spark.executor.extraJavaOptions', '-Djava.net.preferIPv6Addresses=false -XX:+IgnoreUnrecognizedVMOptions --add-opens=java.base/java.lang=ALL-UNNAMED --add-opens=java.base/java.lang.invoke=ALL-UNNAMED --add-opens=java.base/java.lang.reflect=ALL-UNNAMED --add-opens=java.base/java.io=ALL-UNNAMED --add-opens=java.base/java.net=ALL-UNNAMED --add-opens=java.base/java.nio=ALL-UNNAMED --add-opens=java.base/java.util=ALL-UNNAMED --add-opens=java.base/java.util.concurrent=ALL-UNNAMED --add-opens=java.base/java.util.concurrent.atomic=ALL-UNNAMED --add-opens=java.base/jdk.internal.ref=ALL-UNNAMED --add-opens=java.base/sun.nio.ch=ALL-UNNAMED --add-opens=java.base/sun.nio.cs=ALL-UNNAMED --add-opens=java.base/sun.security.action=ALL-UNNAMED --add-opens=java.base/sun.util.calendar=ALL-UNNAMED --add-opens=java.security.jgss/sun.security.krb5=ALL-UNNAMED -Djdk.reflect.useDirectMethodHandle=false -XX:+UseG1GC'), ('spark.kryo.registrator', 'is.hail.kryo.HailKryoRegistrator'), ('spark.logConf', 'false'), ('spark.driver.host', 'tu-kliin-1-oligogen-1-virtual--1475-7.openstacklocal'), ('spark.driver.memory', '21g'), ('spark.serializer', 'org.apache.spark.serializer.KryoSerializer'), ('spark.serializer.objectStreamReset', '100'), ('spark.executor.extraClassPath', './hail-all-spark.jar'), ('spark.master', 'local[*]'), ('spark.executor.cores', '3'), ('spark.app.submitTime', '1748984719303'), ('spark.submit.deployMode', 'client'), ('spark.driver.port', '34081'), ('spark.app.startTime', '1748984719535'), ('spark.task.maxFailures', '4'), ('spark.driver.extraJavaOptions', '-Djava.net.preferIPv6Addresses=false -XX:+IgnoreUnrecognizedVMOptions --add-opens=java.base/java.lang=ALL-UNNAMED --add-opens=java.base/java.lang.invoke=ALL-UNNAMED --add-opens=java.base/java.lang.reflect=ALL-UNNAMED --add-opens=java.base/java.io=ALL-UNNAMED --add-opens=java.base/java.net=ALL-UNNAMED --add-opens=java.base/java.nio=ALL-UNNAMED --add-opens=java.base/java.util=ALL-UNNAMED --add-opens=java.base/java.util.concurrent=ALL-UNNAMED --add-opens=java.base/java.util.concurrent.atomic=ALL-UNNAMED --add-opens=java.base/jdk.internal.ref=ALL-UNNAMED --add-opens=java.base/sun.nio.ch=ALL-UNNAMED --add-opens=java.base/sun.nio.cs=ALL-UNNAMED --add-opens=java.base/sun.security.action=ALL-UNNAMED --add-opens=java.base/sun.util.calendar=ALL-UNNAMED --add-opens=java.security.jgss/sun.security.krb5=ALL-UNNAMED -Djdk.reflect.useDirectMethodHandle=false'), ('spark.executor.id', 'driver'), ('spark.driver.extraClassPath', '/opt/global-venv/lib64/python3.9/site-packages/hail/backend/hail-all-spark.jar'), ('spark.driver.bindAddress', '127.0.0.1'), ('spark.log.level', 'FATAL'), ('spark.rdd.compress', 'True'), ('spark.speculation', 'false'), ('spark.app.name', 'HailTools-TSO'), ('spark.submit.pyFiles', ''), ('spark.app.id', 'local-1748984721007'), ('spark.ui.showConsoleProgress', 'true'), ('spark.jars', '{hail_home}/backend/hail-all-spark.jar')]\n"
     ]
    }
   ],
   "execution_count": 2
  },
  {
   "metadata": {
    "ExecuteTime": {
     "end_time": "2025-06-03T21:05:25.353689Z",
     "start_time": "2025-06-03T21:05:25.333054Z"
    }
   },
   "cell_type": "code",
   "source": [
    "\n",
    "###########################################################################\n",
    "# Helper Functions\n",
    "###########################################################################\n",
    "def merge_matrix_tables_cols(matrix_tables):\n",
    "    \"\"\"\n",
    "    Merge MatrixTables by columns (keeping only the essential entry fields).\n",
    "    \"\"\"\n",
    "    combined_mt = matrix_tables[0].select_entries(\n",
    "        AD=matrix_tables[0].AD,\n",
    "        DP=matrix_tables[0].DP,\n",
    "        GQ=matrix_tables[0].GQ,\n",
    "        GT=matrix_tables[0].GT,\n",
    "        PL=matrix_tables[0].PL,\n",
    "        AC=matrix_tables[0].AC\n",
    "    )\n",
    "    for mt in matrix_tables[1:]:\n",
    "        mt_common = mt.select_entries(\n",
    "            AD=mt.AD,\n",
    "            DP=mt.DP,\n",
    "            GQ=mt.GQ,\n",
    "            GT=mt.GT,\n",
    "            PL=mt.PL,\n",
    "            AC=mt.AC\n",
    "        )\n",
    "        combined_mt = combined_mt.union_cols(mt_common, row_join_type=\"outer\")\n",
    "    return combined_mt\n",
    "\n",
    "def process_vcf(vcf_path, metadata=None, annotate=False):\n",
    "    \"\"\"\n",
    "    Process a single VCF file.\n",
    "\n",
    "    Since the VCF is already annotated, we extract the CSQ field from INFO to obtain\n",
    "    the row-level \"gene\" annotation (and optional fields HGNC_ID and MAX_AF) required\n",
    "    for SKAT grouping.\n",
    "\n",
    "    Steps:\n",
    "      1. Import the VCF using GRCh37 with force_bgz and contig recoding.\n",
    "      2. Convert GQ to int32 and split multiallelic records.\n",
    "      3. Create a temporary field \"csq_array\" by splitting the first INFO.CSQ string on \"|\".\n",
    "         Then extract:\n",
    "            - gene: csq_array[1] if present, else \"Unknown\".\n",
    "            - HGNC_ID: parsed from csq_array[2] if numeric, else missing.\n",
    "            - MAX_AF: parsed from csq_array[3] using parse_empty (defaults to 0.0).\n",
    "      4. Compute entry-level annotations:\n",
    "            - AC: Number of alternate alleles (from GT).\n",
    "            - VF: Variant fraction (AD[1] / DP).\n",
    "      5. Optionally annotate globals with metadata.\n",
    "      6. Drop the INFO field and temporary csq_array, then filter entries with VF ≥ 0.3 and DP > 30.\n",
    "      7. Select only the essential entry fields.\n",
    "    \"\"\"\n",
    "    mt = hl.import_vcf(\n",
    "        str(vcf_path),\n",
    "        force_bgz=True,\n",
    "        reference_genome='GRCh37',\n",
    "        contig_recoding=contig_recoding\n",
    "    )\n",
    "    mt = mt.annotate_entries(GQ=hl.int32(mt.GQ))\n",
    "    mt = hl.split_multi_hts(mt)\n",
    "\n",
    "    # Extract VEP CSQ info and store in a temporary field \"csq_array\"\n",
    "    mt = mt.annotate_rows(\n",
    "        csq_array = hl.if_else(\n",
    "            hl.is_missing(mt.info.CSQ) | (hl.len(mt.info.CSQ) == 0),\n",
    "            hl.empty_array(hl.tstr),\n",
    "            mt.info.CSQ.first().split(\"\\\\|\")\n",
    "        )\n",
    "    )\n",
    "    mt = mt.annotate_rows(\n",
    "        gene = hl.if_else(hl.len(mt.csq_array) > 1, mt.csq_array[1], \"Unknown\"),\n",
    "        HGNC_ID = hl.if_else(hl.len(mt.csq_array) > 2,\n",
    "                              hl.if_else(mt.csq_array[2].matches(r'^-?\\d+$'),\n",
    "                                         hl.int32(mt.csq_array[2]),\n",
    "                                         hl.missing(hl.tint32)),\n",
    "                              hl.missing(hl.tint32)),\n",
    "        MAX_AF = hl.if_else(hl.len(mt.csq_array) > 3,\n",
    "                            hl.float(parse_empty(mt.csq_array[3])),\n",
    "                            0.0)\n",
    "    )\n",
    "    \n",
    "    # Compute entry-level annotations.\n",
    "    mt = mt.filter_rows(mt.MAX_AF < 0.01) # Filter out common variants (>1%)\n",
    "    mt = mt.annotate_entries(\n",
    "        AC = mt.GT.n_alt_alleles(),\n",
    "        VF = hl.float(mt.AD[1] / mt.DP)\n",
    "    )\n",
    "\n",
    "    # Annotate globals with metadata if provided.\n",
    "    if metadata is not None:\n",
    "        prefix = trim_prefix(Path(vcf_path).stem)\n",
    "        phen, mut_val = metadata.get(prefix, [\"NA\", \"NA\"])\n",
    "        if len(phen) == 0:\n",
    "            phen = \"NA\"\n",
    "        if len(mut_val) == 0:\n",
    "            mut_val = \"NA\"\n",
    "        mt = mt.annotate_globals(metadata=hl.struct(phenotype=phen, mutation=mut_val))\n",
    "        mt = mt.annotate_cols(pheno = hl.literal(phen)[mt.s])\n",
    "    # Clean up: Drop the INFO field and temporary csq_array; filter entries.\n",
    "    mt = mt.drop(mt.info, mt.csq_array)\n",
    "    mt = mt.filter_entries(mt.VF >= 0.3, keep=True)\n",
    "    mt = mt.filter_entries(mt.DP > 30, keep=True)\n",
    "    \n",
    "    mt = mt.annotate_globals(prefix=trim_prefix(Path(vcf_path).stem))\n",
    "\n",
    "    # Keep only the essential entry fields.\n",
    "    mt = mt.select_entries(AD=mt.AD, DP=mt.DP, GQ=mt.GQ, GT=mt.GT, PL=mt.PL, AC=mt.AC)\n",
    "    mt = mt.select_rows(mt.gene, mt.HGNC_ID, mt.MAX_AF)\n",
    "    return mt\n",
    "\n",
    "def process_directory_in_batches(directory, batch_size=1, metadata=None, annotate=False, pheno_value=1, batch_prefix=\"batch_\"):\n",
    "    \"\"\"\n",
    "    Process VCF files in the specified directory in batches.\n",
    "    For each batch:\n",
    "       - Process up to batch_size files using process_vcf.\n",
    "       - Merge them by columns.\n",
    "       - Checkpoint the resulting MatrixTable to disk.\n",
    "    Returns a list of checkpoint file paths.\n",
    "    \"\"\"\n",
    "    files = sorted([Path(directory) / f for f in os.listdir(directory) if f.endswith(\".vcf\") or f.endswith(\".vcf.gz\")])\n",
    "    n_batches = ceil(len(files) / batch_size)\n",
    "    batch_checkpoints = []\n",
    "    for i in range(n_batches):\n",
    "        batch_checkpoint_path = Path(intermediate_dir).joinpath(f\"{batch_prefix}{i}.mt\")\n",
    "        batch_files = files[i * batch_size:(i + 1) * batch_size]\n",
    "        mt_list = []\n",
    "        if not batch_checkpoint_path.exists():\n",
    "            for f in batch_files:\n",
    "                mt = process_vcf(f, metadata=metadata, annotate=annotate)\n",
    "                mt = mt.annotate_cols(pheno=pheno_value)\n",
    "                mt_list.append(mt)\n",
    "                #print(f\"Processed file: {f} with entry schema: {mt.entry.dtype}\")\n",
    "            # Merge the batch.\n",
    "            batch_mt = mt_list[0]\n",
    "            for mt in mt_list[1:]:\n",
    "                batch_mt = batch_mt.union_cols(mt)\n",
    "            batch_mt = batch_mt.write(str(batch_checkpoint_path), overwrite=True)\n",
    "            del batch_mt\n",
    "            print(f\"Saved batch {i} with {len(batch_files)} VCFs to {batch_checkpoint_path}\")\n",
    "        else:\n",
    "            print(f\"Batch {i} with {len(batch_files)} VCFs exists in {batch_checkpoint_path}. Skipping...\")\n",
    "        batch_checkpoints.append(batch_checkpoint_path)\n",
    "    return batch_checkpoints\n",
    "\n",
    "def merge_batches(checkpoint_paths):\n",
    "    \"\"\"\n",
    "    Read intermediate batch MatrixTables and merge them by columns.\n",
    "    \"\"\"\n",
    "    mt_list = [hl.read_matrix_table(str(path)) for path in checkpoint_paths]\n",
    "    merged = mt_list[0]\n",
    "    merged = merged.filter_rows(merged.MAX_AF < 0.01, keep=True)\n",
    "    for mt in mt_list[1:]:\n",
    "        merged = merged.union_cols(mt)\n",
    "    return merged"
   ],
   "id": "1cde48d447c40e11",
   "outputs": [],
   "execution_count": 3
  },
  {
   "metadata": {
    "ExecuteTime": {
     "end_time": "2025-06-03T21:05:25.378871Z",
     "start_time": "2025-06-03T21:05:25.355842Z"
    }
   },
   "cell_type": "code",
   "source": [
    "import hail as hl\n",
    "from pathlib import Path\n",
    "from math import ceil\n",
    "\n",
    "def merge_matrix_tables_cols(mt_paths, tmp_dir, tag, chunk_size=10, max_intermediates=10):\n",
    "    \"\"\"\n",
    "    Merge many MatrixTables by columns using a two-level chunked strategy to avoid JVM IR limits.\n",
    "\n",
    "    Parameters:\n",
    "        mt_paths (list[str or MatrixTable]): Paths or MatrixTable objects to merge.\n",
    "        tmp_dir (str or Path): Directory for intermediate checkpoints.\n",
    "        chunk_size (int): Max number of MTS per merge chunk.\n",
    "        max_intermediates (int): Max # of intermediate chunks before doing a second-level merge.\n",
    "    \"\"\"\n",
    "    tmp_dir = Path(tmp_dir)\n",
    "    tmp_dir.mkdir(parents=True, exist_ok=True)\n",
    "\n",
    "    # Ensure all inputs are file paths (checkpoint in place if needed)\n",
    "    prepared_paths = []\n",
    "    for i, mt in enumerate(mt_paths):\n",
    "        if isinstance(mt, hl.MatrixTable):\n",
    "            path = tmp_dir / f\"input_checkpoint_{i}.mt\"\n",
    "            mt = mt.checkpoint(str(path), overwrite=True)\n",
    "            prepared_paths.append(str(path))\n",
    "        else:\n",
    "            prepared_paths.append(str(mt))\n",
    "\n",
    "    def _merge_chunks(paths, level):\n",
    "        chunk_paths = []\n",
    "        num_chunks = ceil(len(paths) / chunk_size)\n",
    "\n",
    "        for i in range(num_chunks):\n",
    "            chunk = paths[i * chunk_size : (i + 1) * chunk_size]\n",
    "            print(f\"[Level {level}] Merging chunk {i+1}/{num_chunks} with {len(chunk)} files\")\n",
    "\n",
    "            mt = hl.read_matrix_table(chunk[0])\n",
    "            for path in chunk[1:]:\n",
    "                mt_next = hl.read_matrix_table(path)\n",
    "                mt = mt.union_cols(mt_next, row_join_type=\"outer\")\n",
    "\n",
    "            chunk_path = tmp_dir / f\"level{level}_chunk_{i}_{tag}.mt\"\n",
    "            mt = mt.checkpoint(str(chunk_path), overwrite=True)\n",
    "            chunk_paths.append(str(chunk_path))\n",
    "            del mt\n",
    "\n",
    "        return chunk_paths\n",
    "\n",
    "    # First-level merge\n",
    "    intermediate_paths = _merge_chunks(prepared_paths, level=1)\n",
    "\n",
    "    # If too many intermediates, do a second-level merge\n",
    "    if len(intermediate_paths) > max_intermediates:\n",
    "        print(f\"Too many intermediates ({len(intermediate_paths)}), doing second-level merge...\")\n",
    "        intermediate_paths = _merge_chunks(intermediate_paths, level=2)\n",
    "\n",
    "    # Final merge\n",
    "    print(\"Final merge...\")\n",
    "    final_mt = hl.read_matrix_table(intermediate_paths[0])\n",
    "    for path in intermediate_paths[1:]:\n",
    "        mt = hl.read_matrix_table(path)\n",
    "        final_mt = final_mt.union_cols(mt, row_join_type=\"outer\")\n",
    "\n",
    "    return final_mt\n"
   ],
   "id": "92720d0d5d8e4c51",
   "outputs": [],
   "execution_count": 4
  },
  {
   "metadata": {
    "ExecuteTime": {
     "end_time": "2025-06-03T21:53:26.071647Z",
     "start_time": "2025-06-03T21:05:25.380401Z"
    }
   },
   "cell_type": "code",
   "source": [
    "\n",
    "###########################################################################\n",
    "# Main Processing for Positive and Negative Groups in Batches\n",
    "###########################################################################\n",
    "positive_dir = \"/mnt/sdb/tmp3/positive_LIHAS_639\"\n",
    "negative_dir = \"/mnt/sdb/tmp3/negative_LIHAS_9059\"\n",
    "\n",
    "# # Process negative group in batches.\n",
    "neg_batch_paths = process_directory_in_batches(\n",
    "     negative_dir, batch_size=10, metadata=None, annotate=False, pheno_value=0, batch_prefix=\"neg_batch_\")\n",
    "# Process positive group in batches.\n",
    "pos_batch_paths = process_directory_in_batches(\n",
    "    positive_dir, batch_size=10, metadata=None, annotate=False, pheno_value=1, batch_prefix=\"pos_batch_\")\n",
    "\n",
    "# Merge all batches for each group.\n",
    "#positive path\n",
    "#inp = Path(\"/mnt/sdb/tmp3/skat_mtx/intermediate_batches/\")\n",
    "#pos_batch_paths = sorted([Path(inp) / f for f in os.listdir(inp) if f.endswith(\".mt\") and f.startswith(\"pos\")])\n",
    "#neg_batch_paths = sorted([Path(inp) / f for f in os.listdir(inp) if f.endswith(\".mt\") and f.startswith(\"neg\")])\n",
    "#print(pos_batch_paths)\n",
    "mt_positive = merge_matrix_tables_cols(pos_batch_paths, tmp_dir, tag=\"pos\")\n",
    "mt_positive = mt_positive.checkpoint(os.path.join(skat_mtx_output_dir, \"positive_group.mt\"), overwrite=True)\n",
    "\n",
    "print(neg_batch_paths)\n",
    "mt_negative = merge_matrix_tables_cols(neg_batch_paths, tmp_dir, tag=\"neg\")\n",
    "mt_negative = mt_negative.checkpoint(os.path.join(skat_mtx_output_dir, \"negative_group.mt\"), overwrite=True)\n",
    "\n",
    "#mt_positive = hl.read_matrix_table(\"/mnt/sdb/tmp3/skat_mtx/positive_group.mt/\")\n",
    "#mt_positive = mt_positive.filter_rows(mt_positive.MAX_AF < 0.01, keep=True)"
   ],
   "id": "783ff99d21c38c5",
   "outputs": [
    {
     "name": "stdout",
     "output_type": "stream",
     "text": [
      "Batch 0 with 10 VCFs exists in /mnt/sdb/tmp-skat/skat_mtx/intermediate_batches/neg_batch_0.mt. Skipping...\n",
      "Batch 1 with 10 VCFs exists in /mnt/sdb/tmp-skat/skat_mtx/intermediate_batches/neg_batch_1.mt. Skipping...\n",
      "Batch 2 with 10 VCFs exists in /mnt/sdb/tmp-skat/skat_mtx/intermediate_batches/neg_batch_2.mt. Skipping...\n",
      "Batch 3 with 10 VCFs exists in /mnt/sdb/tmp-skat/skat_mtx/intermediate_batches/neg_batch_3.mt. Skipping...\n",
      "Batch 4 with 10 VCFs exists in /mnt/sdb/tmp-skat/skat_mtx/intermediate_batches/neg_batch_4.mt. Skipping...\n",
      "Batch 5 with 10 VCFs exists in /mnt/sdb/tmp-skat/skat_mtx/intermediate_batches/neg_batch_5.mt. Skipping...\n",
      "Batch 6 with 10 VCFs exists in /mnt/sdb/tmp-skat/skat_mtx/intermediate_batches/neg_batch_6.mt. Skipping...\n",
      "Batch 7 with 10 VCFs exists in /mnt/sdb/tmp-skat/skat_mtx/intermediate_batches/neg_batch_7.mt. Skipping...\n",
      "Batch 8 with 10 VCFs exists in /mnt/sdb/tmp-skat/skat_mtx/intermediate_batches/neg_batch_8.mt. Skipping...\n",
      "Batch 9 with 10 VCFs exists in /mnt/sdb/tmp-skat/skat_mtx/intermediate_batches/neg_batch_9.mt. Skipping...\n",
      "Batch 10 with 10 VCFs exists in /mnt/sdb/tmp-skat/skat_mtx/intermediate_batches/neg_batch_10.mt. Skipping...\n",
      "Batch 11 with 10 VCFs exists in /mnt/sdb/tmp-skat/skat_mtx/intermediate_batches/neg_batch_11.mt. Skipping...\n",
      "Batch 12 with 10 VCFs exists in /mnt/sdb/tmp-skat/skat_mtx/intermediate_batches/neg_batch_12.mt. Skipping...\n",
      "Batch 13 with 10 VCFs exists in /mnt/sdb/tmp-skat/skat_mtx/intermediate_batches/neg_batch_13.mt. Skipping...\n",
      "Batch 14 with 10 VCFs exists in /mnt/sdb/tmp-skat/skat_mtx/intermediate_batches/neg_batch_14.mt. Skipping...\n",
      "Batch 15 with 10 VCFs exists in /mnt/sdb/tmp-skat/skat_mtx/intermediate_batches/neg_batch_15.mt. Skipping...\n",
      "Batch 16 with 10 VCFs exists in /mnt/sdb/tmp-skat/skat_mtx/intermediate_batches/neg_batch_16.mt. Skipping...\n",
      "Batch 17 with 10 VCFs exists in /mnt/sdb/tmp-skat/skat_mtx/intermediate_batches/neg_batch_17.mt. Skipping...\n",
      "Batch 18 with 10 VCFs exists in /mnt/sdb/tmp-skat/skat_mtx/intermediate_batches/neg_batch_18.mt. Skipping...\n",
      "Batch 19 with 10 VCFs exists in /mnt/sdb/tmp-skat/skat_mtx/intermediate_batches/neg_batch_19.mt. Skipping...\n",
      "Batch 20 with 10 VCFs exists in /mnt/sdb/tmp-skat/skat_mtx/intermediate_batches/neg_batch_20.mt. Skipping...\n",
      "Batch 21 with 10 VCFs exists in /mnt/sdb/tmp-skat/skat_mtx/intermediate_batches/neg_batch_21.mt. Skipping...\n",
      "Batch 22 with 10 VCFs exists in /mnt/sdb/tmp-skat/skat_mtx/intermediate_batches/neg_batch_22.mt. Skipping...\n",
      "Batch 23 with 10 VCFs exists in /mnt/sdb/tmp-skat/skat_mtx/intermediate_batches/neg_batch_23.mt. Skipping...\n",
      "Batch 24 with 10 VCFs exists in /mnt/sdb/tmp-skat/skat_mtx/intermediate_batches/neg_batch_24.mt. Skipping...\n",
      "Batch 25 with 10 VCFs exists in /mnt/sdb/tmp-skat/skat_mtx/intermediate_batches/neg_batch_25.mt. Skipping...\n",
      "Batch 26 with 10 VCFs exists in /mnt/sdb/tmp-skat/skat_mtx/intermediate_batches/neg_batch_26.mt. Skipping...\n",
      "Batch 27 with 10 VCFs exists in /mnt/sdb/tmp-skat/skat_mtx/intermediate_batches/neg_batch_27.mt. Skipping...\n",
      "Batch 28 with 10 VCFs exists in /mnt/sdb/tmp-skat/skat_mtx/intermediate_batches/neg_batch_28.mt. Skipping...\n",
      "Batch 29 with 10 VCFs exists in /mnt/sdb/tmp-skat/skat_mtx/intermediate_batches/neg_batch_29.mt. Skipping...\n",
      "Batch 30 with 10 VCFs exists in /mnt/sdb/tmp-skat/skat_mtx/intermediate_batches/neg_batch_30.mt. Skipping...\n",
      "Batch 31 with 10 VCFs exists in /mnt/sdb/tmp-skat/skat_mtx/intermediate_batches/neg_batch_31.mt. Skipping...\n",
      "Batch 32 with 10 VCFs exists in /mnt/sdb/tmp-skat/skat_mtx/intermediate_batches/neg_batch_32.mt. Skipping...\n",
      "Batch 33 with 10 VCFs exists in /mnt/sdb/tmp-skat/skat_mtx/intermediate_batches/neg_batch_33.mt. Skipping...\n",
      "Batch 34 with 10 VCFs exists in /mnt/sdb/tmp-skat/skat_mtx/intermediate_batches/neg_batch_34.mt. Skipping...\n",
      "Batch 35 with 10 VCFs exists in /mnt/sdb/tmp-skat/skat_mtx/intermediate_batches/neg_batch_35.mt. Skipping...\n",
      "Batch 36 with 10 VCFs exists in /mnt/sdb/tmp-skat/skat_mtx/intermediate_batches/neg_batch_36.mt. Skipping...\n",
      "Batch 37 with 10 VCFs exists in /mnt/sdb/tmp-skat/skat_mtx/intermediate_batches/neg_batch_37.mt. Skipping...\n",
      "Batch 38 with 10 VCFs exists in /mnt/sdb/tmp-skat/skat_mtx/intermediate_batches/neg_batch_38.mt. Skipping...\n",
      "Batch 39 with 10 VCFs exists in /mnt/sdb/tmp-skat/skat_mtx/intermediate_batches/neg_batch_39.mt. Skipping...\n",
      "Batch 40 with 10 VCFs exists in /mnt/sdb/tmp-skat/skat_mtx/intermediate_batches/neg_batch_40.mt. Skipping...\n",
      "Batch 41 with 10 VCFs exists in /mnt/sdb/tmp-skat/skat_mtx/intermediate_batches/neg_batch_41.mt. Skipping...\n",
      "Batch 42 with 10 VCFs exists in /mnt/sdb/tmp-skat/skat_mtx/intermediate_batches/neg_batch_42.mt. Skipping...\n",
      "Batch 43 with 10 VCFs exists in /mnt/sdb/tmp-skat/skat_mtx/intermediate_batches/neg_batch_43.mt. Skipping...\n",
      "Batch 44 with 10 VCFs exists in /mnt/sdb/tmp-skat/skat_mtx/intermediate_batches/neg_batch_44.mt. Skipping...\n",
      "Batch 45 with 10 VCFs exists in /mnt/sdb/tmp-skat/skat_mtx/intermediate_batches/neg_batch_45.mt. Skipping...\n",
      "Batch 46 with 10 VCFs exists in /mnt/sdb/tmp-skat/skat_mtx/intermediate_batches/neg_batch_46.mt. Skipping...\n",
      "Batch 47 with 10 VCFs exists in /mnt/sdb/tmp-skat/skat_mtx/intermediate_batches/neg_batch_47.mt. Skipping...\n",
      "Batch 48 with 10 VCFs exists in /mnt/sdb/tmp-skat/skat_mtx/intermediate_batches/neg_batch_48.mt. Skipping...\n",
      "Batch 49 with 10 VCFs exists in /mnt/sdb/tmp-skat/skat_mtx/intermediate_batches/neg_batch_49.mt. Skipping...\n",
      "Batch 50 with 10 VCFs exists in /mnt/sdb/tmp-skat/skat_mtx/intermediate_batches/neg_batch_50.mt. Skipping...\n",
      "Batch 51 with 10 VCFs exists in /mnt/sdb/tmp-skat/skat_mtx/intermediate_batches/neg_batch_51.mt. Skipping...\n",
      "Batch 52 with 10 VCFs exists in /mnt/sdb/tmp-skat/skat_mtx/intermediate_batches/neg_batch_52.mt. Skipping...\n",
      "Batch 53 with 10 VCFs exists in /mnt/sdb/tmp-skat/skat_mtx/intermediate_batches/neg_batch_53.mt. Skipping...\n",
      "Batch 54 with 10 VCFs exists in /mnt/sdb/tmp-skat/skat_mtx/intermediate_batches/neg_batch_54.mt. Skipping...\n",
      "Batch 55 with 10 VCFs exists in /mnt/sdb/tmp-skat/skat_mtx/intermediate_batches/neg_batch_55.mt. Skipping...\n",
      "Batch 56 with 10 VCFs exists in /mnt/sdb/tmp-skat/skat_mtx/intermediate_batches/neg_batch_56.mt. Skipping...\n",
      "Batch 57 with 10 VCFs exists in /mnt/sdb/tmp-skat/skat_mtx/intermediate_batches/neg_batch_57.mt. Skipping...\n",
      "Batch 58 with 10 VCFs exists in /mnt/sdb/tmp-skat/skat_mtx/intermediate_batches/neg_batch_58.mt. Skipping...\n",
      "Batch 59 with 10 VCFs exists in /mnt/sdb/tmp-skat/skat_mtx/intermediate_batches/neg_batch_59.mt. Skipping...\n",
      "Batch 60 with 10 VCFs exists in /mnt/sdb/tmp-skat/skat_mtx/intermediate_batches/neg_batch_60.mt. Skipping...\n",
      "Batch 61 with 10 VCFs exists in /mnt/sdb/tmp-skat/skat_mtx/intermediate_batches/neg_batch_61.mt. Skipping...\n",
      "Batch 62 with 10 VCFs exists in /mnt/sdb/tmp-skat/skat_mtx/intermediate_batches/neg_batch_62.mt. Skipping...\n",
      "Batch 63 with 10 VCFs exists in /mnt/sdb/tmp-skat/skat_mtx/intermediate_batches/neg_batch_63.mt. Skipping...\n",
      "Batch 64 with 10 VCFs exists in /mnt/sdb/tmp-skat/skat_mtx/intermediate_batches/neg_batch_64.mt. Skipping...\n",
      "Batch 65 with 10 VCFs exists in /mnt/sdb/tmp-skat/skat_mtx/intermediate_batches/neg_batch_65.mt. Skipping...\n",
      "Batch 66 with 10 VCFs exists in /mnt/sdb/tmp-skat/skat_mtx/intermediate_batches/neg_batch_66.mt. Skipping...\n",
      "Batch 67 with 10 VCFs exists in /mnt/sdb/tmp-skat/skat_mtx/intermediate_batches/neg_batch_67.mt. Skipping...\n",
      "Batch 68 with 10 VCFs exists in /mnt/sdb/tmp-skat/skat_mtx/intermediate_batches/neg_batch_68.mt. Skipping...\n",
      "Batch 69 with 10 VCFs exists in /mnt/sdb/tmp-skat/skat_mtx/intermediate_batches/neg_batch_69.mt. Skipping...\n",
      "Batch 70 with 10 VCFs exists in /mnt/sdb/tmp-skat/skat_mtx/intermediate_batches/neg_batch_70.mt. Skipping...\n",
      "Batch 71 with 10 VCFs exists in /mnt/sdb/tmp-skat/skat_mtx/intermediate_batches/neg_batch_71.mt. Skipping...\n",
      "Batch 72 with 10 VCFs exists in /mnt/sdb/tmp-skat/skat_mtx/intermediate_batches/neg_batch_72.mt. Skipping...\n",
      "Batch 73 with 10 VCFs exists in /mnt/sdb/tmp-skat/skat_mtx/intermediate_batches/neg_batch_73.mt. Skipping...\n",
      "Batch 74 with 10 VCFs exists in /mnt/sdb/tmp-skat/skat_mtx/intermediate_batches/neg_batch_74.mt. Skipping...\n",
      "Batch 75 with 10 VCFs exists in /mnt/sdb/tmp-skat/skat_mtx/intermediate_batches/neg_batch_75.mt. Skipping...\n",
      "Batch 76 with 10 VCFs exists in /mnt/sdb/tmp-skat/skat_mtx/intermediate_batches/neg_batch_76.mt. Skipping...\n",
      "Batch 77 with 10 VCFs exists in /mnt/sdb/tmp-skat/skat_mtx/intermediate_batches/neg_batch_77.mt. Skipping...\n",
      "Batch 78 with 10 VCFs exists in /mnt/sdb/tmp-skat/skat_mtx/intermediate_batches/neg_batch_78.mt. Skipping...\n",
      "Batch 79 with 10 VCFs exists in /mnt/sdb/tmp-skat/skat_mtx/intermediate_batches/neg_batch_79.mt. Skipping...\n",
      "Batch 80 with 10 VCFs exists in /mnt/sdb/tmp-skat/skat_mtx/intermediate_batches/neg_batch_80.mt. Skipping...\n",
      "Batch 81 with 10 VCFs exists in /mnt/sdb/tmp-skat/skat_mtx/intermediate_batches/neg_batch_81.mt. Skipping...\n",
      "Batch 82 with 10 VCFs exists in /mnt/sdb/tmp-skat/skat_mtx/intermediate_batches/neg_batch_82.mt. Skipping...\n",
      "Batch 83 with 10 VCFs exists in /mnt/sdb/tmp-skat/skat_mtx/intermediate_batches/neg_batch_83.mt. Skipping...\n",
      "Batch 84 with 10 VCFs exists in /mnt/sdb/tmp-skat/skat_mtx/intermediate_batches/neg_batch_84.mt. Skipping...\n",
      "Batch 85 with 10 VCFs exists in /mnt/sdb/tmp-skat/skat_mtx/intermediate_batches/neg_batch_85.mt. Skipping...\n",
      "Batch 86 with 10 VCFs exists in /mnt/sdb/tmp-skat/skat_mtx/intermediate_batches/neg_batch_86.mt. Skipping...\n",
      "Batch 87 with 10 VCFs exists in /mnt/sdb/tmp-skat/skat_mtx/intermediate_batches/neg_batch_87.mt. Skipping...\n",
      "Batch 88 with 10 VCFs exists in /mnt/sdb/tmp-skat/skat_mtx/intermediate_batches/neg_batch_88.mt. Skipping...\n",
      "Batch 89 with 10 VCFs exists in /mnt/sdb/tmp-skat/skat_mtx/intermediate_batches/neg_batch_89.mt. Skipping...\n",
      "Batch 90 with 10 VCFs exists in /mnt/sdb/tmp-skat/skat_mtx/intermediate_batches/neg_batch_90.mt. Skipping...\n",
      "Batch 91 with 10 VCFs exists in /mnt/sdb/tmp-skat/skat_mtx/intermediate_batches/neg_batch_91.mt. Skipping...\n",
      "Batch 92 with 10 VCFs exists in /mnt/sdb/tmp-skat/skat_mtx/intermediate_batches/neg_batch_92.mt. Skipping...\n",
      "Batch 93 with 10 VCFs exists in /mnt/sdb/tmp-skat/skat_mtx/intermediate_batches/neg_batch_93.mt. Skipping...\n",
      "Batch 94 with 10 VCFs exists in /mnt/sdb/tmp-skat/skat_mtx/intermediate_batches/neg_batch_94.mt. Skipping...\n",
      "Batch 95 with 10 VCFs exists in /mnt/sdb/tmp-skat/skat_mtx/intermediate_batches/neg_batch_95.mt. Skipping...\n",
      "Batch 96 with 10 VCFs exists in /mnt/sdb/tmp-skat/skat_mtx/intermediate_batches/neg_batch_96.mt. Skipping...\n",
      "Batch 97 with 10 VCFs exists in /mnt/sdb/tmp-skat/skat_mtx/intermediate_batches/neg_batch_97.mt. Skipping...\n",
      "Batch 98 with 10 VCFs exists in /mnt/sdb/tmp-skat/skat_mtx/intermediate_batches/neg_batch_98.mt. Skipping...\n",
      "Batch 99 with 10 VCFs exists in /mnt/sdb/tmp-skat/skat_mtx/intermediate_batches/neg_batch_99.mt. Skipping...\n",
      "Batch 100 with 10 VCFs exists in /mnt/sdb/tmp-skat/skat_mtx/intermediate_batches/neg_batch_100.mt. Skipping...\n",
      "Batch 101 with 10 VCFs exists in /mnt/sdb/tmp-skat/skat_mtx/intermediate_batches/neg_batch_101.mt. Skipping...\n",
      "Batch 102 with 10 VCFs exists in /mnt/sdb/tmp-skat/skat_mtx/intermediate_batches/neg_batch_102.mt. Skipping...\n",
      "Batch 103 with 10 VCFs exists in /mnt/sdb/tmp-skat/skat_mtx/intermediate_batches/neg_batch_103.mt. Skipping...\n",
      "Batch 104 with 10 VCFs exists in /mnt/sdb/tmp-skat/skat_mtx/intermediate_batches/neg_batch_104.mt. Skipping...\n",
      "Batch 105 with 10 VCFs exists in /mnt/sdb/tmp-skat/skat_mtx/intermediate_batches/neg_batch_105.mt. Skipping...\n",
      "Batch 106 with 10 VCFs exists in /mnt/sdb/tmp-skat/skat_mtx/intermediate_batches/neg_batch_106.mt. Skipping...\n",
      "Batch 107 with 10 VCFs exists in /mnt/sdb/tmp-skat/skat_mtx/intermediate_batches/neg_batch_107.mt. Skipping...\n",
      "Batch 108 with 10 VCFs exists in /mnt/sdb/tmp-skat/skat_mtx/intermediate_batches/neg_batch_108.mt. Skipping...\n",
      "Batch 109 with 10 VCFs exists in /mnt/sdb/tmp-skat/skat_mtx/intermediate_batches/neg_batch_109.mt. Skipping...\n",
      "Batch 110 with 10 VCFs exists in /mnt/sdb/tmp-skat/skat_mtx/intermediate_batches/neg_batch_110.mt. Skipping...\n",
      "Batch 111 with 10 VCFs exists in /mnt/sdb/tmp-skat/skat_mtx/intermediate_batches/neg_batch_111.mt. Skipping...\n",
      "Batch 112 with 10 VCFs exists in /mnt/sdb/tmp-skat/skat_mtx/intermediate_batches/neg_batch_112.mt. Skipping...\n",
      "Batch 113 with 10 VCFs exists in /mnt/sdb/tmp-skat/skat_mtx/intermediate_batches/neg_batch_113.mt. Skipping...\n",
      "Batch 114 with 10 VCFs exists in /mnt/sdb/tmp-skat/skat_mtx/intermediate_batches/neg_batch_114.mt. Skipping...\n",
      "Batch 115 with 10 VCFs exists in /mnt/sdb/tmp-skat/skat_mtx/intermediate_batches/neg_batch_115.mt. Skipping...\n",
      "Batch 116 with 10 VCFs exists in /mnt/sdb/tmp-skat/skat_mtx/intermediate_batches/neg_batch_116.mt. Skipping...\n",
      "Batch 117 with 10 VCFs exists in /mnt/sdb/tmp-skat/skat_mtx/intermediate_batches/neg_batch_117.mt. Skipping...\n",
      "Batch 118 with 10 VCFs exists in /mnt/sdb/tmp-skat/skat_mtx/intermediate_batches/neg_batch_118.mt. Skipping...\n",
      "Batch 119 with 10 VCFs exists in /mnt/sdb/tmp-skat/skat_mtx/intermediate_batches/neg_batch_119.mt. Skipping...\n",
      "Batch 120 with 10 VCFs exists in /mnt/sdb/tmp-skat/skat_mtx/intermediate_batches/neg_batch_120.mt. Skipping...\n",
      "Batch 121 with 10 VCFs exists in /mnt/sdb/tmp-skat/skat_mtx/intermediate_batches/neg_batch_121.mt. Skipping...\n",
      "Batch 122 with 10 VCFs exists in /mnt/sdb/tmp-skat/skat_mtx/intermediate_batches/neg_batch_122.mt. Skipping...\n",
      "Batch 123 with 10 VCFs exists in /mnt/sdb/tmp-skat/skat_mtx/intermediate_batches/neg_batch_123.mt. Skipping...\n",
      "Batch 124 with 10 VCFs exists in /mnt/sdb/tmp-skat/skat_mtx/intermediate_batches/neg_batch_124.mt. Skipping...\n",
      "Batch 125 with 10 VCFs exists in /mnt/sdb/tmp-skat/skat_mtx/intermediate_batches/neg_batch_125.mt. Skipping...\n",
      "Batch 126 with 10 VCFs exists in /mnt/sdb/tmp-skat/skat_mtx/intermediate_batches/neg_batch_126.mt. Skipping...\n",
      "Batch 127 with 10 VCFs exists in /mnt/sdb/tmp-skat/skat_mtx/intermediate_batches/neg_batch_127.mt. Skipping...\n",
      "Batch 128 with 10 VCFs exists in /mnt/sdb/tmp-skat/skat_mtx/intermediate_batches/neg_batch_128.mt. Skipping...\n",
      "Batch 129 with 10 VCFs exists in /mnt/sdb/tmp-skat/skat_mtx/intermediate_batches/neg_batch_129.mt. Skipping...\n",
      "Batch 130 with 10 VCFs exists in /mnt/sdb/tmp-skat/skat_mtx/intermediate_batches/neg_batch_130.mt. Skipping...\n",
      "Batch 131 with 10 VCFs exists in /mnt/sdb/tmp-skat/skat_mtx/intermediate_batches/neg_batch_131.mt. Skipping...\n",
      "Batch 132 with 10 VCFs exists in /mnt/sdb/tmp-skat/skat_mtx/intermediate_batches/neg_batch_132.mt. Skipping...\n",
      "Batch 133 with 10 VCFs exists in /mnt/sdb/tmp-skat/skat_mtx/intermediate_batches/neg_batch_133.mt. Skipping...\n",
      "Batch 134 with 10 VCFs exists in /mnt/sdb/tmp-skat/skat_mtx/intermediate_batches/neg_batch_134.mt. Skipping...\n",
      "Batch 135 with 10 VCFs exists in /mnt/sdb/tmp-skat/skat_mtx/intermediate_batches/neg_batch_135.mt. Skipping...\n",
      "Batch 136 with 10 VCFs exists in /mnt/sdb/tmp-skat/skat_mtx/intermediate_batches/neg_batch_136.mt. Skipping...\n",
      "Batch 137 with 10 VCFs exists in /mnt/sdb/tmp-skat/skat_mtx/intermediate_batches/neg_batch_137.mt. Skipping...\n",
      "Batch 138 with 10 VCFs exists in /mnt/sdb/tmp-skat/skat_mtx/intermediate_batches/neg_batch_138.mt. Skipping...\n",
      "Batch 139 with 10 VCFs exists in /mnt/sdb/tmp-skat/skat_mtx/intermediate_batches/neg_batch_139.mt. Skipping...\n",
      "Batch 140 with 10 VCFs exists in /mnt/sdb/tmp-skat/skat_mtx/intermediate_batches/neg_batch_140.mt. Skipping...\n",
      "Batch 141 with 10 VCFs exists in /mnt/sdb/tmp-skat/skat_mtx/intermediate_batches/neg_batch_141.mt. Skipping...\n",
      "Batch 142 with 10 VCFs exists in /mnt/sdb/tmp-skat/skat_mtx/intermediate_batches/neg_batch_142.mt. Skipping...\n",
      "Batch 143 with 10 VCFs exists in /mnt/sdb/tmp-skat/skat_mtx/intermediate_batches/neg_batch_143.mt. Skipping...\n",
      "Batch 144 with 10 VCFs exists in /mnt/sdb/tmp-skat/skat_mtx/intermediate_batches/neg_batch_144.mt. Skipping...\n",
      "Batch 145 with 10 VCFs exists in /mnt/sdb/tmp-skat/skat_mtx/intermediate_batches/neg_batch_145.mt. Skipping...\n",
      "Batch 146 with 10 VCFs exists in /mnt/sdb/tmp-skat/skat_mtx/intermediate_batches/neg_batch_146.mt. Skipping...\n",
      "Batch 147 with 10 VCFs exists in /mnt/sdb/tmp-skat/skat_mtx/intermediate_batches/neg_batch_147.mt. Skipping...\n",
      "Batch 148 with 10 VCFs exists in /mnt/sdb/tmp-skat/skat_mtx/intermediate_batches/neg_batch_148.mt. Skipping...\n",
      "Batch 149 with 10 VCFs exists in /mnt/sdb/tmp-skat/skat_mtx/intermediate_batches/neg_batch_149.mt. Skipping...\n",
      "Batch 150 with 10 VCFs exists in /mnt/sdb/tmp-skat/skat_mtx/intermediate_batches/neg_batch_150.mt. Skipping...\n",
      "Batch 151 with 10 VCFs exists in /mnt/sdb/tmp-skat/skat_mtx/intermediate_batches/neg_batch_151.mt. Skipping...\n",
      "Batch 152 with 10 VCFs exists in /mnt/sdb/tmp-skat/skat_mtx/intermediate_batches/neg_batch_152.mt. Skipping...\n",
      "Batch 153 with 10 VCFs exists in /mnt/sdb/tmp-skat/skat_mtx/intermediate_batches/neg_batch_153.mt. Skipping...\n",
      "Batch 154 with 10 VCFs exists in /mnt/sdb/tmp-skat/skat_mtx/intermediate_batches/neg_batch_154.mt. Skipping...\n",
      "Batch 155 with 10 VCFs exists in /mnt/sdb/tmp-skat/skat_mtx/intermediate_batches/neg_batch_155.mt. Skipping...\n",
      "Batch 156 with 10 VCFs exists in /mnt/sdb/tmp-skat/skat_mtx/intermediate_batches/neg_batch_156.mt. Skipping...\n",
      "Batch 157 with 10 VCFs exists in /mnt/sdb/tmp-skat/skat_mtx/intermediate_batches/neg_batch_157.mt. Skipping...\n",
      "Batch 158 with 10 VCFs exists in /mnt/sdb/tmp-skat/skat_mtx/intermediate_batches/neg_batch_158.mt. Skipping...\n",
      "Batch 159 with 10 VCFs exists in /mnt/sdb/tmp-skat/skat_mtx/intermediate_batches/neg_batch_159.mt. Skipping...\n",
      "Batch 160 with 10 VCFs exists in /mnt/sdb/tmp-skat/skat_mtx/intermediate_batches/neg_batch_160.mt. Skipping...\n",
      "Batch 161 with 10 VCFs exists in /mnt/sdb/tmp-skat/skat_mtx/intermediate_batches/neg_batch_161.mt. Skipping...\n",
      "Batch 162 with 10 VCFs exists in /mnt/sdb/tmp-skat/skat_mtx/intermediate_batches/neg_batch_162.mt. Skipping...\n",
      "Batch 163 with 10 VCFs exists in /mnt/sdb/tmp-skat/skat_mtx/intermediate_batches/neg_batch_163.mt. Skipping...\n",
      "Batch 164 with 10 VCFs exists in /mnt/sdb/tmp-skat/skat_mtx/intermediate_batches/neg_batch_164.mt. Skipping...\n",
      "Batch 165 with 10 VCFs exists in /mnt/sdb/tmp-skat/skat_mtx/intermediate_batches/neg_batch_165.mt. Skipping...\n",
      "Batch 166 with 10 VCFs exists in /mnt/sdb/tmp-skat/skat_mtx/intermediate_batches/neg_batch_166.mt. Skipping...\n",
      "Batch 167 with 10 VCFs exists in /mnt/sdb/tmp-skat/skat_mtx/intermediate_batches/neg_batch_167.mt. Skipping...\n",
      "Batch 168 with 10 VCFs exists in /mnt/sdb/tmp-skat/skat_mtx/intermediate_batches/neg_batch_168.mt. Skipping...\n",
      "Batch 169 with 10 VCFs exists in /mnt/sdb/tmp-skat/skat_mtx/intermediate_batches/neg_batch_169.mt. Skipping...\n",
      "Batch 170 with 10 VCFs exists in /mnt/sdb/tmp-skat/skat_mtx/intermediate_batches/neg_batch_170.mt. Skipping...\n",
      "Batch 171 with 10 VCFs exists in /mnt/sdb/tmp-skat/skat_mtx/intermediate_batches/neg_batch_171.mt. Skipping...\n",
      "Batch 172 with 10 VCFs exists in /mnt/sdb/tmp-skat/skat_mtx/intermediate_batches/neg_batch_172.mt. Skipping...\n",
      "Batch 173 with 10 VCFs exists in /mnt/sdb/tmp-skat/skat_mtx/intermediate_batches/neg_batch_173.mt. Skipping...\n",
      "Batch 174 with 10 VCFs exists in /mnt/sdb/tmp-skat/skat_mtx/intermediate_batches/neg_batch_174.mt. Skipping...\n",
      "Batch 175 with 10 VCFs exists in /mnt/sdb/tmp-skat/skat_mtx/intermediate_batches/neg_batch_175.mt. Skipping...\n",
      "Batch 176 with 10 VCFs exists in /mnt/sdb/tmp-skat/skat_mtx/intermediate_batches/neg_batch_176.mt. Skipping...\n",
      "Batch 177 with 10 VCFs exists in /mnt/sdb/tmp-skat/skat_mtx/intermediate_batches/neg_batch_177.mt. Skipping...\n",
      "Batch 178 with 10 VCFs exists in /mnt/sdb/tmp-skat/skat_mtx/intermediate_batches/neg_batch_178.mt. Skipping...\n",
      "Batch 179 with 10 VCFs exists in /mnt/sdb/tmp-skat/skat_mtx/intermediate_batches/neg_batch_179.mt. Skipping...\n",
      "Batch 180 with 10 VCFs exists in /mnt/sdb/tmp-skat/skat_mtx/intermediate_batches/neg_batch_180.mt. Skipping...\n",
      "Batch 181 with 10 VCFs exists in /mnt/sdb/tmp-skat/skat_mtx/intermediate_batches/neg_batch_181.mt. Skipping...\n",
      "Batch 182 with 10 VCFs exists in /mnt/sdb/tmp-skat/skat_mtx/intermediate_batches/neg_batch_182.mt. Skipping...\n",
      "Batch 183 with 10 VCFs exists in /mnt/sdb/tmp-skat/skat_mtx/intermediate_batches/neg_batch_183.mt. Skipping...\n",
      "Batch 184 with 10 VCFs exists in /mnt/sdb/tmp-skat/skat_mtx/intermediate_batches/neg_batch_184.mt. Skipping...\n",
      "Batch 185 with 10 VCFs exists in /mnt/sdb/tmp-skat/skat_mtx/intermediate_batches/neg_batch_185.mt. Skipping...\n",
      "Batch 186 with 10 VCFs exists in /mnt/sdb/tmp-skat/skat_mtx/intermediate_batches/neg_batch_186.mt. Skipping...\n",
      "Batch 187 with 10 VCFs exists in /mnt/sdb/tmp-skat/skat_mtx/intermediate_batches/neg_batch_187.mt. Skipping...\n",
      "Batch 188 with 10 VCFs exists in /mnt/sdb/tmp-skat/skat_mtx/intermediate_batches/neg_batch_188.mt. Skipping...\n",
      "Batch 189 with 10 VCFs exists in /mnt/sdb/tmp-skat/skat_mtx/intermediate_batches/neg_batch_189.mt. Skipping...\n",
      "Batch 190 with 10 VCFs exists in /mnt/sdb/tmp-skat/skat_mtx/intermediate_batches/neg_batch_190.mt. Skipping...\n",
      "Batch 191 with 10 VCFs exists in /mnt/sdb/tmp-skat/skat_mtx/intermediate_batches/neg_batch_191.mt. Skipping...\n",
      "Batch 192 with 10 VCFs exists in /mnt/sdb/tmp-skat/skat_mtx/intermediate_batches/neg_batch_192.mt. Skipping...\n",
      "Batch 193 with 10 VCFs exists in /mnt/sdb/tmp-skat/skat_mtx/intermediate_batches/neg_batch_193.mt. Skipping...\n",
      "Batch 194 with 10 VCFs exists in /mnt/sdb/tmp-skat/skat_mtx/intermediate_batches/neg_batch_194.mt. Skipping...\n",
      "Batch 195 with 10 VCFs exists in /mnt/sdb/tmp-skat/skat_mtx/intermediate_batches/neg_batch_195.mt. Skipping...\n",
      "Batch 196 with 10 VCFs exists in /mnt/sdb/tmp-skat/skat_mtx/intermediate_batches/neg_batch_196.mt. Skipping...\n",
      "Batch 197 with 10 VCFs exists in /mnt/sdb/tmp-skat/skat_mtx/intermediate_batches/neg_batch_197.mt. Skipping...\n",
      "Batch 198 with 10 VCFs exists in /mnt/sdb/tmp-skat/skat_mtx/intermediate_batches/neg_batch_198.mt. Skipping...\n",
      "Batch 199 with 10 VCFs exists in /mnt/sdb/tmp-skat/skat_mtx/intermediate_batches/neg_batch_199.mt. Skipping...\n",
      "Batch 200 with 10 VCFs exists in /mnt/sdb/tmp-skat/skat_mtx/intermediate_batches/neg_batch_200.mt. Skipping...\n",
      "Batch 201 with 10 VCFs exists in /mnt/sdb/tmp-skat/skat_mtx/intermediate_batches/neg_batch_201.mt. Skipping...\n",
      "Batch 202 with 10 VCFs exists in /mnt/sdb/tmp-skat/skat_mtx/intermediate_batches/neg_batch_202.mt. Skipping...\n",
      "Batch 203 with 10 VCFs exists in /mnt/sdb/tmp-skat/skat_mtx/intermediate_batches/neg_batch_203.mt. Skipping...\n",
      "Batch 204 with 10 VCFs exists in /mnt/sdb/tmp-skat/skat_mtx/intermediate_batches/neg_batch_204.mt. Skipping...\n",
      "Batch 205 with 10 VCFs exists in /mnt/sdb/tmp-skat/skat_mtx/intermediate_batches/neg_batch_205.mt. Skipping...\n",
      "Batch 206 with 10 VCFs exists in /mnt/sdb/tmp-skat/skat_mtx/intermediate_batches/neg_batch_206.mt. Skipping...\n",
      "Batch 207 with 10 VCFs exists in /mnt/sdb/tmp-skat/skat_mtx/intermediate_batches/neg_batch_207.mt. Skipping...\n",
      "Batch 208 with 10 VCFs exists in /mnt/sdb/tmp-skat/skat_mtx/intermediate_batches/neg_batch_208.mt. Skipping...\n",
      "Batch 209 with 10 VCFs exists in /mnt/sdb/tmp-skat/skat_mtx/intermediate_batches/neg_batch_209.mt. Skipping...\n",
      "Batch 210 with 10 VCFs exists in /mnt/sdb/tmp-skat/skat_mtx/intermediate_batches/neg_batch_210.mt. Skipping...\n",
      "Batch 211 with 10 VCFs exists in /mnt/sdb/tmp-skat/skat_mtx/intermediate_batches/neg_batch_211.mt. Skipping...\n",
      "Batch 212 with 10 VCFs exists in /mnt/sdb/tmp-skat/skat_mtx/intermediate_batches/neg_batch_212.mt. Skipping...\n",
      "Batch 213 with 10 VCFs exists in /mnt/sdb/tmp-skat/skat_mtx/intermediate_batches/neg_batch_213.mt. Skipping...\n",
      "Batch 214 with 10 VCFs exists in /mnt/sdb/tmp-skat/skat_mtx/intermediate_batches/neg_batch_214.mt. Skipping...\n",
      "Batch 215 with 10 VCFs exists in /mnt/sdb/tmp-skat/skat_mtx/intermediate_batches/neg_batch_215.mt. Skipping...\n",
      "Batch 216 with 10 VCFs exists in /mnt/sdb/tmp-skat/skat_mtx/intermediate_batches/neg_batch_216.mt. Skipping...\n",
      "Batch 217 with 10 VCFs exists in /mnt/sdb/tmp-skat/skat_mtx/intermediate_batches/neg_batch_217.mt. Skipping...\n",
      "Batch 218 with 10 VCFs exists in /mnt/sdb/tmp-skat/skat_mtx/intermediate_batches/neg_batch_218.mt. Skipping...\n",
      "Batch 219 with 10 VCFs exists in /mnt/sdb/tmp-skat/skat_mtx/intermediate_batches/neg_batch_219.mt. Skipping...\n",
      "Batch 220 with 10 VCFs exists in /mnt/sdb/tmp-skat/skat_mtx/intermediate_batches/neg_batch_220.mt. Skipping...\n",
      "Batch 221 with 10 VCFs exists in /mnt/sdb/tmp-skat/skat_mtx/intermediate_batches/neg_batch_221.mt. Skipping...\n",
      "Batch 222 with 10 VCFs exists in /mnt/sdb/tmp-skat/skat_mtx/intermediate_batches/neg_batch_222.mt. Skipping...\n",
      "Batch 223 with 10 VCFs exists in /mnt/sdb/tmp-skat/skat_mtx/intermediate_batches/neg_batch_223.mt. Skipping...\n",
      "Batch 224 with 10 VCFs exists in /mnt/sdb/tmp-skat/skat_mtx/intermediate_batches/neg_batch_224.mt. Skipping...\n",
      "Batch 225 with 10 VCFs exists in /mnt/sdb/tmp-skat/skat_mtx/intermediate_batches/neg_batch_225.mt. Skipping...\n",
      "Batch 226 with 10 VCFs exists in /mnt/sdb/tmp-skat/skat_mtx/intermediate_batches/neg_batch_226.mt. Skipping...\n",
      "Batch 227 with 10 VCFs exists in /mnt/sdb/tmp-skat/skat_mtx/intermediate_batches/neg_batch_227.mt. Skipping...\n",
      "Batch 228 with 10 VCFs exists in /mnt/sdb/tmp-skat/skat_mtx/intermediate_batches/neg_batch_228.mt. Skipping...\n",
      "Batch 229 with 10 VCFs exists in /mnt/sdb/tmp-skat/skat_mtx/intermediate_batches/neg_batch_229.mt. Skipping...\n",
      "Batch 230 with 10 VCFs exists in /mnt/sdb/tmp-skat/skat_mtx/intermediate_batches/neg_batch_230.mt. Skipping...\n",
      "Batch 231 with 10 VCFs exists in /mnt/sdb/tmp-skat/skat_mtx/intermediate_batches/neg_batch_231.mt. Skipping...\n",
      "Batch 232 with 10 VCFs exists in /mnt/sdb/tmp-skat/skat_mtx/intermediate_batches/neg_batch_232.mt. Skipping...\n",
      "Batch 233 with 10 VCFs exists in /mnt/sdb/tmp-skat/skat_mtx/intermediate_batches/neg_batch_233.mt. Skipping...\n",
      "Batch 234 with 10 VCFs exists in /mnt/sdb/tmp-skat/skat_mtx/intermediate_batches/neg_batch_234.mt. Skipping...\n",
      "Batch 235 with 10 VCFs exists in /mnt/sdb/tmp-skat/skat_mtx/intermediate_batches/neg_batch_235.mt. Skipping...\n",
      "Batch 236 with 10 VCFs exists in /mnt/sdb/tmp-skat/skat_mtx/intermediate_batches/neg_batch_236.mt. Skipping...\n",
      "Batch 237 with 10 VCFs exists in /mnt/sdb/tmp-skat/skat_mtx/intermediate_batches/neg_batch_237.mt. Skipping...\n",
      "Batch 238 with 10 VCFs exists in /mnt/sdb/tmp-skat/skat_mtx/intermediate_batches/neg_batch_238.mt. Skipping...\n",
      "Batch 239 with 10 VCFs exists in /mnt/sdb/tmp-skat/skat_mtx/intermediate_batches/neg_batch_239.mt. Skipping...\n",
      "Batch 240 with 10 VCFs exists in /mnt/sdb/tmp-skat/skat_mtx/intermediate_batches/neg_batch_240.mt. Skipping...\n",
      "Batch 241 with 10 VCFs exists in /mnt/sdb/tmp-skat/skat_mtx/intermediate_batches/neg_batch_241.mt. Skipping...\n",
      "Batch 242 with 10 VCFs exists in /mnt/sdb/tmp-skat/skat_mtx/intermediate_batches/neg_batch_242.mt. Skipping...\n",
      "Batch 243 with 10 VCFs exists in /mnt/sdb/tmp-skat/skat_mtx/intermediate_batches/neg_batch_243.mt. Skipping...\n",
      "Batch 244 with 10 VCFs exists in /mnt/sdb/tmp-skat/skat_mtx/intermediate_batches/neg_batch_244.mt. Skipping...\n",
      "Batch 245 with 10 VCFs exists in /mnt/sdb/tmp-skat/skat_mtx/intermediate_batches/neg_batch_245.mt. Skipping...\n",
      "Batch 246 with 10 VCFs exists in /mnt/sdb/tmp-skat/skat_mtx/intermediate_batches/neg_batch_246.mt. Skipping...\n",
      "Batch 247 with 10 VCFs exists in /mnt/sdb/tmp-skat/skat_mtx/intermediate_batches/neg_batch_247.mt. Skipping...\n",
      "Batch 248 with 10 VCFs exists in /mnt/sdb/tmp-skat/skat_mtx/intermediate_batches/neg_batch_248.mt. Skipping...\n",
      "Batch 249 with 10 VCFs exists in /mnt/sdb/tmp-skat/skat_mtx/intermediate_batches/neg_batch_249.mt. Skipping...\n",
      "Batch 250 with 10 VCFs exists in /mnt/sdb/tmp-skat/skat_mtx/intermediate_batches/neg_batch_250.mt. Skipping...\n",
      "Batch 251 with 10 VCFs exists in /mnt/sdb/tmp-skat/skat_mtx/intermediate_batches/neg_batch_251.mt. Skipping...\n",
      "Batch 252 with 10 VCFs exists in /mnt/sdb/tmp-skat/skat_mtx/intermediate_batches/neg_batch_252.mt. Skipping...\n",
      "Batch 253 with 10 VCFs exists in /mnt/sdb/tmp-skat/skat_mtx/intermediate_batches/neg_batch_253.mt. Skipping...\n",
      "Batch 254 with 10 VCFs exists in /mnt/sdb/tmp-skat/skat_mtx/intermediate_batches/neg_batch_254.mt. Skipping...\n",
      "Batch 255 with 10 VCFs exists in /mnt/sdb/tmp-skat/skat_mtx/intermediate_batches/neg_batch_255.mt. Skipping...\n",
      "Batch 256 with 10 VCFs exists in /mnt/sdb/tmp-skat/skat_mtx/intermediate_batches/neg_batch_256.mt. Skipping...\n",
      "Batch 257 with 10 VCFs exists in /mnt/sdb/tmp-skat/skat_mtx/intermediate_batches/neg_batch_257.mt. Skipping...\n",
      "Batch 258 with 10 VCFs exists in /mnt/sdb/tmp-skat/skat_mtx/intermediate_batches/neg_batch_258.mt. Skipping...\n",
      "Batch 259 with 10 VCFs exists in /mnt/sdb/tmp-skat/skat_mtx/intermediate_batches/neg_batch_259.mt. Skipping...\n",
      "Batch 260 with 10 VCFs exists in /mnt/sdb/tmp-skat/skat_mtx/intermediate_batches/neg_batch_260.mt. Skipping...\n",
      "Batch 261 with 10 VCFs exists in /mnt/sdb/tmp-skat/skat_mtx/intermediate_batches/neg_batch_261.mt. Skipping...\n",
      "Batch 262 with 10 VCFs exists in /mnt/sdb/tmp-skat/skat_mtx/intermediate_batches/neg_batch_262.mt. Skipping...\n",
      "Batch 263 with 10 VCFs exists in /mnt/sdb/tmp-skat/skat_mtx/intermediate_batches/neg_batch_263.mt. Skipping...\n",
      "Batch 264 with 10 VCFs exists in /mnt/sdb/tmp-skat/skat_mtx/intermediate_batches/neg_batch_264.mt. Skipping...\n",
      "Batch 265 with 10 VCFs exists in /mnt/sdb/tmp-skat/skat_mtx/intermediate_batches/neg_batch_265.mt. Skipping...\n",
      "Batch 266 with 10 VCFs exists in /mnt/sdb/tmp-skat/skat_mtx/intermediate_batches/neg_batch_266.mt. Skipping...\n",
      "Batch 267 with 10 VCFs exists in /mnt/sdb/tmp-skat/skat_mtx/intermediate_batches/neg_batch_267.mt. Skipping...\n",
      "Batch 268 with 10 VCFs exists in /mnt/sdb/tmp-skat/skat_mtx/intermediate_batches/neg_batch_268.mt. Skipping...\n",
      "Batch 269 with 10 VCFs exists in /mnt/sdb/tmp-skat/skat_mtx/intermediate_batches/neg_batch_269.mt. Skipping...\n",
      "Batch 270 with 10 VCFs exists in /mnt/sdb/tmp-skat/skat_mtx/intermediate_batches/neg_batch_270.mt. Skipping...\n",
      "Batch 271 with 10 VCFs exists in /mnt/sdb/tmp-skat/skat_mtx/intermediate_batches/neg_batch_271.mt. Skipping...\n",
      "Batch 272 with 10 VCFs exists in /mnt/sdb/tmp-skat/skat_mtx/intermediate_batches/neg_batch_272.mt. Skipping...\n",
      "Batch 273 with 10 VCFs exists in /mnt/sdb/tmp-skat/skat_mtx/intermediate_batches/neg_batch_273.mt. Skipping...\n",
      "Batch 274 with 10 VCFs exists in /mnt/sdb/tmp-skat/skat_mtx/intermediate_batches/neg_batch_274.mt. Skipping...\n",
      "Batch 275 with 10 VCFs exists in /mnt/sdb/tmp-skat/skat_mtx/intermediate_batches/neg_batch_275.mt. Skipping...\n",
      "Batch 276 with 10 VCFs exists in /mnt/sdb/tmp-skat/skat_mtx/intermediate_batches/neg_batch_276.mt. Skipping...\n",
      "Batch 277 with 10 VCFs exists in /mnt/sdb/tmp-skat/skat_mtx/intermediate_batches/neg_batch_277.mt. Skipping...\n",
      "Batch 278 with 10 VCFs exists in /mnt/sdb/tmp-skat/skat_mtx/intermediate_batches/neg_batch_278.mt. Skipping...\n",
      "Batch 279 with 10 VCFs exists in /mnt/sdb/tmp-skat/skat_mtx/intermediate_batches/neg_batch_279.mt. Skipping...\n",
      "Batch 280 with 10 VCFs exists in /mnt/sdb/tmp-skat/skat_mtx/intermediate_batches/neg_batch_280.mt. Skipping...\n",
      "Batch 281 with 10 VCFs exists in /mnt/sdb/tmp-skat/skat_mtx/intermediate_batches/neg_batch_281.mt. Skipping...\n",
      "Batch 282 with 10 VCFs exists in /mnt/sdb/tmp-skat/skat_mtx/intermediate_batches/neg_batch_282.mt. Skipping...\n",
      "Batch 283 with 10 VCFs exists in /mnt/sdb/tmp-skat/skat_mtx/intermediate_batches/neg_batch_283.mt. Skipping...\n",
      "Batch 284 with 10 VCFs exists in /mnt/sdb/tmp-skat/skat_mtx/intermediate_batches/neg_batch_284.mt. Skipping...\n",
      "Batch 285 with 10 VCFs exists in /mnt/sdb/tmp-skat/skat_mtx/intermediate_batches/neg_batch_285.mt. Skipping...\n",
      "Batch 286 with 10 VCFs exists in /mnt/sdb/tmp-skat/skat_mtx/intermediate_batches/neg_batch_286.mt. Skipping...\n",
      "Batch 287 with 10 VCFs exists in /mnt/sdb/tmp-skat/skat_mtx/intermediate_batches/neg_batch_287.mt. Skipping...\n",
      "Batch 288 with 10 VCFs exists in /mnt/sdb/tmp-skat/skat_mtx/intermediate_batches/neg_batch_288.mt. Skipping...\n",
      "Batch 289 with 10 VCFs exists in /mnt/sdb/tmp-skat/skat_mtx/intermediate_batches/neg_batch_289.mt. Skipping...\n",
      "Batch 290 with 10 VCFs exists in /mnt/sdb/tmp-skat/skat_mtx/intermediate_batches/neg_batch_290.mt. Skipping...\n",
      "Batch 291 with 10 VCFs exists in /mnt/sdb/tmp-skat/skat_mtx/intermediate_batches/neg_batch_291.mt. Skipping...\n",
      "Batch 292 with 10 VCFs exists in /mnt/sdb/tmp-skat/skat_mtx/intermediate_batches/neg_batch_292.mt. Skipping...\n",
      "Batch 293 with 10 VCFs exists in /mnt/sdb/tmp-skat/skat_mtx/intermediate_batches/neg_batch_293.mt. Skipping...\n",
      "Batch 294 with 10 VCFs exists in /mnt/sdb/tmp-skat/skat_mtx/intermediate_batches/neg_batch_294.mt. Skipping...\n",
      "Batch 295 with 10 VCFs exists in /mnt/sdb/tmp-skat/skat_mtx/intermediate_batches/neg_batch_295.mt. Skipping...\n",
      "Batch 296 with 10 VCFs exists in /mnt/sdb/tmp-skat/skat_mtx/intermediate_batches/neg_batch_296.mt. Skipping...\n",
      "Batch 297 with 10 VCFs exists in /mnt/sdb/tmp-skat/skat_mtx/intermediate_batches/neg_batch_297.mt. Skipping...\n",
      "Batch 298 with 10 VCFs exists in /mnt/sdb/tmp-skat/skat_mtx/intermediate_batches/neg_batch_298.mt. Skipping...\n",
      "Batch 299 with 10 VCFs exists in /mnt/sdb/tmp-skat/skat_mtx/intermediate_batches/neg_batch_299.mt. Skipping...\n",
      "Batch 300 with 10 VCFs exists in /mnt/sdb/tmp-skat/skat_mtx/intermediate_batches/neg_batch_300.mt. Skipping...\n",
      "Batch 301 with 10 VCFs exists in /mnt/sdb/tmp-skat/skat_mtx/intermediate_batches/neg_batch_301.mt. Skipping...\n",
      "Batch 302 with 10 VCFs exists in /mnt/sdb/tmp-skat/skat_mtx/intermediate_batches/neg_batch_302.mt. Skipping...\n",
      "Batch 303 with 10 VCFs exists in /mnt/sdb/tmp-skat/skat_mtx/intermediate_batches/neg_batch_303.mt. Skipping...\n",
      "Batch 304 with 10 VCFs exists in /mnt/sdb/tmp-skat/skat_mtx/intermediate_batches/neg_batch_304.mt. Skipping...\n",
      "Batch 305 with 10 VCFs exists in /mnt/sdb/tmp-skat/skat_mtx/intermediate_batches/neg_batch_305.mt. Skipping...\n",
      "Batch 306 with 10 VCFs exists in /mnt/sdb/tmp-skat/skat_mtx/intermediate_batches/neg_batch_306.mt. Skipping...\n",
      "Batch 307 with 10 VCFs exists in /mnt/sdb/tmp-skat/skat_mtx/intermediate_batches/neg_batch_307.mt. Skipping...\n",
      "Batch 308 with 10 VCFs exists in /mnt/sdb/tmp-skat/skat_mtx/intermediate_batches/neg_batch_308.mt. Skipping...\n",
      "Batch 309 with 10 VCFs exists in /mnt/sdb/tmp-skat/skat_mtx/intermediate_batches/neg_batch_309.mt. Skipping...\n",
      "Batch 310 with 10 VCFs exists in /mnt/sdb/tmp-skat/skat_mtx/intermediate_batches/neg_batch_310.mt. Skipping...\n",
      "Batch 311 with 10 VCFs exists in /mnt/sdb/tmp-skat/skat_mtx/intermediate_batches/neg_batch_311.mt. Skipping...\n",
      "Batch 312 with 10 VCFs exists in /mnt/sdb/tmp-skat/skat_mtx/intermediate_batches/neg_batch_312.mt. Skipping...\n",
      "Batch 313 with 10 VCFs exists in /mnt/sdb/tmp-skat/skat_mtx/intermediate_batches/neg_batch_313.mt. Skipping...\n",
      "Batch 314 with 10 VCFs exists in /mnt/sdb/tmp-skat/skat_mtx/intermediate_batches/neg_batch_314.mt. Skipping...\n",
      "Batch 315 with 10 VCFs exists in /mnt/sdb/tmp-skat/skat_mtx/intermediate_batches/neg_batch_315.mt. Skipping...\n",
      "Batch 316 with 10 VCFs exists in /mnt/sdb/tmp-skat/skat_mtx/intermediate_batches/neg_batch_316.mt. Skipping...\n",
      "Batch 317 with 10 VCFs exists in /mnt/sdb/tmp-skat/skat_mtx/intermediate_batches/neg_batch_317.mt. Skipping...\n",
      "Batch 318 with 10 VCFs exists in /mnt/sdb/tmp-skat/skat_mtx/intermediate_batches/neg_batch_318.mt. Skipping...\n",
      "Batch 319 with 10 VCFs exists in /mnt/sdb/tmp-skat/skat_mtx/intermediate_batches/neg_batch_319.mt. Skipping...\n",
      "Batch 320 with 10 VCFs exists in /mnt/sdb/tmp-skat/skat_mtx/intermediate_batches/neg_batch_320.mt. Skipping...\n",
      "Batch 321 with 10 VCFs exists in /mnt/sdb/tmp-skat/skat_mtx/intermediate_batches/neg_batch_321.mt. Skipping...\n",
      "Batch 322 with 10 VCFs exists in /mnt/sdb/tmp-skat/skat_mtx/intermediate_batches/neg_batch_322.mt. Skipping...\n",
      "Batch 323 with 10 VCFs exists in /mnt/sdb/tmp-skat/skat_mtx/intermediate_batches/neg_batch_323.mt. Skipping...\n",
      "Batch 324 with 10 VCFs exists in /mnt/sdb/tmp-skat/skat_mtx/intermediate_batches/neg_batch_324.mt. Skipping...\n",
      "Batch 325 with 10 VCFs exists in /mnt/sdb/tmp-skat/skat_mtx/intermediate_batches/neg_batch_325.mt. Skipping...\n",
      "Batch 326 with 10 VCFs exists in /mnt/sdb/tmp-skat/skat_mtx/intermediate_batches/neg_batch_326.mt. Skipping...\n",
      "Batch 327 with 10 VCFs exists in /mnt/sdb/tmp-skat/skat_mtx/intermediate_batches/neg_batch_327.mt. Skipping...\n",
      "Batch 328 with 10 VCFs exists in /mnt/sdb/tmp-skat/skat_mtx/intermediate_batches/neg_batch_328.mt. Skipping...\n",
      "Batch 329 with 10 VCFs exists in /mnt/sdb/tmp-skat/skat_mtx/intermediate_batches/neg_batch_329.mt. Skipping...\n",
      "Batch 330 with 10 VCFs exists in /mnt/sdb/tmp-skat/skat_mtx/intermediate_batches/neg_batch_330.mt. Skipping...\n",
      "Batch 331 with 10 VCFs exists in /mnt/sdb/tmp-skat/skat_mtx/intermediate_batches/neg_batch_331.mt. Skipping...\n",
      "Batch 332 with 10 VCFs exists in /mnt/sdb/tmp-skat/skat_mtx/intermediate_batches/neg_batch_332.mt. Skipping...\n",
      "Batch 333 with 10 VCFs exists in /mnt/sdb/tmp-skat/skat_mtx/intermediate_batches/neg_batch_333.mt. Skipping...\n",
      "Batch 334 with 10 VCFs exists in /mnt/sdb/tmp-skat/skat_mtx/intermediate_batches/neg_batch_334.mt. Skipping...\n",
      "Batch 335 with 10 VCFs exists in /mnt/sdb/tmp-skat/skat_mtx/intermediate_batches/neg_batch_335.mt. Skipping...\n",
      "Batch 336 with 10 VCFs exists in /mnt/sdb/tmp-skat/skat_mtx/intermediate_batches/neg_batch_336.mt. Skipping...\n",
      "Batch 337 with 10 VCFs exists in /mnt/sdb/tmp-skat/skat_mtx/intermediate_batches/neg_batch_337.mt. Skipping...\n",
      "Batch 338 with 10 VCFs exists in /mnt/sdb/tmp-skat/skat_mtx/intermediate_batches/neg_batch_338.mt. Skipping...\n",
      "Batch 339 with 10 VCFs exists in /mnt/sdb/tmp-skat/skat_mtx/intermediate_batches/neg_batch_339.mt. Skipping...\n",
      "Batch 340 with 10 VCFs exists in /mnt/sdb/tmp-skat/skat_mtx/intermediate_batches/neg_batch_340.mt. Skipping...\n",
      "Batch 341 with 10 VCFs exists in /mnt/sdb/tmp-skat/skat_mtx/intermediate_batches/neg_batch_341.mt. Skipping...\n",
      "Batch 342 with 10 VCFs exists in /mnt/sdb/tmp-skat/skat_mtx/intermediate_batches/neg_batch_342.mt. Skipping...\n",
      "Batch 343 with 10 VCFs exists in /mnt/sdb/tmp-skat/skat_mtx/intermediate_batches/neg_batch_343.mt. Skipping...\n",
      "Batch 344 with 10 VCFs exists in /mnt/sdb/tmp-skat/skat_mtx/intermediate_batches/neg_batch_344.mt. Skipping...\n",
      "Batch 345 with 10 VCFs exists in /mnt/sdb/tmp-skat/skat_mtx/intermediate_batches/neg_batch_345.mt. Skipping...\n",
      "Batch 346 with 10 VCFs exists in /mnt/sdb/tmp-skat/skat_mtx/intermediate_batches/neg_batch_346.mt. Skipping...\n",
      "Batch 347 with 10 VCFs exists in /mnt/sdb/tmp-skat/skat_mtx/intermediate_batches/neg_batch_347.mt. Skipping...\n",
      "Batch 348 with 10 VCFs exists in /mnt/sdb/tmp-skat/skat_mtx/intermediate_batches/neg_batch_348.mt. Skipping...\n",
      "Batch 349 with 10 VCFs exists in /mnt/sdb/tmp-skat/skat_mtx/intermediate_batches/neg_batch_349.mt. Skipping...\n",
      "Batch 350 with 10 VCFs exists in /mnt/sdb/tmp-skat/skat_mtx/intermediate_batches/neg_batch_350.mt. Skipping...\n",
      "Batch 351 with 10 VCFs exists in /mnt/sdb/tmp-skat/skat_mtx/intermediate_batches/neg_batch_351.mt. Skipping...\n",
      "Batch 352 with 10 VCFs exists in /mnt/sdb/tmp-skat/skat_mtx/intermediate_batches/neg_batch_352.mt. Skipping...\n",
      "Batch 353 with 10 VCFs exists in /mnt/sdb/tmp-skat/skat_mtx/intermediate_batches/neg_batch_353.mt. Skipping...\n",
      "Batch 354 with 10 VCFs exists in /mnt/sdb/tmp-skat/skat_mtx/intermediate_batches/neg_batch_354.mt. Skipping...\n",
      "Batch 355 with 10 VCFs exists in /mnt/sdb/tmp-skat/skat_mtx/intermediate_batches/neg_batch_355.mt. Skipping...\n",
      "Batch 356 with 10 VCFs exists in /mnt/sdb/tmp-skat/skat_mtx/intermediate_batches/neg_batch_356.mt. Skipping...\n",
      "Batch 357 with 10 VCFs exists in /mnt/sdb/tmp-skat/skat_mtx/intermediate_batches/neg_batch_357.mt. Skipping...\n",
      "Batch 358 with 10 VCFs exists in /mnt/sdb/tmp-skat/skat_mtx/intermediate_batches/neg_batch_358.mt. Skipping...\n",
      "Batch 359 with 10 VCFs exists in /mnt/sdb/tmp-skat/skat_mtx/intermediate_batches/neg_batch_359.mt. Skipping...\n",
      "Batch 360 with 10 VCFs exists in /mnt/sdb/tmp-skat/skat_mtx/intermediate_batches/neg_batch_360.mt. Skipping...\n",
      "Batch 361 with 10 VCFs exists in /mnt/sdb/tmp-skat/skat_mtx/intermediate_batches/neg_batch_361.mt. Skipping...\n",
      "Batch 362 with 10 VCFs exists in /mnt/sdb/tmp-skat/skat_mtx/intermediate_batches/neg_batch_362.mt. Skipping...\n",
      "Batch 363 with 10 VCFs exists in /mnt/sdb/tmp-skat/skat_mtx/intermediate_batches/neg_batch_363.mt. Skipping...\n",
      "Batch 364 with 10 VCFs exists in /mnt/sdb/tmp-skat/skat_mtx/intermediate_batches/neg_batch_364.mt. Skipping...\n",
      "Batch 365 with 10 VCFs exists in /mnt/sdb/tmp-skat/skat_mtx/intermediate_batches/neg_batch_365.mt. Skipping...\n",
      "Batch 366 with 10 VCFs exists in /mnt/sdb/tmp-skat/skat_mtx/intermediate_batches/neg_batch_366.mt. Skipping...\n",
      "Batch 367 with 10 VCFs exists in /mnt/sdb/tmp-skat/skat_mtx/intermediate_batches/neg_batch_367.mt. Skipping...\n",
      "Batch 368 with 10 VCFs exists in /mnt/sdb/tmp-skat/skat_mtx/intermediate_batches/neg_batch_368.mt. Skipping...\n",
      "Batch 369 with 10 VCFs exists in /mnt/sdb/tmp-skat/skat_mtx/intermediate_batches/neg_batch_369.mt. Skipping...\n",
      "Batch 370 with 10 VCFs exists in /mnt/sdb/tmp-skat/skat_mtx/intermediate_batches/neg_batch_370.mt. Skipping...\n",
      "Batch 371 with 10 VCFs exists in /mnt/sdb/tmp-skat/skat_mtx/intermediate_batches/neg_batch_371.mt. Skipping...\n",
      "Batch 372 with 10 VCFs exists in /mnt/sdb/tmp-skat/skat_mtx/intermediate_batches/neg_batch_372.mt. Skipping...\n",
      "Batch 373 with 10 VCFs exists in /mnt/sdb/tmp-skat/skat_mtx/intermediate_batches/neg_batch_373.mt. Skipping...\n",
      "Batch 374 with 10 VCFs exists in /mnt/sdb/tmp-skat/skat_mtx/intermediate_batches/neg_batch_374.mt. Skipping...\n",
      "Batch 375 with 10 VCFs exists in /mnt/sdb/tmp-skat/skat_mtx/intermediate_batches/neg_batch_375.mt. Skipping...\n",
      "Batch 376 with 10 VCFs exists in /mnt/sdb/tmp-skat/skat_mtx/intermediate_batches/neg_batch_376.mt. Skipping...\n",
      "Batch 377 with 10 VCFs exists in /mnt/sdb/tmp-skat/skat_mtx/intermediate_batches/neg_batch_377.mt. Skipping...\n",
      "Batch 378 with 10 VCFs exists in /mnt/sdb/tmp-skat/skat_mtx/intermediate_batches/neg_batch_378.mt. Skipping...\n",
      "Batch 379 with 10 VCFs exists in /mnt/sdb/tmp-skat/skat_mtx/intermediate_batches/neg_batch_379.mt. Skipping...\n",
      "Batch 380 with 10 VCFs exists in /mnt/sdb/tmp-skat/skat_mtx/intermediate_batches/neg_batch_380.mt. Skipping...\n",
      "Batch 381 with 10 VCFs exists in /mnt/sdb/tmp-skat/skat_mtx/intermediate_batches/neg_batch_381.mt. Skipping...\n",
      "Batch 382 with 10 VCFs exists in /mnt/sdb/tmp-skat/skat_mtx/intermediate_batches/neg_batch_382.mt. Skipping...\n",
      "Batch 383 with 10 VCFs exists in /mnt/sdb/tmp-skat/skat_mtx/intermediate_batches/neg_batch_383.mt. Skipping...\n",
      "Batch 384 with 10 VCFs exists in /mnt/sdb/tmp-skat/skat_mtx/intermediate_batches/neg_batch_384.mt. Skipping...\n",
      "Batch 385 with 10 VCFs exists in /mnt/sdb/tmp-skat/skat_mtx/intermediate_batches/neg_batch_385.mt. Skipping...\n",
      "Batch 386 with 10 VCFs exists in /mnt/sdb/tmp-skat/skat_mtx/intermediate_batches/neg_batch_386.mt. Skipping...\n",
      "Batch 387 with 10 VCFs exists in /mnt/sdb/tmp-skat/skat_mtx/intermediate_batches/neg_batch_387.mt. Skipping...\n",
      "Batch 388 with 10 VCFs exists in /mnt/sdb/tmp-skat/skat_mtx/intermediate_batches/neg_batch_388.mt. Skipping...\n",
      "Batch 389 with 10 VCFs exists in /mnt/sdb/tmp-skat/skat_mtx/intermediate_batches/neg_batch_389.mt. Skipping...\n",
      "Batch 390 with 10 VCFs exists in /mnt/sdb/tmp-skat/skat_mtx/intermediate_batches/neg_batch_390.mt. Skipping...\n",
      "Batch 391 with 10 VCFs exists in /mnt/sdb/tmp-skat/skat_mtx/intermediate_batches/neg_batch_391.mt. Skipping...\n",
      "Batch 392 with 10 VCFs exists in /mnt/sdb/tmp-skat/skat_mtx/intermediate_batches/neg_batch_392.mt. Skipping...\n",
      "Batch 393 with 10 VCFs exists in /mnt/sdb/tmp-skat/skat_mtx/intermediate_batches/neg_batch_393.mt. Skipping...\n",
      "Batch 394 with 10 VCFs exists in /mnt/sdb/tmp-skat/skat_mtx/intermediate_batches/neg_batch_394.mt. Skipping...\n",
      "Batch 395 with 10 VCFs exists in /mnt/sdb/tmp-skat/skat_mtx/intermediate_batches/neg_batch_395.mt. Skipping...\n",
      "Batch 396 with 10 VCFs exists in /mnt/sdb/tmp-skat/skat_mtx/intermediate_batches/neg_batch_396.mt. Skipping...\n",
      "Batch 397 with 10 VCFs exists in /mnt/sdb/tmp-skat/skat_mtx/intermediate_batches/neg_batch_397.mt. Skipping...\n",
      "Batch 398 with 10 VCFs exists in /mnt/sdb/tmp-skat/skat_mtx/intermediate_batches/neg_batch_398.mt. Skipping...\n",
      "Batch 399 with 10 VCFs exists in /mnt/sdb/tmp-skat/skat_mtx/intermediate_batches/neg_batch_399.mt. Skipping...\n",
      "Batch 400 with 10 VCFs exists in /mnt/sdb/tmp-skat/skat_mtx/intermediate_batches/neg_batch_400.mt. Skipping...\n",
      "Batch 401 with 10 VCFs exists in /mnt/sdb/tmp-skat/skat_mtx/intermediate_batches/neg_batch_401.mt. Skipping...\n",
      "Batch 402 with 10 VCFs exists in /mnt/sdb/tmp-skat/skat_mtx/intermediate_batches/neg_batch_402.mt. Skipping...\n",
      "Batch 403 with 10 VCFs exists in /mnt/sdb/tmp-skat/skat_mtx/intermediate_batches/neg_batch_403.mt. Skipping...\n",
      "Batch 404 with 10 VCFs exists in /mnt/sdb/tmp-skat/skat_mtx/intermediate_batches/neg_batch_404.mt. Skipping...\n",
      "Batch 405 with 10 VCFs exists in /mnt/sdb/tmp-skat/skat_mtx/intermediate_batches/neg_batch_405.mt. Skipping...\n",
      "Batch 406 with 10 VCFs exists in /mnt/sdb/tmp-skat/skat_mtx/intermediate_batches/neg_batch_406.mt. Skipping...\n",
      "Batch 407 with 10 VCFs exists in /mnt/sdb/tmp-skat/skat_mtx/intermediate_batches/neg_batch_407.mt. Skipping...\n",
      "Batch 408 with 10 VCFs exists in /mnt/sdb/tmp-skat/skat_mtx/intermediate_batches/neg_batch_408.mt. Skipping...\n",
      "Batch 409 with 10 VCFs exists in /mnt/sdb/tmp-skat/skat_mtx/intermediate_batches/neg_batch_409.mt. Skipping...\n",
      "Batch 410 with 10 VCFs exists in /mnt/sdb/tmp-skat/skat_mtx/intermediate_batches/neg_batch_410.mt. Skipping...\n",
      "Batch 411 with 10 VCFs exists in /mnt/sdb/tmp-skat/skat_mtx/intermediate_batches/neg_batch_411.mt. Skipping...\n",
      "Batch 412 with 10 VCFs exists in /mnt/sdb/tmp-skat/skat_mtx/intermediate_batches/neg_batch_412.mt. Skipping...\n",
      "Batch 413 with 10 VCFs exists in /mnt/sdb/tmp-skat/skat_mtx/intermediate_batches/neg_batch_413.mt. Skipping...\n",
      "Batch 414 with 10 VCFs exists in /mnt/sdb/tmp-skat/skat_mtx/intermediate_batches/neg_batch_414.mt. Skipping...\n",
      "Batch 415 with 10 VCFs exists in /mnt/sdb/tmp-skat/skat_mtx/intermediate_batches/neg_batch_415.mt. Skipping...\n",
      "Batch 416 with 10 VCFs exists in /mnt/sdb/tmp-skat/skat_mtx/intermediate_batches/neg_batch_416.mt. Skipping...\n",
      "Batch 417 with 10 VCFs exists in /mnt/sdb/tmp-skat/skat_mtx/intermediate_batches/neg_batch_417.mt. Skipping...\n",
      "Batch 418 with 10 VCFs exists in /mnt/sdb/tmp-skat/skat_mtx/intermediate_batches/neg_batch_418.mt. Skipping...\n",
      "Batch 419 with 10 VCFs exists in /mnt/sdb/tmp-skat/skat_mtx/intermediate_batches/neg_batch_419.mt. Skipping...\n",
      "Batch 420 with 10 VCFs exists in /mnt/sdb/tmp-skat/skat_mtx/intermediate_batches/neg_batch_420.mt. Skipping...\n",
      "Batch 421 with 10 VCFs exists in /mnt/sdb/tmp-skat/skat_mtx/intermediate_batches/neg_batch_421.mt. Skipping...\n",
      "Batch 422 with 10 VCFs exists in /mnt/sdb/tmp-skat/skat_mtx/intermediate_batches/neg_batch_422.mt. Skipping...\n",
      "Batch 423 with 10 VCFs exists in /mnt/sdb/tmp-skat/skat_mtx/intermediate_batches/neg_batch_423.mt. Skipping...\n",
      "Batch 424 with 10 VCFs exists in /mnt/sdb/tmp-skat/skat_mtx/intermediate_batches/neg_batch_424.mt. Skipping...\n",
      "Batch 425 with 10 VCFs exists in /mnt/sdb/tmp-skat/skat_mtx/intermediate_batches/neg_batch_425.mt. Skipping...\n",
      "Batch 426 with 10 VCFs exists in /mnt/sdb/tmp-skat/skat_mtx/intermediate_batches/neg_batch_426.mt. Skipping...\n",
      "Batch 427 with 10 VCFs exists in /mnt/sdb/tmp-skat/skat_mtx/intermediate_batches/neg_batch_427.mt. Skipping...\n",
      "Batch 428 with 10 VCFs exists in /mnt/sdb/tmp-skat/skat_mtx/intermediate_batches/neg_batch_428.mt. Skipping...\n",
      "Batch 429 with 10 VCFs exists in /mnt/sdb/tmp-skat/skat_mtx/intermediate_batches/neg_batch_429.mt. Skipping...\n",
      "Batch 430 with 10 VCFs exists in /mnt/sdb/tmp-skat/skat_mtx/intermediate_batches/neg_batch_430.mt. Skipping...\n",
      "Batch 431 with 10 VCFs exists in /mnt/sdb/tmp-skat/skat_mtx/intermediate_batches/neg_batch_431.mt. Skipping...\n",
      "Batch 432 with 10 VCFs exists in /mnt/sdb/tmp-skat/skat_mtx/intermediate_batches/neg_batch_432.mt. Skipping...\n",
      "Batch 433 with 10 VCFs exists in /mnt/sdb/tmp-skat/skat_mtx/intermediate_batches/neg_batch_433.mt. Skipping...\n",
      "Batch 434 with 10 VCFs exists in /mnt/sdb/tmp-skat/skat_mtx/intermediate_batches/neg_batch_434.mt. Skipping...\n",
      "Batch 435 with 10 VCFs exists in /mnt/sdb/tmp-skat/skat_mtx/intermediate_batches/neg_batch_435.mt. Skipping...\n",
      "Batch 436 with 10 VCFs exists in /mnt/sdb/tmp-skat/skat_mtx/intermediate_batches/neg_batch_436.mt. Skipping...\n",
      "Batch 437 with 10 VCFs exists in /mnt/sdb/tmp-skat/skat_mtx/intermediate_batches/neg_batch_437.mt. Skipping...\n",
      "Batch 438 with 10 VCFs exists in /mnt/sdb/tmp-skat/skat_mtx/intermediate_batches/neg_batch_438.mt. Skipping...\n",
      "Batch 439 with 10 VCFs exists in /mnt/sdb/tmp-skat/skat_mtx/intermediate_batches/neg_batch_439.mt. Skipping...\n",
      "Batch 440 with 10 VCFs exists in /mnt/sdb/tmp-skat/skat_mtx/intermediate_batches/neg_batch_440.mt. Skipping...\n",
      "Batch 441 with 10 VCFs exists in /mnt/sdb/tmp-skat/skat_mtx/intermediate_batches/neg_batch_441.mt. Skipping...\n",
      "Batch 442 with 10 VCFs exists in /mnt/sdb/tmp-skat/skat_mtx/intermediate_batches/neg_batch_442.mt. Skipping...\n",
      "Batch 443 with 10 VCFs exists in /mnt/sdb/tmp-skat/skat_mtx/intermediate_batches/neg_batch_443.mt. Skipping...\n",
      "Batch 444 with 10 VCFs exists in /mnt/sdb/tmp-skat/skat_mtx/intermediate_batches/neg_batch_444.mt. Skipping...\n",
      "Batch 445 with 10 VCFs exists in /mnt/sdb/tmp-skat/skat_mtx/intermediate_batches/neg_batch_445.mt. Skipping...\n",
      "Batch 446 with 10 VCFs exists in /mnt/sdb/tmp-skat/skat_mtx/intermediate_batches/neg_batch_446.mt. Skipping...\n",
      "Batch 447 with 10 VCFs exists in /mnt/sdb/tmp-skat/skat_mtx/intermediate_batches/neg_batch_447.mt. Skipping...\n",
      "Batch 448 with 10 VCFs exists in /mnt/sdb/tmp-skat/skat_mtx/intermediate_batches/neg_batch_448.mt. Skipping...\n",
      "Batch 449 with 10 VCFs exists in /mnt/sdb/tmp-skat/skat_mtx/intermediate_batches/neg_batch_449.mt. Skipping...\n",
      "Batch 450 with 10 VCFs exists in /mnt/sdb/tmp-skat/skat_mtx/intermediate_batches/neg_batch_450.mt. Skipping...\n",
      "Batch 451 with 10 VCFs exists in /mnt/sdb/tmp-skat/skat_mtx/intermediate_batches/neg_batch_451.mt. Skipping...\n",
      "Batch 452 with 10 VCFs exists in /mnt/sdb/tmp-skat/skat_mtx/intermediate_batches/neg_batch_452.mt. Skipping...\n",
      "Batch 453 with 10 VCFs exists in /mnt/sdb/tmp-skat/skat_mtx/intermediate_batches/neg_batch_453.mt. Skipping...\n",
      "Batch 454 with 10 VCFs exists in /mnt/sdb/tmp-skat/skat_mtx/intermediate_batches/neg_batch_454.mt. Skipping...\n",
      "Batch 455 with 10 VCFs exists in /mnt/sdb/tmp-skat/skat_mtx/intermediate_batches/neg_batch_455.mt. Skipping...\n",
      "Batch 456 with 10 VCFs exists in /mnt/sdb/tmp-skat/skat_mtx/intermediate_batches/neg_batch_456.mt. Skipping...\n",
      "Batch 457 with 10 VCFs exists in /mnt/sdb/tmp-skat/skat_mtx/intermediate_batches/neg_batch_457.mt. Skipping...\n",
      "Batch 458 with 10 VCFs exists in /mnt/sdb/tmp-skat/skat_mtx/intermediate_batches/neg_batch_458.mt. Skipping...\n",
      "Batch 459 with 10 VCFs exists in /mnt/sdb/tmp-skat/skat_mtx/intermediate_batches/neg_batch_459.mt. Skipping...\n",
      "Batch 460 with 10 VCFs exists in /mnt/sdb/tmp-skat/skat_mtx/intermediate_batches/neg_batch_460.mt. Skipping...\n",
      "Batch 461 with 10 VCFs exists in /mnt/sdb/tmp-skat/skat_mtx/intermediate_batches/neg_batch_461.mt. Skipping...\n",
      "Batch 462 with 10 VCFs exists in /mnt/sdb/tmp-skat/skat_mtx/intermediate_batches/neg_batch_462.mt. Skipping...\n",
      "Batch 463 with 10 VCFs exists in /mnt/sdb/tmp-skat/skat_mtx/intermediate_batches/neg_batch_463.mt. Skipping...\n",
      "Batch 464 with 10 VCFs exists in /mnt/sdb/tmp-skat/skat_mtx/intermediate_batches/neg_batch_464.mt. Skipping...\n",
      "Batch 465 with 10 VCFs exists in /mnt/sdb/tmp-skat/skat_mtx/intermediate_batches/neg_batch_465.mt. Skipping...\n",
      "Batch 466 with 10 VCFs exists in /mnt/sdb/tmp-skat/skat_mtx/intermediate_batches/neg_batch_466.mt. Skipping...\n",
      "Batch 467 with 10 VCFs exists in /mnt/sdb/tmp-skat/skat_mtx/intermediate_batches/neg_batch_467.mt. Skipping...\n",
      "Batch 468 with 10 VCFs exists in /mnt/sdb/tmp-skat/skat_mtx/intermediate_batches/neg_batch_468.mt. Skipping...\n",
      "Batch 469 with 10 VCFs exists in /mnt/sdb/tmp-skat/skat_mtx/intermediate_batches/neg_batch_469.mt. Skipping...\n",
      "Batch 470 with 10 VCFs exists in /mnt/sdb/tmp-skat/skat_mtx/intermediate_batches/neg_batch_470.mt. Skipping...\n",
      "Batch 471 with 10 VCFs exists in /mnt/sdb/tmp-skat/skat_mtx/intermediate_batches/neg_batch_471.mt. Skipping...\n",
      "Batch 472 with 10 VCFs exists in /mnt/sdb/tmp-skat/skat_mtx/intermediate_batches/neg_batch_472.mt. Skipping...\n",
      "Batch 473 with 10 VCFs exists in /mnt/sdb/tmp-skat/skat_mtx/intermediate_batches/neg_batch_473.mt. Skipping...\n",
      "Batch 474 with 10 VCFs exists in /mnt/sdb/tmp-skat/skat_mtx/intermediate_batches/neg_batch_474.mt. Skipping...\n",
      "Batch 475 with 10 VCFs exists in /mnt/sdb/tmp-skat/skat_mtx/intermediate_batches/neg_batch_475.mt. Skipping...\n",
      "Batch 476 with 10 VCFs exists in /mnt/sdb/tmp-skat/skat_mtx/intermediate_batches/neg_batch_476.mt. Skipping...\n",
      "Batch 477 with 10 VCFs exists in /mnt/sdb/tmp-skat/skat_mtx/intermediate_batches/neg_batch_477.mt. Skipping...\n",
      "Batch 478 with 10 VCFs exists in /mnt/sdb/tmp-skat/skat_mtx/intermediate_batches/neg_batch_478.mt. Skipping...\n",
      "Batch 479 with 10 VCFs exists in /mnt/sdb/tmp-skat/skat_mtx/intermediate_batches/neg_batch_479.mt. Skipping...\n",
      "Batch 480 with 10 VCFs exists in /mnt/sdb/tmp-skat/skat_mtx/intermediate_batches/neg_batch_480.mt. Skipping...\n",
      "Batch 481 with 10 VCFs exists in /mnt/sdb/tmp-skat/skat_mtx/intermediate_batches/neg_batch_481.mt. Skipping...\n",
      "Batch 482 with 10 VCFs exists in /mnt/sdb/tmp-skat/skat_mtx/intermediate_batches/neg_batch_482.mt. Skipping...\n",
      "Batch 483 with 10 VCFs exists in /mnt/sdb/tmp-skat/skat_mtx/intermediate_batches/neg_batch_483.mt. Skipping...\n",
      "Batch 484 with 10 VCFs exists in /mnt/sdb/tmp-skat/skat_mtx/intermediate_batches/neg_batch_484.mt. Skipping...\n",
      "Batch 485 with 10 VCFs exists in /mnt/sdb/tmp-skat/skat_mtx/intermediate_batches/neg_batch_485.mt. Skipping...\n",
      "Batch 486 with 10 VCFs exists in /mnt/sdb/tmp-skat/skat_mtx/intermediate_batches/neg_batch_486.mt. Skipping...\n",
      "Batch 487 with 10 VCFs exists in /mnt/sdb/tmp-skat/skat_mtx/intermediate_batches/neg_batch_487.mt. Skipping...\n",
      "Batch 488 with 10 VCFs exists in /mnt/sdb/tmp-skat/skat_mtx/intermediate_batches/neg_batch_488.mt. Skipping...\n",
      "Batch 489 with 10 VCFs exists in /mnt/sdb/tmp-skat/skat_mtx/intermediate_batches/neg_batch_489.mt. Skipping...\n",
      "Batch 490 with 10 VCFs exists in /mnt/sdb/tmp-skat/skat_mtx/intermediate_batches/neg_batch_490.mt. Skipping...\n",
      "Batch 491 with 10 VCFs exists in /mnt/sdb/tmp-skat/skat_mtx/intermediate_batches/neg_batch_491.mt. Skipping...\n",
      "Batch 492 with 10 VCFs exists in /mnt/sdb/tmp-skat/skat_mtx/intermediate_batches/neg_batch_492.mt. Skipping...\n",
      "Batch 493 with 10 VCFs exists in /mnt/sdb/tmp-skat/skat_mtx/intermediate_batches/neg_batch_493.mt. Skipping...\n",
      "Batch 494 with 10 VCFs exists in /mnt/sdb/tmp-skat/skat_mtx/intermediate_batches/neg_batch_494.mt. Skipping...\n",
      "Batch 495 with 10 VCFs exists in /mnt/sdb/tmp-skat/skat_mtx/intermediate_batches/neg_batch_495.mt. Skipping...\n",
      "Batch 496 with 10 VCFs exists in /mnt/sdb/tmp-skat/skat_mtx/intermediate_batches/neg_batch_496.mt. Skipping...\n",
      "Batch 497 with 10 VCFs exists in /mnt/sdb/tmp-skat/skat_mtx/intermediate_batches/neg_batch_497.mt. Skipping...\n",
      "Batch 498 with 10 VCFs exists in /mnt/sdb/tmp-skat/skat_mtx/intermediate_batches/neg_batch_498.mt. Skipping...\n",
      "Batch 499 with 10 VCFs exists in /mnt/sdb/tmp-skat/skat_mtx/intermediate_batches/neg_batch_499.mt. Skipping...\n",
      "Batch 500 with 10 VCFs exists in /mnt/sdb/tmp-skat/skat_mtx/intermediate_batches/neg_batch_500.mt. Skipping...\n",
      "Batch 501 with 10 VCFs exists in /mnt/sdb/tmp-skat/skat_mtx/intermediate_batches/neg_batch_501.mt. Skipping...\n",
      "Batch 502 with 10 VCFs exists in /mnt/sdb/tmp-skat/skat_mtx/intermediate_batches/neg_batch_502.mt. Skipping...\n",
      "Batch 503 with 10 VCFs exists in /mnt/sdb/tmp-skat/skat_mtx/intermediate_batches/neg_batch_503.mt. Skipping...\n",
      "Batch 504 with 10 VCFs exists in /mnt/sdb/tmp-skat/skat_mtx/intermediate_batches/neg_batch_504.mt. Skipping...\n",
      "Batch 505 with 10 VCFs exists in /mnt/sdb/tmp-skat/skat_mtx/intermediate_batches/neg_batch_505.mt. Skipping...\n",
      "Batch 506 with 10 VCFs exists in /mnt/sdb/tmp-skat/skat_mtx/intermediate_batches/neg_batch_506.mt. Skipping...\n",
      "Batch 507 with 10 VCFs exists in /mnt/sdb/tmp-skat/skat_mtx/intermediate_batches/neg_batch_507.mt. Skipping...\n",
      "Batch 508 with 10 VCFs exists in /mnt/sdb/tmp-skat/skat_mtx/intermediate_batches/neg_batch_508.mt. Skipping...\n",
      "Batch 509 with 10 VCFs exists in /mnt/sdb/tmp-skat/skat_mtx/intermediate_batches/neg_batch_509.mt. Skipping...\n",
      "Batch 510 with 10 VCFs exists in /mnt/sdb/tmp-skat/skat_mtx/intermediate_batches/neg_batch_510.mt. Skipping...\n",
      "Batch 511 with 10 VCFs exists in /mnt/sdb/tmp-skat/skat_mtx/intermediate_batches/neg_batch_511.mt. Skipping...\n",
      "Batch 512 with 10 VCFs exists in /mnt/sdb/tmp-skat/skat_mtx/intermediate_batches/neg_batch_512.mt. Skipping...\n",
      "Batch 513 with 10 VCFs exists in /mnt/sdb/tmp-skat/skat_mtx/intermediate_batches/neg_batch_513.mt. Skipping...\n",
      "Batch 514 with 10 VCFs exists in /mnt/sdb/tmp-skat/skat_mtx/intermediate_batches/neg_batch_514.mt. Skipping...\n",
      "Batch 515 with 10 VCFs exists in /mnt/sdb/tmp-skat/skat_mtx/intermediate_batches/neg_batch_515.mt. Skipping...\n",
      "Batch 516 with 10 VCFs exists in /mnt/sdb/tmp-skat/skat_mtx/intermediate_batches/neg_batch_516.mt. Skipping...\n",
      "Batch 517 with 10 VCFs exists in /mnt/sdb/tmp-skat/skat_mtx/intermediate_batches/neg_batch_517.mt. Skipping...\n",
      "Batch 518 with 10 VCFs exists in /mnt/sdb/tmp-skat/skat_mtx/intermediate_batches/neg_batch_518.mt. Skipping...\n",
      "Batch 519 with 10 VCFs exists in /mnt/sdb/tmp-skat/skat_mtx/intermediate_batches/neg_batch_519.mt. Skipping...\n",
      "Batch 520 with 10 VCFs exists in /mnt/sdb/tmp-skat/skat_mtx/intermediate_batches/neg_batch_520.mt. Skipping...\n",
      "Batch 521 with 10 VCFs exists in /mnt/sdb/tmp-skat/skat_mtx/intermediate_batches/neg_batch_521.mt. Skipping...\n",
      "Batch 522 with 10 VCFs exists in /mnt/sdb/tmp-skat/skat_mtx/intermediate_batches/neg_batch_522.mt. Skipping...\n",
      "Batch 523 with 10 VCFs exists in /mnt/sdb/tmp-skat/skat_mtx/intermediate_batches/neg_batch_523.mt. Skipping...\n",
      "Batch 524 with 10 VCFs exists in /mnt/sdb/tmp-skat/skat_mtx/intermediate_batches/neg_batch_524.mt. Skipping...\n",
      "Batch 525 with 10 VCFs exists in /mnt/sdb/tmp-skat/skat_mtx/intermediate_batches/neg_batch_525.mt. Skipping...\n",
      "Batch 526 with 10 VCFs exists in /mnt/sdb/tmp-skat/skat_mtx/intermediate_batches/neg_batch_526.mt. Skipping...\n",
      "Batch 527 with 10 VCFs exists in /mnt/sdb/tmp-skat/skat_mtx/intermediate_batches/neg_batch_527.mt. Skipping...\n",
      "Batch 528 with 10 VCFs exists in /mnt/sdb/tmp-skat/skat_mtx/intermediate_batches/neg_batch_528.mt. Skipping...\n",
      "Batch 529 with 10 VCFs exists in /mnt/sdb/tmp-skat/skat_mtx/intermediate_batches/neg_batch_529.mt. Skipping...\n",
      "Batch 530 with 10 VCFs exists in /mnt/sdb/tmp-skat/skat_mtx/intermediate_batches/neg_batch_530.mt. Skipping...\n",
      "Batch 531 with 10 VCFs exists in /mnt/sdb/tmp-skat/skat_mtx/intermediate_batches/neg_batch_531.mt. Skipping...\n",
      "Batch 532 with 10 VCFs exists in /mnt/sdb/tmp-skat/skat_mtx/intermediate_batches/neg_batch_532.mt. Skipping...\n",
      "Batch 533 with 10 VCFs exists in /mnt/sdb/tmp-skat/skat_mtx/intermediate_batches/neg_batch_533.mt. Skipping...\n",
      "Batch 534 with 10 VCFs exists in /mnt/sdb/tmp-skat/skat_mtx/intermediate_batches/neg_batch_534.mt. Skipping...\n",
      "Batch 535 with 10 VCFs exists in /mnt/sdb/tmp-skat/skat_mtx/intermediate_batches/neg_batch_535.mt. Skipping...\n",
      "Batch 536 with 10 VCFs exists in /mnt/sdb/tmp-skat/skat_mtx/intermediate_batches/neg_batch_536.mt. Skipping...\n",
      "Batch 537 with 10 VCFs exists in /mnt/sdb/tmp-skat/skat_mtx/intermediate_batches/neg_batch_537.mt. Skipping...\n",
      "Batch 538 with 10 VCFs exists in /mnt/sdb/tmp-skat/skat_mtx/intermediate_batches/neg_batch_538.mt. Skipping...\n",
      "Batch 539 with 10 VCFs exists in /mnt/sdb/tmp-skat/skat_mtx/intermediate_batches/neg_batch_539.mt. Skipping...\n",
      "Batch 540 with 10 VCFs exists in /mnt/sdb/tmp-skat/skat_mtx/intermediate_batches/neg_batch_540.mt. Skipping...\n",
      "Batch 541 with 10 VCFs exists in /mnt/sdb/tmp-skat/skat_mtx/intermediate_batches/neg_batch_541.mt. Skipping...\n",
      "Batch 542 with 10 VCFs exists in /mnt/sdb/tmp-skat/skat_mtx/intermediate_batches/neg_batch_542.mt. Skipping...\n",
      "Batch 543 with 10 VCFs exists in /mnt/sdb/tmp-skat/skat_mtx/intermediate_batches/neg_batch_543.mt. Skipping...\n",
      "Batch 544 with 10 VCFs exists in /mnt/sdb/tmp-skat/skat_mtx/intermediate_batches/neg_batch_544.mt. Skipping...\n",
      "Batch 545 with 10 VCFs exists in /mnt/sdb/tmp-skat/skat_mtx/intermediate_batches/neg_batch_545.mt. Skipping...\n",
      "Batch 546 with 10 VCFs exists in /mnt/sdb/tmp-skat/skat_mtx/intermediate_batches/neg_batch_546.mt. Skipping...\n",
      "Batch 547 with 10 VCFs exists in /mnt/sdb/tmp-skat/skat_mtx/intermediate_batches/neg_batch_547.mt. Skipping...\n",
      "Batch 548 with 10 VCFs exists in /mnt/sdb/tmp-skat/skat_mtx/intermediate_batches/neg_batch_548.mt. Skipping...\n",
      "Batch 549 with 10 VCFs exists in /mnt/sdb/tmp-skat/skat_mtx/intermediate_batches/neg_batch_549.mt. Skipping...\n",
      "Batch 550 with 10 VCFs exists in /mnt/sdb/tmp-skat/skat_mtx/intermediate_batches/neg_batch_550.mt. Skipping...\n",
      "Batch 551 with 10 VCFs exists in /mnt/sdb/tmp-skat/skat_mtx/intermediate_batches/neg_batch_551.mt. Skipping...\n",
      "Batch 552 with 10 VCFs exists in /mnt/sdb/tmp-skat/skat_mtx/intermediate_batches/neg_batch_552.mt. Skipping...\n",
      "Batch 553 with 10 VCFs exists in /mnt/sdb/tmp-skat/skat_mtx/intermediate_batches/neg_batch_553.mt. Skipping...\n",
      "Batch 554 with 10 VCFs exists in /mnt/sdb/tmp-skat/skat_mtx/intermediate_batches/neg_batch_554.mt. Skipping...\n",
      "Batch 555 with 10 VCFs exists in /mnt/sdb/tmp-skat/skat_mtx/intermediate_batches/neg_batch_555.mt. Skipping...\n",
      "Batch 556 with 10 VCFs exists in /mnt/sdb/tmp-skat/skat_mtx/intermediate_batches/neg_batch_556.mt. Skipping...\n",
      "Batch 557 with 10 VCFs exists in /mnt/sdb/tmp-skat/skat_mtx/intermediate_batches/neg_batch_557.mt. Skipping...\n",
      "Batch 558 with 10 VCFs exists in /mnt/sdb/tmp-skat/skat_mtx/intermediate_batches/neg_batch_558.mt. Skipping...\n",
      "Batch 559 with 10 VCFs exists in /mnt/sdb/tmp-skat/skat_mtx/intermediate_batches/neg_batch_559.mt. Skipping...\n",
      "Batch 560 with 10 VCFs exists in /mnt/sdb/tmp-skat/skat_mtx/intermediate_batches/neg_batch_560.mt. Skipping...\n",
      "Batch 561 with 10 VCFs exists in /mnt/sdb/tmp-skat/skat_mtx/intermediate_batches/neg_batch_561.mt. Skipping...\n",
      "Batch 562 with 10 VCFs exists in /mnt/sdb/tmp-skat/skat_mtx/intermediate_batches/neg_batch_562.mt. Skipping...\n",
      "Batch 563 with 10 VCFs exists in /mnt/sdb/tmp-skat/skat_mtx/intermediate_batches/neg_batch_563.mt. Skipping...\n",
      "Batch 564 with 10 VCFs exists in /mnt/sdb/tmp-skat/skat_mtx/intermediate_batches/neg_batch_564.mt. Skipping...\n",
      "Batch 565 with 10 VCFs exists in /mnt/sdb/tmp-skat/skat_mtx/intermediate_batches/neg_batch_565.mt. Skipping...\n",
      "Batch 566 with 10 VCFs exists in /mnt/sdb/tmp-skat/skat_mtx/intermediate_batches/neg_batch_566.mt. Skipping...\n",
      "Batch 567 with 10 VCFs exists in /mnt/sdb/tmp-skat/skat_mtx/intermediate_batches/neg_batch_567.mt. Skipping...\n",
      "Batch 568 with 10 VCFs exists in /mnt/sdb/tmp-skat/skat_mtx/intermediate_batches/neg_batch_568.mt. Skipping...\n",
      "Batch 569 with 10 VCFs exists in /mnt/sdb/tmp-skat/skat_mtx/intermediate_batches/neg_batch_569.mt. Skipping...\n",
      "Batch 570 with 10 VCFs exists in /mnt/sdb/tmp-skat/skat_mtx/intermediate_batches/neg_batch_570.mt. Skipping...\n",
      "Batch 571 with 10 VCFs exists in /mnt/sdb/tmp-skat/skat_mtx/intermediate_batches/neg_batch_571.mt. Skipping...\n",
      "Batch 572 with 10 VCFs exists in /mnt/sdb/tmp-skat/skat_mtx/intermediate_batches/neg_batch_572.mt. Skipping...\n",
      "Batch 573 with 10 VCFs exists in /mnt/sdb/tmp-skat/skat_mtx/intermediate_batches/neg_batch_573.mt. Skipping...\n",
      "Batch 574 with 10 VCFs exists in /mnt/sdb/tmp-skat/skat_mtx/intermediate_batches/neg_batch_574.mt. Skipping...\n",
      "Batch 575 with 10 VCFs exists in /mnt/sdb/tmp-skat/skat_mtx/intermediate_batches/neg_batch_575.mt. Skipping...\n",
      "Batch 576 with 10 VCFs exists in /mnt/sdb/tmp-skat/skat_mtx/intermediate_batches/neg_batch_576.mt. Skipping...\n",
      "Batch 577 with 10 VCFs exists in /mnt/sdb/tmp-skat/skat_mtx/intermediate_batches/neg_batch_577.mt. Skipping...\n",
      "Batch 578 with 10 VCFs exists in /mnt/sdb/tmp-skat/skat_mtx/intermediate_batches/neg_batch_578.mt. Skipping...\n",
      "Batch 579 with 10 VCFs exists in /mnt/sdb/tmp-skat/skat_mtx/intermediate_batches/neg_batch_579.mt. Skipping...\n",
      "Batch 580 with 10 VCFs exists in /mnt/sdb/tmp-skat/skat_mtx/intermediate_batches/neg_batch_580.mt. Skipping...\n",
      "Batch 581 with 10 VCFs exists in /mnt/sdb/tmp-skat/skat_mtx/intermediate_batches/neg_batch_581.mt. Skipping...\n",
      "Batch 582 with 10 VCFs exists in /mnt/sdb/tmp-skat/skat_mtx/intermediate_batches/neg_batch_582.mt. Skipping...\n",
      "Batch 583 with 10 VCFs exists in /mnt/sdb/tmp-skat/skat_mtx/intermediate_batches/neg_batch_583.mt. Skipping...\n",
      "Batch 584 with 10 VCFs exists in /mnt/sdb/tmp-skat/skat_mtx/intermediate_batches/neg_batch_584.mt. Skipping...\n",
      "Batch 585 with 10 VCFs exists in /mnt/sdb/tmp-skat/skat_mtx/intermediate_batches/neg_batch_585.mt. Skipping...\n",
      "Batch 586 with 10 VCFs exists in /mnt/sdb/tmp-skat/skat_mtx/intermediate_batches/neg_batch_586.mt. Skipping...\n",
      "Batch 587 with 10 VCFs exists in /mnt/sdb/tmp-skat/skat_mtx/intermediate_batches/neg_batch_587.mt. Skipping...\n",
      "Batch 588 with 10 VCFs exists in /mnt/sdb/tmp-skat/skat_mtx/intermediate_batches/neg_batch_588.mt. Skipping...\n",
      "Batch 589 with 10 VCFs exists in /mnt/sdb/tmp-skat/skat_mtx/intermediate_batches/neg_batch_589.mt. Skipping...\n",
      "Batch 590 with 10 VCFs exists in /mnt/sdb/tmp-skat/skat_mtx/intermediate_batches/neg_batch_590.mt. Skipping...\n",
      "Batch 591 with 10 VCFs exists in /mnt/sdb/tmp-skat/skat_mtx/intermediate_batches/neg_batch_591.mt. Skipping...\n",
      "Batch 592 with 10 VCFs exists in /mnt/sdb/tmp-skat/skat_mtx/intermediate_batches/neg_batch_592.mt. Skipping...\n",
      "Batch 593 with 10 VCFs exists in /mnt/sdb/tmp-skat/skat_mtx/intermediate_batches/neg_batch_593.mt. Skipping...\n",
      "Batch 594 with 10 VCFs exists in /mnt/sdb/tmp-skat/skat_mtx/intermediate_batches/neg_batch_594.mt. Skipping...\n",
      "Batch 595 with 10 VCFs exists in /mnt/sdb/tmp-skat/skat_mtx/intermediate_batches/neg_batch_595.mt. Skipping...\n",
      "Batch 596 with 10 VCFs exists in /mnt/sdb/tmp-skat/skat_mtx/intermediate_batches/neg_batch_596.mt. Skipping...\n",
      "Batch 597 with 10 VCFs exists in /mnt/sdb/tmp-skat/skat_mtx/intermediate_batches/neg_batch_597.mt. Skipping...\n",
      "Batch 598 with 10 VCFs exists in /mnt/sdb/tmp-skat/skat_mtx/intermediate_batches/neg_batch_598.mt. Skipping...\n",
      "Batch 599 with 10 VCFs exists in /mnt/sdb/tmp-skat/skat_mtx/intermediate_batches/neg_batch_599.mt. Skipping...\n",
      "Batch 600 with 10 VCFs exists in /mnt/sdb/tmp-skat/skat_mtx/intermediate_batches/neg_batch_600.mt. Skipping...\n",
      "Batch 601 with 10 VCFs exists in /mnt/sdb/tmp-skat/skat_mtx/intermediate_batches/neg_batch_601.mt. Skipping...\n",
      "Batch 602 with 10 VCFs exists in /mnt/sdb/tmp-skat/skat_mtx/intermediate_batches/neg_batch_602.mt. Skipping...\n",
      "Batch 603 with 10 VCFs exists in /mnt/sdb/tmp-skat/skat_mtx/intermediate_batches/neg_batch_603.mt. Skipping...\n",
      "Batch 604 with 10 VCFs exists in /mnt/sdb/tmp-skat/skat_mtx/intermediate_batches/neg_batch_604.mt. Skipping...\n",
      "Batch 605 with 10 VCFs exists in /mnt/sdb/tmp-skat/skat_mtx/intermediate_batches/neg_batch_605.mt. Skipping...\n",
      "Batch 606 with 10 VCFs exists in /mnt/sdb/tmp-skat/skat_mtx/intermediate_batches/neg_batch_606.mt. Skipping...\n",
      "Batch 607 with 10 VCFs exists in /mnt/sdb/tmp-skat/skat_mtx/intermediate_batches/neg_batch_607.mt. Skipping...\n",
      "Batch 608 with 10 VCFs exists in /mnt/sdb/tmp-skat/skat_mtx/intermediate_batches/neg_batch_608.mt. Skipping...\n",
      "Batch 609 with 10 VCFs exists in /mnt/sdb/tmp-skat/skat_mtx/intermediate_batches/neg_batch_609.mt. Skipping...\n",
      "Batch 610 with 10 VCFs exists in /mnt/sdb/tmp-skat/skat_mtx/intermediate_batches/neg_batch_610.mt. Skipping...\n",
      "Batch 611 with 10 VCFs exists in /mnt/sdb/tmp-skat/skat_mtx/intermediate_batches/neg_batch_611.mt. Skipping...\n",
      "Batch 612 with 10 VCFs exists in /mnt/sdb/tmp-skat/skat_mtx/intermediate_batches/neg_batch_612.mt. Skipping...\n",
      "Batch 613 with 10 VCFs exists in /mnt/sdb/tmp-skat/skat_mtx/intermediate_batches/neg_batch_613.mt. Skipping...\n",
      "Batch 614 with 10 VCFs exists in /mnt/sdb/tmp-skat/skat_mtx/intermediate_batches/neg_batch_614.mt. Skipping...\n",
      "Batch 615 with 10 VCFs exists in /mnt/sdb/tmp-skat/skat_mtx/intermediate_batches/neg_batch_615.mt. Skipping...\n",
      "Batch 616 with 10 VCFs exists in /mnt/sdb/tmp-skat/skat_mtx/intermediate_batches/neg_batch_616.mt. Skipping...\n",
      "Batch 617 with 10 VCFs exists in /mnt/sdb/tmp-skat/skat_mtx/intermediate_batches/neg_batch_617.mt. Skipping...\n",
      "Batch 618 with 10 VCFs exists in /mnt/sdb/tmp-skat/skat_mtx/intermediate_batches/neg_batch_618.mt. Skipping...\n",
      "Batch 619 with 10 VCFs exists in /mnt/sdb/tmp-skat/skat_mtx/intermediate_batches/neg_batch_619.mt. Skipping...\n",
      "Batch 620 with 10 VCFs exists in /mnt/sdb/tmp-skat/skat_mtx/intermediate_batches/neg_batch_620.mt. Skipping...\n",
      "Batch 621 with 10 VCFs exists in /mnt/sdb/tmp-skat/skat_mtx/intermediate_batches/neg_batch_621.mt. Skipping...\n",
      "Batch 622 with 10 VCFs exists in /mnt/sdb/tmp-skat/skat_mtx/intermediate_batches/neg_batch_622.mt. Skipping...\n",
      "Batch 623 with 10 VCFs exists in /mnt/sdb/tmp-skat/skat_mtx/intermediate_batches/neg_batch_623.mt. Skipping...\n",
      "Batch 624 with 10 VCFs exists in /mnt/sdb/tmp-skat/skat_mtx/intermediate_batches/neg_batch_624.mt. Skipping...\n",
      "Batch 625 with 10 VCFs exists in /mnt/sdb/tmp-skat/skat_mtx/intermediate_batches/neg_batch_625.mt. Skipping...\n",
      "Batch 626 with 10 VCFs exists in /mnt/sdb/tmp-skat/skat_mtx/intermediate_batches/neg_batch_626.mt. Skipping...\n",
      "Batch 627 with 10 VCFs exists in /mnt/sdb/tmp-skat/skat_mtx/intermediate_batches/neg_batch_627.mt. Skipping...\n",
      "Batch 628 with 10 VCFs exists in /mnt/sdb/tmp-skat/skat_mtx/intermediate_batches/neg_batch_628.mt. Skipping...\n",
      "Batch 629 with 10 VCFs exists in /mnt/sdb/tmp-skat/skat_mtx/intermediate_batches/neg_batch_629.mt. Skipping...\n",
      "Batch 630 with 10 VCFs exists in /mnt/sdb/tmp-skat/skat_mtx/intermediate_batches/neg_batch_630.mt. Skipping...\n",
      "Batch 631 with 10 VCFs exists in /mnt/sdb/tmp-skat/skat_mtx/intermediate_batches/neg_batch_631.mt. Skipping...\n",
      "Batch 632 with 10 VCFs exists in /mnt/sdb/tmp-skat/skat_mtx/intermediate_batches/neg_batch_632.mt. Skipping...\n",
      "Batch 633 with 10 VCFs exists in /mnt/sdb/tmp-skat/skat_mtx/intermediate_batches/neg_batch_633.mt. Skipping...\n",
      "Batch 634 with 10 VCFs exists in /mnt/sdb/tmp-skat/skat_mtx/intermediate_batches/neg_batch_634.mt. Skipping...\n",
      "Batch 635 with 10 VCFs exists in /mnt/sdb/tmp-skat/skat_mtx/intermediate_batches/neg_batch_635.mt. Skipping...\n",
      "Batch 636 with 10 VCFs exists in /mnt/sdb/tmp-skat/skat_mtx/intermediate_batches/neg_batch_636.mt. Skipping...\n",
      "Batch 637 with 10 VCFs exists in /mnt/sdb/tmp-skat/skat_mtx/intermediate_batches/neg_batch_637.mt. Skipping...\n",
      "Batch 638 with 10 VCFs exists in /mnt/sdb/tmp-skat/skat_mtx/intermediate_batches/neg_batch_638.mt. Skipping...\n",
      "Batch 639 with 10 VCFs exists in /mnt/sdb/tmp-skat/skat_mtx/intermediate_batches/neg_batch_639.mt. Skipping...\n",
      "Batch 640 with 10 VCFs exists in /mnt/sdb/tmp-skat/skat_mtx/intermediate_batches/neg_batch_640.mt. Skipping...\n",
      "Batch 641 with 10 VCFs exists in /mnt/sdb/tmp-skat/skat_mtx/intermediate_batches/neg_batch_641.mt. Skipping...\n",
      "Batch 642 with 10 VCFs exists in /mnt/sdb/tmp-skat/skat_mtx/intermediate_batches/neg_batch_642.mt. Skipping...\n",
      "Batch 643 with 10 VCFs exists in /mnt/sdb/tmp-skat/skat_mtx/intermediate_batches/neg_batch_643.mt. Skipping...\n",
      "Batch 644 with 10 VCFs exists in /mnt/sdb/tmp-skat/skat_mtx/intermediate_batches/neg_batch_644.mt. Skipping...\n",
      "Batch 645 with 10 VCFs exists in /mnt/sdb/tmp-skat/skat_mtx/intermediate_batches/neg_batch_645.mt. Skipping...\n",
      "Batch 646 with 10 VCFs exists in /mnt/sdb/tmp-skat/skat_mtx/intermediate_batches/neg_batch_646.mt. Skipping...\n",
      "Batch 647 with 10 VCFs exists in /mnt/sdb/tmp-skat/skat_mtx/intermediate_batches/neg_batch_647.mt. Skipping...\n",
      "Batch 648 with 10 VCFs exists in /mnt/sdb/tmp-skat/skat_mtx/intermediate_batches/neg_batch_648.mt. Skipping...\n",
      "Batch 649 with 10 VCFs exists in /mnt/sdb/tmp-skat/skat_mtx/intermediate_batches/neg_batch_649.mt. Skipping...\n",
      "Batch 650 with 10 VCFs exists in /mnt/sdb/tmp-skat/skat_mtx/intermediate_batches/neg_batch_650.mt. Skipping...\n",
      "Batch 651 with 10 VCFs exists in /mnt/sdb/tmp-skat/skat_mtx/intermediate_batches/neg_batch_651.mt. Skipping...\n",
      "Batch 652 with 10 VCFs exists in /mnt/sdb/tmp-skat/skat_mtx/intermediate_batches/neg_batch_652.mt. Skipping...\n",
      "Batch 653 with 10 VCFs exists in /mnt/sdb/tmp-skat/skat_mtx/intermediate_batches/neg_batch_653.mt. Skipping...\n",
      "Batch 654 with 10 VCFs exists in /mnt/sdb/tmp-skat/skat_mtx/intermediate_batches/neg_batch_654.mt. Skipping...\n",
      "Batch 655 with 10 VCFs exists in /mnt/sdb/tmp-skat/skat_mtx/intermediate_batches/neg_batch_655.mt. Skipping...\n",
      "Batch 656 with 10 VCFs exists in /mnt/sdb/tmp-skat/skat_mtx/intermediate_batches/neg_batch_656.mt. Skipping...\n",
      "Batch 657 with 10 VCFs exists in /mnt/sdb/tmp-skat/skat_mtx/intermediate_batches/neg_batch_657.mt. Skipping...\n",
      "Batch 658 with 10 VCFs exists in /mnt/sdb/tmp-skat/skat_mtx/intermediate_batches/neg_batch_658.mt. Skipping...\n",
      "Batch 659 with 10 VCFs exists in /mnt/sdb/tmp-skat/skat_mtx/intermediate_batches/neg_batch_659.mt. Skipping...\n",
      "Batch 660 with 10 VCFs exists in /mnt/sdb/tmp-skat/skat_mtx/intermediate_batches/neg_batch_660.mt. Skipping...\n",
      "Batch 661 with 10 VCFs exists in /mnt/sdb/tmp-skat/skat_mtx/intermediate_batches/neg_batch_661.mt. Skipping...\n",
      "Batch 662 with 10 VCFs exists in /mnt/sdb/tmp-skat/skat_mtx/intermediate_batches/neg_batch_662.mt. Skipping...\n",
      "Batch 663 with 10 VCFs exists in /mnt/sdb/tmp-skat/skat_mtx/intermediate_batches/neg_batch_663.mt. Skipping...\n",
      "Batch 664 with 10 VCFs exists in /mnt/sdb/tmp-skat/skat_mtx/intermediate_batches/neg_batch_664.mt. Skipping...\n",
      "Batch 665 with 10 VCFs exists in /mnt/sdb/tmp-skat/skat_mtx/intermediate_batches/neg_batch_665.mt. Skipping...\n",
      "Batch 666 with 10 VCFs exists in /mnt/sdb/tmp-skat/skat_mtx/intermediate_batches/neg_batch_666.mt. Skipping...\n",
      "Batch 667 with 10 VCFs exists in /mnt/sdb/tmp-skat/skat_mtx/intermediate_batches/neg_batch_667.mt. Skipping...\n",
      "Batch 668 with 10 VCFs exists in /mnt/sdb/tmp-skat/skat_mtx/intermediate_batches/neg_batch_668.mt. Skipping...\n",
      "Batch 669 with 10 VCFs exists in /mnt/sdb/tmp-skat/skat_mtx/intermediate_batches/neg_batch_669.mt. Skipping...\n",
      "Batch 670 with 10 VCFs exists in /mnt/sdb/tmp-skat/skat_mtx/intermediate_batches/neg_batch_670.mt. Skipping...\n",
      "Batch 671 with 10 VCFs exists in /mnt/sdb/tmp-skat/skat_mtx/intermediate_batches/neg_batch_671.mt. Skipping...\n",
      "Batch 672 with 10 VCFs exists in /mnt/sdb/tmp-skat/skat_mtx/intermediate_batches/neg_batch_672.mt. Skipping...\n",
      "Batch 673 with 10 VCFs exists in /mnt/sdb/tmp-skat/skat_mtx/intermediate_batches/neg_batch_673.mt. Skipping...\n",
      "Batch 674 with 10 VCFs exists in /mnt/sdb/tmp-skat/skat_mtx/intermediate_batches/neg_batch_674.mt. Skipping...\n",
      "Batch 675 with 10 VCFs exists in /mnt/sdb/tmp-skat/skat_mtx/intermediate_batches/neg_batch_675.mt. Skipping...\n",
      "Batch 676 with 10 VCFs exists in /mnt/sdb/tmp-skat/skat_mtx/intermediate_batches/neg_batch_676.mt. Skipping...\n",
      "Batch 677 with 10 VCFs exists in /mnt/sdb/tmp-skat/skat_mtx/intermediate_batches/neg_batch_677.mt. Skipping...\n",
      "Batch 678 with 10 VCFs exists in /mnt/sdb/tmp-skat/skat_mtx/intermediate_batches/neg_batch_678.mt. Skipping...\n",
      "Batch 679 with 10 VCFs exists in /mnt/sdb/tmp-skat/skat_mtx/intermediate_batches/neg_batch_679.mt. Skipping...\n",
      "Batch 680 with 10 VCFs exists in /mnt/sdb/tmp-skat/skat_mtx/intermediate_batches/neg_batch_680.mt. Skipping...\n",
      "Batch 681 with 10 VCFs exists in /mnt/sdb/tmp-skat/skat_mtx/intermediate_batches/neg_batch_681.mt. Skipping...\n",
      "Batch 682 with 10 VCFs exists in /mnt/sdb/tmp-skat/skat_mtx/intermediate_batches/neg_batch_682.mt. Skipping...\n",
      "Batch 683 with 10 VCFs exists in /mnt/sdb/tmp-skat/skat_mtx/intermediate_batches/neg_batch_683.mt. Skipping...\n",
      "Batch 684 with 10 VCFs exists in /mnt/sdb/tmp-skat/skat_mtx/intermediate_batches/neg_batch_684.mt. Skipping...\n",
      "Batch 685 with 10 VCFs exists in /mnt/sdb/tmp-skat/skat_mtx/intermediate_batches/neg_batch_685.mt. Skipping...\n",
      "Batch 686 with 10 VCFs exists in /mnt/sdb/tmp-skat/skat_mtx/intermediate_batches/neg_batch_686.mt. Skipping...\n",
      "Batch 687 with 10 VCFs exists in /mnt/sdb/tmp-skat/skat_mtx/intermediate_batches/neg_batch_687.mt. Skipping...\n",
      "Batch 688 with 10 VCFs exists in /mnt/sdb/tmp-skat/skat_mtx/intermediate_batches/neg_batch_688.mt. Skipping...\n",
      "Batch 689 with 10 VCFs exists in /mnt/sdb/tmp-skat/skat_mtx/intermediate_batches/neg_batch_689.mt. Skipping...\n",
      "Batch 690 with 10 VCFs exists in /mnt/sdb/tmp-skat/skat_mtx/intermediate_batches/neg_batch_690.mt. Skipping...\n",
      "Batch 691 with 10 VCFs exists in /mnt/sdb/tmp-skat/skat_mtx/intermediate_batches/neg_batch_691.mt. Skipping...\n",
      "Batch 692 with 10 VCFs exists in /mnt/sdb/tmp-skat/skat_mtx/intermediate_batches/neg_batch_692.mt. Skipping...\n",
      "Batch 693 with 10 VCFs exists in /mnt/sdb/tmp-skat/skat_mtx/intermediate_batches/neg_batch_693.mt. Skipping...\n",
      "Batch 694 with 10 VCFs exists in /mnt/sdb/tmp-skat/skat_mtx/intermediate_batches/neg_batch_694.mt. Skipping...\n",
      "Batch 695 with 10 VCFs exists in /mnt/sdb/tmp-skat/skat_mtx/intermediate_batches/neg_batch_695.mt. Skipping...\n",
      "Batch 696 with 10 VCFs exists in /mnt/sdb/tmp-skat/skat_mtx/intermediate_batches/neg_batch_696.mt. Skipping...\n",
      "Batch 697 with 10 VCFs exists in /mnt/sdb/tmp-skat/skat_mtx/intermediate_batches/neg_batch_697.mt. Skipping...\n",
      "Batch 698 with 10 VCFs exists in /mnt/sdb/tmp-skat/skat_mtx/intermediate_batches/neg_batch_698.mt. Skipping...\n",
      "Batch 699 with 10 VCFs exists in /mnt/sdb/tmp-skat/skat_mtx/intermediate_batches/neg_batch_699.mt. Skipping...\n",
      "Batch 700 with 10 VCFs exists in /mnt/sdb/tmp-skat/skat_mtx/intermediate_batches/neg_batch_700.mt. Skipping...\n",
      "Batch 701 with 10 VCFs exists in /mnt/sdb/tmp-skat/skat_mtx/intermediate_batches/neg_batch_701.mt. Skipping...\n",
      "Batch 702 with 10 VCFs exists in /mnt/sdb/tmp-skat/skat_mtx/intermediate_batches/neg_batch_702.mt. Skipping...\n",
      "Batch 703 with 10 VCFs exists in /mnt/sdb/tmp-skat/skat_mtx/intermediate_batches/neg_batch_703.mt. Skipping...\n",
      "Batch 704 with 10 VCFs exists in /mnt/sdb/tmp-skat/skat_mtx/intermediate_batches/neg_batch_704.mt. Skipping...\n",
      "Batch 705 with 10 VCFs exists in /mnt/sdb/tmp-skat/skat_mtx/intermediate_batches/neg_batch_705.mt. Skipping...\n",
      "Batch 706 with 10 VCFs exists in /mnt/sdb/tmp-skat/skat_mtx/intermediate_batches/neg_batch_706.mt. Skipping...\n",
      "Batch 707 with 10 VCFs exists in /mnt/sdb/tmp-skat/skat_mtx/intermediate_batches/neg_batch_707.mt. Skipping...\n",
      "Batch 708 with 10 VCFs exists in /mnt/sdb/tmp-skat/skat_mtx/intermediate_batches/neg_batch_708.mt. Skipping...\n",
      "Batch 709 with 10 VCFs exists in /mnt/sdb/tmp-skat/skat_mtx/intermediate_batches/neg_batch_709.mt. Skipping...\n",
      "Batch 710 with 10 VCFs exists in /mnt/sdb/tmp-skat/skat_mtx/intermediate_batches/neg_batch_710.mt. Skipping...\n",
      "Batch 711 with 10 VCFs exists in /mnt/sdb/tmp-skat/skat_mtx/intermediate_batches/neg_batch_711.mt. Skipping...\n",
      "Batch 712 with 10 VCFs exists in /mnt/sdb/tmp-skat/skat_mtx/intermediate_batches/neg_batch_712.mt. Skipping...\n",
      "Batch 713 with 10 VCFs exists in /mnt/sdb/tmp-skat/skat_mtx/intermediate_batches/neg_batch_713.mt. Skipping...\n",
      "Batch 714 with 10 VCFs exists in /mnt/sdb/tmp-skat/skat_mtx/intermediate_batches/neg_batch_714.mt. Skipping...\n",
      "Batch 715 with 10 VCFs exists in /mnt/sdb/tmp-skat/skat_mtx/intermediate_batches/neg_batch_715.mt. Skipping...\n",
      "Batch 716 with 10 VCFs exists in /mnt/sdb/tmp-skat/skat_mtx/intermediate_batches/neg_batch_716.mt. Skipping...\n",
      "Batch 717 with 10 VCFs exists in /mnt/sdb/tmp-skat/skat_mtx/intermediate_batches/neg_batch_717.mt. Skipping...\n",
      "Batch 718 with 10 VCFs exists in /mnt/sdb/tmp-skat/skat_mtx/intermediate_batches/neg_batch_718.mt. Skipping...\n",
      "Batch 719 with 10 VCFs exists in /mnt/sdb/tmp-skat/skat_mtx/intermediate_batches/neg_batch_719.mt. Skipping...\n",
      "Batch 720 with 10 VCFs exists in /mnt/sdb/tmp-skat/skat_mtx/intermediate_batches/neg_batch_720.mt. Skipping...\n",
      "Batch 721 with 10 VCFs exists in /mnt/sdb/tmp-skat/skat_mtx/intermediate_batches/neg_batch_721.mt. Skipping...\n",
      "Batch 722 with 10 VCFs exists in /mnt/sdb/tmp-skat/skat_mtx/intermediate_batches/neg_batch_722.mt. Skipping...\n",
      "Batch 723 with 10 VCFs exists in /mnt/sdb/tmp-skat/skat_mtx/intermediate_batches/neg_batch_723.mt. Skipping...\n",
      "Batch 724 with 10 VCFs exists in /mnt/sdb/tmp-skat/skat_mtx/intermediate_batches/neg_batch_724.mt. Skipping...\n",
      "Batch 725 with 10 VCFs exists in /mnt/sdb/tmp-skat/skat_mtx/intermediate_batches/neg_batch_725.mt. Skipping...\n",
      "Batch 726 with 10 VCFs exists in /mnt/sdb/tmp-skat/skat_mtx/intermediate_batches/neg_batch_726.mt. Skipping...\n",
      "Batch 727 with 10 VCFs exists in /mnt/sdb/tmp-skat/skat_mtx/intermediate_batches/neg_batch_727.mt. Skipping...\n",
      "Batch 728 with 10 VCFs exists in /mnt/sdb/tmp-skat/skat_mtx/intermediate_batches/neg_batch_728.mt. Skipping...\n",
      "Batch 729 with 10 VCFs exists in /mnt/sdb/tmp-skat/skat_mtx/intermediate_batches/neg_batch_729.mt. Skipping...\n",
      "Batch 730 with 10 VCFs exists in /mnt/sdb/tmp-skat/skat_mtx/intermediate_batches/neg_batch_730.mt. Skipping...\n",
      "Batch 731 with 10 VCFs exists in /mnt/sdb/tmp-skat/skat_mtx/intermediate_batches/neg_batch_731.mt. Skipping...\n",
      "Batch 732 with 10 VCFs exists in /mnt/sdb/tmp-skat/skat_mtx/intermediate_batches/neg_batch_732.mt. Skipping...\n",
      "Batch 733 with 10 VCFs exists in /mnt/sdb/tmp-skat/skat_mtx/intermediate_batches/neg_batch_733.mt. Skipping...\n",
      "Batch 734 with 10 VCFs exists in /mnt/sdb/tmp-skat/skat_mtx/intermediate_batches/neg_batch_734.mt. Skipping...\n",
      "Batch 735 with 10 VCFs exists in /mnt/sdb/tmp-skat/skat_mtx/intermediate_batches/neg_batch_735.mt. Skipping...\n",
      "Batch 736 with 10 VCFs exists in /mnt/sdb/tmp-skat/skat_mtx/intermediate_batches/neg_batch_736.mt. Skipping...\n",
      "Batch 737 with 10 VCFs exists in /mnt/sdb/tmp-skat/skat_mtx/intermediate_batches/neg_batch_737.mt. Skipping...\n",
      "Batch 738 with 10 VCFs exists in /mnt/sdb/tmp-skat/skat_mtx/intermediate_batches/neg_batch_738.mt. Skipping...\n",
      "Batch 739 with 10 VCFs exists in /mnt/sdb/tmp-skat/skat_mtx/intermediate_batches/neg_batch_739.mt. Skipping...\n",
      "Batch 740 with 10 VCFs exists in /mnt/sdb/tmp-skat/skat_mtx/intermediate_batches/neg_batch_740.mt. Skipping...\n",
      "Batch 741 with 10 VCFs exists in /mnt/sdb/tmp-skat/skat_mtx/intermediate_batches/neg_batch_741.mt. Skipping...\n",
      "Batch 742 with 10 VCFs exists in /mnt/sdb/tmp-skat/skat_mtx/intermediate_batches/neg_batch_742.mt. Skipping...\n",
      "Batch 743 with 10 VCFs exists in /mnt/sdb/tmp-skat/skat_mtx/intermediate_batches/neg_batch_743.mt. Skipping...\n",
      "Batch 744 with 10 VCFs exists in /mnt/sdb/tmp-skat/skat_mtx/intermediate_batches/neg_batch_744.mt. Skipping...\n",
      "Batch 745 with 10 VCFs exists in /mnt/sdb/tmp-skat/skat_mtx/intermediate_batches/neg_batch_745.mt. Skipping...\n",
      "Batch 746 with 10 VCFs exists in /mnt/sdb/tmp-skat/skat_mtx/intermediate_batches/neg_batch_746.mt. Skipping...\n",
      "Batch 747 with 10 VCFs exists in /mnt/sdb/tmp-skat/skat_mtx/intermediate_batches/neg_batch_747.mt. Skipping...\n",
      "Batch 748 with 10 VCFs exists in /mnt/sdb/tmp-skat/skat_mtx/intermediate_batches/neg_batch_748.mt. Skipping...\n",
      "Batch 749 with 10 VCFs exists in /mnt/sdb/tmp-skat/skat_mtx/intermediate_batches/neg_batch_749.mt. Skipping...\n",
      "Batch 750 with 10 VCFs exists in /mnt/sdb/tmp-skat/skat_mtx/intermediate_batches/neg_batch_750.mt. Skipping...\n",
      "Batch 751 with 10 VCFs exists in /mnt/sdb/tmp-skat/skat_mtx/intermediate_batches/neg_batch_751.mt. Skipping...\n",
      "Batch 752 with 10 VCFs exists in /mnt/sdb/tmp-skat/skat_mtx/intermediate_batches/neg_batch_752.mt. Skipping...\n",
      "Batch 753 with 10 VCFs exists in /mnt/sdb/tmp-skat/skat_mtx/intermediate_batches/neg_batch_753.mt. Skipping...\n",
      "Batch 754 with 10 VCFs exists in /mnt/sdb/tmp-skat/skat_mtx/intermediate_batches/neg_batch_754.mt. Skipping...\n",
      "Batch 755 with 10 VCFs exists in /mnt/sdb/tmp-skat/skat_mtx/intermediate_batches/neg_batch_755.mt. Skipping...\n",
      "Batch 756 with 10 VCFs exists in /mnt/sdb/tmp-skat/skat_mtx/intermediate_batches/neg_batch_756.mt. Skipping...\n",
      "Batch 757 with 10 VCFs exists in /mnt/sdb/tmp-skat/skat_mtx/intermediate_batches/neg_batch_757.mt. Skipping...\n",
      "Batch 758 with 10 VCFs exists in /mnt/sdb/tmp-skat/skat_mtx/intermediate_batches/neg_batch_758.mt. Skipping...\n",
      "Batch 759 with 10 VCFs exists in /mnt/sdb/tmp-skat/skat_mtx/intermediate_batches/neg_batch_759.mt. Skipping...\n",
      "Batch 760 with 10 VCFs exists in /mnt/sdb/tmp-skat/skat_mtx/intermediate_batches/neg_batch_760.mt. Skipping...\n",
      "Batch 761 with 10 VCFs exists in /mnt/sdb/tmp-skat/skat_mtx/intermediate_batches/neg_batch_761.mt. Skipping...\n",
      "Batch 762 with 10 VCFs exists in /mnt/sdb/tmp-skat/skat_mtx/intermediate_batches/neg_batch_762.mt. Skipping...\n",
      "Batch 763 with 10 VCFs exists in /mnt/sdb/tmp-skat/skat_mtx/intermediate_batches/neg_batch_763.mt. Skipping...\n",
      "Batch 764 with 10 VCFs exists in /mnt/sdb/tmp-skat/skat_mtx/intermediate_batches/neg_batch_764.mt. Skipping...\n",
      "Batch 765 with 10 VCFs exists in /mnt/sdb/tmp-skat/skat_mtx/intermediate_batches/neg_batch_765.mt. Skipping...\n",
      "Batch 766 with 10 VCFs exists in /mnt/sdb/tmp-skat/skat_mtx/intermediate_batches/neg_batch_766.mt. Skipping...\n",
      "Batch 767 with 10 VCFs exists in /mnt/sdb/tmp-skat/skat_mtx/intermediate_batches/neg_batch_767.mt. Skipping...\n"
     ]
    },
    {
     "name": "stderr",
     "output_type": "stream",
     "text": [
      "SLF4J: Failed to load class \"org.slf4j.impl.StaticMDCBinder\".\n",
      "SLF4J: Defaulting to no-operation MDCAdapter implementation.\n",
      "SLF4J: See http://www.slf4j.org/codes.html#no_static_mdc_binder for further details.\n",
      "                                                                                \r"
     ]
    },
    {
     "name": "stdout",
     "output_type": "stream",
     "text": [
      "Saved batch 768 with 10 VCFs to /mnt/sdb/tmp-skat/skat_mtx/intermediate_batches/neg_batch_768.mt\n"
     ]
    },
    {
     "name": "stderr",
     "output_type": "stream",
     "text": [
      "                                                                                \r"
     ]
    },
    {
     "name": "stdout",
     "output_type": "stream",
     "text": [
      "Saved batch 769 with 10 VCFs to /mnt/sdb/tmp-skat/skat_mtx/intermediate_batches/neg_batch_769.mt\n"
     ]
    },
    {
     "name": "stderr",
     "output_type": "stream",
     "text": [
      "                                                                                \r"
     ]
    },
    {
     "name": "stdout",
     "output_type": "stream",
     "text": [
      "Saved batch 770 with 10 VCFs to /mnt/sdb/tmp-skat/skat_mtx/intermediate_batches/neg_batch_770.mt\n"
     ]
    },
    {
     "name": "stderr",
     "output_type": "stream",
     "text": [
      "                                                                                \r"
     ]
    },
    {
     "name": "stdout",
     "output_type": "stream",
     "text": [
      "Saved batch 771 with 10 VCFs to /mnt/sdb/tmp-skat/skat_mtx/intermediate_batches/neg_batch_771.mt\n"
     ]
    },
    {
     "name": "stderr",
     "output_type": "stream",
     "text": [
      "                                                                                \r"
     ]
    },
    {
     "name": "stdout",
     "output_type": "stream",
     "text": [
      "Saved batch 772 with 10 VCFs to /mnt/sdb/tmp-skat/skat_mtx/intermediate_batches/neg_batch_772.mt\n"
     ]
    },
    {
     "name": "stderr",
     "output_type": "stream",
     "text": [
      "                                                                                \r"
     ]
    },
    {
     "name": "stdout",
     "output_type": "stream",
     "text": [
      "Saved batch 773 with 10 VCFs to /mnt/sdb/tmp-skat/skat_mtx/intermediate_batches/neg_batch_773.mt\n"
     ]
    },
    {
     "name": "stderr",
     "output_type": "stream",
     "text": [
      "                                                                                \r"
     ]
    },
    {
     "name": "stdout",
     "output_type": "stream",
     "text": [
      "Saved batch 774 with 10 VCFs to /mnt/sdb/tmp-skat/skat_mtx/intermediate_batches/neg_batch_774.mt\n"
     ]
    },
    {
     "name": "stderr",
     "output_type": "stream",
     "text": [
      "                                                                                \r"
     ]
    },
    {
     "name": "stdout",
     "output_type": "stream",
     "text": [
      "Saved batch 775 with 10 VCFs to /mnt/sdb/tmp-skat/skat_mtx/intermediate_batches/neg_batch_775.mt\n"
     ]
    },
    {
     "name": "stderr",
     "output_type": "stream",
     "text": [
      "                                                                                \r"
     ]
    },
    {
     "name": "stdout",
     "output_type": "stream",
     "text": [
      "Saved batch 776 with 10 VCFs to /mnt/sdb/tmp-skat/skat_mtx/intermediate_batches/neg_batch_776.mt\n"
     ]
    },
    {
     "name": "stderr",
     "output_type": "stream",
     "text": [
      "                                                                                \r"
     ]
    },
    {
     "name": "stdout",
     "output_type": "stream",
     "text": [
      "Saved batch 777 with 10 VCFs to /mnt/sdb/tmp-skat/skat_mtx/intermediate_batches/neg_batch_777.mt\n"
     ]
    },
    {
     "name": "stderr",
     "output_type": "stream",
     "text": [
      "                                                                                \r"
     ]
    },
    {
     "name": "stdout",
     "output_type": "stream",
     "text": [
      "Saved batch 778 with 10 VCFs to /mnt/sdb/tmp-skat/skat_mtx/intermediate_batches/neg_batch_778.mt\n"
     ]
    },
    {
     "name": "stderr",
     "output_type": "stream",
     "text": [
      "                                                                                \r"
     ]
    },
    {
     "name": "stdout",
     "output_type": "stream",
     "text": [
      "Saved batch 779 with 10 VCFs to /mnt/sdb/tmp-skat/skat_mtx/intermediate_batches/neg_batch_779.mt\n"
     ]
    },
    {
     "name": "stderr",
     "output_type": "stream",
     "text": [
      "                                                                                \r"
     ]
    },
    {
     "name": "stdout",
     "output_type": "stream",
     "text": [
      "Saved batch 780 with 10 VCFs to /mnt/sdb/tmp-skat/skat_mtx/intermediate_batches/neg_batch_780.mt\n"
     ]
    },
    {
     "name": "stderr",
     "output_type": "stream",
     "text": [
      "                                                                                \r"
     ]
    },
    {
     "name": "stdout",
     "output_type": "stream",
     "text": [
      "Saved batch 781 with 10 VCFs to /mnt/sdb/tmp-skat/skat_mtx/intermediate_batches/neg_batch_781.mt\n"
     ]
    },
    {
     "name": "stderr",
     "output_type": "stream",
     "text": [
      "                                                                                \r"
     ]
    },
    {
     "name": "stdout",
     "output_type": "stream",
     "text": [
      "Saved batch 782 with 10 VCFs to /mnt/sdb/tmp-skat/skat_mtx/intermediate_batches/neg_batch_782.mt\n"
     ]
    },
    {
     "name": "stderr",
     "output_type": "stream",
     "text": [
      "                                                                                \r"
     ]
    },
    {
     "name": "stdout",
     "output_type": "stream",
     "text": [
      "Saved batch 783 with 10 VCFs to /mnt/sdb/tmp-skat/skat_mtx/intermediate_batches/neg_batch_783.mt\n"
     ]
    },
    {
     "name": "stderr",
     "output_type": "stream",
     "text": [
      "                                                                                \r"
     ]
    },
    {
     "name": "stdout",
     "output_type": "stream",
     "text": [
      "Saved batch 784 with 10 VCFs to /mnt/sdb/tmp-skat/skat_mtx/intermediate_batches/neg_batch_784.mt\n"
     ]
    },
    {
     "name": "stderr",
     "output_type": "stream",
     "text": [
      "                                                                                \r"
     ]
    },
    {
     "name": "stdout",
     "output_type": "stream",
     "text": [
      "Saved batch 785 with 10 VCFs to /mnt/sdb/tmp-skat/skat_mtx/intermediate_batches/neg_batch_785.mt\n"
     ]
    },
    {
     "name": "stderr",
     "output_type": "stream",
     "text": [
      "                                                                                \r"
     ]
    },
    {
     "name": "stdout",
     "output_type": "stream",
     "text": [
      "Saved batch 786 with 10 VCFs to /mnt/sdb/tmp-skat/skat_mtx/intermediate_batches/neg_batch_786.mt\n"
     ]
    },
    {
     "name": "stderr",
     "output_type": "stream",
     "text": [
      "                                                                                \r"
     ]
    },
    {
     "name": "stdout",
     "output_type": "stream",
     "text": [
      "Saved batch 787 with 10 VCFs to /mnt/sdb/tmp-skat/skat_mtx/intermediate_batches/neg_batch_787.mt\n"
     ]
    },
    {
     "name": "stderr",
     "output_type": "stream",
     "text": [
      "                                                                                \r"
     ]
    },
    {
     "name": "stdout",
     "output_type": "stream",
     "text": [
      "Saved batch 788 with 10 VCFs to /mnt/sdb/tmp-skat/skat_mtx/intermediate_batches/neg_batch_788.mt\n"
     ]
    },
    {
     "name": "stderr",
     "output_type": "stream",
     "text": [
      "                                                                                \r"
     ]
    },
    {
     "name": "stdout",
     "output_type": "stream",
     "text": [
      "Saved batch 789 with 10 VCFs to /mnt/sdb/tmp-skat/skat_mtx/intermediate_batches/neg_batch_789.mt\n"
     ]
    },
    {
     "name": "stderr",
     "output_type": "stream",
     "text": [
      "                                                                                \r"
     ]
    },
    {
     "name": "stdout",
     "output_type": "stream",
     "text": [
      "Saved batch 790 with 10 VCFs to /mnt/sdb/tmp-skat/skat_mtx/intermediate_batches/neg_batch_790.mt\n"
     ]
    },
    {
     "name": "stderr",
     "output_type": "stream",
     "text": [
      "                                                                                \r"
     ]
    },
    {
     "name": "stdout",
     "output_type": "stream",
     "text": [
      "Saved batch 791 with 10 VCFs to /mnt/sdb/tmp-skat/skat_mtx/intermediate_batches/neg_batch_791.mt\n"
     ]
    },
    {
     "name": "stderr",
     "output_type": "stream",
     "text": [
      "                                                                                \r"
     ]
    },
    {
     "name": "stdout",
     "output_type": "stream",
     "text": [
      "Saved batch 792 with 10 VCFs to /mnt/sdb/tmp-skat/skat_mtx/intermediate_batches/neg_batch_792.mt\n"
     ]
    },
    {
     "name": "stderr",
     "output_type": "stream",
     "text": [
      "                                                                                \r"
     ]
    },
    {
     "name": "stdout",
     "output_type": "stream",
     "text": [
      "Saved batch 793 with 10 VCFs to /mnt/sdb/tmp-skat/skat_mtx/intermediate_batches/neg_batch_793.mt\n"
     ]
    },
    {
     "name": "stderr",
     "output_type": "stream",
     "text": [
      "                                                                                \r"
     ]
    },
    {
     "name": "stdout",
     "output_type": "stream",
     "text": [
      "Saved batch 794 with 10 VCFs to /mnt/sdb/tmp-skat/skat_mtx/intermediate_batches/neg_batch_794.mt\n"
     ]
    },
    {
     "name": "stderr",
     "output_type": "stream",
     "text": [
      "                                                                                \r"
     ]
    },
    {
     "name": "stdout",
     "output_type": "stream",
     "text": [
      "Saved batch 795 with 10 VCFs to /mnt/sdb/tmp-skat/skat_mtx/intermediate_batches/neg_batch_795.mt\n"
     ]
    },
    {
     "name": "stderr",
     "output_type": "stream",
     "text": [
      "                                                                                \r"
     ]
    },
    {
     "name": "stdout",
     "output_type": "stream",
     "text": [
      "Saved batch 796 with 10 VCFs to /mnt/sdb/tmp-skat/skat_mtx/intermediate_batches/neg_batch_796.mt\n"
     ]
    },
    {
     "name": "stderr",
     "output_type": "stream",
     "text": [
      "                                                                                \r"
     ]
    },
    {
     "name": "stdout",
     "output_type": "stream",
     "text": [
      "Saved batch 797 with 10 VCFs to /mnt/sdb/tmp-skat/skat_mtx/intermediate_batches/neg_batch_797.mt\n"
     ]
    },
    {
     "name": "stderr",
     "output_type": "stream",
     "text": [
      "                                                                                \r"
     ]
    },
    {
     "name": "stdout",
     "output_type": "stream",
     "text": [
      "Saved batch 798 with 10 VCFs to /mnt/sdb/tmp-skat/skat_mtx/intermediate_batches/neg_batch_798.mt\n"
     ]
    },
    {
     "name": "stderr",
     "output_type": "stream",
     "text": [
      "                                                                                \r"
     ]
    },
    {
     "name": "stdout",
     "output_type": "stream",
     "text": [
      "Saved batch 799 with 10 VCFs to /mnt/sdb/tmp-skat/skat_mtx/intermediate_batches/neg_batch_799.mt\n"
     ]
    },
    {
     "name": "stderr",
     "output_type": "stream",
     "text": [
      "                                                                                \r"
     ]
    },
    {
     "name": "stdout",
     "output_type": "stream",
     "text": [
      "Saved batch 800 with 10 VCFs to /mnt/sdb/tmp-skat/skat_mtx/intermediate_batches/neg_batch_800.mt\n"
     ]
    },
    {
     "name": "stderr",
     "output_type": "stream",
     "text": [
      "                                                                                \r"
     ]
    },
    {
     "name": "stdout",
     "output_type": "stream",
     "text": [
      "Saved batch 801 with 10 VCFs to /mnt/sdb/tmp-skat/skat_mtx/intermediate_batches/neg_batch_801.mt\n"
     ]
    },
    {
     "name": "stderr",
     "output_type": "stream",
     "text": [
      "                                                                                \r"
     ]
    },
    {
     "name": "stdout",
     "output_type": "stream",
     "text": [
      "Saved batch 802 with 10 VCFs to /mnt/sdb/tmp-skat/skat_mtx/intermediate_batches/neg_batch_802.mt\n"
     ]
    },
    {
     "name": "stderr",
     "output_type": "stream",
     "text": [
      "                                                                                \r"
     ]
    },
    {
     "name": "stdout",
     "output_type": "stream",
     "text": [
      "Saved batch 803 with 10 VCFs to /mnt/sdb/tmp-skat/skat_mtx/intermediate_batches/neg_batch_803.mt\n"
     ]
    },
    {
     "name": "stderr",
     "output_type": "stream",
     "text": [
      "                                                                                \r"
     ]
    },
    {
     "name": "stdout",
     "output_type": "stream",
     "text": [
      "Saved batch 804 with 10 VCFs to /mnt/sdb/tmp-skat/skat_mtx/intermediate_batches/neg_batch_804.mt\n"
     ]
    },
    {
     "name": "stderr",
     "output_type": "stream",
     "text": [
      "                                                                                \r"
     ]
    },
    {
     "name": "stdout",
     "output_type": "stream",
     "text": [
      "Saved batch 805 with 10 VCFs to /mnt/sdb/tmp-skat/skat_mtx/intermediate_batches/neg_batch_805.mt\n"
     ]
    },
    {
     "name": "stderr",
     "output_type": "stream",
     "text": [
      "                                                                                \r"
     ]
    },
    {
     "name": "stdout",
     "output_type": "stream",
     "text": [
      "Saved batch 806 with 10 VCFs to /mnt/sdb/tmp-skat/skat_mtx/intermediate_batches/neg_batch_806.mt\n"
     ]
    },
    {
     "name": "stderr",
     "output_type": "stream",
     "text": [
      "                                                                                \r"
     ]
    },
    {
     "name": "stdout",
     "output_type": "stream",
     "text": [
      "Saved batch 807 with 10 VCFs to /mnt/sdb/tmp-skat/skat_mtx/intermediate_batches/neg_batch_807.mt\n"
     ]
    },
    {
     "name": "stderr",
     "output_type": "stream",
     "text": [
      "                                                                                \r"
     ]
    },
    {
     "name": "stdout",
     "output_type": "stream",
     "text": [
      "Saved batch 808 with 10 VCFs to /mnt/sdb/tmp-skat/skat_mtx/intermediate_batches/neg_batch_808.mt\n"
     ]
    },
    {
     "name": "stderr",
     "output_type": "stream",
     "text": [
      "                                                                                \r"
     ]
    },
    {
     "name": "stdout",
     "output_type": "stream",
     "text": [
      "Saved batch 809 with 10 VCFs to /mnt/sdb/tmp-skat/skat_mtx/intermediate_batches/neg_batch_809.mt\n"
     ]
    },
    {
     "name": "stderr",
     "output_type": "stream",
     "text": [
      "                                                                                \r"
     ]
    },
    {
     "name": "stdout",
     "output_type": "stream",
     "text": [
      "Saved batch 810 with 10 VCFs to /mnt/sdb/tmp-skat/skat_mtx/intermediate_batches/neg_batch_810.mt\n"
     ]
    },
    {
     "name": "stderr",
     "output_type": "stream",
     "text": [
      "                                                                                \r"
     ]
    },
    {
     "name": "stdout",
     "output_type": "stream",
     "text": [
      "Saved batch 811 with 10 VCFs to /mnt/sdb/tmp-skat/skat_mtx/intermediate_batches/neg_batch_811.mt\n"
     ]
    },
    {
     "name": "stderr",
     "output_type": "stream",
     "text": [
      "                                                                                \r"
     ]
    },
    {
     "name": "stdout",
     "output_type": "stream",
     "text": [
      "Saved batch 812 with 10 VCFs to /mnt/sdb/tmp-skat/skat_mtx/intermediate_batches/neg_batch_812.mt\n"
     ]
    },
    {
     "name": "stderr",
     "output_type": "stream",
     "text": [
      "                                                                                \r"
     ]
    },
    {
     "name": "stdout",
     "output_type": "stream",
     "text": [
      "Saved batch 813 with 10 VCFs to /mnt/sdb/tmp-skat/skat_mtx/intermediate_batches/neg_batch_813.mt\n"
     ]
    },
    {
     "name": "stderr",
     "output_type": "stream",
     "text": [
      "                                                                                \r"
     ]
    },
    {
     "name": "stdout",
     "output_type": "stream",
     "text": [
      "Saved batch 814 with 10 VCFs to /mnt/sdb/tmp-skat/skat_mtx/intermediate_batches/neg_batch_814.mt\n"
     ]
    },
    {
     "name": "stderr",
     "output_type": "stream",
     "text": [
      "                                                                                \r"
     ]
    },
    {
     "name": "stdout",
     "output_type": "stream",
     "text": [
      "Saved batch 815 with 10 VCFs to /mnt/sdb/tmp-skat/skat_mtx/intermediate_batches/neg_batch_815.mt\n"
     ]
    },
    {
     "name": "stderr",
     "output_type": "stream",
     "text": [
      "                                                                                \r"
     ]
    },
    {
     "name": "stdout",
     "output_type": "stream",
     "text": [
      "Saved batch 816 with 10 VCFs to /mnt/sdb/tmp-skat/skat_mtx/intermediate_batches/neg_batch_816.mt\n"
     ]
    },
    {
     "name": "stderr",
     "output_type": "stream",
     "text": [
      "                                                                                \r"
     ]
    },
    {
     "name": "stdout",
     "output_type": "stream",
     "text": [
      "Saved batch 817 with 10 VCFs to /mnt/sdb/tmp-skat/skat_mtx/intermediate_batches/neg_batch_817.mt\n"
     ]
    },
    {
     "name": "stderr",
     "output_type": "stream",
     "text": [
      "                                                                                \r"
     ]
    },
    {
     "name": "stdout",
     "output_type": "stream",
     "text": [
      "Saved batch 818 with 10 VCFs to /mnt/sdb/tmp-skat/skat_mtx/intermediate_batches/neg_batch_818.mt\n"
     ]
    },
    {
     "name": "stderr",
     "output_type": "stream",
     "text": [
      "                                                                                \r"
     ]
    },
    {
     "name": "stdout",
     "output_type": "stream",
     "text": [
      "Saved batch 819 with 10 VCFs to /mnt/sdb/tmp-skat/skat_mtx/intermediate_batches/neg_batch_819.mt\n"
     ]
    },
    {
     "name": "stderr",
     "output_type": "stream",
     "text": [
      "                                                                                \r"
     ]
    },
    {
     "name": "stdout",
     "output_type": "stream",
     "text": [
      "Saved batch 820 with 10 VCFs to /mnt/sdb/tmp-skat/skat_mtx/intermediate_batches/neg_batch_820.mt\n"
     ]
    },
    {
     "name": "stderr",
     "output_type": "stream",
     "text": [
      "                                                                                \r"
     ]
    },
    {
     "name": "stdout",
     "output_type": "stream",
     "text": [
      "Saved batch 821 with 10 VCFs to /mnt/sdb/tmp-skat/skat_mtx/intermediate_batches/neg_batch_821.mt\n"
     ]
    },
    {
     "name": "stderr",
     "output_type": "stream",
     "text": [
      "                                                                                \r"
     ]
    },
    {
     "name": "stdout",
     "output_type": "stream",
     "text": [
      "Saved batch 822 with 10 VCFs to /mnt/sdb/tmp-skat/skat_mtx/intermediate_batches/neg_batch_822.mt\n"
     ]
    },
    {
     "name": "stderr",
     "output_type": "stream",
     "text": [
      "                                                                                \r"
     ]
    },
    {
     "name": "stdout",
     "output_type": "stream",
     "text": [
      "Saved batch 823 with 10 VCFs to /mnt/sdb/tmp-skat/skat_mtx/intermediate_batches/neg_batch_823.mt\n"
     ]
    },
    {
     "name": "stderr",
     "output_type": "stream",
     "text": [
      "                                                                                \r"
     ]
    },
    {
     "name": "stdout",
     "output_type": "stream",
     "text": [
      "Saved batch 824 with 10 VCFs to /mnt/sdb/tmp-skat/skat_mtx/intermediate_batches/neg_batch_824.mt\n"
     ]
    },
    {
     "name": "stderr",
     "output_type": "stream",
     "text": [
      "                                                                                \r"
     ]
    },
    {
     "name": "stdout",
     "output_type": "stream",
     "text": [
      "Saved batch 825 with 10 VCFs to /mnt/sdb/tmp-skat/skat_mtx/intermediate_batches/neg_batch_825.mt\n"
     ]
    },
    {
     "name": "stderr",
     "output_type": "stream",
     "text": [
      "                                                                                \r"
     ]
    },
    {
     "name": "stdout",
     "output_type": "stream",
     "text": [
      "Saved batch 826 with 10 VCFs to /mnt/sdb/tmp-skat/skat_mtx/intermediate_batches/neg_batch_826.mt\n"
     ]
    },
    {
     "name": "stderr",
     "output_type": "stream",
     "text": [
      "                                                                                \r"
     ]
    },
    {
     "name": "stdout",
     "output_type": "stream",
     "text": [
      "Saved batch 827 with 10 VCFs to /mnt/sdb/tmp-skat/skat_mtx/intermediate_batches/neg_batch_827.mt\n"
     ]
    },
    {
     "name": "stderr",
     "output_type": "stream",
     "text": [
      "                                                                                \r"
     ]
    },
    {
     "name": "stdout",
     "output_type": "stream",
     "text": [
      "Saved batch 828 with 10 VCFs to /mnt/sdb/tmp-skat/skat_mtx/intermediate_batches/neg_batch_828.mt\n"
     ]
    },
    {
     "name": "stderr",
     "output_type": "stream",
     "text": [
      "                                                                                \r"
     ]
    },
    {
     "name": "stdout",
     "output_type": "stream",
     "text": [
      "Saved batch 829 with 10 VCFs to /mnt/sdb/tmp-skat/skat_mtx/intermediate_batches/neg_batch_829.mt\n"
     ]
    },
    {
     "name": "stderr",
     "output_type": "stream",
     "text": [
      "                                                                                \r"
     ]
    },
    {
     "name": "stdout",
     "output_type": "stream",
     "text": [
      "Saved batch 830 with 10 VCFs to /mnt/sdb/tmp-skat/skat_mtx/intermediate_batches/neg_batch_830.mt\n"
     ]
    },
    {
     "name": "stderr",
     "output_type": "stream",
     "text": [
      "                                                                                \r"
     ]
    },
    {
     "name": "stdout",
     "output_type": "stream",
     "text": [
      "Saved batch 831 with 10 VCFs to /mnt/sdb/tmp-skat/skat_mtx/intermediate_batches/neg_batch_831.mt\n"
     ]
    },
    {
     "name": "stderr",
     "output_type": "stream",
     "text": [
      "                                                                                \r"
     ]
    },
    {
     "name": "stdout",
     "output_type": "stream",
     "text": [
      "Saved batch 832 with 10 VCFs to /mnt/sdb/tmp-skat/skat_mtx/intermediate_batches/neg_batch_832.mt\n"
     ]
    },
    {
     "name": "stderr",
     "output_type": "stream",
     "text": [
      "                                                                                \r"
     ]
    },
    {
     "name": "stdout",
     "output_type": "stream",
     "text": [
      "Saved batch 833 with 10 VCFs to /mnt/sdb/tmp-skat/skat_mtx/intermediate_batches/neg_batch_833.mt\n"
     ]
    },
    {
     "name": "stderr",
     "output_type": "stream",
     "text": [
      "                                                                                \r"
     ]
    },
    {
     "name": "stdout",
     "output_type": "stream",
     "text": [
      "Saved batch 834 with 10 VCFs to /mnt/sdb/tmp-skat/skat_mtx/intermediate_batches/neg_batch_834.mt\n"
     ]
    },
    {
     "name": "stderr",
     "output_type": "stream",
     "text": [
      "                                                                                \r"
     ]
    },
    {
     "name": "stdout",
     "output_type": "stream",
     "text": [
      "Saved batch 835 with 10 VCFs to /mnt/sdb/tmp-skat/skat_mtx/intermediate_batches/neg_batch_835.mt\n"
     ]
    },
    {
     "name": "stderr",
     "output_type": "stream",
     "text": [
      "                                                                                \r"
     ]
    },
    {
     "name": "stdout",
     "output_type": "stream",
     "text": [
      "Saved batch 836 with 10 VCFs to /mnt/sdb/tmp-skat/skat_mtx/intermediate_batches/neg_batch_836.mt\n"
     ]
    },
    {
     "name": "stderr",
     "output_type": "stream",
     "text": [
      "                                                                                \r"
     ]
    },
    {
     "name": "stdout",
     "output_type": "stream",
     "text": [
      "Saved batch 837 with 10 VCFs to /mnt/sdb/tmp-skat/skat_mtx/intermediate_batches/neg_batch_837.mt\n"
     ]
    },
    {
     "name": "stderr",
     "output_type": "stream",
     "text": [
      "                                                                                \r"
     ]
    },
    {
     "name": "stdout",
     "output_type": "stream",
     "text": [
      "Saved batch 838 with 10 VCFs to /mnt/sdb/tmp-skat/skat_mtx/intermediate_batches/neg_batch_838.mt\n"
     ]
    },
    {
     "name": "stderr",
     "output_type": "stream",
     "text": [
      "                                                                                \r"
     ]
    },
    {
     "name": "stdout",
     "output_type": "stream",
     "text": [
      "Saved batch 839 with 10 VCFs to /mnt/sdb/tmp-skat/skat_mtx/intermediate_batches/neg_batch_839.mt\n"
     ]
    },
    {
     "name": "stderr",
     "output_type": "stream",
     "text": [
      "                                                                                \r"
     ]
    },
    {
     "name": "stdout",
     "output_type": "stream",
     "text": [
      "Saved batch 840 with 10 VCFs to /mnt/sdb/tmp-skat/skat_mtx/intermediate_batches/neg_batch_840.mt\n"
     ]
    },
    {
     "name": "stderr",
     "output_type": "stream",
     "text": [
      "                                                                                \r"
     ]
    },
    {
     "name": "stdout",
     "output_type": "stream",
     "text": [
      "Saved batch 841 with 10 VCFs to /mnt/sdb/tmp-skat/skat_mtx/intermediate_batches/neg_batch_841.mt\n"
     ]
    },
    {
     "name": "stderr",
     "output_type": "stream",
     "text": [
      "                                                                                \r"
     ]
    },
    {
     "name": "stdout",
     "output_type": "stream",
     "text": [
      "Saved batch 842 with 10 VCFs to /mnt/sdb/tmp-skat/skat_mtx/intermediate_batches/neg_batch_842.mt\n"
     ]
    },
    {
     "name": "stderr",
     "output_type": "stream",
     "text": [
      "                                                                                \r"
     ]
    },
    {
     "name": "stdout",
     "output_type": "stream",
     "text": [
      "Saved batch 843 with 10 VCFs to /mnt/sdb/tmp-skat/skat_mtx/intermediate_batches/neg_batch_843.mt\n"
     ]
    },
    {
     "name": "stderr",
     "output_type": "stream",
     "text": [
      "                                                                                \r"
     ]
    },
    {
     "name": "stdout",
     "output_type": "stream",
     "text": [
      "Saved batch 844 with 10 VCFs to /mnt/sdb/tmp-skat/skat_mtx/intermediate_batches/neg_batch_844.mt\n"
     ]
    },
    {
     "name": "stderr",
     "output_type": "stream",
     "text": [
      "                                                                                \r"
     ]
    },
    {
     "name": "stdout",
     "output_type": "stream",
     "text": [
      "Saved batch 845 with 10 VCFs to /mnt/sdb/tmp-skat/skat_mtx/intermediate_batches/neg_batch_845.mt\n"
     ]
    },
    {
     "name": "stderr",
     "output_type": "stream",
     "text": [
      "                                                                                \r"
     ]
    },
    {
     "name": "stdout",
     "output_type": "stream",
     "text": [
      "Saved batch 846 with 10 VCFs to /mnt/sdb/tmp-skat/skat_mtx/intermediate_batches/neg_batch_846.mt\n"
     ]
    },
    {
     "name": "stderr",
     "output_type": "stream",
     "text": [
      "                                                                                \r"
     ]
    },
    {
     "name": "stdout",
     "output_type": "stream",
     "text": [
      "Saved batch 847 with 10 VCFs to /mnt/sdb/tmp-skat/skat_mtx/intermediate_batches/neg_batch_847.mt\n"
     ]
    },
    {
     "name": "stderr",
     "output_type": "stream",
     "text": [
      "                                                                                \r"
     ]
    },
    {
     "name": "stdout",
     "output_type": "stream",
     "text": [
      "Saved batch 848 with 10 VCFs to /mnt/sdb/tmp-skat/skat_mtx/intermediate_batches/neg_batch_848.mt\n"
     ]
    },
    {
     "name": "stderr",
     "output_type": "stream",
     "text": [
      "                                                                                \r"
     ]
    },
    {
     "name": "stdout",
     "output_type": "stream",
     "text": [
      "Saved batch 849 with 10 VCFs to /mnt/sdb/tmp-skat/skat_mtx/intermediate_batches/neg_batch_849.mt\n"
     ]
    },
    {
     "name": "stderr",
     "output_type": "stream",
     "text": [
      "                                                                                \r"
     ]
    },
    {
     "name": "stdout",
     "output_type": "stream",
     "text": [
      "Saved batch 850 with 10 VCFs to /mnt/sdb/tmp-skat/skat_mtx/intermediate_batches/neg_batch_850.mt\n"
     ]
    },
    {
     "name": "stderr",
     "output_type": "stream",
     "text": [
      "                                                                                \r"
     ]
    },
    {
     "name": "stdout",
     "output_type": "stream",
     "text": [
      "Saved batch 851 with 10 VCFs to /mnt/sdb/tmp-skat/skat_mtx/intermediate_batches/neg_batch_851.mt\n"
     ]
    },
    {
     "name": "stderr",
     "output_type": "stream",
     "text": [
      "                                                                                \r"
     ]
    },
    {
     "name": "stdout",
     "output_type": "stream",
     "text": [
      "Saved batch 852 with 10 VCFs to /mnt/sdb/tmp-skat/skat_mtx/intermediate_batches/neg_batch_852.mt\n"
     ]
    },
    {
     "name": "stderr",
     "output_type": "stream",
     "text": [
      "                                                                                \r"
     ]
    },
    {
     "name": "stdout",
     "output_type": "stream",
     "text": [
      "Saved batch 853 with 10 VCFs to /mnt/sdb/tmp-skat/skat_mtx/intermediate_batches/neg_batch_853.mt\n"
     ]
    },
    {
     "name": "stderr",
     "output_type": "stream",
     "text": [
      "                                                                                \r"
     ]
    },
    {
     "name": "stdout",
     "output_type": "stream",
     "text": [
      "Saved batch 854 with 10 VCFs to /mnt/sdb/tmp-skat/skat_mtx/intermediate_batches/neg_batch_854.mt\n"
     ]
    },
    {
     "name": "stderr",
     "output_type": "stream",
     "text": [
      "                                                                                \r"
     ]
    },
    {
     "name": "stdout",
     "output_type": "stream",
     "text": [
      "Saved batch 855 with 10 VCFs to /mnt/sdb/tmp-skat/skat_mtx/intermediate_batches/neg_batch_855.mt\n"
     ]
    },
    {
     "name": "stderr",
     "output_type": "stream",
     "text": [
      "                                                                                \r"
     ]
    },
    {
     "name": "stdout",
     "output_type": "stream",
     "text": [
      "Saved batch 856 with 10 VCFs to /mnt/sdb/tmp-skat/skat_mtx/intermediate_batches/neg_batch_856.mt\n"
     ]
    },
    {
     "name": "stderr",
     "output_type": "stream",
     "text": [
      "                                                                                \r"
     ]
    },
    {
     "name": "stdout",
     "output_type": "stream",
     "text": [
      "Saved batch 857 with 10 VCFs to /mnt/sdb/tmp-skat/skat_mtx/intermediate_batches/neg_batch_857.mt\n"
     ]
    },
    {
     "name": "stderr",
     "output_type": "stream",
     "text": [
      "                                                                                \r"
     ]
    },
    {
     "name": "stdout",
     "output_type": "stream",
     "text": [
      "Saved batch 858 with 10 VCFs to /mnt/sdb/tmp-skat/skat_mtx/intermediate_batches/neg_batch_858.mt\n"
     ]
    },
    {
     "name": "stderr",
     "output_type": "stream",
     "text": [
      "                                                                                \r"
     ]
    },
    {
     "name": "stdout",
     "output_type": "stream",
     "text": [
      "Saved batch 859 with 10 VCFs to /mnt/sdb/tmp-skat/skat_mtx/intermediate_batches/neg_batch_859.mt\n"
     ]
    },
    {
     "name": "stderr",
     "output_type": "stream",
     "text": [
      "                                                                                \r"
     ]
    },
    {
     "name": "stdout",
     "output_type": "stream",
     "text": [
      "Saved batch 860 with 10 VCFs to /mnt/sdb/tmp-skat/skat_mtx/intermediate_batches/neg_batch_860.mt\n"
     ]
    },
    {
     "name": "stderr",
     "output_type": "stream",
     "text": [
      "                                                                                \r"
     ]
    },
    {
     "name": "stdout",
     "output_type": "stream",
     "text": [
      "Saved batch 861 with 10 VCFs to /mnt/sdb/tmp-skat/skat_mtx/intermediate_batches/neg_batch_861.mt\n"
     ]
    },
    {
     "name": "stderr",
     "output_type": "stream",
     "text": [
      "                                                                                \r"
     ]
    },
    {
     "name": "stdout",
     "output_type": "stream",
     "text": [
      "Saved batch 862 with 10 VCFs to /mnt/sdb/tmp-skat/skat_mtx/intermediate_batches/neg_batch_862.mt\n"
     ]
    },
    {
     "name": "stderr",
     "output_type": "stream",
     "text": [
      "                                                                                \r"
     ]
    },
    {
     "name": "stdout",
     "output_type": "stream",
     "text": [
      "Saved batch 863 with 10 VCFs to /mnt/sdb/tmp-skat/skat_mtx/intermediate_batches/neg_batch_863.mt\n"
     ]
    },
    {
     "name": "stderr",
     "output_type": "stream",
     "text": [
      "                                                                                \r"
     ]
    },
    {
     "name": "stdout",
     "output_type": "stream",
     "text": [
      "Saved batch 864 with 10 VCFs to /mnt/sdb/tmp-skat/skat_mtx/intermediate_batches/neg_batch_864.mt\n"
     ]
    },
    {
     "name": "stderr",
     "output_type": "stream",
     "text": [
      "                                                                                \r"
     ]
    },
    {
     "name": "stdout",
     "output_type": "stream",
     "text": [
      "Saved batch 865 with 10 VCFs to /mnt/sdb/tmp-skat/skat_mtx/intermediate_batches/neg_batch_865.mt\n"
     ]
    },
    {
     "name": "stderr",
     "output_type": "stream",
     "text": [
      "                                                                                \r"
     ]
    },
    {
     "name": "stdout",
     "output_type": "stream",
     "text": [
      "Saved batch 866 with 10 VCFs to /mnt/sdb/tmp-skat/skat_mtx/intermediate_batches/neg_batch_866.mt\n"
     ]
    },
    {
     "name": "stderr",
     "output_type": "stream",
     "text": [
      "                                                                                \r"
     ]
    },
    {
     "name": "stdout",
     "output_type": "stream",
     "text": [
      "Saved batch 867 with 10 VCFs to /mnt/sdb/tmp-skat/skat_mtx/intermediate_batches/neg_batch_867.mt\n"
     ]
    },
    {
     "name": "stderr",
     "output_type": "stream",
     "text": [
      "                                                                                \r"
     ]
    },
    {
     "name": "stdout",
     "output_type": "stream",
     "text": [
      "Saved batch 868 with 10 VCFs to /mnt/sdb/tmp-skat/skat_mtx/intermediate_batches/neg_batch_868.mt\n"
     ]
    },
    {
     "name": "stderr",
     "output_type": "stream",
     "text": [
      "                                                                                \r"
     ]
    },
    {
     "name": "stdout",
     "output_type": "stream",
     "text": [
      "Saved batch 869 with 10 VCFs to /mnt/sdb/tmp-skat/skat_mtx/intermediate_batches/neg_batch_869.mt\n"
     ]
    },
    {
     "name": "stderr",
     "output_type": "stream",
     "text": [
      "                                                                                \r"
     ]
    },
    {
     "name": "stdout",
     "output_type": "stream",
     "text": [
      "Saved batch 870 with 10 VCFs to /mnt/sdb/tmp-skat/skat_mtx/intermediate_batches/neg_batch_870.mt\n"
     ]
    },
    {
     "name": "stderr",
     "output_type": "stream",
     "text": [
      "                                                                                \r"
     ]
    },
    {
     "name": "stdout",
     "output_type": "stream",
     "text": [
      "Saved batch 871 with 10 VCFs to /mnt/sdb/tmp-skat/skat_mtx/intermediate_batches/neg_batch_871.mt\n"
     ]
    },
    {
     "name": "stderr",
     "output_type": "stream",
     "text": [
      "                                                                                \r"
     ]
    },
    {
     "name": "stdout",
     "output_type": "stream",
     "text": [
      "Saved batch 872 with 10 VCFs to /mnt/sdb/tmp-skat/skat_mtx/intermediate_batches/neg_batch_872.mt\n"
     ]
    },
    {
     "name": "stderr",
     "output_type": "stream",
     "text": [
      "                                                                                \r"
     ]
    },
    {
     "name": "stdout",
     "output_type": "stream",
     "text": [
      "Saved batch 873 with 10 VCFs to /mnt/sdb/tmp-skat/skat_mtx/intermediate_batches/neg_batch_873.mt\n"
     ]
    },
    {
     "name": "stderr",
     "output_type": "stream",
     "text": [
      "                                                                                \r"
     ]
    },
    {
     "name": "stdout",
     "output_type": "stream",
     "text": [
      "Saved batch 874 with 10 VCFs to /mnt/sdb/tmp-skat/skat_mtx/intermediate_batches/neg_batch_874.mt\n"
     ]
    },
    {
     "name": "stderr",
     "output_type": "stream",
     "text": [
      "                                                                                \r"
     ]
    },
    {
     "name": "stdout",
     "output_type": "stream",
     "text": [
      "Saved batch 875 with 10 VCFs to /mnt/sdb/tmp-skat/skat_mtx/intermediate_batches/neg_batch_875.mt\n"
     ]
    },
    {
     "name": "stderr",
     "output_type": "stream",
     "text": [
      "                                                                                \r"
     ]
    },
    {
     "name": "stdout",
     "output_type": "stream",
     "text": [
      "Saved batch 876 with 10 VCFs to /mnt/sdb/tmp-skat/skat_mtx/intermediate_batches/neg_batch_876.mt\n"
     ]
    },
    {
     "name": "stderr",
     "output_type": "stream",
     "text": [
      "                                                                                \r"
     ]
    },
    {
     "name": "stdout",
     "output_type": "stream",
     "text": [
      "Saved batch 877 with 10 VCFs to /mnt/sdb/tmp-skat/skat_mtx/intermediate_batches/neg_batch_877.mt\n"
     ]
    },
    {
     "name": "stderr",
     "output_type": "stream",
     "text": [
      "                                                                                \r"
     ]
    },
    {
     "name": "stdout",
     "output_type": "stream",
     "text": [
      "Saved batch 878 with 10 VCFs to /mnt/sdb/tmp-skat/skat_mtx/intermediate_batches/neg_batch_878.mt\n"
     ]
    },
    {
     "name": "stderr",
     "output_type": "stream",
     "text": [
      "                                                                                \r"
     ]
    },
    {
     "name": "stdout",
     "output_type": "stream",
     "text": [
      "Saved batch 879 with 10 VCFs to /mnt/sdb/tmp-skat/skat_mtx/intermediate_batches/neg_batch_879.mt\n"
     ]
    },
    {
     "name": "stderr",
     "output_type": "stream",
     "text": [
      "                                                                                \r"
     ]
    },
    {
     "name": "stdout",
     "output_type": "stream",
     "text": [
      "Saved batch 880 with 10 VCFs to /mnt/sdb/tmp-skat/skat_mtx/intermediate_batches/neg_batch_880.mt\n"
     ]
    },
    {
     "name": "stderr",
     "output_type": "stream",
     "text": [
      "                                                                                \r"
     ]
    },
    {
     "name": "stdout",
     "output_type": "stream",
     "text": [
      "Saved batch 881 with 10 VCFs to /mnt/sdb/tmp-skat/skat_mtx/intermediate_batches/neg_batch_881.mt\n"
     ]
    },
    {
     "name": "stderr",
     "output_type": "stream",
     "text": [
      "                                                                                \r"
     ]
    },
    {
     "name": "stdout",
     "output_type": "stream",
     "text": [
      "Saved batch 882 with 10 VCFs to /mnt/sdb/tmp-skat/skat_mtx/intermediate_batches/neg_batch_882.mt\n"
     ]
    },
    {
     "name": "stderr",
     "output_type": "stream",
     "text": [
      "                                                                                \r"
     ]
    },
    {
     "name": "stdout",
     "output_type": "stream",
     "text": [
      "Saved batch 883 with 10 VCFs to /mnt/sdb/tmp-skat/skat_mtx/intermediate_batches/neg_batch_883.mt\n"
     ]
    },
    {
     "name": "stderr",
     "output_type": "stream",
     "text": [
      "                                                                                \r"
     ]
    },
    {
     "name": "stdout",
     "output_type": "stream",
     "text": [
      "Saved batch 884 with 10 VCFs to /mnt/sdb/tmp-skat/skat_mtx/intermediate_batches/neg_batch_884.mt\n"
     ]
    },
    {
     "name": "stderr",
     "output_type": "stream",
     "text": [
      "                                                                                \r"
     ]
    },
    {
     "name": "stdout",
     "output_type": "stream",
     "text": [
      "Saved batch 885 with 10 VCFs to /mnt/sdb/tmp-skat/skat_mtx/intermediate_batches/neg_batch_885.mt\n"
     ]
    },
    {
     "name": "stderr",
     "output_type": "stream",
     "text": [
      "                                                                                \r"
     ]
    },
    {
     "name": "stdout",
     "output_type": "stream",
     "text": [
      "Saved batch 886 with 10 VCFs to /mnt/sdb/tmp-skat/skat_mtx/intermediate_batches/neg_batch_886.mt\n"
     ]
    },
    {
     "name": "stderr",
     "output_type": "stream",
     "text": [
      "                                                                                \r"
     ]
    },
    {
     "name": "stdout",
     "output_type": "stream",
     "text": [
      "Saved batch 887 with 10 VCFs to /mnt/sdb/tmp-skat/skat_mtx/intermediate_batches/neg_batch_887.mt\n"
     ]
    },
    {
     "name": "stderr",
     "output_type": "stream",
     "text": [
      "                                                                                \r"
     ]
    },
    {
     "name": "stdout",
     "output_type": "stream",
     "text": [
      "Saved batch 888 with 10 VCFs to /mnt/sdb/tmp-skat/skat_mtx/intermediate_batches/neg_batch_888.mt\n"
     ]
    },
    {
     "name": "stderr",
     "output_type": "stream",
     "text": [
      "                                                                                \r"
     ]
    },
    {
     "name": "stdout",
     "output_type": "stream",
     "text": [
      "Saved batch 889 with 10 VCFs to /mnt/sdb/tmp-skat/skat_mtx/intermediate_batches/neg_batch_889.mt\n"
     ]
    },
    {
     "name": "stderr",
     "output_type": "stream",
     "text": [
      "                                                                                \r"
     ]
    },
    {
     "name": "stdout",
     "output_type": "stream",
     "text": [
      "Saved batch 890 with 10 VCFs to /mnt/sdb/tmp-skat/skat_mtx/intermediate_batches/neg_batch_890.mt\n"
     ]
    },
    {
     "name": "stderr",
     "output_type": "stream",
     "text": [
      "                                                                                \r"
     ]
    },
    {
     "name": "stdout",
     "output_type": "stream",
     "text": [
      "Saved batch 891 with 10 VCFs to /mnt/sdb/tmp-skat/skat_mtx/intermediate_batches/neg_batch_891.mt\n"
     ]
    },
    {
     "name": "stderr",
     "output_type": "stream",
     "text": [
      "                                                                                \r"
     ]
    },
    {
     "name": "stdout",
     "output_type": "stream",
     "text": [
      "Saved batch 892 with 10 VCFs to /mnt/sdb/tmp-skat/skat_mtx/intermediate_batches/neg_batch_892.mt\n"
     ]
    },
    {
     "name": "stderr",
     "output_type": "stream",
     "text": [
      "                                                                                \r"
     ]
    },
    {
     "name": "stdout",
     "output_type": "stream",
     "text": [
      "Saved batch 893 with 10 VCFs to /mnt/sdb/tmp-skat/skat_mtx/intermediate_batches/neg_batch_893.mt\n"
     ]
    },
    {
     "name": "stderr",
     "output_type": "stream",
     "text": [
      "                                                                                \r"
     ]
    },
    {
     "name": "stdout",
     "output_type": "stream",
     "text": [
      "Saved batch 894 with 10 VCFs to /mnt/sdb/tmp-skat/skat_mtx/intermediate_batches/neg_batch_894.mt\n"
     ]
    },
    {
     "name": "stderr",
     "output_type": "stream",
     "text": [
      "                                                                                \r"
     ]
    },
    {
     "name": "stdout",
     "output_type": "stream",
     "text": [
      "Saved batch 895 with 10 VCFs to /mnt/sdb/tmp-skat/skat_mtx/intermediate_batches/neg_batch_895.mt\n"
     ]
    },
    {
     "name": "stderr",
     "output_type": "stream",
     "text": [
      "                                                                                \r"
     ]
    },
    {
     "name": "stdout",
     "output_type": "stream",
     "text": [
      "Saved batch 896 with 10 VCFs to /mnt/sdb/tmp-skat/skat_mtx/intermediate_batches/neg_batch_896.mt\n"
     ]
    },
    {
     "name": "stderr",
     "output_type": "stream",
     "text": [
      "                                                                                \r"
     ]
    },
    {
     "name": "stdout",
     "output_type": "stream",
     "text": [
      "Saved batch 897 with 10 VCFs to /mnt/sdb/tmp-skat/skat_mtx/intermediate_batches/neg_batch_897.mt\n"
     ]
    },
    {
     "name": "stderr",
     "output_type": "stream",
     "text": [
      "                                                                                \r"
     ]
    },
    {
     "name": "stdout",
     "output_type": "stream",
     "text": [
      "Saved batch 898 with 10 VCFs to /mnt/sdb/tmp-skat/skat_mtx/intermediate_batches/neg_batch_898.mt\n"
     ]
    },
    {
     "name": "stderr",
     "output_type": "stream",
     "text": [
      "                                                                                \r"
     ]
    },
    {
     "name": "stdout",
     "output_type": "stream",
     "text": [
      "Saved batch 899 with 10 VCFs to /mnt/sdb/tmp-skat/skat_mtx/intermediate_batches/neg_batch_899.mt\n"
     ]
    },
    {
     "name": "stderr",
     "output_type": "stream",
     "text": [
      "                                                                                \r"
     ]
    },
    {
     "name": "stdout",
     "output_type": "stream",
     "text": [
      "Saved batch 900 with 10 VCFs to /mnt/sdb/tmp-skat/skat_mtx/intermediate_batches/neg_batch_900.mt\n"
     ]
    },
    {
     "name": "stderr",
     "output_type": "stream",
     "text": [
      "                                                                                \r"
     ]
    },
    {
     "name": "stdout",
     "output_type": "stream",
     "text": [
      "Saved batch 901 with 10 VCFs to /mnt/sdb/tmp-skat/skat_mtx/intermediate_batches/neg_batch_901.mt\n"
     ]
    },
    {
     "name": "stderr",
     "output_type": "stream",
     "text": [
      "                                                                                \r"
     ]
    },
    {
     "name": "stdout",
     "output_type": "stream",
     "text": [
      "Saved batch 902 with 10 VCFs to /mnt/sdb/tmp-skat/skat_mtx/intermediate_batches/neg_batch_902.mt\n"
     ]
    },
    {
     "name": "stderr",
     "output_type": "stream",
     "text": [
      "                                                                                \r"
     ]
    },
    {
     "name": "stdout",
     "output_type": "stream",
     "text": [
      "Saved batch 903 with 10 VCFs to /mnt/sdb/tmp-skat/skat_mtx/intermediate_batches/neg_batch_903.mt\n"
     ]
    },
    {
     "name": "stderr",
     "output_type": "stream",
     "text": [
      "                                                                                \r"
     ]
    },
    {
     "name": "stdout",
     "output_type": "stream",
     "text": [
      "Saved batch 904 with 10 VCFs to /mnt/sdb/tmp-skat/skat_mtx/intermediate_batches/neg_batch_904.mt\n"
     ]
    },
    {
     "name": "stderr",
     "output_type": "stream",
     "text": [
      "                                                                                \r"
     ]
    },
    {
     "name": "stdout",
     "output_type": "stream",
     "text": [
      "Saved batch 905 with 10 VCFs to /mnt/sdb/tmp-skat/skat_mtx/intermediate_batches/neg_batch_905.mt\n"
     ]
    },
    {
     "name": "stderr",
     "output_type": "stream",
     "text": [
      "                                                                                \r"
     ]
    },
    {
     "name": "stdout",
     "output_type": "stream",
     "text": [
      "Saved batch 906 with 10 VCFs to /mnt/sdb/tmp-skat/skat_mtx/intermediate_batches/neg_batch_906.mt\n"
     ]
    },
    {
     "name": "stderr",
     "output_type": "stream",
     "text": [
      "                                                                                \r"
     ]
    },
    {
     "name": "stdout",
     "output_type": "stream",
     "text": [
      "Saved batch 907 with 10 VCFs to /mnt/sdb/tmp-skat/skat_mtx/intermediate_batches/neg_batch_907.mt\n"
     ]
    },
    {
     "name": "stderr",
     "output_type": "stream",
     "text": [
      "                                                                                \r"
     ]
    },
    {
     "name": "stdout",
     "output_type": "stream",
     "text": [
      "Saved batch 908 with 10 VCFs to /mnt/sdb/tmp-skat/skat_mtx/intermediate_batches/neg_batch_908.mt\n"
     ]
    },
    {
     "name": "stderr",
     "output_type": "stream",
     "text": [
      "                                                                                \r"
     ]
    },
    {
     "name": "stdout",
     "output_type": "stream",
     "text": [
      "Saved batch 909 with 10 VCFs to /mnt/sdb/tmp-skat/skat_mtx/intermediate_batches/neg_batch_909.mt\n"
     ]
    },
    {
     "name": "stderr",
     "output_type": "stream",
     "text": [
      "                                                                                \r"
     ]
    },
    {
     "name": "stdout",
     "output_type": "stream",
     "text": [
      "Saved batch 910 with 10 VCFs to /mnt/sdb/tmp-skat/skat_mtx/intermediate_batches/neg_batch_910.mt\n"
     ]
    },
    {
     "name": "stderr",
     "output_type": "stream",
     "text": [
      "                                                                                \r"
     ]
    },
    {
     "name": "stdout",
     "output_type": "stream",
     "text": [
      "Saved batch 911 with 10 VCFs to /mnt/sdb/tmp-skat/skat_mtx/intermediate_batches/neg_batch_911.mt\n",
      "Saved batch 912 with 1 VCFs to /mnt/sdb/tmp-skat/skat_mtx/intermediate_batches/neg_batch_912.mt\n",
      "Batch 0 with 10 VCFs exists in /mnt/sdb/tmp-skat/skat_mtx/intermediate_batches/pos_batch_0.mt. Skipping...\n",
      "Batch 1 with 10 VCFs exists in /mnt/sdb/tmp-skat/skat_mtx/intermediate_batches/pos_batch_1.mt. Skipping...\n",
      "Batch 2 with 10 VCFs exists in /mnt/sdb/tmp-skat/skat_mtx/intermediate_batches/pos_batch_2.mt. Skipping...\n",
      "Batch 3 with 10 VCFs exists in /mnt/sdb/tmp-skat/skat_mtx/intermediate_batches/pos_batch_3.mt. Skipping...\n",
      "Batch 4 with 10 VCFs exists in /mnt/sdb/tmp-skat/skat_mtx/intermediate_batches/pos_batch_4.mt. Skipping...\n",
      "Batch 5 with 10 VCFs exists in /mnt/sdb/tmp-skat/skat_mtx/intermediate_batches/pos_batch_5.mt. Skipping...\n",
      "Batch 6 with 10 VCFs exists in /mnt/sdb/tmp-skat/skat_mtx/intermediate_batches/pos_batch_6.mt. Skipping...\n",
      "Batch 7 with 10 VCFs exists in /mnt/sdb/tmp-skat/skat_mtx/intermediate_batches/pos_batch_7.mt. Skipping...\n",
      "Batch 8 with 10 VCFs exists in /mnt/sdb/tmp-skat/skat_mtx/intermediate_batches/pos_batch_8.mt. Skipping...\n",
      "Batch 9 with 10 VCFs exists in /mnt/sdb/tmp-skat/skat_mtx/intermediate_batches/pos_batch_9.mt. Skipping...\n",
      "Batch 10 with 10 VCFs exists in /mnt/sdb/tmp-skat/skat_mtx/intermediate_batches/pos_batch_10.mt. Skipping...\n",
      "Batch 11 with 10 VCFs exists in /mnt/sdb/tmp-skat/skat_mtx/intermediate_batches/pos_batch_11.mt. Skipping...\n",
      "Batch 12 with 10 VCFs exists in /mnt/sdb/tmp-skat/skat_mtx/intermediate_batches/pos_batch_12.mt. Skipping...\n",
      "Batch 13 with 10 VCFs exists in /mnt/sdb/tmp-skat/skat_mtx/intermediate_batches/pos_batch_13.mt. Skipping...\n",
      "Batch 14 with 10 VCFs exists in /mnt/sdb/tmp-skat/skat_mtx/intermediate_batches/pos_batch_14.mt. Skipping...\n",
      "Batch 15 with 10 VCFs exists in /mnt/sdb/tmp-skat/skat_mtx/intermediate_batches/pos_batch_15.mt. Skipping...\n",
      "Batch 16 with 10 VCFs exists in /mnt/sdb/tmp-skat/skat_mtx/intermediate_batches/pos_batch_16.mt. Skipping...\n",
      "Batch 17 with 10 VCFs exists in /mnt/sdb/tmp-skat/skat_mtx/intermediate_batches/pos_batch_17.mt. Skipping...\n",
      "Batch 18 with 10 VCFs exists in /mnt/sdb/tmp-skat/skat_mtx/intermediate_batches/pos_batch_18.mt. Skipping...\n",
      "Batch 19 with 10 VCFs exists in /mnt/sdb/tmp-skat/skat_mtx/intermediate_batches/pos_batch_19.mt. Skipping...\n",
      "Batch 20 with 10 VCFs exists in /mnt/sdb/tmp-skat/skat_mtx/intermediate_batches/pos_batch_20.mt. Skipping...\n",
      "Batch 21 with 10 VCFs exists in /mnt/sdb/tmp-skat/skat_mtx/intermediate_batches/pos_batch_21.mt. Skipping...\n",
      "Batch 22 with 10 VCFs exists in /mnt/sdb/tmp-skat/skat_mtx/intermediate_batches/pos_batch_22.mt. Skipping...\n",
      "Batch 23 with 10 VCFs exists in /mnt/sdb/tmp-skat/skat_mtx/intermediate_batches/pos_batch_23.mt. Skipping...\n",
      "Batch 24 with 10 VCFs exists in /mnt/sdb/tmp-skat/skat_mtx/intermediate_batches/pos_batch_24.mt. Skipping...\n",
      "Batch 25 with 10 VCFs exists in /mnt/sdb/tmp-skat/skat_mtx/intermediate_batches/pos_batch_25.mt. Skipping...\n",
      "Batch 26 with 10 VCFs exists in /mnt/sdb/tmp-skat/skat_mtx/intermediate_batches/pos_batch_26.mt. Skipping...\n",
      "Batch 27 with 10 VCFs exists in /mnt/sdb/tmp-skat/skat_mtx/intermediate_batches/pos_batch_27.mt. Skipping...\n",
      "Batch 28 with 10 VCFs exists in /mnt/sdb/tmp-skat/skat_mtx/intermediate_batches/pos_batch_28.mt. Skipping...\n",
      "Batch 29 with 10 VCFs exists in /mnt/sdb/tmp-skat/skat_mtx/intermediate_batches/pos_batch_29.mt. Skipping...\n",
      "Batch 30 with 10 VCFs exists in /mnt/sdb/tmp-skat/skat_mtx/intermediate_batches/pos_batch_30.mt. Skipping...\n",
      "Batch 31 with 10 VCFs exists in /mnt/sdb/tmp-skat/skat_mtx/intermediate_batches/pos_batch_31.mt. Skipping...\n",
      "Batch 32 with 10 VCFs exists in /mnt/sdb/tmp-skat/skat_mtx/intermediate_batches/pos_batch_32.mt. Skipping...\n",
      "Batch 33 with 10 VCFs exists in /mnt/sdb/tmp-skat/skat_mtx/intermediate_batches/pos_batch_33.mt. Skipping...\n",
      "Batch 34 with 10 VCFs exists in /mnt/sdb/tmp-skat/skat_mtx/intermediate_batches/pos_batch_34.mt. Skipping...\n",
      "Batch 35 with 10 VCFs exists in /mnt/sdb/tmp-skat/skat_mtx/intermediate_batches/pos_batch_35.mt. Skipping...\n",
      "Batch 36 with 10 VCFs exists in /mnt/sdb/tmp-skat/skat_mtx/intermediate_batches/pos_batch_36.mt. Skipping...\n",
      "Batch 37 with 10 VCFs exists in /mnt/sdb/tmp-skat/skat_mtx/intermediate_batches/pos_batch_37.mt. Skipping...\n",
      "Batch 38 with 10 VCFs exists in /mnt/sdb/tmp-skat/skat_mtx/intermediate_batches/pos_batch_38.mt. Skipping...\n",
      "Batch 39 with 10 VCFs exists in /mnt/sdb/tmp-skat/skat_mtx/intermediate_batches/pos_batch_39.mt. Skipping...\n",
      "Batch 40 with 10 VCFs exists in /mnt/sdb/tmp-skat/skat_mtx/intermediate_batches/pos_batch_40.mt. Skipping...\n",
      "Batch 41 with 10 VCFs exists in /mnt/sdb/tmp-skat/skat_mtx/intermediate_batches/pos_batch_41.mt. Skipping...\n",
      "Batch 42 with 10 VCFs exists in /mnt/sdb/tmp-skat/skat_mtx/intermediate_batches/pos_batch_42.mt. Skipping...\n",
      "Batch 43 with 10 VCFs exists in /mnt/sdb/tmp-skat/skat_mtx/intermediate_batches/pos_batch_43.mt. Skipping...\n",
      "Batch 44 with 10 VCFs exists in /mnt/sdb/tmp-skat/skat_mtx/intermediate_batches/pos_batch_44.mt. Skipping...\n",
      "Batch 45 with 10 VCFs exists in /mnt/sdb/tmp-skat/skat_mtx/intermediate_batches/pos_batch_45.mt. Skipping...\n",
      "Batch 46 with 10 VCFs exists in /mnt/sdb/tmp-skat/skat_mtx/intermediate_batches/pos_batch_46.mt. Skipping...\n",
      "Batch 47 with 10 VCFs exists in /mnt/sdb/tmp-skat/skat_mtx/intermediate_batches/pos_batch_47.mt. Skipping...\n",
      "Batch 48 with 10 VCFs exists in /mnt/sdb/tmp-skat/skat_mtx/intermediate_batches/pos_batch_48.mt. Skipping...\n",
      "Batch 49 with 10 VCFs exists in /mnt/sdb/tmp-skat/skat_mtx/intermediate_batches/pos_batch_49.mt. Skipping...\n",
      "Batch 50 with 10 VCFs exists in /mnt/sdb/tmp-skat/skat_mtx/intermediate_batches/pos_batch_50.mt. Skipping...\n",
      "Batch 51 with 10 VCFs exists in /mnt/sdb/tmp-skat/skat_mtx/intermediate_batches/pos_batch_51.mt. Skipping...\n",
      "Batch 52 with 10 VCFs exists in /mnt/sdb/tmp-skat/skat_mtx/intermediate_batches/pos_batch_52.mt. Skipping...\n",
      "Batch 53 with 10 VCFs exists in /mnt/sdb/tmp-skat/skat_mtx/intermediate_batches/pos_batch_53.mt. Skipping...\n",
      "Batch 54 with 10 VCFs exists in /mnt/sdb/tmp-skat/skat_mtx/intermediate_batches/pos_batch_54.mt. Skipping...\n",
      "Batch 55 with 10 VCFs exists in /mnt/sdb/tmp-skat/skat_mtx/intermediate_batches/pos_batch_55.mt. Skipping...\n",
      "Batch 56 with 10 VCFs exists in /mnt/sdb/tmp-skat/skat_mtx/intermediate_batches/pos_batch_56.mt. Skipping...\n",
      "Batch 57 with 10 VCFs exists in /mnt/sdb/tmp-skat/skat_mtx/intermediate_batches/pos_batch_57.mt. Skipping...\n",
      "Batch 58 with 10 VCFs exists in /mnt/sdb/tmp-skat/skat_mtx/intermediate_batches/pos_batch_58.mt. Skipping...\n",
      "Batch 59 with 10 VCFs exists in /mnt/sdb/tmp-skat/skat_mtx/intermediate_batches/pos_batch_59.mt. Skipping...\n",
      "Batch 60 with 10 VCFs exists in /mnt/sdb/tmp-skat/skat_mtx/intermediate_batches/pos_batch_60.mt. Skipping...\n",
      "Batch 61 with 10 VCFs exists in /mnt/sdb/tmp-skat/skat_mtx/intermediate_batches/pos_batch_61.mt. Skipping...\n",
      "Batch 62 with 10 VCFs exists in /mnt/sdb/tmp-skat/skat_mtx/intermediate_batches/pos_batch_62.mt. Skipping...\n",
      "Batch 63 with 10 VCFs exists in /mnt/sdb/tmp-skat/skat_mtx/intermediate_batches/pos_batch_63.mt. Skipping...\n",
      "Batch 64 with 10 VCFs exists in /mnt/sdb/tmp-skat/skat_mtx/intermediate_batches/pos_batch_64.mt. Skipping...\n",
      "Batch 65 with 10 VCFs exists in /mnt/sdb/tmp-skat/skat_mtx/intermediate_batches/pos_batch_65.mt. Skipping...\n",
      "Batch 66 with 1 VCFs exists in /mnt/sdb/tmp-skat/skat_mtx/intermediate_batches/pos_batch_66.mt. Skipping...\n",
      "[Level 1] Merging chunk 1/7 with 10 files\n",
      "[Level 1] Merging chunk 2/7 with 10 files\n",
      "[Level 1] Merging chunk 3/7 with 10 files\n",
      "[Level 1] Merging chunk 4/7 with 10 files\n",
      "[Level 1] Merging chunk 5/7 with 10 files\n",
      "[Level 1] Merging chunk 6/7 with 10 files\n",
      "[Level 1] Merging chunk 7/7 with 7 files\n",
      "Final merge...\n",
      "[PosixPath('/mnt/sdb/tmp-skat/skat_mtx/intermediate_batches/neg_batch_0.mt'), PosixPath('/mnt/sdb/tmp-skat/skat_mtx/intermediate_batches/neg_batch_1.mt'), PosixPath('/mnt/sdb/tmp-skat/skat_mtx/intermediate_batches/neg_batch_2.mt'), PosixPath('/mnt/sdb/tmp-skat/skat_mtx/intermediate_batches/neg_batch_3.mt'), PosixPath('/mnt/sdb/tmp-skat/skat_mtx/intermediate_batches/neg_batch_4.mt'), PosixPath('/mnt/sdb/tmp-skat/skat_mtx/intermediate_batches/neg_batch_5.mt'), PosixPath('/mnt/sdb/tmp-skat/skat_mtx/intermediate_batches/neg_batch_6.mt'), PosixPath('/mnt/sdb/tmp-skat/skat_mtx/intermediate_batches/neg_batch_7.mt'), PosixPath('/mnt/sdb/tmp-skat/skat_mtx/intermediate_batches/neg_batch_8.mt'), PosixPath('/mnt/sdb/tmp-skat/skat_mtx/intermediate_batches/neg_batch_9.mt'), PosixPath('/mnt/sdb/tmp-skat/skat_mtx/intermediate_batches/neg_batch_10.mt'), PosixPath('/mnt/sdb/tmp-skat/skat_mtx/intermediate_batches/neg_batch_11.mt'), PosixPath('/mnt/sdb/tmp-skat/skat_mtx/intermediate_batches/neg_batch_12.mt'), PosixPath('/mnt/sdb/tmp-skat/skat_mtx/intermediate_batches/neg_batch_13.mt'), PosixPath('/mnt/sdb/tmp-skat/skat_mtx/intermediate_batches/neg_batch_14.mt'), PosixPath('/mnt/sdb/tmp-skat/skat_mtx/intermediate_batches/neg_batch_15.mt'), PosixPath('/mnt/sdb/tmp-skat/skat_mtx/intermediate_batches/neg_batch_16.mt'), PosixPath('/mnt/sdb/tmp-skat/skat_mtx/intermediate_batches/neg_batch_17.mt'), PosixPath('/mnt/sdb/tmp-skat/skat_mtx/intermediate_batches/neg_batch_18.mt'), PosixPath('/mnt/sdb/tmp-skat/skat_mtx/intermediate_batches/neg_batch_19.mt'), PosixPath('/mnt/sdb/tmp-skat/skat_mtx/intermediate_batches/neg_batch_20.mt'), PosixPath('/mnt/sdb/tmp-skat/skat_mtx/intermediate_batches/neg_batch_21.mt'), PosixPath('/mnt/sdb/tmp-skat/skat_mtx/intermediate_batches/neg_batch_22.mt'), PosixPath('/mnt/sdb/tmp-skat/skat_mtx/intermediate_batches/neg_batch_23.mt'), PosixPath('/mnt/sdb/tmp-skat/skat_mtx/intermediate_batches/neg_batch_24.mt'), PosixPath('/mnt/sdb/tmp-skat/skat_mtx/intermediate_batches/neg_batch_25.mt'), PosixPath('/mnt/sdb/tmp-skat/skat_mtx/intermediate_batches/neg_batch_26.mt'), PosixPath('/mnt/sdb/tmp-skat/skat_mtx/intermediate_batches/neg_batch_27.mt'), PosixPath('/mnt/sdb/tmp-skat/skat_mtx/intermediate_batches/neg_batch_28.mt'), PosixPath('/mnt/sdb/tmp-skat/skat_mtx/intermediate_batches/neg_batch_29.mt'), PosixPath('/mnt/sdb/tmp-skat/skat_mtx/intermediate_batches/neg_batch_30.mt'), PosixPath('/mnt/sdb/tmp-skat/skat_mtx/intermediate_batches/neg_batch_31.mt'), PosixPath('/mnt/sdb/tmp-skat/skat_mtx/intermediate_batches/neg_batch_32.mt'), PosixPath('/mnt/sdb/tmp-skat/skat_mtx/intermediate_batches/neg_batch_33.mt'), PosixPath('/mnt/sdb/tmp-skat/skat_mtx/intermediate_batches/neg_batch_34.mt'), PosixPath('/mnt/sdb/tmp-skat/skat_mtx/intermediate_batches/neg_batch_35.mt'), PosixPath('/mnt/sdb/tmp-skat/skat_mtx/intermediate_batches/neg_batch_36.mt'), PosixPath('/mnt/sdb/tmp-skat/skat_mtx/intermediate_batches/neg_batch_37.mt'), PosixPath('/mnt/sdb/tmp-skat/skat_mtx/intermediate_batches/neg_batch_38.mt'), PosixPath('/mnt/sdb/tmp-skat/skat_mtx/intermediate_batches/neg_batch_39.mt'), PosixPath('/mnt/sdb/tmp-skat/skat_mtx/intermediate_batches/neg_batch_40.mt'), PosixPath('/mnt/sdb/tmp-skat/skat_mtx/intermediate_batches/neg_batch_41.mt'), PosixPath('/mnt/sdb/tmp-skat/skat_mtx/intermediate_batches/neg_batch_42.mt'), PosixPath('/mnt/sdb/tmp-skat/skat_mtx/intermediate_batches/neg_batch_43.mt'), PosixPath('/mnt/sdb/tmp-skat/skat_mtx/intermediate_batches/neg_batch_44.mt'), PosixPath('/mnt/sdb/tmp-skat/skat_mtx/intermediate_batches/neg_batch_45.mt'), PosixPath('/mnt/sdb/tmp-skat/skat_mtx/intermediate_batches/neg_batch_46.mt'), PosixPath('/mnt/sdb/tmp-skat/skat_mtx/intermediate_batches/neg_batch_47.mt'), PosixPath('/mnt/sdb/tmp-skat/skat_mtx/intermediate_batches/neg_batch_48.mt'), PosixPath('/mnt/sdb/tmp-skat/skat_mtx/intermediate_batches/neg_batch_49.mt'), PosixPath('/mnt/sdb/tmp-skat/skat_mtx/intermediate_batches/neg_batch_50.mt'), PosixPath('/mnt/sdb/tmp-skat/skat_mtx/intermediate_batches/neg_batch_51.mt'), PosixPath('/mnt/sdb/tmp-skat/skat_mtx/intermediate_batches/neg_batch_52.mt'), PosixPath('/mnt/sdb/tmp-skat/skat_mtx/intermediate_batches/neg_batch_53.mt'), PosixPath('/mnt/sdb/tmp-skat/skat_mtx/intermediate_batches/neg_batch_54.mt'), PosixPath('/mnt/sdb/tmp-skat/skat_mtx/intermediate_batches/neg_batch_55.mt'), PosixPath('/mnt/sdb/tmp-skat/skat_mtx/intermediate_batches/neg_batch_56.mt'), PosixPath('/mnt/sdb/tmp-skat/skat_mtx/intermediate_batches/neg_batch_57.mt'), PosixPath('/mnt/sdb/tmp-skat/skat_mtx/intermediate_batches/neg_batch_58.mt'), PosixPath('/mnt/sdb/tmp-skat/skat_mtx/intermediate_batches/neg_batch_59.mt'), PosixPath('/mnt/sdb/tmp-skat/skat_mtx/intermediate_batches/neg_batch_60.mt'), PosixPath('/mnt/sdb/tmp-skat/skat_mtx/intermediate_batches/neg_batch_61.mt'), PosixPath('/mnt/sdb/tmp-skat/skat_mtx/intermediate_batches/neg_batch_62.mt'), PosixPath('/mnt/sdb/tmp-skat/skat_mtx/intermediate_batches/neg_batch_63.mt'), PosixPath('/mnt/sdb/tmp-skat/skat_mtx/intermediate_batches/neg_batch_64.mt'), PosixPath('/mnt/sdb/tmp-skat/skat_mtx/intermediate_batches/neg_batch_65.mt'), PosixPath('/mnt/sdb/tmp-skat/skat_mtx/intermediate_batches/neg_batch_66.mt'), PosixPath('/mnt/sdb/tmp-skat/skat_mtx/intermediate_batches/neg_batch_67.mt'), PosixPath('/mnt/sdb/tmp-skat/skat_mtx/intermediate_batches/neg_batch_68.mt'), PosixPath('/mnt/sdb/tmp-skat/skat_mtx/intermediate_batches/neg_batch_69.mt'), PosixPath('/mnt/sdb/tmp-skat/skat_mtx/intermediate_batches/neg_batch_70.mt'), PosixPath('/mnt/sdb/tmp-skat/skat_mtx/intermediate_batches/neg_batch_71.mt'), PosixPath('/mnt/sdb/tmp-skat/skat_mtx/intermediate_batches/neg_batch_72.mt'), PosixPath('/mnt/sdb/tmp-skat/skat_mtx/intermediate_batches/neg_batch_73.mt'), PosixPath('/mnt/sdb/tmp-skat/skat_mtx/intermediate_batches/neg_batch_74.mt'), PosixPath('/mnt/sdb/tmp-skat/skat_mtx/intermediate_batches/neg_batch_75.mt'), PosixPath('/mnt/sdb/tmp-skat/skat_mtx/intermediate_batches/neg_batch_76.mt'), PosixPath('/mnt/sdb/tmp-skat/skat_mtx/intermediate_batches/neg_batch_77.mt'), PosixPath('/mnt/sdb/tmp-skat/skat_mtx/intermediate_batches/neg_batch_78.mt'), PosixPath('/mnt/sdb/tmp-skat/skat_mtx/intermediate_batches/neg_batch_79.mt'), PosixPath('/mnt/sdb/tmp-skat/skat_mtx/intermediate_batches/neg_batch_80.mt'), PosixPath('/mnt/sdb/tmp-skat/skat_mtx/intermediate_batches/neg_batch_81.mt'), PosixPath('/mnt/sdb/tmp-skat/skat_mtx/intermediate_batches/neg_batch_82.mt'), PosixPath('/mnt/sdb/tmp-skat/skat_mtx/intermediate_batches/neg_batch_83.mt'), PosixPath('/mnt/sdb/tmp-skat/skat_mtx/intermediate_batches/neg_batch_84.mt'), PosixPath('/mnt/sdb/tmp-skat/skat_mtx/intermediate_batches/neg_batch_85.mt'), PosixPath('/mnt/sdb/tmp-skat/skat_mtx/intermediate_batches/neg_batch_86.mt'), PosixPath('/mnt/sdb/tmp-skat/skat_mtx/intermediate_batches/neg_batch_87.mt'), PosixPath('/mnt/sdb/tmp-skat/skat_mtx/intermediate_batches/neg_batch_88.mt'), PosixPath('/mnt/sdb/tmp-skat/skat_mtx/intermediate_batches/neg_batch_89.mt'), PosixPath('/mnt/sdb/tmp-skat/skat_mtx/intermediate_batches/neg_batch_90.mt'), PosixPath('/mnt/sdb/tmp-skat/skat_mtx/intermediate_batches/neg_batch_91.mt'), PosixPath('/mnt/sdb/tmp-skat/skat_mtx/intermediate_batches/neg_batch_92.mt'), PosixPath('/mnt/sdb/tmp-skat/skat_mtx/intermediate_batches/neg_batch_93.mt'), PosixPath('/mnt/sdb/tmp-skat/skat_mtx/intermediate_batches/neg_batch_94.mt'), PosixPath('/mnt/sdb/tmp-skat/skat_mtx/intermediate_batches/neg_batch_95.mt'), PosixPath('/mnt/sdb/tmp-skat/skat_mtx/intermediate_batches/neg_batch_96.mt'), PosixPath('/mnt/sdb/tmp-skat/skat_mtx/intermediate_batches/neg_batch_97.mt'), PosixPath('/mnt/sdb/tmp-skat/skat_mtx/intermediate_batches/neg_batch_98.mt'), PosixPath('/mnt/sdb/tmp-skat/skat_mtx/intermediate_batches/neg_batch_99.mt'), PosixPath('/mnt/sdb/tmp-skat/skat_mtx/intermediate_batches/neg_batch_100.mt'), PosixPath('/mnt/sdb/tmp-skat/skat_mtx/intermediate_batches/neg_batch_101.mt'), PosixPath('/mnt/sdb/tmp-skat/skat_mtx/intermediate_batches/neg_batch_102.mt'), PosixPath('/mnt/sdb/tmp-skat/skat_mtx/intermediate_batches/neg_batch_103.mt'), PosixPath('/mnt/sdb/tmp-skat/skat_mtx/intermediate_batches/neg_batch_104.mt'), PosixPath('/mnt/sdb/tmp-skat/skat_mtx/intermediate_batches/neg_batch_105.mt'), PosixPath('/mnt/sdb/tmp-skat/skat_mtx/intermediate_batches/neg_batch_106.mt'), PosixPath('/mnt/sdb/tmp-skat/skat_mtx/intermediate_batches/neg_batch_107.mt'), PosixPath('/mnt/sdb/tmp-skat/skat_mtx/intermediate_batches/neg_batch_108.mt'), PosixPath('/mnt/sdb/tmp-skat/skat_mtx/intermediate_batches/neg_batch_109.mt'), PosixPath('/mnt/sdb/tmp-skat/skat_mtx/intermediate_batches/neg_batch_110.mt'), PosixPath('/mnt/sdb/tmp-skat/skat_mtx/intermediate_batches/neg_batch_111.mt'), PosixPath('/mnt/sdb/tmp-skat/skat_mtx/intermediate_batches/neg_batch_112.mt'), PosixPath('/mnt/sdb/tmp-skat/skat_mtx/intermediate_batches/neg_batch_113.mt'), PosixPath('/mnt/sdb/tmp-skat/skat_mtx/intermediate_batches/neg_batch_114.mt'), PosixPath('/mnt/sdb/tmp-skat/skat_mtx/intermediate_batches/neg_batch_115.mt'), PosixPath('/mnt/sdb/tmp-skat/skat_mtx/intermediate_batches/neg_batch_116.mt'), PosixPath('/mnt/sdb/tmp-skat/skat_mtx/intermediate_batches/neg_batch_117.mt'), PosixPath('/mnt/sdb/tmp-skat/skat_mtx/intermediate_batches/neg_batch_118.mt'), PosixPath('/mnt/sdb/tmp-skat/skat_mtx/intermediate_batches/neg_batch_119.mt'), PosixPath('/mnt/sdb/tmp-skat/skat_mtx/intermediate_batches/neg_batch_120.mt'), PosixPath('/mnt/sdb/tmp-skat/skat_mtx/intermediate_batches/neg_batch_121.mt'), PosixPath('/mnt/sdb/tmp-skat/skat_mtx/intermediate_batches/neg_batch_122.mt'), PosixPath('/mnt/sdb/tmp-skat/skat_mtx/intermediate_batches/neg_batch_123.mt'), PosixPath('/mnt/sdb/tmp-skat/skat_mtx/intermediate_batches/neg_batch_124.mt'), PosixPath('/mnt/sdb/tmp-skat/skat_mtx/intermediate_batches/neg_batch_125.mt'), PosixPath('/mnt/sdb/tmp-skat/skat_mtx/intermediate_batches/neg_batch_126.mt'), PosixPath('/mnt/sdb/tmp-skat/skat_mtx/intermediate_batches/neg_batch_127.mt'), PosixPath('/mnt/sdb/tmp-skat/skat_mtx/intermediate_batches/neg_batch_128.mt'), PosixPath('/mnt/sdb/tmp-skat/skat_mtx/intermediate_batches/neg_batch_129.mt'), PosixPath('/mnt/sdb/tmp-skat/skat_mtx/intermediate_batches/neg_batch_130.mt'), PosixPath('/mnt/sdb/tmp-skat/skat_mtx/intermediate_batches/neg_batch_131.mt'), PosixPath('/mnt/sdb/tmp-skat/skat_mtx/intermediate_batches/neg_batch_132.mt'), PosixPath('/mnt/sdb/tmp-skat/skat_mtx/intermediate_batches/neg_batch_133.mt'), PosixPath('/mnt/sdb/tmp-skat/skat_mtx/intermediate_batches/neg_batch_134.mt'), PosixPath('/mnt/sdb/tmp-skat/skat_mtx/intermediate_batches/neg_batch_135.mt'), PosixPath('/mnt/sdb/tmp-skat/skat_mtx/intermediate_batches/neg_batch_136.mt'), PosixPath('/mnt/sdb/tmp-skat/skat_mtx/intermediate_batches/neg_batch_137.mt'), PosixPath('/mnt/sdb/tmp-skat/skat_mtx/intermediate_batches/neg_batch_138.mt'), PosixPath('/mnt/sdb/tmp-skat/skat_mtx/intermediate_batches/neg_batch_139.mt'), PosixPath('/mnt/sdb/tmp-skat/skat_mtx/intermediate_batches/neg_batch_140.mt'), PosixPath('/mnt/sdb/tmp-skat/skat_mtx/intermediate_batches/neg_batch_141.mt'), PosixPath('/mnt/sdb/tmp-skat/skat_mtx/intermediate_batches/neg_batch_142.mt'), PosixPath('/mnt/sdb/tmp-skat/skat_mtx/intermediate_batches/neg_batch_143.mt'), PosixPath('/mnt/sdb/tmp-skat/skat_mtx/intermediate_batches/neg_batch_144.mt'), PosixPath('/mnt/sdb/tmp-skat/skat_mtx/intermediate_batches/neg_batch_145.mt'), PosixPath('/mnt/sdb/tmp-skat/skat_mtx/intermediate_batches/neg_batch_146.mt'), PosixPath('/mnt/sdb/tmp-skat/skat_mtx/intermediate_batches/neg_batch_147.mt'), PosixPath('/mnt/sdb/tmp-skat/skat_mtx/intermediate_batches/neg_batch_148.mt'), PosixPath('/mnt/sdb/tmp-skat/skat_mtx/intermediate_batches/neg_batch_149.mt'), PosixPath('/mnt/sdb/tmp-skat/skat_mtx/intermediate_batches/neg_batch_150.mt'), PosixPath('/mnt/sdb/tmp-skat/skat_mtx/intermediate_batches/neg_batch_151.mt'), PosixPath('/mnt/sdb/tmp-skat/skat_mtx/intermediate_batches/neg_batch_152.mt'), PosixPath('/mnt/sdb/tmp-skat/skat_mtx/intermediate_batches/neg_batch_153.mt'), PosixPath('/mnt/sdb/tmp-skat/skat_mtx/intermediate_batches/neg_batch_154.mt'), PosixPath('/mnt/sdb/tmp-skat/skat_mtx/intermediate_batches/neg_batch_155.mt'), PosixPath('/mnt/sdb/tmp-skat/skat_mtx/intermediate_batches/neg_batch_156.mt'), PosixPath('/mnt/sdb/tmp-skat/skat_mtx/intermediate_batches/neg_batch_157.mt'), PosixPath('/mnt/sdb/tmp-skat/skat_mtx/intermediate_batches/neg_batch_158.mt'), PosixPath('/mnt/sdb/tmp-skat/skat_mtx/intermediate_batches/neg_batch_159.mt'), PosixPath('/mnt/sdb/tmp-skat/skat_mtx/intermediate_batches/neg_batch_160.mt'), PosixPath('/mnt/sdb/tmp-skat/skat_mtx/intermediate_batches/neg_batch_161.mt'), PosixPath('/mnt/sdb/tmp-skat/skat_mtx/intermediate_batches/neg_batch_162.mt'), PosixPath('/mnt/sdb/tmp-skat/skat_mtx/intermediate_batches/neg_batch_163.mt'), PosixPath('/mnt/sdb/tmp-skat/skat_mtx/intermediate_batches/neg_batch_164.mt'), PosixPath('/mnt/sdb/tmp-skat/skat_mtx/intermediate_batches/neg_batch_165.mt'), PosixPath('/mnt/sdb/tmp-skat/skat_mtx/intermediate_batches/neg_batch_166.mt'), PosixPath('/mnt/sdb/tmp-skat/skat_mtx/intermediate_batches/neg_batch_167.mt'), PosixPath('/mnt/sdb/tmp-skat/skat_mtx/intermediate_batches/neg_batch_168.mt'), PosixPath('/mnt/sdb/tmp-skat/skat_mtx/intermediate_batches/neg_batch_169.mt'), PosixPath('/mnt/sdb/tmp-skat/skat_mtx/intermediate_batches/neg_batch_170.mt'), PosixPath('/mnt/sdb/tmp-skat/skat_mtx/intermediate_batches/neg_batch_171.mt'), PosixPath('/mnt/sdb/tmp-skat/skat_mtx/intermediate_batches/neg_batch_172.mt'), PosixPath('/mnt/sdb/tmp-skat/skat_mtx/intermediate_batches/neg_batch_173.mt'), PosixPath('/mnt/sdb/tmp-skat/skat_mtx/intermediate_batches/neg_batch_174.mt'), PosixPath('/mnt/sdb/tmp-skat/skat_mtx/intermediate_batches/neg_batch_175.mt'), PosixPath('/mnt/sdb/tmp-skat/skat_mtx/intermediate_batches/neg_batch_176.mt'), PosixPath('/mnt/sdb/tmp-skat/skat_mtx/intermediate_batches/neg_batch_177.mt'), PosixPath('/mnt/sdb/tmp-skat/skat_mtx/intermediate_batches/neg_batch_178.mt'), PosixPath('/mnt/sdb/tmp-skat/skat_mtx/intermediate_batches/neg_batch_179.mt'), PosixPath('/mnt/sdb/tmp-skat/skat_mtx/intermediate_batches/neg_batch_180.mt'), PosixPath('/mnt/sdb/tmp-skat/skat_mtx/intermediate_batches/neg_batch_181.mt'), PosixPath('/mnt/sdb/tmp-skat/skat_mtx/intermediate_batches/neg_batch_182.mt'), PosixPath('/mnt/sdb/tmp-skat/skat_mtx/intermediate_batches/neg_batch_183.mt'), PosixPath('/mnt/sdb/tmp-skat/skat_mtx/intermediate_batches/neg_batch_184.mt'), PosixPath('/mnt/sdb/tmp-skat/skat_mtx/intermediate_batches/neg_batch_185.mt'), PosixPath('/mnt/sdb/tmp-skat/skat_mtx/intermediate_batches/neg_batch_186.mt'), PosixPath('/mnt/sdb/tmp-skat/skat_mtx/intermediate_batches/neg_batch_187.mt'), PosixPath('/mnt/sdb/tmp-skat/skat_mtx/intermediate_batches/neg_batch_188.mt'), PosixPath('/mnt/sdb/tmp-skat/skat_mtx/intermediate_batches/neg_batch_189.mt'), PosixPath('/mnt/sdb/tmp-skat/skat_mtx/intermediate_batches/neg_batch_190.mt'), PosixPath('/mnt/sdb/tmp-skat/skat_mtx/intermediate_batches/neg_batch_191.mt'), PosixPath('/mnt/sdb/tmp-skat/skat_mtx/intermediate_batches/neg_batch_192.mt'), PosixPath('/mnt/sdb/tmp-skat/skat_mtx/intermediate_batches/neg_batch_193.mt'), PosixPath('/mnt/sdb/tmp-skat/skat_mtx/intermediate_batches/neg_batch_194.mt'), PosixPath('/mnt/sdb/tmp-skat/skat_mtx/intermediate_batches/neg_batch_195.mt'), PosixPath('/mnt/sdb/tmp-skat/skat_mtx/intermediate_batches/neg_batch_196.mt'), PosixPath('/mnt/sdb/tmp-skat/skat_mtx/intermediate_batches/neg_batch_197.mt'), PosixPath('/mnt/sdb/tmp-skat/skat_mtx/intermediate_batches/neg_batch_198.mt'), PosixPath('/mnt/sdb/tmp-skat/skat_mtx/intermediate_batches/neg_batch_199.mt'), PosixPath('/mnt/sdb/tmp-skat/skat_mtx/intermediate_batches/neg_batch_200.mt'), PosixPath('/mnt/sdb/tmp-skat/skat_mtx/intermediate_batches/neg_batch_201.mt'), PosixPath('/mnt/sdb/tmp-skat/skat_mtx/intermediate_batches/neg_batch_202.mt'), PosixPath('/mnt/sdb/tmp-skat/skat_mtx/intermediate_batches/neg_batch_203.mt'), PosixPath('/mnt/sdb/tmp-skat/skat_mtx/intermediate_batches/neg_batch_204.mt'), PosixPath('/mnt/sdb/tmp-skat/skat_mtx/intermediate_batches/neg_batch_205.mt'), PosixPath('/mnt/sdb/tmp-skat/skat_mtx/intermediate_batches/neg_batch_206.mt'), PosixPath('/mnt/sdb/tmp-skat/skat_mtx/intermediate_batches/neg_batch_207.mt'), PosixPath('/mnt/sdb/tmp-skat/skat_mtx/intermediate_batches/neg_batch_208.mt'), PosixPath('/mnt/sdb/tmp-skat/skat_mtx/intermediate_batches/neg_batch_209.mt'), PosixPath('/mnt/sdb/tmp-skat/skat_mtx/intermediate_batches/neg_batch_210.mt'), PosixPath('/mnt/sdb/tmp-skat/skat_mtx/intermediate_batches/neg_batch_211.mt'), PosixPath('/mnt/sdb/tmp-skat/skat_mtx/intermediate_batches/neg_batch_212.mt'), PosixPath('/mnt/sdb/tmp-skat/skat_mtx/intermediate_batches/neg_batch_213.mt'), PosixPath('/mnt/sdb/tmp-skat/skat_mtx/intermediate_batches/neg_batch_214.mt'), PosixPath('/mnt/sdb/tmp-skat/skat_mtx/intermediate_batches/neg_batch_215.mt'), PosixPath('/mnt/sdb/tmp-skat/skat_mtx/intermediate_batches/neg_batch_216.mt'), PosixPath('/mnt/sdb/tmp-skat/skat_mtx/intermediate_batches/neg_batch_217.mt'), PosixPath('/mnt/sdb/tmp-skat/skat_mtx/intermediate_batches/neg_batch_218.mt'), PosixPath('/mnt/sdb/tmp-skat/skat_mtx/intermediate_batches/neg_batch_219.mt'), PosixPath('/mnt/sdb/tmp-skat/skat_mtx/intermediate_batches/neg_batch_220.mt'), PosixPath('/mnt/sdb/tmp-skat/skat_mtx/intermediate_batches/neg_batch_221.mt'), PosixPath('/mnt/sdb/tmp-skat/skat_mtx/intermediate_batches/neg_batch_222.mt'), PosixPath('/mnt/sdb/tmp-skat/skat_mtx/intermediate_batches/neg_batch_223.mt'), PosixPath('/mnt/sdb/tmp-skat/skat_mtx/intermediate_batches/neg_batch_224.mt'), PosixPath('/mnt/sdb/tmp-skat/skat_mtx/intermediate_batches/neg_batch_225.mt'), PosixPath('/mnt/sdb/tmp-skat/skat_mtx/intermediate_batches/neg_batch_226.mt'), PosixPath('/mnt/sdb/tmp-skat/skat_mtx/intermediate_batches/neg_batch_227.mt'), PosixPath('/mnt/sdb/tmp-skat/skat_mtx/intermediate_batches/neg_batch_228.mt'), PosixPath('/mnt/sdb/tmp-skat/skat_mtx/intermediate_batches/neg_batch_229.mt'), PosixPath('/mnt/sdb/tmp-skat/skat_mtx/intermediate_batches/neg_batch_230.mt'), PosixPath('/mnt/sdb/tmp-skat/skat_mtx/intermediate_batches/neg_batch_231.mt'), PosixPath('/mnt/sdb/tmp-skat/skat_mtx/intermediate_batches/neg_batch_232.mt'), PosixPath('/mnt/sdb/tmp-skat/skat_mtx/intermediate_batches/neg_batch_233.mt'), PosixPath('/mnt/sdb/tmp-skat/skat_mtx/intermediate_batches/neg_batch_234.mt'), PosixPath('/mnt/sdb/tmp-skat/skat_mtx/intermediate_batches/neg_batch_235.mt'), PosixPath('/mnt/sdb/tmp-skat/skat_mtx/intermediate_batches/neg_batch_236.mt'), PosixPath('/mnt/sdb/tmp-skat/skat_mtx/intermediate_batches/neg_batch_237.mt'), PosixPath('/mnt/sdb/tmp-skat/skat_mtx/intermediate_batches/neg_batch_238.mt'), PosixPath('/mnt/sdb/tmp-skat/skat_mtx/intermediate_batches/neg_batch_239.mt'), PosixPath('/mnt/sdb/tmp-skat/skat_mtx/intermediate_batches/neg_batch_240.mt'), PosixPath('/mnt/sdb/tmp-skat/skat_mtx/intermediate_batches/neg_batch_241.mt'), PosixPath('/mnt/sdb/tmp-skat/skat_mtx/intermediate_batches/neg_batch_242.mt'), PosixPath('/mnt/sdb/tmp-skat/skat_mtx/intermediate_batches/neg_batch_243.mt'), PosixPath('/mnt/sdb/tmp-skat/skat_mtx/intermediate_batches/neg_batch_244.mt'), PosixPath('/mnt/sdb/tmp-skat/skat_mtx/intermediate_batches/neg_batch_245.mt'), PosixPath('/mnt/sdb/tmp-skat/skat_mtx/intermediate_batches/neg_batch_246.mt'), PosixPath('/mnt/sdb/tmp-skat/skat_mtx/intermediate_batches/neg_batch_247.mt'), PosixPath('/mnt/sdb/tmp-skat/skat_mtx/intermediate_batches/neg_batch_248.mt'), PosixPath('/mnt/sdb/tmp-skat/skat_mtx/intermediate_batches/neg_batch_249.mt'), PosixPath('/mnt/sdb/tmp-skat/skat_mtx/intermediate_batches/neg_batch_250.mt'), PosixPath('/mnt/sdb/tmp-skat/skat_mtx/intermediate_batches/neg_batch_251.mt'), PosixPath('/mnt/sdb/tmp-skat/skat_mtx/intermediate_batches/neg_batch_252.mt'), PosixPath('/mnt/sdb/tmp-skat/skat_mtx/intermediate_batches/neg_batch_253.mt'), PosixPath('/mnt/sdb/tmp-skat/skat_mtx/intermediate_batches/neg_batch_254.mt'), PosixPath('/mnt/sdb/tmp-skat/skat_mtx/intermediate_batches/neg_batch_255.mt'), PosixPath('/mnt/sdb/tmp-skat/skat_mtx/intermediate_batches/neg_batch_256.mt'), PosixPath('/mnt/sdb/tmp-skat/skat_mtx/intermediate_batches/neg_batch_257.mt'), PosixPath('/mnt/sdb/tmp-skat/skat_mtx/intermediate_batches/neg_batch_258.mt'), PosixPath('/mnt/sdb/tmp-skat/skat_mtx/intermediate_batches/neg_batch_259.mt'), PosixPath('/mnt/sdb/tmp-skat/skat_mtx/intermediate_batches/neg_batch_260.mt'), PosixPath('/mnt/sdb/tmp-skat/skat_mtx/intermediate_batches/neg_batch_261.mt'), PosixPath('/mnt/sdb/tmp-skat/skat_mtx/intermediate_batches/neg_batch_262.mt'), PosixPath('/mnt/sdb/tmp-skat/skat_mtx/intermediate_batches/neg_batch_263.mt'), PosixPath('/mnt/sdb/tmp-skat/skat_mtx/intermediate_batches/neg_batch_264.mt'), PosixPath('/mnt/sdb/tmp-skat/skat_mtx/intermediate_batches/neg_batch_265.mt'), PosixPath('/mnt/sdb/tmp-skat/skat_mtx/intermediate_batches/neg_batch_266.mt'), PosixPath('/mnt/sdb/tmp-skat/skat_mtx/intermediate_batches/neg_batch_267.mt'), PosixPath('/mnt/sdb/tmp-skat/skat_mtx/intermediate_batches/neg_batch_268.mt'), PosixPath('/mnt/sdb/tmp-skat/skat_mtx/intermediate_batches/neg_batch_269.mt'), PosixPath('/mnt/sdb/tmp-skat/skat_mtx/intermediate_batches/neg_batch_270.mt'), PosixPath('/mnt/sdb/tmp-skat/skat_mtx/intermediate_batches/neg_batch_271.mt'), PosixPath('/mnt/sdb/tmp-skat/skat_mtx/intermediate_batches/neg_batch_272.mt'), PosixPath('/mnt/sdb/tmp-skat/skat_mtx/intermediate_batches/neg_batch_273.mt'), PosixPath('/mnt/sdb/tmp-skat/skat_mtx/intermediate_batches/neg_batch_274.mt'), PosixPath('/mnt/sdb/tmp-skat/skat_mtx/intermediate_batches/neg_batch_275.mt'), PosixPath('/mnt/sdb/tmp-skat/skat_mtx/intermediate_batches/neg_batch_276.mt'), PosixPath('/mnt/sdb/tmp-skat/skat_mtx/intermediate_batches/neg_batch_277.mt'), PosixPath('/mnt/sdb/tmp-skat/skat_mtx/intermediate_batches/neg_batch_278.mt'), PosixPath('/mnt/sdb/tmp-skat/skat_mtx/intermediate_batches/neg_batch_279.mt'), PosixPath('/mnt/sdb/tmp-skat/skat_mtx/intermediate_batches/neg_batch_280.mt'), PosixPath('/mnt/sdb/tmp-skat/skat_mtx/intermediate_batches/neg_batch_281.mt'), PosixPath('/mnt/sdb/tmp-skat/skat_mtx/intermediate_batches/neg_batch_282.mt'), PosixPath('/mnt/sdb/tmp-skat/skat_mtx/intermediate_batches/neg_batch_283.mt'), PosixPath('/mnt/sdb/tmp-skat/skat_mtx/intermediate_batches/neg_batch_284.mt'), PosixPath('/mnt/sdb/tmp-skat/skat_mtx/intermediate_batches/neg_batch_285.mt'), PosixPath('/mnt/sdb/tmp-skat/skat_mtx/intermediate_batches/neg_batch_286.mt'), PosixPath('/mnt/sdb/tmp-skat/skat_mtx/intermediate_batches/neg_batch_287.mt'), PosixPath('/mnt/sdb/tmp-skat/skat_mtx/intermediate_batches/neg_batch_288.mt'), PosixPath('/mnt/sdb/tmp-skat/skat_mtx/intermediate_batches/neg_batch_289.mt'), PosixPath('/mnt/sdb/tmp-skat/skat_mtx/intermediate_batches/neg_batch_290.mt'), PosixPath('/mnt/sdb/tmp-skat/skat_mtx/intermediate_batches/neg_batch_291.mt'), PosixPath('/mnt/sdb/tmp-skat/skat_mtx/intermediate_batches/neg_batch_292.mt'), PosixPath('/mnt/sdb/tmp-skat/skat_mtx/intermediate_batches/neg_batch_293.mt'), PosixPath('/mnt/sdb/tmp-skat/skat_mtx/intermediate_batches/neg_batch_294.mt'), PosixPath('/mnt/sdb/tmp-skat/skat_mtx/intermediate_batches/neg_batch_295.mt'), PosixPath('/mnt/sdb/tmp-skat/skat_mtx/intermediate_batches/neg_batch_296.mt'), PosixPath('/mnt/sdb/tmp-skat/skat_mtx/intermediate_batches/neg_batch_297.mt'), PosixPath('/mnt/sdb/tmp-skat/skat_mtx/intermediate_batches/neg_batch_298.mt'), PosixPath('/mnt/sdb/tmp-skat/skat_mtx/intermediate_batches/neg_batch_299.mt'), PosixPath('/mnt/sdb/tmp-skat/skat_mtx/intermediate_batches/neg_batch_300.mt'), PosixPath('/mnt/sdb/tmp-skat/skat_mtx/intermediate_batches/neg_batch_301.mt'), PosixPath('/mnt/sdb/tmp-skat/skat_mtx/intermediate_batches/neg_batch_302.mt'), PosixPath('/mnt/sdb/tmp-skat/skat_mtx/intermediate_batches/neg_batch_303.mt'), PosixPath('/mnt/sdb/tmp-skat/skat_mtx/intermediate_batches/neg_batch_304.mt'), PosixPath('/mnt/sdb/tmp-skat/skat_mtx/intermediate_batches/neg_batch_305.mt'), PosixPath('/mnt/sdb/tmp-skat/skat_mtx/intermediate_batches/neg_batch_306.mt'), PosixPath('/mnt/sdb/tmp-skat/skat_mtx/intermediate_batches/neg_batch_307.mt'), PosixPath('/mnt/sdb/tmp-skat/skat_mtx/intermediate_batches/neg_batch_308.mt'), PosixPath('/mnt/sdb/tmp-skat/skat_mtx/intermediate_batches/neg_batch_309.mt'), PosixPath('/mnt/sdb/tmp-skat/skat_mtx/intermediate_batches/neg_batch_310.mt'), PosixPath('/mnt/sdb/tmp-skat/skat_mtx/intermediate_batches/neg_batch_311.mt'), PosixPath('/mnt/sdb/tmp-skat/skat_mtx/intermediate_batches/neg_batch_312.mt'), PosixPath('/mnt/sdb/tmp-skat/skat_mtx/intermediate_batches/neg_batch_313.mt'), PosixPath('/mnt/sdb/tmp-skat/skat_mtx/intermediate_batches/neg_batch_314.mt'), PosixPath('/mnt/sdb/tmp-skat/skat_mtx/intermediate_batches/neg_batch_315.mt'), PosixPath('/mnt/sdb/tmp-skat/skat_mtx/intermediate_batches/neg_batch_316.mt'), PosixPath('/mnt/sdb/tmp-skat/skat_mtx/intermediate_batches/neg_batch_317.mt'), PosixPath('/mnt/sdb/tmp-skat/skat_mtx/intermediate_batches/neg_batch_318.mt'), PosixPath('/mnt/sdb/tmp-skat/skat_mtx/intermediate_batches/neg_batch_319.mt'), PosixPath('/mnt/sdb/tmp-skat/skat_mtx/intermediate_batches/neg_batch_320.mt'), PosixPath('/mnt/sdb/tmp-skat/skat_mtx/intermediate_batches/neg_batch_321.mt'), PosixPath('/mnt/sdb/tmp-skat/skat_mtx/intermediate_batches/neg_batch_322.mt'), PosixPath('/mnt/sdb/tmp-skat/skat_mtx/intermediate_batches/neg_batch_323.mt'), PosixPath('/mnt/sdb/tmp-skat/skat_mtx/intermediate_batches/neg_batch_324.mt'), PosixPath('/mnt/sdb/tmp-skat/skat_mtx/intermediate_batches/neg_batch_325.mt'), PosixPath('/mnt/sdb/tmp-skat/skat_mtx/intermediate_batches/neg_batch_326.mt'), PosixPath('/mnt/sdb/tmp-skat/skat_mtx/intermediate_batches/neg_batch_327.mt'), PosixPath('/mnt/sdb/tmp-skat/skat_mtx/intermediate_batches/neg_batch_328.mt'), PosixPath('/mnt/sdb/tmp-skat/skat_mtx/intermediate_batches/neg_batch_329.mt'), PosixPath('/mnt/sdb/tmp-skat/skat_mtx/intermediate_batches/neg_batch_330.mt'), PosixPath('/mnt/sdb/tmp-skat/skat_mtx/intermediate_batches/neg_batch_331.mt'), PosixPath('/mnt/sdb/tmp-skat/skat_mtx/intermediate_batches/neg_batch_332.mt'), PosixPath('/mnt/sdb/tmp-skat/skat_mtx/intermediate_batches/neg_batch_333.mt'), PosixPath('/mnt/sdb/tmp-skat/skat_mtx/intermediate_batches/neg_batch_334.mt'), PosixPath('/mnt/sdb/tmp-skat/skat_mtx/intermediate_batches/neg_batch_335.mt'), PosixPath('/mnt/sdb/tmp-skat/skat_mtx/intermediate_batches/neg_batch_336.mt'), PosixPath('/mnt/sdb/tmp-skat/skat_mtx/intermediate_batches/neg_batch_337.mt'), PosixPath('/mnt/sdb/tmp-skat/skat_mtx/intermediate_batches/neg_batch_338.mt'), PosixPath('/mnt/sdb/tmp-skat/skat_mtx/intermediate_batches/neg_batch_339.mt'), PosixPath('/mnt/sdb/tmp-skat/skat_mtx/intermediate_batches/neg_batch_340.mt'), PosixPath('/mnt/sdb/tmp-skat/skat_mtx/intermediate_batches/neg_batch_341.mt'), PosixPath('/mnt/sdb/tmp-skat/skat_mtx/intermediate_batches/neg_batch_342.mt'), PosixPath('/mnt/sdb/tmp-skat/skat_mtx/intermediate_batches/neg_batch_343.mt'), PosixPath('/mnt/sdb/tmp-skat/skat_mtx/intermediate_batches/neg_batch_344.mt'), PosixPath('/mnt/sdb/tmp-skat/skat_mtx/intermediate_batches/neg_batch_345.mt'), PosixPath('/mnt/sdb/tmp-skat/skat_mtx/intermediate_batches/neg_batch_346.mt'), PosixPath('/mnt/sdb/tmp-skat/skat_mtx/intermediate_batches/neg_batch_347.mt'), PosixPath('/mnt/sdb/tmp-skat/skat_mtx/intermediate_batches/neg_batch_348.mt'), PosixPath('/mnt/sdb/tmp-skat/skat_mtx/intermediate_batches/neg_batch_349.mt'), PosixPath('/mnt/sdb/tmp-skat/skat_mtx/intermediate_batches/neg_batch_350.mt'), PosixPath('/mnt/sdb/tmp-skat/skat_mtx/intermediate_batches/neg_batch_351.mt'), PosixPath('/mnt/sdb/tmp-skat/skat_mtx/intermediate_batches/neg_batch_352.mt'), PosixPath('/mnt/sdb/tmp-skat/skat_mtx/intermediate_batches/neg_batch_353.mt'), PosixPath('/mnt/sdb/tmp-skat/skat_mtx/intermediate_batches/neg_batch_354.mt'), PosixPath('/mnt/sdb/tmp-skat/skat_mtx/intermediate_batches/neg_batch_355.mt'), PosixPath('/mnt/sdb/tmp-skat/skat_mtx/intermediate_batches/neg_batch_356.mt'), PosixPath('/mnt/sdb/tmp-skat/skat_mtx/intermediate_batches/neg_batch_357.mt'), PosixPath('/mnt/sdb/tmp-skat/skat_mtx/intermediate_batches/neg_batch_358.mt'), PosixPath('/mnt/sdb/tmp-skat/skat_mtx/intermediate_batches/neg_batch_359.mt'), PosixPath('/mnt/sdb/tmp-skat/skat_mtx/intermediate_batches/neg_batch_360.mt'), PosixPath('/mnt/sdb/tmp-skat/skat_mtx/intermediate_batches/neg_batch_361.mt'), PosixPath('/mnt/sdb/tmp-skat/skat_mtx/intermediate_batches/neg_batch_362.mt'), PosixPath('/mnt/sdb/tmp-skat/skat_mtx/intermediate_batches/neg_batch_363.mt'), PosixPath('/mnt/sdb/tmp-skat/skat_mtx/intermediate_batches/neg_batch_364.mt'), PosixPath('/mnt/sdb/tmp-skat/skat_mtx/intermediate_batches/neg_batch_365.mt'), PosixPath('/mnt/sdb/tmp-skat/skat_mtx/intermediate_batches/neg_batch_366.mt'), PosixPath('/mnt/sdb/tmp-skat/skat_mtx/intermediate_batches/neg_batch_367.mt'), PosixPath('/mnt/sdb/tmp-skat/skat_mtx/intermediate_batches/neg_batch_368.mt'), PosixPath('/mnt/sdb/tmp-skat/skat_mtx/intermediate_batches/neg_batch_369.mt'), PosixPath('/mnt/sdb/tmp-skat/skat_mtx/intermediate_batches/neg_batch_370.mt'), PosixPath('/mnt/sdb/tmp-skat/skat_mtx/intermediate_batches/neg_batch_371.mt'), PosixPath('/mnt/sdb/tmp-skat/skat_mtx/intermediate_batches/neg_batch_372.mt'), PosixPath('/mnt/sdb/tmp-skat/skat_mtx/intermediate_batches/neg_batch_373.mt'), PosixPath('/mnt/sdb/tmp-skat/skat_mtx/intermediate_batches/neg_batch_374.mt'), PosixPath('/mnt/sdb/tmp-skat/skat_mtx/intermediate_batches/neg_batch_375.mt'), PosixPath('/mnt/sdb/tmp-skat/skat_mtx/intermediate_batches/neg_batch_376.mt'), PosixPath('/mnt/sdb/tmp-skat/skat_mtx/intermediate_batches/neg_batch_377.mt'), PosixPath('/mnt/sdb/tmp-skat/skat_mtx/intermediate_batches/neg_batch_378.mt'), PosixPath('/mnt/sdb/tmp-skat/skat_mtx/intermediate_batches/neg_batch_379.mt'), PosixPath('/mnt/sdb/tmp-skat/skat_mtx/intermediate_batches/neg_batch_380.mt'), PosixPath('/mnt/sdb/tmp-skat/skat_mtx/intermediate_batches/neg_batch_381.mt'), PosixPath('/mnt/sdb/tmp-skat/skat_mtx/intermediate_batches/neg_batch_382.mt'), PosixPath('/mnt/sdb/tmp-skat/skat_mtx/intermediate_batches/neg_batch_383.mt'), PosixPath('/mnt/sdb/tmp-skat/skat_mtx/intermediate_batches/neg_batch_384.mt'), PosixPath('/mnt/sdb/tmp-skat/skat_mtx/intermediate_batches/neg_batch_385.mt'), PosixPath('/mnt/sdb/tmp-skat/skat_mtx/intermediate_batches/neg_batch_386.mt'), PosixPath('/mnt/sdb/tmp-skat/skat_mtx/intermediate_batches/neg_batch_387.mt'), PosixPath('/mnt/sdb/tmp-skat/skat_mtx/intermediate_batches/neg_batch_388.mt'), PosixPath('/mnt/sdb/tmp-skat/skat_mtx/intermediate_batches/neg_batch_389.mt'), PosixPath('/mnt/sdb/tmp-skat/skat_mtx/intermediate_batches/neg_batch_390.mt'), PosixPath('/mnt/sdb/tmp-skat/skat_mtx/intermediate_batches/neg_batch_391.mt'), PosixPath('/mnt/sdb/tmp-skat/skat_mtx/intermediate_batches/neg_batch_392.mt'), PosixPath('/mnt/sdb/tmp-skat/skat_mtx/intermediate_batches/neg_batch_393.mt'), PosixPath('/mnt/sdb/tmp-skat/skat_mtx/intermediate_batches/neg_batch_394.mt'), PosixPath('/mnt/sdb/tmp-skat/skat_mtx/intermediate_batches/neg_batch_395.mt'), PosixPath('/mnt/sdb/tmp-skat/skat_mtx/intermediate_batches/neg_batch_396.mt'), PosixPath('/mnt/sdb/tmp-skat/skat_mtx/intermediate_batches/neg_batch_397.mt'), PosixPath('/mnt/sdb/tmp-skat/skat_mtx/intermediate_batches/neg_batch_398.mt'), PosixPath('/mnt/sdb/tmp-skat/skat_mtx/intermediate_batches/neg_batch_399.mt'), PosixPath('/mnt/sdb/tmp-skat/skat_mtx/intermediate_batches/neg_batch_400.mt'), PosixPath('/mnt/sdb/tmp-skat/skat_mtx/intermediate_batches/neg_batch_401.mt'), PosixPath('/mnt/sdb/tmp-skat/skat_mtx/intermediate_batches/neg_batch_402.mt'), PosixPath('/mnt/sdb/tmp-skat/skat_mtx/intermediate_batches/neg_batch_403.mt'), PosixPath('/mnt/sdb/tmp-skat/skat_mtx/intermediate_batches/neg_batch_404.mt'), PosixPath('/mnt/sdb/tmp-skat/skat_mtx/intermediate_batches/neg_batch_405.mt'), PosixPath('/mnt/sdb/tmp-skat/skat_mtx/intermediate_batches/neg_batch_406.mt'), PosixPath('/mnt/sdb/tmp-skat/skat_mtx/intermediate_batches/neg_batch_407.mt'), PosixPath('/mnt/sdb/tmp-skat/skat_mtx/intermediate_batches/neg_batch_408.mt'), PosixPath('/mnt/sdb/tmp-skat/skat_mtx/intermediate_batches/neg_batch_409.mt'), PosixPath('/mnt/sdb/tmp-skat/skat_mtx/intermediate_batches/neg_batch_410.mt'), PosixPath('/mnt/sdb/tmp-skat/skat_mtx/intermediate_batches/neg_batch_411.mt'), PosixPath('/mnt/sdb/tmp-skat/skat_mtx/intermediate_batches/neg_batch_412.mt'), PosixPath('/mnt/sdb/tmp-skat/skat_mtx/intermediate_batches/neg_batch_413.mt'), PosixPath('/mnt/sdb/tmp-skat/skat_mtx/intermediate_batches/neg_batch_414.mt'), PosixPath('/mnt/sdb/tmp-skat/skat_mtx/intermediate_batches/neg_batch_415.mt'), PosixPath('/mnt/sdb/tmp-skat/skat_mtx/intermediate_batches/neg_batch_416.mt'), PosixPath('/mnt/sdb/tmp-skat/skat_mtx/intermediate_batches/neg_batch_417.mt'), PosixPath('/mnt/sdb/tmp-skat/skat_mtx/intermediate_batches/neg_batch_418.mt'), PosixPath('/mnt/sdb/tmp-skat/skat_mtx/intermediate_batches/neg_batch_419.mt'), PosixPath('/mnt/sdb/tmp-skat/skat_mtx/intermediate_batches/neg_batch_420.mt'), PosixPath('/mnt/sdb/tmp-skat/skat_mtx/intermediate_batches/neg_batch_421.mt'), PosixPath('/mnt/sdb/tmp-skat/skat_mtx/intermediate_batches/neg_batch_422.mt'), PosixPath('/mnt/sdb/tmp-skat/skat_mtx/intermediate_batches/neg_batch_423.mt'), PosixPath('/mnt/sdb/tmp-skat/skat_mtx/intermediate_batches/neg_batch_424.mt'), PosixPath('/mnt/sdb/tmp-skat/skat_mtx/intermediate_batches/neg_batch_425.mt'), PosixPath('/mnt/sdb/tmp-skat/skat_mtx/intermediate_batches/neg_batch_426.mt'), PosixPath('/mnt/sdb/tmp-skat/skat_mtx/intermediate_batches/neg_batch_427.mt'), PosixPath('/mnt/sdb/tmp-skat/skat_mtx/intermediate_batches/neg_batch_428.mt'), PosixPath('/mnt/sdb/tmp-skat/skat_mtx/intermediate_batches/neg_batch_429.mt'), PosixPath('/mnt/sdb/tmp-skat/skat_mtx/intermediate_batches/neg_batch_430.mt'), PosixPath('/mnt/sdb/tmp-skat/skat_mtx/intermediate_batches/neg_batch_431.mt'), PosixPath('/mnt/sdb/tmp-skat/skat_mtx/intermediate_batches/neg_batch_432.mt'), PosixPath('/mnt/sdb/tmp-skat/skat_mtx/intermediate_batches/neg_batch_433.mt'), PosixPath('/mnt/sdb/tmp-skat/skat_mtx/intermediate_batches/neg_batch_434.mt'), PosixPath('/mnt/sdb/tmp-skat/skat_mtx/intermediate_batches/neg_batch_435.mt'), PosixPath('/mnt/sdb/tmp-skat/skat_mtx/intermediate_batches/neg_batch_436.mt'), PosixPath('/mnt/sdb/tmp-skat/skat_mtx/intermediate_batches/neg_batch_437.mt'), PosixPath('/mnt/sdb/tmp-skat/skat_mtx/intermediate_batches/neg_batch_438.mt'), PosixPath('/mnt/sdb/tmp-skat/skat_mtx/intermediate_batches/neg_batch_439.mt'), PosixPath('/mnt/sdb/tmp-skat/skat_mtx/intermediate_batches/neg_batch_440.mt'), PosixPath('/mnt/sdb/tmp-skat/skat_mtx/intermediate_batches/neg_batch_441.mt'), PosixPath('/mnt/sdb/tmp-skat/skat_mtx/intermediate_batches/neg_batch_442.mt'), PosixPath('/mnt/sdb/tmp-skat/skat_mtx/intermediate_batches/neg_batch_443.mt'), PosixPath('/mnt/sdb/tmp-skat/skat_mtx/intermediate_batches/neg_batch_444.mt'), PosixPath('/mnt/sdb/tmp-skat/skat_mtx/intermediate_batches/neg_batch_445.mt'), PosixPath('/mnt/sdb/tmp-skat/skat_mtx/intermediate_batches/neg_batch_446.mt'), PosixPath('/mnt/sdb/tmp-skat/skat_mtx/intermediate_batches/neg_batch_447.mt'), PosixPath('/mnt/sdb/tmp-skat/skat_mtx/intermediate_batches/neg_batch_448.mt'), PosixPath('/mnt/sdb/tmp-skat/skat_mtx/intermediate_batches/neg_batch_449.mt'), PosixPath('/mnt/sdb/tmp-skat/skat_mtx/intermediate_batches/neg_batch_450.mt'), PosixPath('/mnt/sdb/tmp-skat/skat_mtx/intermediate_batches/neg_batch_451.mt'), PosixPath('/mnt/sdb/tmp-skat/skat_mtx/intermediate_batches/neg_batch_452.mt'), PosixPath('/mnt/sdb/tmp-skat/skat_mtx/intermediate_batches/neg_batch_453.mt'), PosixPath('/mnt/sdb/tmp-skat/skat_mtx/intermediate_batches/neg_batch_454.mt'), PosixPath('/mnt/sdb/tmp-skat/skat_mtx/intermediate_batches/neg_batch_455.mt'), PosixPath('/mnt/sdb/tmp-skat/skat_mtx/intermediate_batches/neg_batch_456.mt'), PosixPath('/mnt/sdb/tmp-skat/skat_mtx/intermediate_batches/neg_batch_457.mt'), PosixPath('/mnt/sdb/tmp-skat/skat_mtx/intermediate_batches/neg_batch_458.mt'), PosixPath('/mnt/sdb/tmp-skat/skat_mtx/intermediate_batches/neg_batch_459.mt'), PosixPath('/mnt/sdb/tmp-skat/skat_mtx/intermediate_batches/neg_batch_460.mt'), PosixPath('/mnt/sdb/tmp-skat/skat_mtx/intermediate_batches/neg_batch_461.mt'), PosixPath('/mnt/sdb/tmp-skat/skat_mtx/intermediate_batches/neg_batch_462.mt'), PosixPath('/mnt/sdb/tmp-skat/skat_mtx/intermediate_batches/neg_batch_463.mt'), PosixPath('/mnt/sdb/tmp-skat/skat_mtx/intermediate_batches/neg_batch_464.mt'), PosixPath('/mnt/sdb/tmp-skat/skat_mtx/intermediate_batches/neg_batch_465.mt'), PosixPath('/mnt/sdb/tmp-skat/skat_mtx/intermediate_batches/neg_batch_466.mt'), PosixPath('/mnt/sdb/tmp-skat/skat_mtx/intermediate_batches/neg_batch_467.mt'), PosixPath('/mnt/sdb/tmp-skat/skat_mtx/intermediate_batches/neg_batch_468.mt'), PosixPath('/mnt/sdb/tmp-skat/skat_mtx/intermediate_batches/neg_batch_469.mt'), PosixPath('/mnt/sdb/tmp-skat/skat_mtx/intermediate_batches/neg_batch_470.mt'), PosixPath('/mnt/sdb/tmp-skat/skat_mtx/intermediate_batches/neg_batch_471.mt'), PosixPath('/mnt/sdb/tmp-skat/skat_mtx/intermediate_batches/neg_batch_472.mt'), PosixPath('/mnt/sdb/tmp-skat/skat_mtx/intermediate_batches/neg_batch_473.mt'), PosixPath('/mnt/sdb/tmp-skat/skat_mtx/intermediate_batches/neg_batch_474.mt'), PosixPath('/mnt/sdb/tmp-skat/skat_mtx/intermediate_batches/neg_batch_475.mt'), PosixPath('/mnt/sdb/tmp-skat/skat_mtx/intermediate_batches/neg_batch_476.mt'), PosixPath('/mnt/sdb/tmp-skat/skat_mtx/intermediate_batches/neg_batch_477.mt'), PosixPath('/mnt/sdb/tmp-skat/skat_mtx/intermediate_batches/neg_batch_478.mt'), PosixPath('/mnt/sdb/tmp-skat/skat_mtx/intermediate_batches/neg_batch_479.mt'), PosixPath('/mnt/sdb/tmp-skat/skat_mtx/intermediate_batches/neg_batch_480.mt'), PosixPath('/mnt/sdb/tmp-skat/skat_mtx/intermediate_batches/neg_batch_481.mt'), PosixPath('/mnt/sdb/tmp-skat/skat_mtx/intermediate_batches/neg_batch_482.mt'), PosixPath('/mnt/sdb/tmp-skat/skat_mtx/intermediate_batches/neg_batch_483.mt'), PosixPath('/mnt/sdb/tmp-skat/skat_mtx/intermediate_batches/neg_batch_484.mt'), PosixPath('/mnt/sdb/tmp-skat/skat_mtx/intermediate_batches/neg_batch_485.mt'), PosixPath('/mnt/sdb/tmp-skat/skat_mtx/intermediate_batches/neg_batch_486.mt'), PosixPath('/mnt/sdb/tmp-skat/skat_mtx/intermediate_batches/neg_batch_487.mt'), PosixPath('/mnt/sdb/tmp-skat/skat_mtx/intermediate_batches/neg_batch_488.mt'), PosixPath('/mnt/sdb/tmp-skat/skat_mtx/intermediate_batches/neg_batch_489.mt'), PosixPath('/mnt/sdb/tmp-skat/skat_mtx/intermediate_batches/neg_batch_490.mt'), PosixPath('/mnt/sdb/tmp-skat/skat_mtx/intermediate_batches/neg_batch_491.mt'), PosixPath('/mnt/sdb/tmp-skat/skat_mtx/intermediate_batches/neg_batch_492.mt'), PosixPath('/mnt/sdb/tmp-skat/skat_mtx/intermediate_batches/neg_batch_493.mt'), PosixPath('/mnt/sdb/tmp-skat/skat_mtx/intermediate_batches/neg_batch_494.mt'), PosixPath('/mnt/sdb/tmp-skat/skat_mtx/intermediate_batches/neg_batch_495.mt'), PosixPath('/mnt/sdb/tmp-skat/skat_mtx/intermediate_batches/neg_batch_496.mt'), PosixPath('/mnt/sdb/tmp-skat/skat_mtx/intermediate_batches/neg_batch_497.mt'), PosixPath('/mnt/sdb/tmp-skat/skat_mtx/intermediate_batches/neg_batch_498.mt'), PosixPath('/mnt/sdb/tmp-skat/skat_mtx/intermediate_batches/neg_batch_499.mt'), PosixPath('/mnt/sdb/tmp-skat/skat_mtx/intermediate_batches/neg_batch_500.mt'), PosixPath('/mnt/sdb/tmp-skat/skat_mtx/intermediate_batches/neg_batch_501.mt'), PosixPath('/mnt/sdb/tmp-skat/skat_mtx/intermediate_batches/neg_batch_502.mt'), PosixPath('/mnt/sdb/tmp-skat/skat_mtx/intermediate_batches/neg_batch_503.mt'), PosixPath('/mnt/sdb/tmp-skat/skat_mtx/intermediate_batches/neg_batch_504.mt'), PosixPath('/mnt/sdb/tmp-skat/skat_mtx/intermediate_batches/neg_batch_505.mt'), PosixPath('/mnt/sdb/tmp-skat/skat_mtx/intermediate_batches/neg_batch_506.mt'), PosixPath('/mnt/sdb/tmp-skat/skat_mtx/intermediate_batches/neg_batch_507.mt'), PosixPath('/mnt/sdb/tmp-skat/skat_mtx/intermediate_batches/neg_batch_508.mt'), PosixPath('/mnt/sdb/tmp-skat/skat_mtx/intermediate_batches/neg_batch_509.mt'), PosixPath('/mnt/sdb/tmp-skat/skat_mtx/intermediate_batches/neg_batch_510.mt'), PosixPath('/mnt/sdb/tmp-skat/skat_mtx/intermediate_batches/neg_batch_511.mt'), PosixPath('/mnt/sdb/tmp-skat/skat_mtx/intermediate_batches/neg_batch_512.mt'), PosixPath('/mnt/sdb/tmp-skat/skat_mtx/intermediate_batches/neg_batch_513.mt'), PosixPath('/mnt/sdb/tmp-skat/skat_mtx/intermediate_batches/neg_batch_514.mt'), PosixPath('/mnt/sdb/tmp-skat/skat_mtx/intermediate_batches/neg_batch_515.mt'), PosixPath('/mnt/sdb/tmp-skat/skat_mtx/intermediate_batches/neg_batch_516.mt'), PosixPath('/mnt/sdb/tmp-skat/skat_mtx/intermediate_batches/neg_batch_517.mt'), PosixPath('/mnt/sdb/tmp-skat/skat_mtx/intermediate_batches/neg_batch_518.mt'), PosixPath('/mnt/sdb/tmp-skat/skat_mtx/intermediate_batches/neg_batch_519.mt'), PosixPath('/mnt/sdb/tmp-skat/skat_mtx/intermediate_batches/neg_batch_520.mt'), PosixPath('/mnt/sdb/tmp-skat/skat_mtx/intermediate_batches/neg_batch_521.mt'), PosixPath('/mnt/sdb/tmp-skat/skat_mtx/intermediate_batches/neg_batch_522.mt'), PosixPath('/mnt/sdb/tmp-skat/skat_mtx/intermediate_batches/neg_batch_523.mt'), PosixPath('/mnt/sdb/tmp-skat/skat_mtx/intermediate_batches/neg_batch_524.mt'), PosixPath('/mnt/sdb/tmp-skat/skat_mtx/intermediate_batches/neg_batch_525.mt'), PosixPath('/mnt/sdb/tmp-skat/skat_mtx/intermediate_batches/neg_batch_526.mt'), PosixPath('/mnt/sdb/tmp-skat/skat_mtx/intermediate_batches/neg_batch_527.mt'), PosixPath('/mnt/sdb/tmp-skat/skat_mtx/intermediate_batches/neg_batch_528.mt'), PosixPath('/mnt/sdb/tmp-skat/skat_mtx/intermediate_batches/neg_batch_529.mt'), PosixPath('/mnt/sdb/tmp-skat/skat_mtx/intermediate_batches/neg_batch_530.mt'), PosixPath('/mnt/sdb/tmp-skat/skat_mtx/intermediate_batches/neg_batch_531.mt'), PosixPath('/mnt/sdb/tmp-skat/skat_mtx/intermediate_batches/neg_batch_532.mt'), PosixPath('/mnt/sdb/tmp-skat/skat_mtx/intermediate_batches/neg_batch_533.mt'), PosixPath('/mnt/sdb/tmp-skat/skat_mtx/intermediate_batches/neg_batch_534.mt'), PosixPath('/mnt/sdb/tmp-skat/skat_mtx/intermediate_batches/neg_batch_535.mt'), PosixPath('/mnt/sdb/tmp-skat/skat_mtx/intermediate_batches/neg_batch_536.mt'), PosixPath('/mnt/sdb/tmp-skat/skat_mtx/intermediate_batches/neg_batch_537.mt'), PosixPath('/mnt/sdb/tmp-skat/skat_mtx/intermediate_batches/neg_batch_538.mt'), PosixPath('/mnt/sdb/tmp-skat/skat_mtx/intermediate_batches/neg_batch_539.mt'), PosixPath('/mnt/sdb/tmp-skat/skat_mtx/intermediate_batches/neg_batch_540.mt'), PosixPath('/mnt/sdb/tmp-skat/skat_mtx/intermediate_batches/neg_batch_541.mt'), PosixPath('/mnt/sdb/tmp-skat/skat_mtx/intermediate_batches/neg_batch_542.mt'), PosixPath('/mnt/sdb/tmp-skat/skat_mtx/intermediate_batches/neg_batch_543.mt'), PosixPath('/mnt/sdb/tmp-skat/skat_mtx/intermediate_batches/neg_batch_544.mt'), PosixPath('/mnt/sdb/tmp-skat/skat_mtx/intermediate_batches/neg_batch_545.mt'), PosixPath('/mnt/sdb/tmp-skat/skat_mtx/intermediate_batches/neg_batch_546.mt'), PosixPath('/mnt/sdb/tmp-skat/skat_mtx/intermediate_batches/neg_batch_547.mt'), PosixPath('/mnt/sdb/tmp-skat/skat_mtx/intermediate_batches/neg_batch_548.mt'), PosixPath('/mnt/sdb/tmp-skat/skat_mtx/intermediate_batches/neg_batch_549.mt'), PosixPath('/mnt/sdb/tmp-skat/skat_mtx/intermediate_batches/neg_batch_550.mt'), PosixPath('/mnt/sdb/tmp-skat/skat_mtx/intermediate_batches/neg_batch_551.mt'), PosixPath('/mnt/sdb/tmp-skat/skat_mtx/intermediate_batches/neg_batch_552.mt'), PosixPath('/mnt/sdb/tmp-skat/skat_mtx/intermediate_batches/neg_batch_553.mt'), PosixPath('/mnt/sdb/tmp-skat/skat_mtx/intermediate_batches/neg_batch_554.mt'), PosixPath('/mnt/sdb/tmp-skat/skat_mtx/intermediate_batches/neg_batch_555.mt'), PosixPath('/mnt/sdb/tmp-skat/skat_mtx/intermediate_batches/neg_batch_556.mt'), PosixPath('/mnt/sdb/tmp-skat/skat_mtx/intermediate_batches/neg_batch_557.mt'), PosixPath('/mnt/sdb/tmp-skat/skat_mtx/intermediate_batches/neg_batch_558.mt'), PosixPath('/mnt/sdb/tmp-skat/skat_mtx/intermediate_batches/neg_batch_559.mt'), PosixPath('/mnt/sdb/tmp-skat/skat_mtx/intermediate_batches/neg_batch_560.mt'), PosixPath('/mnt/sdb/tmp-skat/skat_mtx/intermediate_batches/neg_batch_561.mt'), PosixPath('/mnt/sdb/tmp-skat/skat_mtx/intermediate_batches/neg_batch_562.mt'), PosixPath('/mnt/sdb/tmp-skat/skat_mtx/intermediate_batches/neg_batch_563.mt'), PosixPath('/mnt/sdb/tmp-skat/skat_mtx/intermediate_batches/neg_batch_564.mt'), PosixPath('/mnt/sdb/tmp-skat/skat_mtx/intermediate_batches/neg_batch_565.mt'), PosixPath('/mnt/sdb/tmp-skat/skat_mtx/intermediate_batches/neg_batch_566.mt'), PosixPath('/mnt/sdb/tmp-skat/skat_mtx/intermediate_batches/neg_batch_567.mt'), PosixPath('/mnt/sdb/tmp-skat/skat_mtx/intermediate_batches/neg_batch_568.mt'), PosixPath('/mnt/sdb/tmp-skat/skat_mtx/intermediate_batches/neg_batch_569.mt'), PosixPath('/mnt/sdb/tmp-skat/skat_mtx/intermediate_batches/neg_batch_570.mt'), PosixPath('/mnt/sdb/tmp-skat/skat_mtx/intermediate_batches/neg_batch_571.mt'), PosixPath('/mnt/sdb/tmp-skat/skat_mtx/intermediate_batches/neg_batch_572.mt'), PosixPath('/mnt/sdb/tmp-skat/skat_mtx/intermediate_batches/neg_batch_573.mt'), PosixPath('/mnt/sdb/tmp-skat/skat_mtx/intermediate_batches/neg_batch_574.mt'), PosixPath('/mnt/sdb/tmp-skat/skat_mtx/intermediate_batches/neg_batch_575.mt'), PosixPath('/mnt/sdb/tmp-skat/skat_mtx/intermediate_batches/neg_batch_576.mt'), PosixPath('/mnt/sdb/tmp-skat/skat_mtx/intermediate_batches/neg_batch_577.mt'), PosixPath('/mnt/sdb/tmp-skat/skat_mtx/intermediate_batches/neg_batch_578.mt'), PosixPath('/mnt/sdb/tmp-skat/skat_mtx/intermediate_batches/neg_batch_579.mt'), PosixPath('/mnt/sdb/tmp-skat/skat_mtx/intermediate_batches/neg_batch_580.mt'), PosixPath('/mnt/sdb/tmp-skat/skat_mtx/intermediate_batches/neg_batch_581.mt'), PosixPath('/mnt/sdb/tmp-skat/skat_mtx/intermediate_batches/neg_batch_582.mt'), PosixPath('/mnt/sdb/tmp-skat/skat_mtx/intermediate_batches/neg_batch_583.mt'), PosixPath('/mnt/sdb/tmp-skat/skat_mtx/intermediate_batches/neg_batch_584.mt'), PosixPath('/mnt/sdb/tmp-skat/skat_mtx/intermediate_batches/neg_batch_585.mt'), PosixPath('/mnt/sdb/tmp-skat/skat_mtx/intermediate_batches/neg_batch_586.mt'), PosixPath('/mnt/sdb/tmp-skat/skat_mtx/intermediate_batches/neg_batch_587.mt'), PosixPath('/mnt/sdb/tmp-skat/skat_mtx/intermediate_batches/neg_batch_588.mt'), PosixPath('/mnt/sdb/tmp-skat/skat_mtx/intermediate_batches/neg_batch_589.mt'), PosixPath('/mnt/sdb/tmp-skat/skat_mtx/intermediate_batches/neg_batch_590.mt'), PosixPath('/mnt/sdb/tmp-skat/skat_mtx/intermediate_batches/neg_batch_591.mt'), PosixPath('/mnt/sdb/tmp-skat/skat_mtx/intermediate_batches/neg_batch_592.mt'), PosixPath('/mnt/sdb/tmp-skat/skat_mtx/intermediate_batches/neg_batch_593.mt'), PosixPath('/mnt/sdb/tmp-skat/skat_mtx/intermediate_batches/neg_batch_594.mt'), PosixPath('/mnt/sdb/tmp-skat/skat_mtx/intermediate_batches/neg_batch_595.mt'), PosixPath('/mnt/sdb/tmp-skat/skat_mtx/intermediate_batches/neg_batch_596.mt'), PosixPath('/mnt/sdb/tmp-skat/skat_mtx/intermediate_batches/neg_batch_597.mt'), PosixPath('/mnt/sdb/tmp-skat/skat_mtx/intermediate_batches/neg_batch_598.mt'), PosixPath('/mnt/sdb/tmp-skat/skat_mtx/intermediate_batches/neg_batch_599.mt'), PosixPath('/mnt/sdb/tmp-skat/skat_mtx/intermediate_batches/neg_batch_600.mt'), PosixPath('/mnt/sdb/tmp-skat/skat_mtx/intermediate_batches/neg_batch_601.mt'), PosixPath('/mnt/sdb/tmp-skat/skat_mtx/intermediate_batches/neg_batch_602.mt'), PosixPath('/mnt/sdb/tmp-skat/skat_mtx/intermediate_batches/neg_batch_603.mt'), PosixPath('/mnt/sdb/tmp-skat/skat_mtx/intermediate_batches/neg_batch_604.mt'), PosixPath('/mnt/sdb/tmp-skat/skat_mtx/intermediate_batches/neg_batch_605.mt'), PosixPath('/mnt/sdb/tmp-skat/skat_mtx/intermediate_batches/neg_batch_606.mt'), PosixPath('/mnt/sdb/tmp-skat/skat_mtx/intermediate_batches/neg_batch_607.mt'), PosixPath('/mnt/sdb/tmp-skat/skat_mtx/intermediate_batches/neg_batch_608.mt'), PosixPath('/mnt/sdb/tmp-skat/skat_mtx/intermediate_batches/neg_batch_609.mt'), PosixPath('/mnt/sdb/tmp-skat/skat_mtx/intermediate_batches/neg_batch_610.mt'), PosixPath('/mnt/sdb/tmp-skat/skat_mtx/intermediate_batches/neg_batch_611.mt'), PosixPath('/mnt/sdb/tmp-skat/skat_mtx/intermediate_batches/neg_batch_612.mt'), PosixPath('/mnt/sdb/tmp-skat/skat_mtx/intermediate_batches/neg_batch_613.mt'), PosixPath('/mnt/sdb/tmp-skat/skat_mtx/intermediate_batches/neg_batch_614.mt'), PosixPath('/mnt/sdb/tmp-skat/skat_mtx/intermediate_batches/neg_batch_615.mt'), PosixPath('/mnt/sdb/tmp-skat/skat_mtx/intermediate_batches/neg_batch_616.mt'), PosixPath('/mnt/sdb/tmp-skat/skat_mtx/intermediate_batches/neg_batch_617.mt'), PosixPath('/mnt/sdb/tmp-skat/skat_mtx/intermediate_batches/neg_batch_618.mt'), PosixPath('/mnt/sdb/tmp-skat/skat_mtx/intermediate_batches/neg_batch_619.mt'), PosixPath('/mnt/sdb/tmp-skat/skat_mtx/intermediate_batches/neg_batch_620.mt'), PosixPath('/mnt/sdb/tmp-skat/skat_mtx/intermediate_batches/neg_batch_621.mt'), PosixPath('/mnt/sdb/tmp-skat/skat_mtx/intermediate_batches/neg_batch_622.mt'), PosixPath('/mnt/sdb/tmp-skat/skat_mtx/intermediate_batches/neg_batch_623.mt'), PosixPath('/mnt/sdb/tmp-skat/skat_mtx/intermediate_batches/neg_batch_624.mt'), PosixPath('/mnt/sdb/tmp-skat/skat_mtx/intermediate_batches/neg_batch_625.mt'), PosixPath('/mnt/sdb/tmp-skat/skat_mtx/intermediate_batches/neg_batch_626.mt'), PosixPath('/mnt/sdb/tmp-skat/skat_mtx/intermediate_batches/neg_batch_627.mt'), PosixPath('/mnt/sdb/tmp-skat/skat_mtx/intermediate_batches/neg_batch_628.mt'), PosixPath('/mnt/sdb/tmp-skat/skat_mtx/intermediate_batches/neg_batch_629.mt'), PosixPath('/mnt/sdb/tmp-skat/skat_mtx/intermediate_batches/neg_batch_630.mt'), PosixPath('/mnt/sdb/tmp-skat/skat_mtx/intermediate_batches/neg_batch_631.mt'), PosixPath('/mnt/sdb/tmp-skat/skat_mtx/intermediate_batches/neg_batch_632.mt'), PosixPath('/mnt/sdb/tmp-skat/skat_mtx/intermediate_batches/neg_batch_633.mt'), PosixPath('/mnt/sdb/tmp-skat/skat_mtx/intermediate_batches/neg_batch_634.mt'), PosixPath('/mnt/sdb/tmp-skat/skat_mtx/intermediate_batches/neg_batch_635.mt'), PosixPath('/mnt/sdb/tmp-skat/skat_mtx/intermediate_batches/neg_batch_636.mt'), PosixPath('/mnt/sdb/tmp-skat/skat_mtx/intermediate_batches/neg_batch_637.mt'), PosixPath('/mnt/sdb/tmp-skat/skat_mtx/intermediate_batches/neg_batch_638.mt'), PosixPath('/mnt/sdb/tmp-skat/skat_mtx/intermediate_batches/neg_batch_639.mt'), PosixPath('/mnt/sdb/tmp-skat/skat_mtx/intermediate_batches/neg_batch_640.mt'), PosixPath('/mnt/sdb/tmp-skat/skat_mtx/intermediate_batches/neg_batch_641.mt'), PosixPath('/mnt/sdb/tmp-skat/skat_mtx/intermediate_batches/neg_batch_642.mt'), PosixPath('/mnt/sdb/tmp-skat/skat_mtx/intermediate_batches/neg_batch_643.mt'), PosixPath('/mnt/sdb/tmp-skat/skat_mtx/intermediate_batches/neg_batch_644.mt'), PosixPath('/mnt/sdb/tmp-skat/skat_mtx/intermediate_batches/neg_batch_645.mt'), PosixPath('/mnt/sdb/tmp-skat/skat_mtx/intermediate_batches/neg_batch_646.mt'), PosixPath('/mnt/sdb/tmp-skat/skat_mtx/intermediate_batches/neg_batch_647.mt'), PosixPath('/mnt/sdb/tmp-skat/skat_mtx/intermediate_batches/neg_batch_648.mt'), PosixPath('/mnt/sdb/tmp-skat/skat_mtx/intermediate_batches/neg_batch_649.mt'), PosixPath('/mnt/sdb/tmp-skat/skat_mtx/intermediate_batches/neg_batch_650.mt'), PosixPath('/mnt/sdb/tmp-skat/skat_mtx/intermediate_batches/neg_batch_651.mt'), PosixPath('/mnt/sdb/tmp-skat/skat_mtx/intermediate_batches/neg_batch_652.mt'), PosixPath('/mnt/sdb/tmp-skat/skat_mtx/intermediate_batches/neg_batch_653.mt'), PosixPath('/mnt/sdb/tmp-skat/skat_mtx/intermediate_batches/neg_batch_654.mt'), PosixPath('/mnt/sdb/tmp-skat/skat_mtx/intermediate_batches/neg_batch_655.mt'), PosixPath('/mnt/sdb/tmp-skat/skat_mtx/intermediate_batches/neg_batch_656.mt'), PosixPath('/mnt/sdb/tmp-skat/skat_mtx/intermediate_batches/neg_batch_657.mt'), PosixPath('/mnt/sdb/tmp-skat/skat_mtx/intermediate_batches/neg_batch_658.mt'), PosixPath('/mnt/sdb/tmp-skat/skat_mtx/intermediate_batches/neg_batch_659.mt'), PosixPath('/mnt/sdb/tmp-skat/skat_mtx/intermediate_batches/neg_batch_660.mt'), PosixPath('/mnt/sdb/tmp-skat/skat_mtx/intermediate_batches/neg_batch_661.mt'), PosixPath('/mnt/sdb/tmp-skat/skat_mtx/intermediate_batches/neg_batch_662.mt'), PosixPath('/mnt/sdb/tmp-skat/skat_mtx/intermediate_batches/neg_batch_663.mt'), PosixPath('/mnt/sdb/tmp-skat/skat_mtx/intermediate_batches/neg_batch_664.mt'), PosixPath('/mnt/sdb/tmp-skat/skat_mtx/intermediate_batches/neg_batch_665.mt'), PosixPath('/mnt/sdb/tmp-skat/skat_mtx/intermediate_batches/neg_batch_666.mt'), PosixPath('/mnt/sdb/tmp-skat/skat_mtx/intermediate_batches/neg_batch_667.mt'), PosixPath('/mnt/sdb/tmp-skat/skat_mtx/intermediate_batches/neg_batch_668.mt'), PosixPath('/mnt/sdb/tmp-skat/skat_mtx/intermediate_batches/neg_batch_669.mt'), PosixPath('/mnt/sdb/tmp-skat/skat_mtx/intermediate_batches/neg_batch_670.mt'), PosixPath('/mnt/sdb/tmp-skat/skat_mtx/intermediate_batches/neg_batch_671.mt'), PosixPath('/mnt/sdb/tmp-skat/skat_mtx/intermediate_batches/neg_batch_672.mt'), PosixPath('/mnt/sdb/tmp-skat/skat_mtx/intermediate_batches/neg_batch_673.mt'), PosixPath('/mnt/sdb/tmp-skat/skat_mtx/intermediate_batches/neg_batch_674.mt'), PosixPath('/mnt/sdb/tmp-skat/skat_mtx/intermediate_batches/neg_batch_675.mt'), PosixPath('/mnt/sdb/tmp-skat/skat_mtx/intermediate_batches/neg_batch_676.mt'), PosixPath('/mnt/sdb/tmp-skat/skat_mtx/intermediate_batches/neg_batch_677.mt'), PosixPath('/mnt/sdb/tmp-skat/skat_mtx/intermediate_batches/neg_batch_678.mt'), PosixPath('/mnt/sdb/tmp-skat/skat_mtx/intermediate_batches/neg_batch_679.mt'), PosixPath('/mnt/sdb/tmp-skat/skat_mtx/intermediate_batches/neg_batch_680.mt'), PosixPath('/mnt/sdb/tmp-skat/skat_mtx/intermediate_batches/neg_batch_681.mt'), PosixPath('/mnt/sdb/tmp-skat/skat_mtx/intermediate_batches/neg_batch_682.mt'), PosixPath('/mnt/sdb/tmp-skat/skat_mtx/intermediate_batches/neg_batch_683.mt'), PosixPath('/mnt/sdb/tmp-skat/skat_mtx/intermediate_batches/neg_batch_684.mt'), PosixPath('/mnt/sdb/tmp-skat/skat_mtx/intermediate_batches/neg_batch_685.mt'), PosixPath('/mnt/sdb/tmp-skat/skat_mtx/intermediate_batches/neg_batch_686.mt'), PosixPath('/mnt/sdb/tmp-skat/skat_mtx/intermediate_batches/neg_batch_687.mt'), PosixPath('/mnt/sdb/tmp-skat/skat_mtx/intermediate_batches/neg_batch_688.mt'), PosixPath('/mnt/sdb/tmp-skat/skat_mtx/intermediate_batches/neg_batch_689.mt'), PosixPath('/mnt/sdb/tmp-skat/skat_mtx/intermediate_batches/neg_batch_690.mt'), PosixPath('/mnt/sdb/tmp-skat/skat_mtx/intermediate_batches/neg_batch_691.mt'), PosixPath('/mnt/sdb/tmp-skat/skat_mtx/intermediate_batches/neg_batch_692.mt'), PosixPath('/mnt/sdb/tmp-skat/skat_mtx/intermediate_batches/neg_batch_693.mt'), PosixPath('/mnt/sdb/tmp-skat/skat_mtx/intermediate_batches/neg_batch_694.mt'), PosixPath('/mnt/sdb/tmp-skat/skat_mtx/intermediate_batches/neg_batch_695.mt'), PosixPath('/mnt/sdb/tmp-skat/skat_mtx/intermediate_batches/neg_batch_696.mt'), PosixPath('/mnt/sdb/tmp-skat/skat_mtx/intermediate_batches/neg_batch_697.mt'), PosixPath('/mnt/sdb/tmp-skat/skat_mtx/intermediate_batches/neg_batch_698.mt'), PosixPath('/mnt/sdb/tmp-skat/skat_mtx/intermediate_batches/neg_batch_699.mt'), PosixPath('/mnt/sdb/tmp-skat/skat_mtx/intermediate_batches/neg_batch_700.mt'), PosixPath('/mnt/sdb/tmp-skat/skat_mtx/intermediate_batches/neg_batch_701.mt'), PosixPath('/mnt/sdb/tmp-skat/skat_mtx/intermediate_batches/neg_batch_702.mt'), PosixPath('/mnt/sdb/tmp-skat/skat_mtx/intermediate_batches/neg_batch_703.mt'), PosixPath('/mnt/sdb/tmp-skat/skat_mtx/intermediate_batches/neg_batch_704.mt'), PosixPath('/mnt/sdb/tmp-skat/skat_mtx/intermediate_batches/neg_batch_705.mt'), PosixPath('/mnt/sdb/tmp-skat/skat_mtx/intermediate_batches/neg_batch_706.mt'), PosixPath('/mnt/sdb/tmp-skat/skat_mtx/intermediate_batches/neg_batch_707.mt'), PosixPath('/mnt/sdb/tmp-skat/skat_mtx/intermediate_batches/neg_batch_708.mt'), PosixPath('/mnt/sdb/tmp-skat/skat_mtx/intermediate_batches/neg_batch_709.mt'), PosixPath('/mnt/sdb/tmp-skat/skat_mtx/intermediate_batches/neg_batch_710.mt'), PosixPath('/mnt/sdb/tmp-skat/skat_mtx/intermediate_batches/neg_batch_711.mt'), PosixPath('/mnt/sdb/tmp-skat/skat_mtx/intermediate_batches/neg_batch_712.mt'), PosixPath('/mnt/sdb/tmp-skat/skat_mtx/intermediate_batches/neg_batch_713.mt'), PosixPath('/mnt/sdb/tmp-skat/skat_mtx/intermediate_batches/neg_batch_714.mt'), PosixPath('/mnt/sdb/tmp-skat/skat_mtx/intermediate_batches/neg_batch_715.mt'), PosixPath('/mnt/sdb/tmp-skat/skat_mtx/intermediate_batches/neg_batch_716.mt'), PosixPath('/mnt/sdb/tmp-skat/skat_mtx/intermediate_batches/neg_batch_717.mt'), PosixPath('/mnt/sdb/tmp-skat/skat_mtx/intermediate_batches/neg_batch_718.mt'), PosixPath('/mnt/sdb/tmp-skat/skat_mtx/intermediate_batches/neg_batch_719.mt'), PosixPath('/mnt/sdb/tmp-skat/skat_mtx/intermediate_batches/neg_batch_720.mt'), PosixPath('/mnt/sdb/tmp-skat/skat_mtx/intermediate_batches/neg_batch_721.mt'), PosixPath('/mnt/sdb/tmp-skat/skat_mtx/intermediate_batches/neg_batch_722.mt'), PosixPath('/mnt/sdb/tmp-skat/skat_mtx/intermediate_batches/neg_batch_723.mt'), PosixPath('/mnt/sdb/tmp-skat/skat_mtx/intermediate_batches/neg_batch_724.mt'), PosixPath('/mnt/sdb/tmp-skat/skat_mtx/intermediate_batches/neg_batch_725.mt'), PosixPath('/mnt/sdb/tmp-skat/skat_mtx/intermediate_batches/neg_batch_726.mt'), PosixPath('/mnt/sdb/tmp-skat/skat_mtx/intermediate_batches/neg_batch_727.mt'), PosixPath('/mnt/sdb/tmp-skat/skat_mtx/intermediate_batches/neg_batch_728.mt'), PosixPath('/mnt/sdb/tmp-skat/skat_mtx/intermediate_batches/neg_batch_729.mt'), PosixPath('/mnt/sdb/tmp-skat/skat_mtx/intermediate_batches/neg_batch_730.mt'), PosixPath('/mnt/sdb/tmp-skat/skat_mtx/intermediate_batches/neg_batch_731.mt'), PosixPath('/mnt/sdb/tmp-skat/skat_mtx/intermediate_batches/neg_batch_732.mt'), PosixPath('/mnt/sdb/tmp-skat/skat_mtx/intermediate_batches/neg_batch_733.mt'), PosixPath('/mnt/sdb/tmp-skat/skat_mtx/intermediate_batches/neg_batch_734.mt'), PosixPath('/mnt/sdb/tmp-skat/skat_mtx/intermediate_batches/neg_batch_735.mt'), PosixPath('/mnt/sdb/tmp-skat/skat_mtx/intermediate_batches/neg_batch_736.mt'), PosixPath('/mnt/sdb/tmp-skat/skat_mtx/intermediate_batches/neg_batch_737.mt'), PosixPath('/mnt/sdb/tmp-skat/skat_mtx/intermediate_batches/neg_batch_738.mt'), PosixPath('/mnt/sdb/tmp-skat/skat_mtx/intermediate_batches/neg_batch_739.mt'), PosixPath('/mnt/sdb/tmp-skat/skat_mtx/intermediate_batches/neg_batch_740.mt'), PosixPath('/mnt/sdb/tmp-skat/skat_mtx/intermediate_batches/neg_batch_741.mt'), PosixPath('/mnt/sdb/tmp-skat/skat_mtx/intermediate_batches/neg_batch_742.mt'), PosixPath('/mnt/sdb/tmp-skat/skat_mtx/intermediate_batches/neg_batch_743.mt'), PosixPath('/mnt/sdb/tmp-skat/skat_mtx/intermediate_batches/neg_batch_744.mt'), PosixPath('/mnt/sdb/tmp-skat/skat_mtx/intermediate_batches/neg_batch_745.mt'), PosixPath('/mnt/sdb/tmp-skat/skat_mtx/intermediate_batches/neg_batch_746.mt'), PosixPath('/mnt/sdb/tmp-skat/skat_mtx/intermediate_batches/neg_batch_747.mt'), PosixPath('/mnt/sdb/tmp-skat/skat_mtx/intermediate_batches/neg_batch_748.mt'), PosixPath('/mnt/sdb/tmp-skat/skat_mtx/intermediate_batches/neg_batch_749.mt'), PosixPath('/mnt/sdb/tmp-skat/skat_mtx/intermediate_batches/neg_batch_750.mt'), PosixPath('/mnt/sdb/tmp-skat/skat_mtx/intermediate_batches/neg_batch_751.mt'), PosixPath('/mnt/sdb/tmp-skat/skat_mtx/intermediate_batches/neg_batch_752.mt'), PosixPath('/mnt/sdb/tmp-skat/skat_mtx/intermediate_batches/neg_batch_753.mt'), PosixPath('/mnt/sdb/tmp-skat/skat_mtx/intermediate_batches/neg_batch_754.mt'), PosixPath('/mnt/sdb/tmp-skat/skat_mtx/intermediate_batches/neg_batch_755.mt'), PosixPath('/mnt/sdb/tmp-skat/skat_mtx/intermediate_batches/neg_batch_756.mt'), PosixPath('/mnt/sdb/tmp-skat/skat_mtx/intermediate_batches/neg_batch_757.mt'), PosixPath('/mnt/sdb/tmp-skat/skat_mtx/intermediate_batches/neg_batch_758.mt'), PosixPath('/mnt/sdb/tmp-skat/skat_mtx/intermediate_batches/neg_batch_759.mt'), PosixPath('/mnt/sdb/tmp-skat/skat_mtx/intermediate_batches/neg_batch_760.mt'), PosixPath('/mnt/sdb/tmp-skat/skat_mtx/intermediate_batches/neg_batch_761.mt'), PosixPath('/mnt/sdb/tmp-skat/skat_mtx/intermediate_batches/neg_batch_762.mt'), PosixPath('/mnt/sdb/tmp-skat/skat_mtx/intermediate_batches/neg_batch_763.mt'), PosixPath('/mnt/sdb/tmp-skat/skat_mtx/intermediate_batches/neg_batch_764.mt'), PosixPath('/mnt/sdb/tmp-skat/skat_mtx/intermediate_batches/neg_batch_765.mt'), PosixPath('/mnt/sdb/tmp-skat/skat_mtx/intermediate_batches/neg_batch_766.mt'), PosixPath('/mnt/sdb/tmp-skat/skat_mtx/intermediate_batches/neg_batch_767.mt'), PosixPath('/mnt/sdb/tmp-skat/skat_mtx/intermediate_batches/neg_batch_768.mt'), PosixPath('/mnt/sdb/tmp-skat/skat_mtx/intermediate_batches/neg_batch_769.mt'), PosixPath('/mnt/sdb/tmp-skat/skat_mtx/intermediate_batches/neg_batch_770.mt'), PosixPath('/mnt/sdb/tmp-skat/skat_mtx/intermediate_batches/neg_batch_771.mt'), PosixPath('/mnt/sdb/tmp-skat/skat_mtx/intermediate_batches/neg_batch_772.mt'), PosixPath('/mnt/sdb/tmp-skat/skat_mtx/intermediate_batches/neg_batch_773.mt'), PosixPath('/mnt/sdb/tmp-skat/skat_mtx/intermediate_batches/neg_batch_774.mt'), PosixPath('/mnt/sdb/tmp-skat/skat_mtx/intermediate_batches/neg_batch_775.mt'), PosixPath('/mnt/sdb/tmp-skat/skat_mtx/intermediate_batches/neg_batch_776.mt'), PosixPath('/mnt/sdb/tmp-skat/skat_mtx/intermediate_batches/neg_batch_777.mt'), PosixPath('/mnt/sdb/tmp-skat/skat_mtx/intermediate_batches/neg_batch_778.mt'), PosixPath('/mnt/sdb/tmp-skat/skat_mtx/intermediate_batches/neg_batch_779.mt'), PosixPath('/mnt/sdb/tmp-skat/skat_mtx/intermediate_batches/neg_batch_780.mt'), PosixPath('/mnt/sdb/tmp-skat/skat_mtx/intermediate_batches/neg_batch_781.mt'), PosixPath('/mnt/sdb/tmp-skat/skat_mtx/intermediate_batches/neg_batch_782.mt'), PosixPath('/mnt/sdb/tmp-skat/skat_mtx/intermediate_batches/neg_batch_783.mt'), PosixPath('/mnt/sdb/tmp-skat/skat_mtx/intermediate_batches/neg_batch_784.mt'), PosixPath('/mnt/sdb/tmp-skat/skat_mtx/intermediate_batches/neg_batch_785.mt'), PosixPath('/mnt/sdb/tmp-skat/skat_mtx/intermediate_batches/neg_batch_786.mt'), PosixPath('/mnt/sdb/tmp-skat/skat_mtx/intermediate_batches/neg_batch_787.mt'), PosixPath('/mnt/sdb/tmp-skat/skat_mtx/intermediate_batches/neg_batch_788.mt'), PosixPath('/mnt/sdb/tmp-skat/skat_mtx/intermediate_batches/neg_batch_789.mt'), PosixPath('/mnt/sdb/tmp-skat/skat_mtx/intermediate_batches/neg_batch_790.mt'), PosixPath('/mnt/sdb/tmp-skat/skat_mtx/intermediate_batches/neg_batch_791.mt'), PosixPath('/mnt/sdb/tmp-skat/skat_mtx/intermediate_batches/neg_batch_792.mt'), PosixPath('/mnt/sdb/tmp-skat/skat_mtx/intermediate_batches/neg_batch_793.mt'), PosixPath('/mnt/sdb/tmp-skat/skat_mtx/intermediate_batches/neg_batch_794.mt'), PosixPath('/mnt/sdb/tmp-skat/skat_mtx/intermediate_batches/neg_batch_795.mt'), PosixPath('/mnt/sdb/tmp-skat/skat_mtx/intermediate_batches/neg_batch_796.mt'), PosixPath('/mnt/sdb/tmp-skat/skat_mtx/intermediate_batches/neg_batch_797.mt'), PosixPath('/mnt/sdb/tmp-skat/skat_mtx/intermediate_batches/neg_batch_798.mt'), PosixPath('/mnt/sdb/tmp-skat/skat_mtx/intermediate_batches/neg_batch_799.mt'), PosixPath('/mnt/sdb/tmp-skat/skat_mtx/intermediate_batches/neg_batch_800.mt'), PosixPath('/mnt/sdb/tmp-skat/skat_mtx/intermediate_batches/neg_batch_801.mt'), PosixPath('/mnt/sdb/tmp-skat/skat_mtx/intermediate_batches/neg_batch_802.mt'), PosixPath('/mnt/sdb/tmp-skat/skat_mtx/intermediate_batches/neg_batch_803.mt'), PosixPath('/mnt/sdb/tmp-skat/skat_mtx/intermediate_batches/neg_batch_804.mt'), PosixPath('/mnt/sdb/tmp-skat/skat_mtx/intermediate_batches/neg_batch_805.mt'), PosixPath('/mnt/sdb/tmp-skat/skat_mtx/intermediate_batches/neg_batch_806.mt'), PosixPath('/mnt/sdb/tmp-skat/skat_mtx/intermediate_batches/neg_batch_807.mt'), PosixPath('/mnt/sdb/tmp-skat/skat_mtx/intermediate_batches/neg_batch_808.mt'), PosixPath('/mnt/sdb/tmp-skat/skat_mtx/intermediate_batches/neg_batch_809.mt'), PosixPath('/mnt/sdb/tmp-skat/skat_mtx/intermediate_batches/neg_batch_810.mt'), PosixPath('/mnt/sdb/tmp-skat/skat_mtx/intermediate_batches/neg_batch_811.mt'), PosixPath('/mnt/sdb/tmp-skat/skat_mtx/intermediate_batches/neg_batch_812.mt'), PosixPath('/mnt/sdb/tmp-skat/skat_mtx/intermediate_batches/neg_batch_813.mt'), PosixPath('/mnt/sdb/tmp-skat/skat_mtx/intermediate_batches/neg_batch_814.mt'), PosixPath('/mnt/sdb/tmp-skat/skat_mtx/intermediate_batches/neg_batch_815.mt'), PosixPath('/mnt/sdb/tmp-skat/skat_mtx/intermediate_batches/neg_batch_816.mt'), PosixPath('/mnt/sdb/tmp-skat/skat_mtx/intermediate_batches/neg_batch_817.mt'), PosixPath('/mnt/sdb/tmp-skat/skat_mtx/intermediate_batches/neg_batch_818.mt'), PosixPath('/mnt/sdb/tmp-skat/skat_mtx/intermediate_batches/neg_batch_819.mt'), PosixPath('/mnt/sdb/tmp-skat/skat_mtx/intermediate_batches/neg_batch_820.mt'), PosixPath('/mnt/sdb/tmp-skat/skat_mtx/intermediate_batches/neg_batch_821.mt'), PosixPath('/mnt/sdb/tmp-skat/skat_mtx/intermediate_batches/neg_batch_822.mt'), PosixPath('/mnt/sdb/tmp-skat/skat_mtx/intermediate_batches/neg_batch_823.mt'), PosixPath('/mnt/sdb/tmp-skat/skat_mtx/intermediate_batches/neg_batch_824.mt'), PosixPath('/mnt/sdb/tmp-skat/skat_mtx/intermediate_batches/neg_batch_825.mt'), PosixPath('/mnt/sdb/tmp-skat/skat_mtx/intermediate_batches/neg_batch_826.mt'), PosixPath('/mnt/sdb/tmp-skat/skat_mtx/intermediate_batches/neg_batch_827.mt'), PosixPath('/mnt/sdb/tmp-skat/skat_mtx/intermediate_batches/neg_batch_828.mt'), PosixPath('/mnt/sdb/tmp-skat/skat_mtx/intermediate_batches/neg_batch_829.mt'), PosixPath('/mnt/sdb/tmp-skat/skat_mtx/intermediate_batches/neg_batch_830.mt'), PosixPath('/mnt/sdb/tmp-skat/skat_mtx/intermediate_batches/neg_batch_831.mt'), PosixPath('/mnt/sdb/tmp-skat/skat_mtx/intermediate_batches/neg_batch_832.mt'), PosixPath('/mnt/sdb/tmp-skat/skat_mtx/intermediate_batches/neg_batch_833.mt'), PosixPath('/mnt/sdb/tmp-skat/skat_mtx/intermediate_batches/neg_batch_834.mt'), PosixPath('/mnt/sdb/tmp-skat/skat_mtx/intermediate_batches/neg_batch_835.mt'), PosixPath('/mnt/sdb/tmp-skat/skat_mtx/intermediate_batches/neg_batch_836.mt'), PosixPath('/mnt/sdb/tmp-skat/skat_mtx/intermediate_batches/neg_batch_837.mt'), PosixPath('/mnt/sdb/tmp-skat/skat_mtx/intermediate_batches/neg_batch_838.mt'), PosixPath('/mnt/sdb/tmp-skat/skat_mtx/intermediate_batches/neg_batch_839.mt'), PosixPath('/mnt/sdb/tmp-skat/skat_mtx/intermediate_batches/neg_batch_840.mt'), PosixPath('/mnt/sdb/tmp-skat/skat_mtx/intermediate_batches/neg_batch_841.mt'), PosixPath('/mnt/sdb/tmp-skat/skat_mtx/intermediate_batches/neg_batch_842.mt'), PosixPath('/mnt/sdb/tmp-skat/skat_mtx/intermediate_batches/neg_batch_843.mt'), PosixPath('/mnt/sdb/tmp-skat/skat_mtx/intermediate_batches/neg_batch_844.mt'), PosixPath('/mnt/sdb/tmp-skat/skat_mtx/intermediate_batches/neg_batch_845.mt'), PosixPath('/mnt/sdb/tmp-skat/skat_mtx/intermediate_batches/neg_batch_846.mt'), PosixPath('/mnt/sdb/tmp-skat/skat_mtx/intermediate_batches/neg_batch_847.mt'), PosixPath('/mnt/sdb/tmp-skat/skat_mtx/intermediate_batches/neg_batch_848.mt'), PosixPath('/mnt/sdb/tmp-skat/skat_mtx/intermediate_batches/neg_batch_849.mt'), PosixPath('/mnt/sdb/tmp-skat/skat_mtx/intermediate_batches/neg_batch_850.mt'), PosixPath('/mnt/sdb/tmp-skat/skat_mtx/intermediate_batches/neg_batch_851.mt'), PosixPath('/mnt/sdb/tmp-skat/skat_mtx/intermediate_batches/neg_batch_852.mt'), PosixPath('/mnt/sdb/tmp-skat/skat_mtx/intermediate_batches/neg_batch_853.mt'), PosixPath('/mnt/sdb/tmp-skat/skat_mtx/intermediate_batches/neg_batch_854.mt'), PosixPath('/mnt/sdb/tmp-skat/skat_mtx/intermediate_batches/neg_batch_855.mt'), PosixPath('/mnt/sdb/tmp-skat/skat_mtx/intermediate_batches/neg_batch_856.mt'), PosixPath('/mnt/sdb/tmp-skat/skat_mtx/intermediate_batches/neg_batch_857.mt'), PosixPath('/mnt/sdb/tmp-skat/skat_mtx/intermediate_batches/neg_batch_858.mt'), PosixPath('/mnt/sdb/tmp-skat/skat_mtx/intermediate_batches/neg_batch_859.mt'), PosixPath('/mnt/sdb/tmp-skat/skat_mtx/intermediate_batches/neg_batch_860.mt'), PosixPath('/mnt/sdb/tmp-skat/skat_mtx/intermediate_batches/neg_batch_861.mt'), PosixPath('/mnt/sdb/tmp-skat/skat_mtx/intermediate_batches/neg_batch_862.mt'), PosixPath('/mnt/sdb/tmp-skat/skat_mtx/intermediate_batches/neg_batch_863.mt'), PosixPath('/mnt/sdb/tmp-skat/skat_mtx/intermediate_batches/neg_batch_864.mt'), PosixPath('/mnt/sdb/tmp-skat/skat_mtx/intermediate_batches/neg_batch_865.mt'), PosixPath('/mnt/sdb/tmp-skat/skat_mtx/intermediate_batches/neg_batch_866.mt'), PosixPath('/mnt/sdb/tmp-skat/skat_mtx/intermediate_batches/neg_batch_867.mt'), PosixPath('/mnt/sdb/tmp-skat/skat_mtx/intermediate_batches/neg_batch_868.mt'), PosixPath('/mnt/sdb/tmp-skat/skat_mtx/intermediate_batches/neg_batch_869.mt'), PosixPath('/mnt/sdb/tmp-skat/skat_mtx/intermediate_batches/neg_batch_870.mt'), PosixPath('/mnt/sdb/tmp-skat/skat_mtx/intermediate_batches/neg_batch_871.mt'), PosixPath('/mnt/sdb/tmp-skat/skat_mtx/intermediate_batches/neg_batch_872.mt'), PosixPath('/mnt/sdb/tmp-skat/skat_mtx/intermediate_batches/neg_batch_873.mt'), PosixPath('/mnt/sdb/tmp-skat/skat_mtx/intermediate_batches/neg_batch_874.mt'), PosixPath('/mnt/sdb/tmp-skat/skat_mtx/intermediate_batches/neg_batch_875.mt'), PosixPath('/mnt/sdb/tmp-skat/skat_mtx/intermediate_batches/neg_batch_876.mt'), PosixPath('/mnt/sdb/tmp-skat/skat_mtx/intermediate_batches/neg_batch_877.mt'), PosixPath('/mnt/sdb/tmp-skat/skat_mtx/intermediate_batches/neg_batch_878.mt'), PosixPath('/mnt/sdb/tmp-skat/skat_mtx/intermediate_batches/neg_batch_879.mt'), PosixPath('/mnt/sdb/tmp-skat/skat_mtx/intermediate_batches/neg_batch_880.mt'), PosixPath('/mnt/sdb/tmp-skat/skat_mtx/intermediate_batches/neg_batch_881.mt'), PosixPath('/mnt/sdb/tmp-skat/skat_mtx/intermediate_batches/neg_batch_882.mt'), PosixPath('/mnt/sdb/tmp-skat/skat_mtx/intermediate_batches/neg_batch_883.mt'), PosixPath('/mnt/sdb/tmp-skat/skat_mtx/intermediate_batches/neg_batch_884.mt'), PosixPath('/mnt/sdb/tmp-skat/skat_mtx/intermediate_batches/neg_batch_885.mt'), PosixPath('/mnt/sdb/tmp-skat/skat_mtx/intermediate_batches/neg_batch_886.mt'), PosixPath('/mnt/sdb/tmp-skat/skat_mtx/intermediate_batches/neg_batch_887.mt'), PosixPath('/mnt/sdb/tmp-skat/skat_mtx/intermediate_batches/neg_batch_888.mt'), PosixPath('/mnt/sdb/tmp-skat/skat_mtx/intermediate_batches/neg_batch_889.mt'), PosixPath('/mnt/sdb/tmp-skat/skat_mtx/intermediate_batches/neg_batch_890.mt'), PosixPath('/mnt/sdb/tmp-skat/skat_mtx/intermediate_batches/neg_batch_891.mt'), PosixPath('/mnt/sdb/tmp-skat/skat_mtx/intermediate_batches/neg_batch_892.mt'), PosixPath('/mnt/sdb/tmp-skat/skat_mtx/intermediate_batches/neg_batch_893.mt'), PosixPath('/mnt/sdb/tmp-skat/skat_mtx/intermediate_batches/neg_batch_894.mt'), PosixPath('/mnt/sdb/tmp-skat/skat_mtx/intermediate_batches/neg_batch_895.mt'), PosixPath('/mnt/sdb/tmp-skat/skat_mtx/intermediate_batches/neg_batch_896.mt'), PosixPath('/mnt/sdb/tmp-skat/skat_mtx/intermediate_batches/neg_batch_897.mt'), PosixPath('/mnt/sdb/tmp-skat/skat_mtx/intermediate_batches/neg_batch_898.mt'), PosixPath('/mnt/sdb/tmp-skat/skat_mtx/intermediate_batches/neg_batch_899.mt'), PosixPath('/mnt/sdb/tmp-skat/skat_mtx/intermediate_batches/neg_batch_900.mt'), PosixPath('/mnt/sdb/tmp-skat/skat_mtx/intermediate_batches/neg_batch_901.mt'), PosixPath('/mnt/sdb/tmp-skat/skat_mtx/intermediate_batches/neg_batch_902.mt'), PosixPath('/mnt/sdb/tmp-skat/skat_mtx/intermediate_batches/neg_batch_903.mt'), PosixPath('/mnt/sdb/tmp-skat/skat_mtx/intermediate_batches/neg_batch_904.mt'), PosixPath('/mnt/sdb/tmp-skat/skat_mtx/intermediate_batches/neg_batch_905.mt'), PosixPath('/mnt/sdb/tmp-skat/skat_mtx/intermediate_batches/neg_batch_906.mt'), PosixPath('/mnt/sdb/tmp-skat/skat_mtx/intermediate_batches/neg_batch_907.mt'), PosixPath('/mnt/sdb/tmp-skat/skat_mtx/intermediate_batches/neg_batch_908.mt'), PosixPath('/mnt/sdb/tmp-skat/skat_mtx/intermediate_batches/neg_batch_909.mt'), PosixPath('/mnt/sdb/tmp-skat/skat_mtx/intermediate_batches/neg_batch_910.mt'), PosixPath('/mnt/sdb/tmp-skat/skat_mtx/intermediate_batches/neg_batch_911.mt'), PosixPath('/mnt/sdb/tmp-skat/skat_mtx/intermediate_batches/neg_batch_912.mt')]\n",
      "[Level 1] Merging chunk 1/92 with 10 files\n",
      "[Level 1] Merging chunk 2/92 with 10 files\n",
      "[Level 1] Merging chunk 3/92 with 10 files\n",
      "[Level 1] Merging chunk 4/92 with 10 files\n",
      "[Level 1] Merging chunk 5/92 with 10 files\n",
      "[Level 1] Merging chunk 6/92 with 10 files\n",
      "[Level 1] Merging chunk 7/92 with 10 files\n",
      "[Level 1] Merging chunk 8/92 with 10 files\n",
      "[Level 1] Merging chunk 9/92 with 10 files\n",
      "[Level 1] Merging chunk 10/92 with 10 files\n",
      "[Level 1] Merging chunk 11/92 with 10 files\n",
      "[Level 1] Merging chunk 12/92 with 10 files\n",
      "[Level 1] Merging chunk 13/92 with 10 files\n",
      "[Level 1] Merging chunk 14/92 with 10 files\n",
      "[Level 1] Merging chunk 15/92 with 10 files\n",
      "[Level 1] Merging chunk 16/92 with 10 files\n",
      "[Level 1] Merging chunk 17/92 with 10 files\n",
      "[Level 1] Merging chunk 18/92 with 10 files\n",
      "[Level 1] Merging chunk 19/92 with 10 files\n",
      "[Level 1] Merging chunk 20/92 with 10 files\n",
      "[Level 1] Merging chunk 21/92 with 10 files\n",
      "[Level 1] Merging chunk 22/92 with 10 files\n",
      "[Level 1] Merging chunk 23/92 with 10 files\n",
      "[Level 1] Merging chunk 24/92 with 10 files\n",
      "[Level 1] Merging chunk 25/92 with 10 files\n",
      "[Level 1] Merging chunk 26/92 with 10 files\n",
      "[Level 1] Merging chunk 27/92 with 10 files\n",
      "[Level 1] Merging chunk 28/92 with 10 files\n",
      "[Level 1] Merging chunk 29/92 with 10 files\n",
      "[Level 1] Merging chunk 30/92 with 10 files\n",
      "[Level 1] Merging chunk 31/92 with 10 files\n",
      "[Level 1] Merging chunk 32/92 with 10 files\n",
      "[Level 1] Merging chunk 33/92 with 10 files\n",
      "[Level 1] Merging chunk 34/92 with 10 files\n",
      "[Level 1] Merging chunk 35/92 with 10 files\n",
      "[Level 1] Merging chunk 36/92 with 10 files\n",
      "[Level 1] Merging chunk 37/92 with 10 files\n",
      "[Level 1] Merging chunk 38/92 with 10 files\n",
      "[Level 1] Merging chunk 39/92 with 10 files\n",
      "[Level 1] Merging chunk 40/92 with 10 files\n",
      "[Level 1] Merging chunk 41/92 with 10 files\n",
      "[Level 1] Merging chunk 42/92 with 10 files\n",
      "[Level 1] Merging chunk 43/92 with 10 files\n",
      "[Level 1] Merging chunk 44/92 with 10 files\n",
      "[Level 1] Merging chunk 45/92 with 10 files\n",
      "[Level 1] Merging chunk 46/92 with 10 files\n",
      "[Level 1] Merging chunk 47/92 with 10 files\n",
      "[Level 1] Merging chunk 48/92 with 10 files\n",
      "[Level 1] Merging chunk 49/92 with 10 files\n",
      "[Level 1] Merging chunk 50/92 with 10 files\n",
      "[Level 1] Merging chunk 51/92 with 10 files\n",
      "[Level 1] Merging chunk 52/92 with 10 files\n",
      "[Level 1] Merging chunk 53/92 with 10 files\n",
      "[Level 1] Merging chunk 54/92 with 10 files\n",
      "[Level 1] Merging chunk 55/92 with 10 files\n",
      "[Level 1] Merging chunk 56/92 with 10 files\n",
      "[Level 1] Merging chunk 57/92 with 10 files\n",
      "[Level 1] Merging chunk 58/92 with 10 files\n",
      "[Level 1] Merging chunk 59/92 with 10 files\n",
      "[Level 1] Merging chunk 60/92 with 10 files\n",
      "[Level 1] Merging chunk 61/92 with 10 files\n",
      "[Level 1] Merging chunk 62/92 with 10 files\n",
      "[Level 1] Merging chunk 63/92 with 10 files\n",
      "[Level 1] Merging chunk 64/92 with 10 files\n",
      "[Level 1] Merging chunk 65/92 with 10 files\n",
      "[Level 1] Merging chunk 66/92 with 10 files\n",
      "[Level 1] Merging chunk 67/92 with 10 files\n",
      "[Level 1] Merging chunk 68/92 with 10 files\n",
      "[Level 1] Merging chunk 69/92 with 10 files\n",
      "[Level 1] Merging chunk 70/92 with 10 files\n",
      "[Level 1] Merging chunk 71/92 with 10 files\n",
      "[Level 1] Merging chunk 72/92 with 10 files\n",
      "[Level 1] Merging chunk 73/92 with 10 files\n",
      "[Level 1] Merging chunk 74/92 with 10 files\n",
      "[Level 1] Merging chunk 75/92 with 10 files\n",
      "[Level 1] Merging chunk 76/92 with 10 files\n",
      "[Level 1] Merging chunk 77/92 with 10 files\n",
      "[Level 1] Merging chunk 78/92 with 10 files\n",
      "[Level 1] Merging chunk 79/92 with 10 files\n",
      "[Level 1] Merging chunk 80/92 with 10 files\n",
      "[Level 1] Merging chunk 81/92 with 10 files\n",
      "[Level 1] Merging chunk 82/92 with 10 files\n",
      "[Level 1] Merging chunk 83/92 with 10 files\n",
      "[Level 1] Merging chunk 84/92 with 10 files\n",
      "[Level 1] Merging chunk 85/92 with 10 files\n",
      "[Level 1] Merging chunk 86/92 with 10 files\n",
      "[Level 1] Merging chunk 87/92 with 10 files\n",
      "[Level 1] Merging chunk 88/92 with 10 files\n",
      "[Level 1] Merging chunk 89/92 with 10 files\n",
      "[Level 1] Merging chunk 90/92 with 10 files\n",
      "[Level 1] Merging chunk 91/92 with 10 files\n",
      "[Level 1] Merging chunk 92/92 with 3 files\n",
      "Too many intermediates (92), doing second-level merge...\n",
      "[Level 2] Merging chunk 1/10 with 10 files\n"
     ]
    },
    {
     "name": "stderr",
     "output_type": "stream",
     "text": [
      "                                                                                \r"
     ]
    },
    {
     "name": "stdout",
     "output_type": "stream",
     "text": [
      "[Level 2] Merging chunk 2/10 with 10 files\n"
     ]
    },
    {
     "name": "stderr",
     "output_type": "stream",
     "text": [
      "                                                                                \r"
     ]
    },
    {
     "name": "stdout",
     "output_type": "stream",
     "text": [
      "[Level 2] Merging chunk 3/10 with 10 files\n",
      "[Level 2] Merging chunk 4/10 with 10 files\n"
     ]
    },
    {
     "name": "stderr",
     "output_type": "stream",
     "text": [
      "                                                                                \r"
     ]
    },
    {
     "name": "stdout",
     "output_type": "stream",
     "text": [
      "[Level 2] Merging chunk 5/10 with 10 files\n",
      "[Level 2] Merging chunk 6/10 with 10 files\n",
      "[Level 2] Merging chunk 7/10 with 10 files\n",
      "[Level 2] Merging chunk 8/10 with 10 files\n",
      "[Level 2] Merging chunk 9/10 with 10 files\n",
      "[Level 2] Merging chunk 10/10 with 2 files\n",
      "Final merge...\n"
     ]
    },
    {
     "name": "stderr",
     "output_type": "stream",
     "text": [
      "                                                                                \r"
     ]
    }
   ],
   "execution_count": 5
  },
  {
   "metadata": {
    "ExecuteTime": {
     "end_time": "2025-06-03T21:54:03.898285Z",
     "start_time": "2025-06-03T21:53:26.074551Z"
    }
   },
   "cell_type": "code",
   "source": [
    "\n",
    "print(\"Positive group entry schema:\")\n",
    "print(mt_positive.entry.dtype)\n",
    "print(\"Negative group entry schema:\")\n",
    "print(mt_negative.entry.dtype)\n",
    "\n",
    "\n",
    "# Merge the positive and negative groups.\n",
    "mt_final = merge_matrix_tables_cols([mt_positive, mt_negative], tmp_dir, tag=\"final\")\n",
    "# Checkpoint the final merged MatrixTable.\n",
    "mt_final = mt_final.checkpoint(os.path.join(skat_mtx_output_dir, \"final_skat_matrix.mt\"), overwrite=True)\n",
    "\n",
    "# *** FIX KEYS: Unkey and rekey rows to ensure proper ordering. ***\n",
    "mt_final = mt_final.key_rows_by()  # Remove existing row key.\n",
    "mt_final = mt_final.key_rows_by(locus=mt_final.locus, alleles=mt_final.alleles)\n",
    "mt_final = mt_final.repartition(100)  # Repartition as needed.\n",
    "\n",
    "\n",
    "# Describe the final MatrixTable and show sample (column) table.\n",
    "mt_final.describe()\n",
    "mt_final.GT.show()\n",
    "\n",
    "###########################################################################\n",
    "# Step 2: SKAT Analysis\n",
    "###########################################################################\n",
    "# Compute PCA on the genotype (GT) values; compute 3 components.\n",
    "eigenvalues, pca_scores, loadings = hl.hwe_normalized_pca(mt_final.GT, k=3)\n",
    "print(\"PCA eigenvalues:\", eigenvalues)\n",
    "\n",
    "# Annotate each column with PCA scores.\n",
    "mt_final = mt_final.annotate_cols(pca=pca_scores[mt_final.s])\n",
    "print(\"Column annotation (PCA) sample:\")\n",
    "mt_final.cols().select(\"pca\").show(5)\n",
    "\n",
    "# Run variant QC.\n",
    "mt_final = hl.variant_qc(mt_final)\n",
    "\n",
    "# Annotate rows with a SKAT weight (using the Beta density based on the alternate allele frequency).\n",
    "mt_final = mt_final.annotate_rows(weight=hl.dbeta(mt_final.variant_qc.AF[1], 1, 25))\n",
    "mt_final = mt_final.annotate_rows(var_af=mt_final.variant_qc.AF)\n",
    "\n",
    "###########################################################################\n",
    "# Step 3: Run SKAT\n",
    "###########################################################################\n",
    "skat_results_ht = hl.skat(\n",
    "    mt_final.gene,                 # Grouping key: gene (extracted from the CSQ annotation)\n",
    "    mt_final.weight,               # Variant-level weight\n",
    "    y=mt_final.pheno,              # Outcome: phenotype (e.g. 1 for case, 0 for control)\n",
    "    x=mt_final.GT.n_alt_alleles(),  # Genotype: alternate allele count\n",
    "    covariates=[\n",
    "        1.0,                          # Intercept\n",
    "        mt_final.pca.scores[0],       # PCA component 1\n",
    "        mt_final.pca.scores[1],       # PCA component 2\n",
    "        mt_final.pca.scores[2]        # PCA component 3\n",
    "    ]\n",
    ").checkpoint(\n",
    "    f\"{out_dir}/hgdp-tgp-rare-variants.skat_results.ht\",\n",
    "    overwrite=True\n",
    ")\n",
    "skat_results_ht.show(10)\n",
    "\n",
    "###########################################################################\n",
    "# Clean Up\n",
    "###########################################################################\n",
    "hl.stop()"
   ],
   "id": "1824723f03e11b17",
   "outputs": [
    {
     "name": "stdout",
     "output_type": "stream",
     "text": [
      "Positive group entry schema:\n",
      "struct{AD: array<int32>, DP: int32, GQ: int32, GT: call, PL: array<int32>, AC: int32}\n",
      "Negative group entry schema:\n",
      "struct{AD: array<int32>, DP: int32, GQ: int32, GT: call, PL: array<int32>, AC: int32}\n",
      "[Level 1] Merging chunk 1/1 with 2 files\n"
     ]
    },
    {
     "name": "stderr",
     "output_type": "stream",
     "text": [
      "                                                                                \r"
     ]
    },
    {
     "name": "stdout",
     "output_type": "stream",
     "text": [
      "Final merge...\n",
      "----------------------------------------\n",
      "Global fields:\n",
      "    'prefix': str\n",
      "----------------------------------------\n",
      "Column fields:\n",
      "    's': str\n",
      "    'pheno': int32\n",
      "----------------------------------------\n",
      "Row fields:\n",
      "    'locus': locus<GRCh37>\n",
      "    'alleles': array<str>\n",
      "    'gene': str\n",
      "    'HGNC_ID': int32\n",
      "    'MAX_AF': float64\n",
      "----------------------------------------\n",
      "Entry fields:\n",
      "    'AD': array<int32>\n",
      "    'DP': int32\n",
      "    'GQ': int32\n",
      "    'GT': call\n",
      "    'PL': array<int32>\n",
      "    'AC': int32\n",
      "----------------------------------------\n",
      "Column key: ['s']\n",
      "Row key: ['locus', 'alleles']\n",
      "----------------------------------------\n"
     ]
    },
    {
     "name": "stderr",
     "output_type": "stream",
     "text": [
      "                                                                                \r"
     ]
    },
    {
     "data": {
      "text/plain": [
       "+---------------+------------+-------------------+-------------------+\n",
       "| locus         | alleles    | 'E00643964_S5'.GT | 'E00737113_S4'.GT |\n",
       "+---------------+------------+-------------------+-------------------+\n",
       "| locus<GRCh37> | array<str> | call              | call              |\n",
       "+---------------+------------+-------------------+-------------------+\n",
       "| 1:1268003     | [\"C\",\"T\"]  | NA                | NA                |\n",
       "| 1:2235330     | [\"C\",\"T\"]  | NA                | NA                |\n",
       "| 1:2538417     | [\"G\",\"A\"]  | NA                | NA                |\n",
       "| 1:6111591     | [\"G\",\"A\"]  | NA                | NA                |\n",
       "| 1:6500676     | [\"T\",\"C\"]  | NA                | NA                |\n",
       "| 1:6505848     | [\"G\",\"C\"]  | NA                | NA                |\n",
       "| 1:6505851     | [\"A\",\"C\"]  | NA                | NA                |\n",
       "| 1:6505857     | [\"G\",\"C\"]  | NA                | NA                |\n",
       "| 1:6505881     | [\"A\",\"C\"]  | NA                | NA                |\n",
       "| 1:6505887     | [\"A\",\"C\"]  | NA                | NA                |\n",
       "+---------------+------------+-------------------+-------------------+\n",
       "\n",
       "+-------------------+------------------------+\n",
       "| 'E00995080_S6'.GT | 'E01002684_TSO0054'.GT |\n",
       "+-------------------+------------------------+\n",
       "| call              | call                   |\n",
       "+-------------------+------------------------+\n",
       "| NA                | NA                     |\n",
       "| NA                | NA                     |\n",
       "| NA                | NA                     |\n",
       "| NA                | NA                     |\n",
       "| NA                | NA                     |\n",
       "| NA                | NA                     |\n",
       "| NA                | NA                     |\n",
       "| NA                | NA                     |\n",
       "| NA                | NA                     |\n",
       "| NA                | NA                     |\n",
       "+-------------------+------------------------+\n",
       "showing top 10 rows\n",
       "showing the first 4 of 9782 columns"
      ],
      "text/html": [
       "<table><thead><tr><td style=\"white-space: nowrap; max-width: 500px; overflow: hidden; text-overflow: ellipsis; \" colspan=\"1\"><div style=\"text-align: left;\"></div></td><td style=\"white-space: nowrap; max-width: 500px; overflow: hidden; text-overflow: ellipsis; \" colspan=\"1\"><div style=\"text-align: left;\"></div></td><td style=\"white-space: nowrap; max-width: 500px; overflow: hidden; text-overflow: ellipsis; \" colspan=\"1\"><div style=\"text-align: left;\"></div></td><td style=\"white-space: nowrap; max-width: 500px; overflow: hidden; text-overflow: ellipsis; \" colspan=\"1\"><div style=\"text-align: left;\"></div></td><td style=\"white-space: nowrap; max-width: 500px; overflow: hidden; text-overflow: ellipsis; \" colspan=\"1\"><div style=\"text-align: left;\"></div></td><td style=\"white-space: nowrap; max-width: 500px; overflow: hidden; text-overflow: ellipsis; \" colspan=\"1\"><div style=\"text-align: left;\"></div></td></tr><tr><td style=\"white-space: nowrap; max-width: 500px; overflow: hidden; text-overflow: ellipsis; \" colspan=\"1\"><div style=\"text-align: left;\"></div></td><td style=\"white-space: nowrap; max-width: 500px; overflow: hidden; text-overflow: ellipsis; \" colspan=\"1\"><div style=\"text-align: left;\"></div></td><td style=\"white-space: nowrap; max-width: 500px; overflow: hidden; text-overflow: ellipsis; \" colspan=\"1\"><div style=\"text-align: left;border-bottom: solid 2px #000; padding-bottom: 5px\">&#x27;E00643964_S5&#x27;</div></td><td style=\"white-space: nowrap; max-width: 500px; overflow: hidden; text-overflow: ellipsis; \" colspan=\"1\"><div style=\"text-align: left;border-bottom: solid 2px #000; padding-bottom: 5px\">&#x27;E00737113_S4&#x27;</div></td><td style=\"white-space: nowrap; max-width: 500px; overflow: hidden; text-overflow: ellipsis; \" colspan=\"1\"><div style=\"text-align: left;border-bottom: solid 2px #000; padding-bottom: 5px\">&#x27;E00995080_S6&#x27;</div></td><td style=\"white-space: nowrap; max-width: 500px; overflow: hidden; text-overflow: ellipsis; \" colspan=\"1\"><div style=\"text-align: left;border-bottom: solid 2px #000; padding-bottom: 5px\">&#x27;E01002684_TSO0054&#x27;</div></td></tr><tr><td style=\"white-space: nowrap; max-width: 500px; overflow: hidden; text-overflow: ellipsis; \" colspan=\"1\"><div style=\"text-align: left;border-bottom: solid 2px #000; padding-bottom: 5px\">locus</div></td><td style=\"white-space: nowrap; max-width: 500px; overflow: hidden; text-overflow: ellipsis; \" colspan=\"1\"><div style=\"text-align: left;border-bottom: solid 2px #000; padding-bottom: 5px\">alleles</div></td><td style=\"white-space: nowrap; max-width: 500px; overflow: hidden; text-overflow: ellipsis; \" colspan=\"1\"><div style=\"text-align: left;border-bottom: solid 2px #000; padding-bottom: 5px\">GT</div></td><td style=\"white-space: nowrap; max-width: 500px; overflow: hidden; text-overflow: ellipsis; \" colspan=\"1\"><div style=\"text-align: left;border-bottom: solid 2px #000; padding-bottom: 5px\">GT</div></td><td style=\"white-space: nowrap; max-width: 500px; overflow: hidden; text-overflow: ellipsis; \" colspan=\"1\"><div style=\"text-align: left;border-bottom: solid 2px #000; padding-bottom: 5px\">GT</div></td><td style=\"white-space: nowrap; max-width: 500px; overflow: hidden; text-overflow: ellipsis; \" colspan=\"1\"><div style=\"text-align: left;border-bottom: solid 2px #000; padding-bottom: 5px\">GT</div></td></tr><tr><td style=\"white-space: nowrap; max-width: 500px; overflow: hidden; text-overflow: ellipsis; text-align: left;\">locus&lt;GRCh37&gt;</td><td style=\"white-space: nowrap; max-width: 500px; overflow: hidden; text-overflow: ellipsis; text-align: left;\">array&lt;str&gt;</td><td style=\"white-space: nowrap; max-width: 500px; overflow: hidden; text-overflow: ellipsis; text-align: left;\">call</td><td style=\"white-space: nowrap; max-width: 500px; overflow: hidden; text-overflow: ellipsis; text-align: left;\">call</td><td style=\"white-space: nowrap; max-width: 500px; overflow: hidden; text-overflow: ellipsis; text-align: left;\">call</td><td style=\"white-space: nowrap; max-width: 500px; overflow: hidden; text-overflow: ellipsis; text-align: left;\">call</td></tr>\n",
       "</thead><tbody><tr><td style=\"white-space: nowrap; max-width: 500px; overflow: hidden; text-overflow: ellipsis; \">1:1268003</td><td style=\"white-space: nowrap; max-width: 500px; overflow: hidden; text-overflow: ellipsis; \">[&quot;C&quot;,&quot;T&quot;]</td><td style=\"white-space: nowrap; max-width: 500px; overflow: hidden; text-overflow: ellipsis; \">NA</td><td style=\"white-space: nowrap; max-width: 500px; overflow: hidden; text-overflow: ellipsis; \">NA</td><td style=\"white-space: nowrap; max-width: 500px; overflow: hidden; text-overflow: ellipsis; \">NA</td><td style=\"white-space: nowrap; max-width: 500px; overflow: hidden; text-overflow: ellipsis; \">NA</td></tr>\n",
       "<tr><td style=\"white-space: nowrap; max-width: 500px; overflow: hidden; text-overflow: ellipsis; \">1:2235330</td><td style=\"white-space: nowrap; max-width: 500px; overflow: hidden; text-overflow: ellipsis; \">[&quot;C&quot;,&quot;T&quot;]</td><td style=\"white-space: nowrap; max-width: 500px; overflow: hidden; text-overflow: ellipsis; \">NA</td><td style=\"white-space: nowrap; max-width: 500px; overflow: hidden; text-overflow: ellipsis; \">NA</td><td style=\"white-space: nowrap; max-width: 500px; overflow: hidden; text-overflow: ellipsis; \">NA</td><td style=\"white-space: nowrap; max-width: 500px; overflow: hidden; text-overflow: ellipsis; \">NA</td></tr>\n",
       "<tr><td style=\"white-space: nowrap; max-width: 500px; overflow: hidden; text-overflow: ellipsis; \">1:2538417</td><td style=\"white-space: nowrap; max-width: 500px; overflow: hidden; text-overflow: ellipsis; \">[&quot;G&quot;,&quot;A&quot;]</td><td style=\"white-space: nowrap; max-width: 500px; overflow: hidden; text-overflow: ellipsis; \">NA</td><td style=\"white-space: nowrap; max-width: 500px; overflow: hidden; text-overflow: ellipsis; \">NA</td><td style=\"white-space: nowrap; max-width: 500px; overflow: hidden; text-overflow: ellipsis; \">NA</td><td style=\"white-space: nowrap; max-width: 500px; overflow: hidden; text-overflow: ellipsis; \">NA</td></tr>\n",
       "<tr><td style=\"white-space: nowrap; max-width: 500px; overflow: hidden; text-overflow: ellipsis; \">1:6111591</td><td style=\"white-space: nowrap; max-width: 500px; overflow: hidden; text-overflow: ellipsis; \">[&quot;G&quot;,&quot;A&quot;]</td><td style=\"white-space: nowrap; max-width: 500px; overflow: hidden; text-overflow: ellipsis; \">NA</td><td style=\"white-space: nowrap; max-width: 500px; overflow: hidden; text-overflow: ellipsis; \">NA</td><td style=\"white-space: nowrap; max-width: 500px; overflow: hidden; text-overflow: ellipsis; \">NA</td><td style=\"white-space: nowrap; max-width: 500px; overflow: hidden; text-overflow: ellipsis; \">NA</td></tr>\n",
       "<tr><td style=\"white-space: nowrap; max-width: 500px; overflow: hidden; text-overflow: ellipsis; \">1:6500676</td><td style=\"white-space: nowrap; max-width: 500px; overflow: hidden; text-overflow: ellipsis; \">[&quot;T&quot;,&quot;C&quot;]</td><td style=\"white-space: nowrap; max-width: 500px; overflow: hidden; text-overflow: ellipsis; \">NA</td><td style=\"white-space: nowrap; max-width: 500px; overflow: hidden; text-overflow: ellipsis; \">NA</td><td style=\"white-space: nowrap; max-width: 500px; overflow: hidden; text-overflow: ellipsis; \">NA</td><td style=\"white-space: nowrap; max-width: 500px; overflow: hidden; text-overflow: ellipsis; \">NA</td></tr>\n",
       "<tr><td style=\"white-space: nowrap; max-width: 500px; overflow: hidden; text-overflow: ellipsis; \">1:6505848</td><td style=\"white-space: nowrap; max-width: 500px; overflow: hidden; text-overflow: ellipsis; \">[&quot;G&quot;,&quot;C&quot;]</td><td style=\"white-space: nowrap; max-width: 500px; overflow: hidden; text-overflow: ellipsis; \">NA</td><td style=\"white-space: nowrap; max-width: 500px; overflow: hidden; text-overflow: ellipsis; \">NA</td><td style=\"white-space: nowrap; max-width: 500px; overflow: hidden; text-overflow: ellipsis; \">NA</td><td style=\"white-space: nowrap; max-width: 500px; overflow: hidden; text-overflow: ellipsis; \">NA</td></tr>\n",
       "<tr><td style=\"white-space: nowrap; max-width: 500px; overflow: hidden; text-overflow: ellipsis; \">1:6505851</td><td style=\"white-space: nowrap; max-width: 500px; overflow: hidden; text-overflow: ellipsis; \">[&quot;A&quot;,&quot;C&quot;]</td><td style=\"white-space: nowrap; max-width: 500px; overflow: hidden; text-overflow: ellipsis; \">NA</td><td style=\"white-space: nowrap; max-width: 500px; overflow: hidden; text-overflow: ellipsis; \">NA</td><td style=\"white-space: nowrap; max-width: 500px; overflow: hidden; text-overflow: ellipsis; \">NA</td><td style=\"white-space: nowrap; max-width: 500px; overflow: hidden; text-overflow: ellipsis; \">NA</td></tr>\n",
       "<tr><td style=\"white-space: nowrap; max-width: 500px; overflow: hidden; text-overflow: ellipsis; \">1:6505857</td><td style=\"white-space: nowrap; max-width: 500px; overflow: hidden; text-overflow: ellipsis; \">[&quot;G&quot;,&quot;C&quot;]</td><td style=\"white-space: nowrap; max-width: 500px; overflow: hidden; text-overflow: ellipsis; \">NA</td><td style=\"white-space: nowrap; max-width: 500px; overflow: hidden; text-overflow: ellipsis; \">NA</td><td style=\"white-space: nowrap; max-width: 500px; overflow: hidden; text-overflow: ellipsis; \">NA</td><td style=\"white-space: nowrap; max-width: 500px; overflow: hidden; text-overflow: ellipsis; \">NA</td></tr>\n",
       "<tr><td style=\"white-space: nowrap; max-width: 500px; overflow: hidden; text-overflow: ellipsis; \">1:6505881</td><td style=\"white-space: nowrap; max-width: 500px; overflow: hidden; text-overflow: ellipsis; \">[&quot;A&quot;,&quot;C&quot;]</td><td style=\"white-space: nowrap; max-width: 500px; overflow: hidden; text-overflow: ellipsis; \">NA</td><td style=\"white-space: nowrap; max-width: 500px; overflow: hidden; text-overflow: ellipsis; \">NA</td><td style=\"white-space: nowrap; max-width: 500px; overflow: hidden; text-overflow: ellipsis; \">NA</td><td style=\"white-space: nowrap; max-width: 500px; overflow: hidden; text-overflow: ellipsis; \">NA</td></tr>\n",
       "<tr><td style=\"white-space: nowrap; max-width: 500px; overflow: hidden; text-overflow: ellipsis; \">1:6505887</td><td style=\"white-space: nowrap; max-width: 500px; overflow: hidden; text-overflow: ellipsis; \">[&quot;A&quot;,&quot;C&quot;]</td><td style=\"white-space: nowrap; max-width: 500px; overflow: hidden; text-overflow: ellipsis; \">NA</td><td style=\"white-space: nowrap; max-width: 500px; overflow: hidden; text-overflow: ellipsis; \">NA</td><td style=\"white-space: nowrap; max-width: 500px; overflow: hidden; text-overflow: ellipsis; \">NA</td><td style=\"white-space: nowrap; max-width: 500px; overflow: hidden; text-overflow: ellipsis; \">NA</td></tr>\n",
       "</tbody></table><p style=\"background: #fdd; padding: 0.4em;\">showing top 10 rows</p>\n",
       "<p style=\"background: #fdd; padding: 0.4em;\">showing the first 4 of 9782 columns</p>\n"
      ]
     },
     "metadata": {},
     "output_type": "display_data"
    },
    {
     "name": "stderr",
     "output_type": "stream",
     "text": [
      "                                                                                \r"
     ]
    },
    {
     "name": "stdout",
     "output_type": "stream",
     "text": [
      "PCA eigenvalues: [5.390712008304009, 4.080476437095585, 2.650305953467556]\n",
      "Column annotation (PCA) sample:\n"
     ]
    },
    {
     "data": {
      "text/plain": [
       "+------------------+--------------------------------+\n",
       "| s                | pca.scores                     |\n",
       "+------------------+--------------------------------+\n",
       "| str              | array<float64>                 |\n",
       "+------------------+--------------------------------+\n",
       "| \"104220-023-001\" | [3.77e-05,-2.18e-03,3.36e-04]  |\n",
       "| \"104220-023-001\" | [3.77e-05,-2.18e-03,3.36e-04]  |\n",
       "| \"104220-023-002\" | [-3.55e-08,2.84e-06,-5.86e-07] |\n",
       "| \"104220-023-003\" | [1.13e-08,-9.83e-07,1.50e-07]  |\n",
       "| \"104220-023-004\" | [1.13e-08,-9.83e-07,1.50e-07]  |\n",
       "+------------------+--------------------------------+\n",
       "showing top 5 rows"
      ],
      "text/html": [
       "<table><thead><tr><td style=\"white-space: nowrap; max-width: 500px; overflow: hidden; text-overflow: ellipsis; \" colspan=\"1\"><div style=\"text-align: left;\"></div></td><td style=\"white-space: nowrap; max-width: 500px; overflow: hidden; text-overflow: ellipsis; \" colspan=\"1\"><div style=\"text-align: left;\"></div></td></tr><tr><td style=\"white-space: nowrap; max-width: 500px; overflow: hidden; text-overflow: ellipsis; \" colspan=\"1\"><div style=\"text-align: left;\"></div></td><td style=\"white-space: nowrap; max-width: 500px; overflow: hidden; text-overflow: ellipsis; \" colspan=\"1\"><div style=\"text-align: left;border-bottom: solid 2px #000; padding-bottom: 5px\">pca</div></td></tr><tr><td style=\"white-space: nowrap; max-width: 500px; overflow: hidden; text-overflow: ellipsis; \" colspan=\"1\"><div style=\"text-align: left;border-bottom: solid 2px #000; padding-bottom: 5px\">s</div></td><td style=\"white-space: nowrap; max-width: 500px; overflow: hidden; text-overflow: ellipsis; \" colspan=\"1\"><div style=\"text-align: left;border-bottom: solid 2px #000; padding-bottom: 5px\">scores</div></td></tr><tr><td style=\"white-space: nowrap; max-width: 500px; overflow: hidden; text-overflow: ellipsis; text-align: left;\">str</td><td style=\"white-space: nowrap; max-width: 500px; overflow: hidden; text-overflow: ellipsis; text-align: left;\">array&lt;float64&gt;</td></tr>\n",
       "</thead><tbody><tr><td style=\"white-space: nowrap; max-width: 500px; overflow: hidden; text-overflow: ellipsis; \">&quot;104220-023-001&quot;</td><td style=\"white-space: nowrap; max-width: 500px; overflow: hidden; text-overflow: ellipsis; \">[3.77e-05,-2.18e-03,3.36e-04]</td></tr>\n",
       "<tr><td style=\"white-space: nowrap; max-width: 500px; overflow: hidden; text-overflow: ellipsis; \">&quot;104220-023-001&quot;</td><td style=\"white-space: nowrap; max-width: 500px; overflow: hidden; text-overflow: ellipsis; \">[3.77e-05,-2.18e-03,3.36e-04]</td></tr>\n",
       "<tr><td style=\"white-space: nowrap; max-width: 500px; overflow: hidden; text-overflow: ellipsis; \">&quot;104220-023-002&quot;</td><td style=\"white-space: nowrap; max-width: 500px; overflow: hidden; text-overflow: ellipsis; \">[-3.55e-08,2.84e-06,-5.86e-07]</td></tr>\n",
       "<tr><td style=\"white-space: nowrap; max-width: 500px; overflow: hidden; text-overflow: ellipsis; \">&quot;104220-023-003&quot;</td><td style=\"white-space: nowrap; max-width: 500px; overflow: hidden; text-overflow: ellipsis; \">[1.13e-08,-9.83e-07,1.50e-07]</td></tr>\n",
       "<tr><td style=\"white-space: nowrap; max-width: 500px; overflow: hidden; text-overflow: ellipsis; \">&quot;104220-023-004&quot;</td><td style=\"white-space: nowrap; max-width: 500px; overflow: hidden; text-overflow: ellipsis; \">[1.13e-08,-9.83e-07,1.50e-07]</td></tr>\n",
       "</tbody></table><p style=\"background: #fdd; padding: 0.4em;\">showing top 5 rows</p>\n"
      ]
     },
     "metadata": {},
     "output_type": "display_data"
    },
    {
     "name": "stderr",
     "output_type": "stream",
     "text": [
      "                                                                                \r"
     ]
    },
    {
     "data": {
      "text/plain": [
       "+----------+-------+----------+----------+-------+\n",
       "| id       |  size |   q_stat |  p_value | fault |\n",
       "+----------+-------+----------+----------+-------+\n",
       "| str      | int32 |  float64 |  float64 | int32 |\n",
       "+----------+-------+----------+----------+-------+\n",
       "| \"TTTY14\" |     1 | 3.09e-13 | 4.45e-04 |     0 |\n",
       "+----------+-------+----------+----------+-------+"
      ],
      "text/html": [
       "<table><thead><tr><td style=\"white-space: nowrap; max-width: 500px; overflow: hidden; text-overflow: ellipsis; \" colspan=\"1\"><div style=\"text-align: left;\"></div></td><td style=\"white-space: nowrap; max-width: 500px; overflow: hidden; text-overflow: ellipsis; \" colspan=\"1\"><div style=\"text-align: left;\"></div></td><td style=\"white-space: nowrap; max-width: 500px; overflow: hidden; text-overflow: ellipsis; \" colspan=\"1\"><div style=\"text-align: left;\"></div></td><td style=\"white-space: nowrap; max-width: 500px; overflow: hidden; text-overflow: ellipsis; \" colspan=\"1\"><div style=\"text-align: left;\"></div></td><td style=\"white-space: nowrap; max-width: 500px; overflow: hidden; text-overflow: ellipsis; \" colspan=\"1\"><div style=\"text-align: left;\"></div></td></tr><tr><td style=\"white-space: nowrap; max-width: 500px; overflow: hidden; text-overflow: ellipsis; \" colspan=\"1\"><div style=\"text-align: left;border-bottom: solid 2px #000; padding-bottom: 5px\">id</div></td><td style=\"white-space: nowrap; max-width: 500px; overflow: hidden; text-overflow: ellipsis; \" colspan=\"1\"><div style=\"text-align: left;border-bottom: solid 2px #000; padding-bottom: 5px\">size</div></td><td style=\"white-space: nowrap; max-width: 500px; overflow: hidden; text-overflow: ellipsis; \" colspan=\"1\"><div style=\"text-align: left;border-bottom: solid 2px #000; padding-bottom: 5px\">q_stat</div></td><td style=\"white-space: nowrap; max-width: 500px; overflow: hidden; text-overflow: ellipsis; \" colspan=\"1\"><div style=\"text-align: left;border-bottom: solid 2px #000; padding-bottom: 5px\">p_value</div></td><td style=\"white-space: nowrap; max-width: 500px; overflow: hidden; text-overflow: ellipsis; \" colspan=\"1\"><div style=\"text-align: left;border-bottom: solid 2px #000; padding-bottom: 5px\">fault</div></td></tr><tr><td style=\"white-space: nowrap; max-width: 500px; overflow: hidden; text-overflow: ellipsis; text-align: left;\">str</td><td style=\"white-space: nowrap; max-width: 500px; overflow: hidden; text-overflow: ellipsis; text-align: left;\">int32</td><td style=\"white-space: nowrap; max-width: 500px; overflow: hidden; text-overflow: ellipsis; text-align: left;\">float64</td><td style=\"white-space: nowrap; max-width: 500px; overflow: hidden; text-overflow: ellipsis; text-align: left;\">float64</td><td style=\"white-space: nowrap; max-width: 500px; overflow: hidden; text-overflow: ellipsis; text-align: left;\">int32</td></tr>\n",
       "</thead><tbody><tr><td style=\"white-space: nowrap; max-width: 500px; overflow: hidden; text-overflow: ellipsis; \">&quot;TTTY14&quot;</td><td style=\"white-space: nowrap; max-width: 500px; overflow: hidden; text-overflow: ellipsis; \">1</td><td style=\"white-space: nowrap; max-width: 500px; overflow: hidden; text-overflow: ellipsis; \">3.09e-13</td><td style=\"white-space: nowrap; max-width: 500px; overflow: hidden; text-overflow: ellipsis; \">4.45e-04</td><td style=\"white-space: nowrap; max-width: 500px; overflow: hidden; text-overflow: ellipsis; \">0</td></tr>\n",
       "</tbody></table>"
      ]
     },
     "metadata": {},
     "output_type": "display_data"
    }
   ],
   "execution_count": 6
  },
  {
   "metadata": {
    "ExecuteTime": {
     "end_time": "2025-06-03T21:59:29.532935Z",
     "start_time": "2025-06-03T21:59:27.324808Z"
    }
   },
   "cell_type": "code",
   "source": [
    "init_spark_and_run(conf, out_dir, tmp_dir)\n",
    "skat_results_ht = hl.read_table(f\"{out_dir}/hgdp-tgp-rare-variants.skat_results.ht\")"
   ],
   "id": "20016d3b5892881",
   "outputs": [
    {
     "name": "stderr",
     "output_type": "stream",
     "text": [
      "pip-installed Hail requires additional configuration options in Spark referring\n",
      "  to the path to the Hail Python module directory HAIL_DIR,\n",
      "  e.g. /path/to/python/site-packages/hail:\n",
      "    spark.jars=HAIL_DIR/backend/hail-all-spark.jar\n",
      "    spark.driver.extraClassPath=HAIL_DIR/backend/hail-all-spark.jar\n",
      "    spark.executor.extraClassPath=./hail-all-spark.jarRunning on Apache Spark version 3.5.4\n",
      "SparkUI available at http://tu-kliin-1-oligogen-1-virtual--1475-7.openstacklocal:4040\n",
      "Welcome to\n",
      "     __  __     <>__\n",
      "    / /_/ /__  __/ /\n",
      "   / __  / _ `/ / /\n",
      "  /_/ /_/\\_,_/_/_/   version 0.2.133-4c60fddb171a\n",
      "LOGGING: writing to /mnt/sdb/tmp-skat/logfile-20250604-0059.skat.log\n"
     ]
    },
    {
     "name": "stdout",
     "output_type": "stream",
     "text": [
      "[('spark.repl.local.jars', ''), ('spark.local.dir', '/mnt/sdb/tmp-skat'), ('spark.kryo.registrator', 'is.hail.kryo.HailKryoRegistrator'), ('spark.logConf', 'false'), ('spark.driver.host', 'tu-kliin-1-oligogen-1-virtual--1475-7.openstacklocal'), ('spark.driver.port', '44947'), ('spark.driver.memory', '21g'), ('spark.serializer', 'org.apache.spark.serializer.KryoSerializer'), ('spark.jars', '/opt/global-venv/lib64/python3.9/site-packages/hail/backend/hail-all-spark.jar'), ('spark.serializer.objectStreamReset', '100'), ('spark.executor.extraClassPath', './hail-all-spark.jar'), ('spark.eventLog.dir', '/mnt/sdb/tmp-skat/'), ('spark.master', 'local[*]'), ('spark.app.submitTime', '1748984719303'), ('spark.executor.cores', '3'), ('spark.submit.deployMode', 'client'), ('spark.driver.extraJavaOptions', '-Djava.net.preferIPv6Addresses=false -XX:+IgnoreUnrecognizedVMOptions --add-opens=java.base/java.lang=ALL-UNNAMED --add-opens=java.base/java.lang.invoke=ALL-UNNAMED --add-opens=java.base/java.lang.reflect=ALL-UNNAMED --add-opens=java.base/java.io=ALL-UNNAMED --add-opens=java.base/java.net=ALL-UNNAMED --add-opens=java.base/java.nio=ALL-UNNAMED --add-opens=java.base/java.util=ALL-UNNAMED --add-opens=java.base/java.util.concurrent=ALL-UNNAMED --add-opens=java.base/java.util.concurrent.atomic=ALL-UNNAMED --add-opens=java.base/jdk.internal.ref=ALL-UNNAMED --add-opens=java.base/sun.nio.ch=ALL-UNNAMED --add-opens=java.base/sun.nio.cs=ALL-UNNAMED --add-opens=java.base/sun.security.action=ALL-UNNAMED --add-opens=java.base/sun.util.calendar=ALL-UNNAMED --add-opens=java.security.jgss/sun.security.krb5=ALL-UNNAMED -Djdk.reflect.useDirectMethodHandle=false -XX:-UsePerfData'), ('spark.task.maxFailures', '4'), ('spark.executor.extraJavaOptions', '-Djava.net.preferIPv6Addresses=false -XX:+IgnoreUnrecognizedVMOptions --add-opens=java.base/java.lang=ALL-UNNAMED --add-opens=java.base/java.lang.invoke=ALL-UNNAMED --add-opens=java.base/java.lang.reflect=ALL-UNNAMED --add-opens=java.base/java.io=ALL-UNNAMED --add-opens=java.base/java.net=ALL-UNNAMED --add-opens=java.base/java.nio=ALL-UNNAMED --add-opens=java.base/java.util=ALL-UNNAMED --add-opens=java.base/java.util.concurrent=ALL-UNNAMED --add-opens=java.base/java.util.concurrent.atomic=ALL-UNNAMED --add-opens=java.base/jdk.internal.ref=ALL-UNNAMED --add-opens=java.base/sun.nio.ch=ALL-UNNAMED --add-opens=java.base/sun.nio.cs=ALL-UNNAMED --add-opens=java.base/sun.security.action=ALL-UNNAMED --add-opens=java.base/sun.util.calendar=ALL-UNNAMED --add-opens=java.security.jgss/sun.security.krb5=ALL-UNNAMED -Djdk.reflect.useDirectMethodHandle=false -XX:-UsePerfData'), ('spark.executor.id', 'driver'), ('spark.driver.extraClassPath', '/opt/global-venv/lib64/python3.9/site-packages/hail/backend/hail-all-spark.jar'), ('spark.app.initial.jar.urls', 'spark://tu-kliin-1-oligogen-1-virtual--1475-7.openstacklocal:44947/jars/hail-all-spark.jar'), ('spark.driver.bindAddress', '127.0.0.1'), ('spark.app.id', 'local-1748987967434'), ('spark.app.startTime', '1748987967351'), ('spark.rdd.compress', 'True'), ('spark.speculation', 'false'), ('spark.log.level', 'FATAL'), ('spark.app.name', 'HailTools-TSO'), ('spark.submit.pyFiles', ''), ('spark.ui.showConsoleProgress', 'true')]\n"
     ]
    }
   ],
   "execution_count": 12
  },
  {
   "metadata": {
    "ExecuteTime": {
     "end_time": "2025-06-03T22:24:10.754215Z",
     "start_time": "2025-06-03T22:24:10.695625Z"
    }
   },
   "cell_type": "code",
   "source": [
    "from hail.ggplot import *\n",
    "\n",
    "skat_results_ht = skat_results_ht.annotate(\n",
    "    p_value=hl.if_else(\n",
    "        skat_results_ht.fault == 0,\n",
    "        skat_results_ht.p_value,\n",
    "        1,\n",
    "    )\n",
    ")\n",
    "fig = ggplot(skat_results_ht) + geom_col(\n",
    "    aes(\n",
    "        x=skat_results_ht.id,\n",
    "        y=-hl.log(skat_results_ht.p_value, base=10),\n",
    "    )\n",
    ")\n",
    "fig._repr_html_(Path(skat_mtx_output_dir).joinpath(\"skat_html\"))"
   ],
   "id": "d068b6b276067c38",
   "outputs": [
    {
     "ename": "TypeError",
     "evalue": "_repr_html_() takes 1 positional argument but 2 were given",
     "output_type": "error",
     "traceback": [
      "\u001B[0;31m---------------------------------------------------------------------------\u001B[0m",
      "\u001B[0;31mTypeError\u001B[0m                                 Traceback (most recent call last)",
      "Cell \u001B[0;32mIn[33], line 16\u001B[0m\n\u001B[1;32m      3\u001B[0m skat_results_ht \u001B[38;5;241m=\u001B[39m skat_results_ht\u001B[38;5;241m.\u001B[39mannotate(\n\u001B[1;32m      4\u001B[0m     p_value\u001B[38;5;241m=\u001B[39mhl\u001B[38;5;241m.\u001B[39mif_else(\n\u001B[1;32m      5\u001B[0m         skat_results_ht\u001B[38;5;241m.\u001B[39mfault \u001B[38;5;241m==\u001B[39m \u001B[38;5;241m0\u001B[39m,\n\u001B[0;32m   (...)\u001B[0m\n\u001B[1;32m      8\u001B[0m     )\n\u001B[1;32m      9\u001B[0m )\n\u001B[1;32m     10\u001B[0m fig \u001B[38;5;241m=\u001B[39m ggplot(skat_results_ht) \u001B[38;5;241m+\u001B[39m geom_col(\n\u001B[1;32m     11\u001B[0m     aes(\n\u001B[1;32m     12\u001B[0m         x\u001B[38;5;241m=\u001B[39mskat_results_ht\u001B[38;5;241m.\u001B[39mid,\n\u001B[1;32m     13\u001B[0m         y\u001B[38;5;241m=\u001B[39m\u001B[38;5;241m-\u001B[39mhl\u001B[38;5;241m.\u001B[39mlog(skat_results_ht\u001B[38;5;241m.\u001B[39mp_value, base\u001B[38;5;241m=\u001B[39m\u001B[38;5;241m10\u001B[39m),\n\u001B[1;32m     14\u001B[0m     )\n\u001B[1;32m     15\u001B[0m )\n\u001B[0;32m---> 16\u001B[0m \u001B[43mfig\u001B[49m\u001B[38;5;241;43m.\u001B[39;49m\u001B[43m_repr_html_\u001B[49m\u001B[43m(\u001B[49m\u001B[43mPath\u001B[49m\u001B[43m(\u001B[49m\u001B[43mskat_mtx_output_dir\u001B[49m\u001B[43m)\u001B[49m\u001B[38;5;241;43m.\u001B[39;49m\u001B[43mjoinpath\u001B[49m\u001B[43m(\u001B[49m\u001B[38;5;124;43m\"\u001B[39;49m\u001B[38;5;124;43mskat_html\u001B[39;49m\u001B[38;5;124;43m\"\u001B[39;49m\u001B[43m)\u001B[49m\u001B[43m)\u001B[49m\n",
      "\u001B[0;31mTypeError\u001B[0m: _repr_html_() takes 1 positional argument but 2 were given"
     ]
    }
   ],
   "execution_count": 33
  },
  {
   "metadata": {
    "ExecuteTime": {
     "end_time": "2025-06-03T21:54:07.179475Z",
     "start_time": "2025-06-03T21:54:07.166203Z"
    }
   },
   "cell_type": "code",
   "source": "skat_pd.sort_values(by=\"size\", ascending=False)",
   "id": "dc4338dbdbe48ea3",
   "outputs": [
    {
     "data": {
      "text/plain": [
       "       id  size  q_stat   p_value  fault  bonferroni_threshold  \\\n",
       "0  TTTY14     1     0.0  0.000445      0                  0.05   \n",
       "\n",
       "   is_significant    log_p  \n",
       "0            True  1.30103  "
      ],
      "text/html": [
       "<div>\n",
       "<style scoped>\n",
       "    .dataframe tbody tr th:only-of-type {\n",
       "        vertical-align: middle;\n",
       "    }\n",
       "\n",
       "    .dataframe tbody tr th {\n",
       "        vertical-align: top;\n",
       "    }\n",
       "\n",
       "    .dataframe thead th {\n",
       "        text-align: right;\n",
       "    }\n",
       "</style>\n",
       "<table border=\"1\" class=\"dataframe\">\n",
       "  <thead>\n",
       "    <tr style=\"text-align: right;\">\n",
       "      <th></th>\n",
       "      <th>id</th>\n",
       "      <th>size</th>\n",
       "      <th>q_stat</th>\n",
       "      <th>p_value</th>\n",
       "      <th>fault</th>\n",
       "      <th>bonferroni_threshold</th>\n",
       "      <th>is_significant</th>\n",
       "      <th>log_p</th>\n",
       "    </tr>\n",
       "  </thead>\n",
       "  <tbody>\n",
       "    <tr>\n",
       "      <th>0</th>\n",
       "      <td>TTTY14</td>\n",
       "      <td>1</td>\n",
       "      <td>0.0</td>\n",
       "      <td>0.000445</td>\n",
       "      <td>0</td>\n",
       "      <td>0.05</td>\n",
       "      <td>True</td>\n",
       "      <td>1.30103</td>\n",
       "    </tr>\n",
       "  </tbody>\n",
       "</table>\n",
       "</div>"
      ]
     },
     "execution_count": 9,
     "metadata": {},
     "output_type": "execute_result"
    }
   ],
   "execution_count": 9
  },
  {
   "metadata": {
    "ExecuteTime": {
     "end_time": "2025-06-03T21:54:08.991026Z",
     "start_time": "2025-06-03T21:54:07.180888Z"
    }
   },
   "cell_type": "code",
   "source": [
    "mt_pre = mt_final.group_rows_by(mt_final.gene).aggregate(size=hl.agg.count()).cols()\n",
    "mt_pre.summarize()"
   ],
   "id": "6d9fbe9c2de845aa",
   "outputs": [
    {
     "data": {
      "text/plain": [
       "\n",
       "9782 records.\n",
       "\n",
       "  - s (str):\n",
       "      Non-missing: 9782 (100.00%)\n",
       "          Missing: 0\n",
       "         Min Size: 8\n",
       "         Max Size: 17\n",
       "        Mean Size: 11.79\n",
       "    Sample Values: ['104220-023-001', '104220-023-001', '104220-023-002', '104220-023-003', '104220-023-004']\n",
       "\n",
       "  - pheno (int32):\n",
       "    Non-missing: 9782 (100.00%)\n",
       "        Missing: 0\n",
       "        Minimum: 0\n",
       "        Maximum: 1\n",
       "           Mean: 0.07\n",
       "        Std Dev: 0.25\n",
       "\n",
       "  - pca (struct with 1 fields):\n",
       "    Non-missing: 9782 (100.00%)\n",
       "        Missing: 0\n",
       "\n",
       "    - pca.scores (array<float64>):\n",
       "      Non-missing: 9782 (100.00%)\n",
       "          Missing: 0\n",
       "         Min Size: 3\n",
       "         Max Size: 3\n",
       "        Mean Size: 3.00\n",
       "\n",
       "      - pca.scores[<elements>] (float64):\n",
       "        Non-missing: 29346 (100.00%)\n",
       "            Missing: 0\n",
       "            Minimum: -0.31\n",
       "            Maximum: 0.10\n",
       "               Mean: -0.00\n",
       "            Std Dev: 0.02"
      ],
      "text/html": [
       "<p>9782 records.</p><ul><li><b>s</b> (<i>str</i>):<ul><table><tbody><tr><td>Non-missing</td><td>9782 (100.00%)</td></tr><tr><td>Missing</td><td>0</td></tr><tr><td>Min Size</td><td>8</td></tr><tr><td>Max Size</td><td>17</td></tr><tr><td>Mean Size</td><td>11.79</td></tr><tr><td>Sample Values</td><td>[&#x27;104220-023-001&#x27;, &#x27;104220-023-001&#x27;, &#x27;104220-023-002&#x27;, &#x27;104220-023-003&#x27;, &#x27;104220-023-004&#x27;]</td></tr></tbody></table></ul></li><li><b>pheno</b> (<i>int32</i>):<ul><table><tbody><tr><td>Non-missing</td><td>9782 (100.00%)</td></tr><tr><td>Missing</td><td>0</td></tr><tr><td>Minimum</td><td>0</td></tr><tr><td>Maximum</td><td>1</td></tr><tr><td>Mean</td><td>0.07</td></tr><tr><td>Std Dev</td><td>0.25</td></tr></tbody></table></ul></li><li><b>pca</b> (<i>struct with 1 fields</i>):<ul><table><tbody><tr><td>Non-missing</td><td>9782 (100.00%)</td></tr><tr><td>Missing</td><td>0</td></tr></tbody></table><li><b>pca.scores</b> (<i>array&lt;float64&gt;</i>):<ul><table><tbody><tr><td>Non-missing</td><td>9782 (100.00%)</td></tr><tr><td>Missing</td><td>0</td></tr><tr><td>Min Size</td><td>3</td></tr><tr><td>Max Size</td><td>3</td></tr><tr><td>Mean Size</td><td>3.00</td></tr></tbody></table><li><b>pca.scores[&lt;elements&gt;]</b> (<i>float64</i>):<ul><table><tbody><tr><td>Non-missing</td><td>29346 (100.00%)</td></tr><tr><td>Missing</td><td>0</td></tr><tr><td>Minimum</td><td>-0.31</td></tr><tr><td>Maximum</td><td>0.10</td></tr><tr><td>Mean</td><td>-0.00</td></tr><tr><td>Std Dev</td><td>0.02</td></tr></tbody></table></ul></li></ul></li></ul></li></ul>"
      ]
     },
     "metadata": {},
     "output_type": "display_data"
    }
   ],
   "execution_count": 10
  },
  {
   "metadata": {
    "ExecuteTime": {
     "end_time": "2025-06-03T22:00:44.723762Z",
     "start_time": "2025-06-03T22:00:43.459106Z"
    }
   },
   "cell_type": "code",
   "source": "skat_results_ht.summarize()",
   "id": "880d57abe326dd2e",
   "outputs": [
    {
     "data": {
      "text/plain": [
       "\n",
       "1 records.\n",
       "\n",
       "  - id (str):\n",
       "      Non-missing: 1 (100.00%)\n",
       "          Missing: 0\n",
       "         Min Size: 6\n",
       "         Max Size: 6\n",
       "        Mean Size: 6.00\n",
       "    Sample Values: ['TTTY14']\n",
       "\n",
       "  - size (int32):\n",
       "    Non-missing: 1 (100.00%)\n",
       "        Missing: 0\n",
       "        Minimum: 1\n",
       "        Maximum: 1\n",
       "           Mean: 1.00\n",
       "        Std Dev: 0.00\n",
       "\n",
       "  - q_stat (float64):\n",
       "    Non-missing: 1 (100.00%)\n",
       "        Missing: 0\n",
       "        Minimum: 0.00\n",
       "        Maximum: 0.00\n",
       "           Mean: 0.00\n",
       "        Std Dev: 0.00\n",
       "\n",
       "  - p_value (float64):\n",
       "    Non-missing: 1 (100.00%)\n",
       "        Missing: 0\n",
       "        Minimum: 0.00\n",
       "        Maximum: 0.00\n",
       "           Mean: 0.00\n",
       "        Std Dev: 0.00\n",
       "\n",
       "  - fault (int32):\n",
       "    Non-missing: 1 (100.00%)\n",
       "        Missing: 0\n",
       "        Minimum: 0\n",
       "        Maximum: 0\n",
       "           Mean: 0.00\n",
       "        Std Dev: 0.00"
      ],
      "text/html": [
       "<p>1 records.</p><ul><li><b>id</b> (<i>str</i>):<ul><table><tbody><tr><td>Non-missing</td><td>1 (100.00%)</td></tr><tr><td>Missing</td><td>0</td></tr><tr><td>Min Size</td><td>6</td></tr><tr><td>Max Size</td><td>6</td></tr><tr><td>Mean Size</td><td>6.00</td></tr><tr><td>Sample Values</td><td>[&#x27;TTTY14&#x27;]</td></tr></tbody></table></ul></li><li><b>size</b> (<i>int32</i>):<ul><table><tbody><tr><td>Non-missing</td><td>1 (100.00%)</td></tr><tr><td>Missing</td><td>0</td></tr><tr><td>Minimum</td><td>1</td></tr><tr><td>Maximum</td><td>1</td></tr><tr><td>Mean</td><td>1.00</td></tr><tr><td>Std Dev</td><td>0.00</td></tr></tbody></table></ul></li><li><b>q_stat</b> (<i>float64</i>):<ul><table><tbody><tr><td>Non-missing</td><td>1 (100.00%)</td></tr><tr><td>Missing</td><td>0</td></tr><tr><td>Minimum</td><td>0.00</td></tr><tr><td>Maximum</td><td>0.00</td></tr><tr><td>Mean</td><td>0.00</td></tr><tr><td>Std Dev</td><td>0.00</td></tr></tbody></table></ul></li><li><b>p_value</b> (<i>float64</i>):<ul><table><tbody><tr><td>Non-missing</td><td>1 (100.00%)</td></tr><tr><td>Missing</td><td>0</td></tr><tr><td>Minimum</td><td>0.00</td></tr><tr><td>Maximum</td><td>0.00</td></tr><tr><td>Mean</td><td>0.00</td></tr><tr><td>Std Dev</td><td>0.00</td></tr></tbody></table></ul></li><li><b>fault</b> (<i>int32</i>):<ul><table><tbody><tr><td>Non-missing</td><td>1 (100.00%)</td></tr><tr><td>Missing</td><td>0</td></tr><tr><td>Minimum</td><td>0</td></tr><tr><td>Maximum</td><td>0</td></tr><tr><td>Mean</td><td>0.00</td></tr><tr><td>Std Dev</td><td>0.00</td></tr></tbody></table></ul></li></ul>"
      ]
     },
     "metadata": {},
     "output_type": "display_data"
    }
   ],
   "execution_count": 14
  },
  {
   "metadata": {
    "ExecuteTime": {
     "end_time": "2025-06-03T22:02:03.978156Z",
     "start_time": "2025-06-03T22:02:03.902035Z"
    }
   },
   "cell_type": "code",
   "source": "mt = hl.read_matrix_table(\"/mnt/sdb/tmp-skat/skat_mtx/final_skat_matrix.mt/\")",
   "id": "955b152fea098fc5",
   "outputs": [],
   "execution_count": 17
  },
  {
   "metadata": {
    "ExecuteTime": {
     "end_time": "2025-06-03T22:02:08.047140Z",
     "start_time": "2025-06-03T22:02:08.043867Z"
    }
   },
   "cell_type": "code",
   "source": "mt.describe()",
   "id": "a2cbabd40546459",
   "outputs": [
    {
     "name": "stdout",
     "output_type": "stream",
     "text": [
      "----------------------------------------\n",
      "Global fields:\n",
      "    'prefix': str\n",
      "----------------------------------------\n",
      "Column fields:\n",
      "    's': str\n",
      "    'pheno': int32\n",
      "----------------------------------------\n",
      "Row fields:\n",
      "    'locus': locus<GRCh37>\n",
      "    'alleles': array<str>\n",
      "    'gene': str\n",
      "    'HGNC_ID': int32\n",
      "    'MAX_AF': float64\n",
      "----------------------------------------\n",
      "Entry fields:\n",
      "    'AD': array<int32>\n",
      "    'DP': int32\n",
      "    'GQ': int32\n",
      "    'GT': call\n",
      "    'PL': array<int32>\n",
      "    'AC': int32\n",
      "----------------------------------------\n",
      "Column key: ['s']\n",
      "Row key: ['locus', 'alleles']\n",
      "----------------------------------------\n"
     ]
    }
   ],
   "execution_count": 18
  },
  {
   "metadata": {
    "ExecuteTime": {
     "end_time": "2025-06-03T22:09:51.650990Z",
     "start_time": "2025-06-03T22:09:50.968169Z"
    }
   },
   "cell_type": "code",
   "source": [
    "n_variant_entries = mt.aggregate_entries(hl.agg.count_where(mt.GT.is_non_ref()))\n",
    "print(f\"Total variant entries: {n_variant_entries}\")"
   ],
   "id": "79fbc2b1c2d90754",
   "outputs": [
    {
     "name": "stdout",
     "output_type": "stream",
     "text": [
      "Total variant entries: 174840\n"
     ]
    }
   ],
   "execution_count": 24
  },
  {
   "metadata": {
    "ExecuteTime": {
     "end_time": "2025-06-03T22:13:26.160456Z",
     "start_time": "2025-06-03T22:13:23.399620Z"
    }
   },
   "cell_type": "code",
   "source": [
    "# Step 1: Annotate each column (sample) with its variant burden\n",
    "mt = mt.annotate_cols(\n",
    "    variant_burden = hl.agg.count_where(mt.GT.is_non_ref())\n",
    ")\n",
    "\n",
    "# Step 2: Convert to a Table so we can aggregate by phenotype\n",
    "sample_table = mt.cols()\n",
    "\n",
    "# Step 3: Group by phenotype and aggregate stats\n",
    "burden_summary = sample_table.group_by(sample_table.pheno).aggregate(\n",
    "    total_burden = hl.agg.sum(sample_table.variant_burden),\n",
    "    mean_burden = hl.agg.mean(sample_table.variant_burden),\n",
    "    median_burden = hl.agg.approx_median(sample_table.variant_burden),\n",
    "    std_burden = hl.agg.stats(sample_table.variant_burden).stdev,\n",
    "    n_samples = hl.agg.count()\n",
    ")\n",
    "\n",
    "# Step 4: Show the results\n",
    "burden_summary.show()\n"
   ],
   "id": "b90f8a0f37086b7d",
   "outputs": [
    {
     "data": {
      "text/plain": [
       "+-------+--------------+-------------+---------------+------------+-----------+\n",
       "| pheno | total_burden | mean_burden | median_burden | std_burden | n_samples |\n",
       "+-------+--------------+-------------+---------------+------------+-----------+\n",
       "| int32 |        int64 |     float64 |         int64 |    float64 |     int64 |\n",
       "+-------+--------------+-------------+---------------+------------+-----------+\n",
       "|     0 |       160152 |    1.76e+01 |             2 |   2.75e+01 |      9121 |\n",
       "|     1 |        14688 |    2.22e+01 |             2 |   3.02e+01 |       661 |\n",
       "+-------+--------------+-------------+---------------+------------+-----------+"
      ],
      "text/html": [
       "<table><thead><tr><td style=\"white-space: nowrap; max-width: 500px; overflow: hidden; text-overflow: ellipsis; \" colspan=\"1\"><div style=\"text-align: left;\"></div></td><td style=\"white-space: nowrap; max-width: 500px; overflow: hidden; text-overflow: ellipsis; \" colspan=\"1\"><div style=\"text-align: left;\"></div></td><td style=\"white-space: nowrap; max-width: 500px; overflow: hidden; text-overflow: ellipsis; \" colspan=\"1\"><div style=\"text-align: left;\"></div></td><td style=\"white-space: nowrap; max-width: 500px; overflow: hidden; text-overflow: ellipsis; \" colspan=\"1\"><div style=\"text-align: left;\"></div></td><td style=\"white-space: nowrap; max-width: 500px; overflow: hidden; text-overflow: ellipsis; \" colspan=\"1\"><div style=\"text-align: left;\"></div></td><td style=\"white-space: nowrap; max-width: 500px; overflow: hidden; text-overflow: ellipsis; \" colspan=\"1\"><div style=\"text-align: left;\"></div></td></tr><tr><td style=\"white-space: nowrap; max-width: 500px; overflow: hidden; text-overflow: ellipsis; \" colspan=\"1\"><div style=\"text-align: left;border-bottom: solid 2px #000; padding-bottom: 5px\">pheno</div></td><td style=\"white-space: nowrap; max-width: 500px; overflow: hidden; text-overflow: ellipsis; \" colspan=\"1\"><div style=\"text-align: left;border-bottom: solid 2px #000; padding-bottom: 5px\">total_burden</div></td><td style=\"white-space: nowrap; max-width: 500px; overflow: hidden; text-overflow: ellipsis; \" colspan=\"1\"><div style=\"text-align: left;border-bottom: solid 2px #000; padding-bottom: 5px\">mean_burden</div></td><td style=\"white-space: nowrap; max-width: 500px; overflow: hidden; text-overflow: ellipsis; \" colspan=\"1\"><div style=\"text-align: left;border-bottom: solid 2px #000; padding-bottom: 5px\">median_burden</div></td><td style=\"white-space: nowrap; max-width: 500px; overflow: hidden; text-overflow: ellipsis; \" colspan=\"1\"><div style=\"text-align: left;border-bottom: solid 2px #000; padding-bottom: 5px\">std_burden</div></td><td style=\"white-space: nowrap; max-width: 500px; overflow: hidden; text-overflow: ellipsis; \" colspan=\"1\"><div style=\"text-align: left;border-bottom: solid 2px #000; padding-bottom: 5px\">n_samples</div></td></tr><tr><td style=\"white-space: nowrap; max-width: 500px; overflow: hidden; text-overflow: ellipsis; text-align: left;\">int32</td><td style=\"white-space: nowrap; max-width: 500px; overflow: hidden; text-overflow: ellipsis; text-align: left;\">int64</td><td style=\"white-space: nowrap; max-width: 500px; overflow: hidden; text-overflow: ellipsis; text-align: left;\">float64</td><td style=\"white-space: nowrap; max-width: 500px; overflow: hidden; text-overflow: ellipsis; text-align: left;\">int64</td><td style=\"white-space: nowrap; max-width: 500px; overflow: hidden; text-overflow: ellipsis; text-align: left;\">float64</td><td style=\"white-space: nowrap; max-width: 500px; overflow: hidden; text-overflow: ellipsis; text-align: left;\">int64</td></tr>\n",
       "</thead><tbody><tr><td style=\"white-space: nowrap; max-width: 500px; overflow: hidden; text-overflow: ellipsis; \">0</td><td style=\"white-space: nowrap; max-width: 500px; overflow: hidden; text-overflow: ellipsis; \">160152</td><td style=\"white-space: nowrap; max-width: 500px; overflow: hidden; text-overflow: ellipsis; \">1.76e+01</td><td style=\"white-space: nowrap; max-width: 500px; overflow: hidden; text-overflow: ellipsis; \">2</td><td style=\"white-space: nowrap; max-width: 500px; overflow: hidden; text-overflow: ellipsis; \">2.75e+01</td><td style=\"white-space: nowrap; max-width: 500px; overflow: hidden; text-overflow: ellipsis; \">9121</td></tr>\n",
       "<tr><td style=\"white-space: nowrap; max-width: 500px; overflow: hidden; text-overflow: ellipsis; \">1</td><td style=\"white-space: nowrap; max-width: 500px; overflow: hidden; text-overflow: ellipsis; \">14688</td><td style=\"white-space: nowrap; max-width: 500px; overflow: hidden; text-overflow: ellipsis; \">2.22e+01</td><td style=\"white-space: nowrap; max-width: 500px; overflow: hidden; text-overflow: ellipsis; \">2</td><td style=\"white-space: nowrap; max-width: 500px; overflow: hidden; text-overflow: ellipsis; \">3.02e+01</td><td style=\"white-space: nowrap; max-width: 500px; overflow: hidden; text-overflow: ellipsis; \">661</td></tr>\n",
       "</tbody></table>"
      ]
     },
     "metadata": {},
     "output_type": "display_data"
    }
   ],
   "execution_count": 28
  },
  {
   "metadata": {},
   "cell_type": "code",
   "outputs": [],
   "execution_count": null,
   "source": "",
   "id": "403924481f4f4a46"
  }
 ],
 "metadata": {
  "kernelspec": {
   "display_name": "Python 3",
   "language": "python",
   "name": "python3"
  },
  "language_info": {
   "codemirror_mode": {
    "name": "ipython",
    "version": 2
   },
   "file_extension": ".py",
   "mimetype": "text/x-python",
   "name": "python",
   "nbconvert_exporter": "python",
   "pygments_lexer": "ipython2",
   "version": "2.7.6"
  }
 },
 "nbformat": 4,
 "nbformat_minor": 5
}
