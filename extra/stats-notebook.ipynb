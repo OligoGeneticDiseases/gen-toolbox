{
 "cells": [
  {
   "cell_type": "markdown",
   "id": "dbab436ec2b7cb3f",
   "metadata": {},
   "source": [
    "\n",
    "# Gen-Toolbox data analyis notebook\n",
    "\n",
    "This notebook is part of the gen-toolbox project, a comprehensive tool designed for collating large numbers of VCF files from unique samples, annotating variants, and creating variant frequency tables. The project is tailored to run on substantial servers and has been spearheaded by the Tartu University Hospital Centre of Medical Genetics and the Tartu University Institute of Clinical Medicine, with the backing of the Estonian Research Council grant PSG774.\n",
    "\n",
    "## Notebook Objective:\n",
    "\n",
    "This particular notebook delves into the statistical analysis of Single Nucleotide Variants (SNVs) in genomic data. The aim is to:\n",
    "\n",
    "- Load and process the combined frequency tables created from a large number of (g)VCF samples with the main Hail wrapper.\n",
    "- Compute statistical metrics and burden ratios.\n",
    "- Visualize results for a graphical analysis of the data.\n",
    "\n",
    "## Prerequisites:\n",
    "\n",
    "1. **Data Preparation**: Ensure you have the necessary VCF files and gene configurations. The notebook expects CSV or TSV formatted files.\n",
    "\n",
    "2. **Environment Setup**: If using Docker, ensure Docker is installed and running. Alternatively, ensure you have a Python environment set up with all necessary libraries shown in requirements.txt. This Jupyter notebooks may have trouble with extremely large arrays. \n",
    "\n",
    "3. **Configuration**: Adjust path variables in the notebook to match the location of your data files. Jupyter notebooks detect data only from the same folder as the notebook itself (due to portability of notebooks)"
   ]
  },
  {
   "cell_type": "markdown",
   "id": "204ddafc1fbc3afb",
   "metadata": {},
   "source": [
    "### 0. Library Imports"
   ]
  },
  {
   "cell_type": "code",
   "id": "6f9a8115be00aad4",
   "metadata": {
    "pycharm": {
     "is_executing": true
    }
   },
   "source": [
    "import json\n",
    "import pathlib\n",
    "import re\n",
    "\n",
    "import plotly.graph_objs\n",
    "import scipy.stats as sp\n",
    "from scipy import stats\n",
    "import statsmodels.api as sm \n",
    "import pylab as py\n",
    "\n",
    "import matplotlib.pyplot as plt\n",
    "from adjustText import adjust_text\n",
    "import numpy as np\n",
    "# Pandas version 1.24 required for hail, significant speed improvement in 2.0.X however\n",
    "import pandas as pd\n",
    "# Use modin as a pandas substitute for improved speeds\n",
    "#import modin.pandas as pd\n",
    "\n",
    "from plotly.subplots import make_subplots\n",
    "import plotly.graph_objects as go\n",
    "from plotly.graph_objs import *\n",
    "#df = pd.read_pickle(\"{0}_{1}_{2}.pkl\".format(case_count, control_count, iterations))\n",
    "import plotly.express as px"
   ],
   "outputs": [],
   "execution_count": null
  },
  {
   "cell_type": "markdown",
   "id": "e987e8c7fb520a0d",
   "metadata": {},
   "source": [
    "### 1. Input variables"
   ]
  },
  {
   "cell_type": "markdown",
   "id": "75917b28086c7234",
   "metadata": {},
   "source": [
    "#### 1.1 Path variables - change these for specifing correct paths"
   ]
  },
  {
   "cell_type": "code",
   "id": "285cda23045a9f2c",
   "metadata": {
    "pycharm": {
     "is_executing": true
    }
   },
   "source": [
    "gene_config = \"/mnt/c/Users/ville/PycharmProjects/gen-toolbox/src/config/gene_config.json\"\n",
    "args_case =  \"/mnt/c/Users/ville/OneDrive - Tartu Ülikool/Doktorantuur/Oligogeensus/Frequency_databases/frequency_table_643_LIHAS_positive.csv\" # add here TSV or CSV file with case data\n",
    "args_control = \"/mnt/c/Users/ville/OneDrive - Tartu Ülikool/Doktorantuur/Oligogeensus/Frequency_databases/frequency_table_9099_LIHAS_negative.csv\" # add here TSV or CSV file with control data"
   ],
   "outputs": [],
   "execution_count": null
  },
  {
   "cell_type": "markdown",
   "id": "7d090440aabf08f7",
   "metadata": {},
   "source": [
    "#### 1.2 Configuration variables"
   ]
  },
  {
   "cell_type": "code",
   "id": "8b986304e17d2a37",
   "metadata": {
    "pycharm": {
     "is_executing": true
    }
   },
   "source": [
    "is_csv = True # if False, then tsv, if True, then csv\n",
    "iterations = 150000 # number of iterations for permutation test\n",
    "combination_length=5 # number of genes in a set\n",
    "case_genes_length = combination_length  # e.g. sets of 5 genes\n"
   ],
   "outputs": [],
   "execution_count": null
  },
  {
   "cell_type": "markdown",
   "id": "8560a6c87719e9b4",
   "metadata": {},
   "source": [
    "## 2. Utility functions"
   ]
  },
  {
   "cell_type": "code",
   "id": "8702e159f4f21b27",
   "metadata": {
    "pycharm": {
     "is_executing": true
    }
   },
   "source": [
    "def load_gene_config(json_file):\n",
    "    \"\"\"Load gene configuration from a JSON file.\"\"\"\n",
    "    p = pathlib.Path(json_file)\n",
    "    config = json.loads(p.read_bytes())\n",
    "    return config"
   ],
   "outputs": [],
   "execution_count": null
  },
  {
   "cell_type": "code",
   "id": "336eefdefe3659f5",
   "metadata": {
    "pycharm": {
     "is_executing": true
    }
   },
   "source": [
    "def extract_number_from_filename(filename: str) -> int:\n",
    "    \"\"\"Extract the number from the given filename.\"\"\"\n",
    "    match = re.search(r\"\\d+\", filename)\n",
    "    return int(match.group()) if match else None"
   ],
   "outputs": [],
   "execution_count": null
  },
  {
   "cell_type": "code",
   "id": "6cfef26b94dcf3e1",
   "metadata": {
    "pycharm": {
     "is_executing": true
    }
   },
   "source": [
    "case_count = extract_number_from_filename(args_case) # extract number from filename\n",
    "control_count = extract_number_from_filename(args_control) # extract number from filename"
   ],
   "outputs": [],
   "execution_count": null
  },
  {
   "cell_type": "markdown",
   "id": "6a196da2a97c4cb5",
   "metadata": {},
   "source": [
    "\n",
    "## 3. Data Loading"
   ]
  },
  {
   "cell_type": "markdown",
   "id": "debd2b6185f2049c",
   "metadata": {},
   "source": [
    "### 3.1 Loading Gene config"
   ]
  },
  {
   "cell_type": "code",
   "id": "de235befcf1bf64b",
   "metadata": {
    "pycharm": {
     "is_executing": true
    }
   },
   "source": [
    "config = load_gene_config(gene_config)"
   ],
   "outputs": [],
   "execution_count": null
  },
  {
   "cell_type": "code",
   "id": "e55c4df0edb0f373",
   "metadata": {
    "pycharm": {
     "is_executing": true
    }
   },
   "source": [
    "# keys in gene_config would show information present in it\n",
    "config.keys()"
   ],
   "outputs": [],
   "execution_count": null
  },
  {
   "cell_type": "code",
   "id": "27344828fdfcc8e7",
   "metadata": {
    "pycharm": {
     "is_executing": true
    }
   },
   "source": [
    "# Lets Show some of itersect genes\n",
    "config['intersect_genes_tso'][:5]"
   ],
   "outputs": [],
   "execution_count": null
  },
  {
   "cell_type": "code",
   "id": "3e611197b4eda00d",
   "metadata": {
    "pycharm": {
     "is_executing": true
    }
   },
   "source": [
    "# How many intersect genes are there\n",
    "len(config['intersect_genes_tso'])"
   ],
   "outputs": [],
   "execution_count": null
  },
  {
   "cell_type": "code",
   "id": "8bf407821be583f3",
   "metadata": {
    "pycharm": {
     "is_executing": true
    }
   },
   "source": [
    "# printing number of genes in each conf\n",
    "for conf in [config[\"intersect_genes_tso\"], config[\"intersect_genes_tshc\"]]:\n",
    "    print(len(conf))"
   ],
   "outputs": [],
   "execution_count": null
  },
  {
   "cell_type": "markdown",
   "id": "bd1491289f11c6b6",
   "metadata": {},
   "source": [
    "### 3.2 Getting rv_genes and neg_control_genes for use in our test"
   ]
  },
  {
   "cell_type": "code",
   "id": "85144e87295122ed",
   "metadata": {
    "pycharm": {
     "is_executing": true
    }
   },
   "source": [
    "rv_genes = config[\"rv_genes\"]\n",
    "neg_control_genes = config[\"neg_control_genes\"]"
   ],
   "outputs": [],
   "execution_count": null
  },
  {
   "cell_type": "markdown",
   "id": "7a65e5bfd7610dd3",
   "metadata": {},
   "source": [
    "### 3.3 Loading case and control SNV data\n",
    "\n",
    "For csv data file intersect_genes_tso is loaded while for tsv intersect_genes_tshc is loaded. Read the docs for clarification"
   ]
  },
  {
   "cell_type": "code",
   "id": "ee7199b09e1e0e44",
   "metadata": {
    "pycharm": {
     "is_executing": true
    }
   },
   "source": [
    "if is_csv:\n",
    "    intersect_genes = config[\"intersect_genes_tso\"]\n",
    "    df_case = pd.read_csv(args_case, sep=\",\", header=0)\n",
    "    df_control = pd.read_csv(args_control, sep=\",\", header=0)\n",
    "else:\n",
    "    intersect_genes = config[\"intersect_genes_tshc\"]\n",
    "    df_case = pd.read_table(args_case, sep=\"\\t\", header=0)\n",
    "    df_control = pd.read_table(args_control, sep=\"\\t\", header=0)"
   ],
   "outputs": [],
   "execution_count": null
  },
  {
   "cell_type": "markdown",
   "id": "b480d82710d6a8bf",
   "metadata": {},
   "source": [
    "As we have loaded single file for case and control, both dataframes will be same"
   ]
  },
  {
   "cell_type": "code",
   "id": "46cdf5360a5404dd",
   "metadata": {
    "pycharm": {
     "is_executing": true
    }
   },
   "source": [
    "df_case.head(2)"
   ],
   "outputs": [],
   "execution_count": null
  },
  {
   "cell_type": "code",
   "id": "8e277b9b6ff3bbb5",
   "metadata": {
    "pycharm": {
     "is_executing": true
    }
   },
   "source": [
    "df_control.head(2)"
   ],
   "outputs": [],
   "execution_count": null
  },
  {
   "cell_type": "code",
   "id": "a462781397eb0713",
   "metadata": {
    "pycharm": {
     "is_executing": true
    }
   },
   "source": [
    "# Dataframe length\n",
    "# Each row contains a gene\n",
    "f'number of genes in case: {len(df_case)}', f'number of genes in control: {len(df_control)}'"
   ],
   "outputs": [],
   "execution_count": null
  },
  {
   "cell_type": "markdown",
   "id": "480fe0f709ae4bbc",
   "metadata": {},
   "source": [
    "### 3.4 Assigning the 1st column the name of gene"
   ]
  },
  {
   "cell_type": "code",
   "id": "67aad29230a5bb65",
   "metadata": {
    "pycharm": {
     "is_executing": true
    }
   },
   "source": [
    "df_case.rename(columns={df_case.columns[0]: \"gene\"}, inplace = True)\n",
    "df_control.rename(columns={df_control.columns[0]: \"gene\"}, inplace = True)"
   ],
   "outputs": [],
   "execution_count": null
  },
  {
   "cell_type": "code",
   "id": "fa4197c698ba74d3",
   "metadata": {
    "pycharm": {
     "is_executing": true
    }
   },
   "source": [
    "df_case.columns"
   ],
   "outputs": [],
   "execution_count": null
  },
  {
   "cell_type": "markdown",
   "id": "cabe7b7154a0ad77",
   "metadata": {},
   "source": [
    "### 3.5 Getting list of all genes"
   ]
  },
  {
   "cell_type": "code",
   "id": "37174132722e6e31",
   "metadata": {
    "pycharm": {
     "is_executing": true
    }
   },
   "source": [
    "all_genes = df_case['gene']"
   ],
   "outputs": [],
   "execution_count": null
  },
  {
   "cell_type": "markdown",
   "id": "73f54b31dfa2fe76",
   "metadata": {},
   "source": [
    "## 4. Cleaning data"
   ]
  },
  {
   "cell_type": "markdown",
   "id": "bd6e194a169b20e",
   "metadata": {},
   "source": [
    "### 4.1 Selecting intersect gene from config"
   ]
  },
  {
   "cell_type": "code",
   "id": "f36adff1d1238052",
   "metadata": {
    "pycharm": {
     "is_executing": true
    }
   },
   "source": [
    "# Selecting only itersecting genes from config\n",
    "if intersect_genes is not None:\n",
    "    # Filter out empty genes and keep only the intersecting genes in both dataframes\n",
    "    df_case = df_case.dropna(subset=[\"gene\"])\n",
    "    df_case = df_case[df_case.gene.isin(intersect_genes)]\n",
    "    df_control = df_control.dropna(subset=[\"gene\"])\n",
    "    df_control = df_control[df_control.gene.isin(intersect_genes)]\n",
    "    df_case.reset_index(drop=True, inplace=True)\n",
    "    df_control.reset_index(drop=True, inplace=True)"
   ],
   "outputs": [],
   "execution_count": null
  },
  {
   "cell_type": "code",
   "id": "fd627b2e51cfc164",
   "metadata": {
    "pycharm": {
     "is_executing": true
    }
   },
   "source": [
    "# Dataframe length after selecting only intersecting genes available in config\n",
    "f'number of genes in case: {len(df_case)}', f'number of genes in control: {len(df_control)}'"
   ],
   "outputs": [],
   "execution_count": null
  },
  {
   "cell_type": "code",
   "id": "83b8aae95424d804",
   "metadata": {
    "pycharm": {
     "is_executing": true
    }
   },
   "source": [
    "#Check if dataframes are of equal length\n",
    "if len(df_case.index) != len(df_control.index):\n",
    "    print(\"WARNING: Case dataframe length does not match control dataframe length! The intersect of both dataframes will be analysed.\")"
   ],
   "outputs": [],
   "execution_count": null
  },
  {
   "cell_type": "markdown",
   "id": "309c73bc5e860c7",
   "metadata": {},
   "source": [
    "### 4.2 Taking intersect of both data frames and sorting on gene column\n",
    "\n",
    "This step is performed to ensure that same genes for case and control are present and we can apply indexwise operation in our statistical test. Randomly selected indices will produce same genes from both data frames.\n",
    "\n",
    "Sorting is done because if we select gene names randomly and then filter both dataframes for selected gene names then it will be a slow process\n"
   ]
  },
  {
   "cell_type": "code",
   "id": "14a21d9c487e9d0d",
   "metadata": {
    "pycharm": {
     "is_executing": true
    }
   },
   "source": [
    "# Take only the intersect of two dataframes based on gene column\n",
    "intersection_values = set(df_case['gene']).intersection(df_control['gene'])\n",
    "df_case = df_case[df_case[\"gene\"].isin(intersection_values)]\n",
    "df_case = df_case.sort_values(by=\"gene\")\n",
    "df_case = df_case.fillna(0)\n",
    "df_control = df_control[df_control[\"gene\"].isin(intersection_values)]\n",
    "df_control = df_control.sort_values(by=\"gene\")\n",
    "df_control = df_control.fillna(0)\n",
    "df_case.reset_index(drop=True, inplace=True)\n",
    "df_control.reset_index(drop=True, inplace=True)"
   ],
   "outputs": [],
   "execution_count": null
  },
  {
   "cell_type": "code",
   "id": "af88b2ae77197f0b",
   "metadata": {
    "pycharm": {
     "is_executing": true
    }
   },
   "source": [
    "# The rows must match in order to do index based math\n",
    "assert df_case[\"gene\"].equals(df_control[\"gene\"]), \"Case and control dataframe indices do not match!\""
   ],
   "outputs": [],
   "execution_count": null
  },
  {
   "cell_type": "code",
   "id": "86da8a89fc5e7cbd",
   "metadata": {
    "pycharm": {
     "is_executing": true
    }
   },
   "source": [],
   "outputs": [],
   "execution_count": null
  },
  {
   "cell_type": "markdown",
   "id": "e0699e3eea16da3e",
   "metadata": {},
   "source": [
    "## 5. Statistical test"
   ]
  },
  {
   "cell_type": "markdown",
   "id": "598fc81be390626e",
   "metadata": {},
   "source": [
    "### 5.1 Initializing empty dataframes to store results"
   ]
  },
  {
   "cell_type": "code",
   "id": "2a4579b224300c07",
   "metadata": {
    "pycharm": {
     "is_executing": true
    }
   },
   "source": [
    "fraction_results_1 = pd.DataFrame()\n",
    "fraction_results_2 = pd.DataFrame(columns=df_case.columns[1:].tolist())"
   ],
   "outputs": [],
   "execution_count": null
  },
  {
   "cell_type": "markdown",
   "id": "f48f8034b24e340c",
   "metadata": {},
   "source": [
    "### 5.2 Calculating desired variables"
   ]
  },
  {
   "cell_type": "markdown",
   "id": "3e21833f611574f",
   "metadata": {},
   "source": [
    "If we have passed only 1 file it will make expected_ratio to be 1"
   ]
  },
  {
   "cell_type": "code",
   "id": "b29fcce4abe9e5e2",
   "metadata": {
    "pycharm": {
     "is_executing": true
    }
   },
   "source": [
    "expected_ratio = case_count / control_count\n",
    "df_case.reset_index(drop=True, inplace=True)\n",
    "df_control.reset_index(drop=True, inplace=True)\n",
    "columns_to_add = df_case.columns[1:]\n",
    "\n",
    "# Calculate the mean of the case and control dataframes\n",
    "df_case_mean = df_case.mean(numeric_only=True)\n",
    "df_control_mean = df_control.mean(numeric_only=True)\n",
    "\n",
    "num_columns = df_case.shape[1]\n",
    "\n",
    "print(\"Case means \\n{0}\\nControl means \\n{1}\".format(df_case_mean, df_control_mean))\n",
    "print(\"Expected ratio cases / controls: {0}, log2 {1}\".format(expected_ratio, np.log2(expected_ratio)))\n",
    "print(\"Expected ratio cases / controls by group (log2): \\n {0}\".format(np.log2(df_case_mean / df_control_mean)))"
   ],
   "outputs": [],
   "execution_count": null
  },
  {
   "cell_type": "code",
   "id": "8fe1c63ada71c0ef",
   "metadata": {
    "jupyter": {
     "is_executing": true
    },
    "pycharm": {
     "is_executing": true
    }
   },
   "source": [
    "# Divisible columns, look at the ratios grossly\n",
    "divison_result_gross = df_case[columns_to_add] / df_control[columns_to_add]\n",
    "r = divison_result_gross[divison_result_gross[:-1] > expected_ratio].dropna(how=\"all\")\n",
    "r[\"gene\"] = df_case[\"gene\"]  ## Do nothing\n",
    "\n",
    "fig_plotly = make_subplots(rows=12, cols=2, vertical_spacing=0.02, \n",
    "                           row_heights=[0.9]*12, subplot_titles=[item for item in columns_to_add.to_list() for _ in range(2)])\n",
    "for j, case_or_control in enumerate((df_case, df_control)):\n",
    "    for k, column in enumerate(columns_to_add):\n",
    "        trace = go.Scatter(x=case_or_control[column])\n",
    "        fig_plotly.add_trace(trace, row=k+1, col=j+1) # 1-index\n",
    "#fig_plotly.update_layout(hovermode=\"x unified\")\n",
    "fig_plotly.update_layout(height=2000, width=800, title_text=\"Histograms of variant counts in cases and controls\", showlegend=False)\n",
    "fig_plotly.write_html(\"variance_histograms.html\")\n",
    "fig_plotly.show()"
   ],
   "outputs": [],
   "execution_count": null
  },
  {
   "cell_type": "markdown",
   "id": "ed8b9aac8e8b6650",
   "metadata": {},
   "source": [
    "### 5.2 Random selection of indices for statistical test"
   ]
  },
  {
   "cell_type": "code",
   "id": "4367f63d94690411",
   "metadata": {
    "pycharm": {
     "is_executing": true
    }
   },
   "source": [
    "indices = np.array([np.random.choice(df_case.index, size=case_genes_length, replace=False) for _ in range(iterations)])"
   ],
   "outputs": [],
   "execution_count": null
  },
  {
   "cell_type": "markdown",
   "id": "6a31d39997f8d69c",
   "metadata": {},
   "source": [
    "### 5.3 Taking sum for columns against selected indices for each iteration"
   ]
  },
  {
   "cell_type": "code",
   "id": "76ca5635720a5d08",
   "metadata": {
    "pycharm": {
     "is_executing": true
    }
   },
   "source": [
    "# Calculate the sum of total variants for the case and control groups using the sampled indices\n",
    "total_variants_case = np.array([df_case.iloc[idx, 1:].sum().to_numpy() for idx in indices])\n",
    "total_variants_control = np.array([df_control.iloc[idx, 1:].sum().to_numpy() for idx in indices])"
   ],
   "outputs": [],
   "execution_count": null
  },
  {
   "cell_type": "code",
   "id": "2c8a35698e1a0eb1",
   "metadata": {
    "pycharm": {
     "is_executing": true
    }
   },
   "source": [
    "# Show what a single burden event looks like\n",
    "total_variants_case\n",
    "total_variants_control"
   ],
   "outputs": [],
   "execution_count": null
  },
  {
   "cell_type": "markdown",
   "id": "91ce748f94d86d4d",
   "metadata": {},
   "source": [
    "### 5.4 Ratios vector for each column based on given condition to include sum"
   ]
  },
  {
   "cell_type": "code",
   "id": "bb7b11c0f68fc06c",
   "metadata": {
    "pycharm": {
     "is_executing": true
    }
   },
   "source": [
    "# Where sum of either case variants or control variants is less than 1, NaN will be placed for the ratio in that simulation\n",
    "ratios_vector = np.where(np.logical_and(total_variants_case > 1, total_variants_control > 1),\\\n",
    "                total_variants_case / total_variants_control,\\\n",
    "                np.NaN)"
   ],
   "outputs": [],
   "execution_count": null
  },
  {
   "cell_type": "code",
   "id": "5a3dfd2d404beb40",
   "metadata": {
    "pycharm": {
     "is_executing": true
    }
   },
   "source": [
    "# numer of iterations and column number can be seen in shape\n",
    "ratios_vector.shape"
   ],
   "outputs": [],
   "execution_count": null
  },
  {
   "cell_type": "code",
   "id": "29b1d119d9e1276f",
   "metadata": {
    "pycharm": {
     "is_executing": true
    }
   },
   "source": [
    "# Where sum is less than 1 NaN will be placed for the ratio in that\n",
    "ratios_vector[0]"
   ],
   "outputs": [],
   "execution_count": null
  },
  {
   "cell_type": "markdown",
   "id": "ad248aa37caf2e01",
   "metadata": {},
   "source": [
    "### 5.5 Satisfying below statistical condition to get burden events\n",
    "Low variant count events are not statistically significants.\n",
    "I.e. gene sets containing only a few variants or variants in only one gene are excluded.\n",
    "High variant burdens are expected between impactful genes in the different groups.\n",
    "\n",
    "\n",
    "\n",
    "1. $$ \\log_2\\left(\\frac{\\text{ratios\\_vector}}{\\text{expected\\_ratio}}\\right) > log2(99th\\_percentile) $$\n",
    "\n",
    "\n",
    "2. $$ \\text{total\\_variants\\_case} > \\text{case\\_genes\\_length} $$\n",
    "\n",
    "\n",
    "3. $$ \\text{total\\_variants\\_control} > \\text{case\\_genes\\_length} $$\n",
    "\n",
    "4. $$ \\text{ Nonzero values total\\_variants\\_control} > 1 $$\n",
    "\n",
    "5. $$ \\text{ Nonzero values total\\_variants\\_case} > 1 $$\n"
   ]
  },
  {
   "cell_type": "code",
   "id": "a4f5f80936cf91e9",
   "metadata": {
    "pycharm": {
     "is_executing": true
    }
   },
   "source": [
    "# Remove rows where there are only single values in a burden event (i.e. [0, 0, 0, 0.4])\n",
    "# Also remove rows where total_variants_control < (case_genes_length - 1)\n",
    "# Because we are looking for interactions between genes\n",
    "def count_zeros(arr):\n",
    "    return np.greater_equal(sum(1 for x in arr if (x == 0 or np.isnan(x))), combination_length-1)"
   ],
   "outputs": [],
   "execution_count": null
  },
  {
   "cell_type": "code",
   "id": "282d6bd7832d981a",
   "metadata": {
    "pycharm": {
     "is_executing": true
    }
   },
   "source": [
    "fraction_results_tmp = pd.DataFrame(ratios_vector, columns=df_case.columns[1:].tolist())\n",
    "\n",
    "complex_condition = (\n",
    "    #(np.log2(ratios_vector/expected_ratio) > 0.2) & # Early filtering to reduce about 75% of data\n",
    "    (total_variants_case > case_genes_length) &\n",
    "    (total_variants_control > case_genes_length)\n",
    "    # & (np.count_nonzero(~np.isnan(total_variants_control)) > 1) & # already satisified condition in 5.4\n",
    "    #(np.count_nonzero(~np.isnan(total_variants_case)) > 1) # already satisified condition in 5.4\n",
    "                    ).T.flatten()\n",
    "\n",
    "gene = np.array([df_case.gene[idx].to_numpy() for idx in indices])\n",
    "gene = np.tile(gene, (len(df_case.columns[1:].tolist()),1))\n",
    "case = np.array([df_case.iloc[idx, 1:].to_numpy().T for idx in indices]).transpose((1, 0, 2))\n",
    "control = np.array([df_control.iloc[idx, 1:].to_numpy().T for idx in indices]).transpose((1, 0, 2))\n",
    "\n",
    "case = case.reshape((-1, case.shape[-1]))\n",
    "control = control.reshape((-1, control.shape[-1]))\n",
    "case_control = case/control # We redo the burden simulation here to see the contribution of each gene separately\n",
    "gene_case_control = np.dstack((gene, case_control)) # Make a nested object combining ratios to genes, exploded later in section 6.0"
   ],
   "outputs": [],
   "execution_count": null
  },
  {
   "cell_type": "code",
   "id": "320cdb36bba5da82",
   "metadata": {},
   "source": [],
   "outputs": [],
   "execution_count": null
  },
  {
   "cell_type": "code",
   "id": "e2d9cb0221cec226",
   "metadata": {
    "pycharm": {
     "is_executing": true
    }
   },
   "source": [
    "fraction_results_1 = pd.DataFrame()\n",
    "fraction_results_1['frequency_bin'] = np.repeat(fraction_results_tmp.columns, len(fraction_results_tmp))\n",
    "fraction_results_1['burden_ratio'] = fraction_results_tmp.to_numpy().T.flatten()\n",
    "fraction_results_1[\"burden_ratio_norm\"] = fraction_results_1['burden_ratio'].div(expected_ratio)\n",
    "fraction_results_1[\"burden_ratio_log2\"] = np.log2(fraction_results_1['burden_ratio_norm'])\n",
    "fraction_results_1['gene'] = list(gene)\n",
    "fraction_results_1['case'] = list(case)\n",
    "fraction_results_1['control'] = list(control)\n",
    "fraction_results_1['case_control'] = list(case_control)\n",
    "fraction_results_1['case_control_gene'] = list(gene_case_control)\n",
    "\n",
    "# Filter out a large amount of low ratio or low variant count burdens\n",
    "fraction_results_1 = fraction_results_1[complex_condition].reset_index(drop=True)\n",
    "\n",
    "### THIS WILL FILTER SINGLE GENE EVENTS\n",
    "fraction_results_1 = fraction_results_1[~fraction_results_1[\"case_control\"].apply(count_zeros)]\n",
    "### THIS WILL FILTER SINGLE GENE EVENTS\n",
    "\n",
    "\n",
    "fraction_results_1"
   ],
   "outputs": [],
   "execution_count": null
  },
  {
   "cell_type": "markdown",
   "id": "75f6a1fd7d42af07",
   "metadata": {},
   "source": []
  },
  {
   "cell_type": "code",
   "id": "b6e64315f1403bb6",
   "metadata": {
    "pycharm": {
     "is_executing": true
    }
   },
   "source": [
    "# Verify True and False condition indexes\n",
    "#print(list(complex_condition))\n"
   ],
   "outputs": [],
   "execution_count": null
  },
  {
   "cell_type": "markdown",
   "id": "8dacdadc8c4870c2",
   "metadata": {},
   "source": [
    "### 5.6 Storing Dataframe\n",
    "Normalise ratios with the expected ratio (expected mean ratio)"
   ]
  },
  {
   "cell_type": "code",
   "id": "ddb79cc91568bad9",
   "metadata": {
    "pycharm": {
     "is_executing": true
    }
   },
   "source": [
    "#fraction_results_2 = pd.DataFrame(ratios_vector/expected_ratio, columns=df_case.columns[1:].tolist()) # this normalises to expected ratio\n",
    "fraction_results_2 = fraction_results_1.pivot_table(index=fraction_results_1.index, columns=\"frequency_bin\", values=\"burden_ratio_norm\")\n",
    "if config[\"store_data\"]:\n",
    "    fraction_results_2.to_pickle(\"{0}_{1}_{2}_forgraph.pkl\".format(case_count, control_count, iterations))"
   ],
   "outputs": [],
   "execution_count": null
  },
  {
   "cell_type": "markdown",
   "id": "d9abc548ee723228",
   "metadata": {},
   "source": [
    "### 5.7 Plotting the burden events"
   ]
  },
  {
   "cell_type": "code",
   "id": "beb322ae28870262",
   "metadata": {
    "pycharm": {
     "is_executing": true
    }
   },
   "source": [
    "try:\n",
    "    fraction_results_2\n",
    "except NameError:\n",
    "    print(\"Getting results from pickle file...\")\n",
    "    fraction_results_2 = pd.read_pickle(\"{0}_{1}_{2}_forgraph.pkl\".format(case_count, control_count, iterations))\n",
    "\n",
    "df_99 = pd.DataFrame([\"frequency_bin\", \"99th_quantile\"])\n",
    "fig, axs = plt.subplots(\n",
    "    len(fraction_results_2.columns),\n",
    "    1,\n",
    "    sharex=\"none\",\n",
    "    tight_layout=False,\n",
    "    figsize=(12, 24),\n",
    "    facecolor='xkcd:mint green',\n",
    ")\n",
    "\n",
    "#Make it handsome\n",
    "fig_plotly = make_subplots(rows=len(fraction_results_2.columns), cols=1, vertical_spacing=0.02, \n",
    "                           row_heights=[0.9]*12, subplot_titles=fraction_results_2.columns)\n",
    "\n",
    "i = 0\n",
    "for frequency_column in fraction_results_2.columns:\n",
    "    fraction_results_2[frequency_column].dropna(inplace=True)\n",
    "\n",
    "    if fraction_results_2[frequency_column].any():\n",
    "        # Average sample normalization enrichment ratios for \"likely impactful\" and \"likely non-impactful\" genes\n",
    "        q_avg = np.divide(\n",
    "            np.sum(df_case[df_case.gene.isin(rv_genes)][frequency_column]),\n",
    "            np.sum(df_control[df_control.gene.isin(rv_genes)][frequency_column]),)\n",
    "        q_avg_control_group = np.divide(\n",
    "            np.sum(df_case[df_case.gene.isin(neg_control_genes)][frequency_column]),\n",
    "            np.sum(\n",
    "                df_control[df_control.gene.isin(neg_control_genes)][frequency_column]),)\n",
    "        print(\n",
    "            \"Impact group (av-norm. ): {0}, case_genes_enrichment: {1}, control_genes_enrichment: {2}\".format(\n",
    "                frequency_column, q_avg, q_avg_control_group\n",
    "            )\n",
    "        )\n",
    "        \n",
    "        # Take expected ratio normalised burdens and log2 transform, dropping NA where ratios can't be calculated i.e. division by zero\n",
    "        fraction_results_2[frequency_column + \"log2\"] = np.log2(\n",
    "            fraction_results_2[frequency_column]).dropna()\n",
    "\n",
    "        percentile_99 = np.percentile(fraction_results_2[frequency_column + \"log2\"].dropna(), 99)\n",
    "        qq = stats.probplot(fraction_results_2[frequency_column + \"log2\"], dist='lognorm', sparams=(1))\n",
    "        x = np.array([qq[0][0][0], qq[0][0][-1]])\n",
    "        \n",
    "        _, bins, _ = axs[i].hist(\n",
    "            fraction_results_2[frequency_column + \"log2\"],\n",
    "            density=False,\n",
    "            log=False,\n",
    "            histtype=\"stepfilled\",\n",
    "            stacked=True,\n",
    "            bins=500,\n",
    "        )\n",
    "\n",
    "        title_text = \"{0}: mean_enrichment={1} 99th percentile (purple)={2}\".format(\n",
    "                fraction_results_2[frequency_column].name  + \"_log2\",\n",
    "                np.round(fraction_results_2[frequency_column].mean(), 2),\n",
    "                np.round(percentile_99, 2)\n",
    "                )\n",
    "        axs[i].set_title(title_text)\n",
    "        \n",
    "        axs[i].axvline(percentile_99, color=\"purple\")\n",
    "        df_99[frequency_column] = np.round(percentile_99, 2)\n",
    "\n",
    "        #### PLOTLY\n",
    "        # Histogram\n",
    "        trace = go.Histogram(x=fraction_results_2[frequency_column + \"log2\"], nbinsx=500)\n",
    "        \n",
    "        fig_plotly.append_trace(trace, row=i+1, col=1)\n",
    "        fig_plotly.add_vline(x=percentile_99, line_color=\"purple\", line_dash=\"dash\", row=i+1, col=1)\n",
    "        #fig_plotly.append_trace(px.histogram(fraction_results_2[frequency_column + \"log2\"]), row=i+1, col=1)\n",
    "        fig_plotly.layout.annotations[i].update(text=title_text)\n",
    "\n",
    "        i +=1\n",
    "plt.savefig(\"{0}it_{1}_genes_histogram.png\".format(iterations, combination_length))\n",
    "plt.show()\n",
    "\n",
    "### PLOTLY\n",
    "fig_plotly.update_layout(height=2400, width=1000, title_text=\"Histograms of variant burden simulations.\", showlegend=False)\n",
    "fig_plotly.update_layout(hovermode=\"x unified\")\n",
    "fig_plotly.write_html(\"{0}it_{1}_genes_histogram.html\".format(iterations, combination_length))\n",
    "fig_plotly.show()\n",
    "\n",
    "print(\"Done {0} iterations\".format(iterations))\n"
   ],
   "outputs": [],
   "execution_count": null
  },
  {
   "cell_type": "code",
   "id": "b97ad533-8852-4d5e-b3cc-bc4a9bddfce3",
   "metadata": {},
   "source": [
    "for frequency_column in columns_to_add:\n",
    "    sm.qqplot(fraction_results_2[frequency_column + \"log2\"], line ='45') \n",
    "    plt.savefig(\"{0}_QQ.png\".format(frequency_column + \"log2\"))\n",
    "    py.show()"
   ],
   "outputs": [],
   "execution_count": null
  },
  {
   "cell_type": "markdown",
   "id": "3442f2c54c6dcca8",
   "metadata": {},
   "source": [
    "### 5.8 Transform the 99th percentiles into a dataframe"
   ]
  },
  {
   "cell_type": "code",
   "id": "fbcc72f3fe5febb",
   "metadata": {
    "pycharm": {
     "is_executing": true
    }
   },
   "source": [
    "df_99 = df_99.drop(df_99.index[0])\n",
    "df_99 = df_99.T\n",
    "df_99.columns = df_99.iloc[0]\n",
    "df_99 = df_99[1:]\n",
    "\n",
    "# See the 99th percentile in log2 for all simulations without the filters applied:\n",
    "df_99"
   ],
   "outputs": [],
   "execution_count": null
  },
  {
   "cell_type": "markdown",
   "id": "56a818203c1bbb1a",
   "metadata": {},
   "source": [
    "### 6.0 Plotting high burden events"
   ]
  },
  {
   "cell_type": "markdown",
   "id": "66386b2a15768b4a",
   "metadata": {},
   "source": [
    "Take in high value burden events and filter out genes from gene sets that actually contribute to the burden event,\n",
    "keep only impactful (i.e. above 99th percentile) events and plot the times the gene has appeared in burden events against highest event, keep only genes that appear more than 40 times."
   ]
  },
  {
   "cell_type": "code",
   "id": "7e34eb68-c662-44b5-9bc2-c42208eb9300",
   "metadata": {},
   "source": [
    "fraction_results_2.loc[fraction_results_2[\"HIGH.gnomad_1log2\"]>3.24]"
   ],
   "outputs": [],
   "execution_count": null
  },
  {
   "cell_type": "code",
   "id": "273b6244b65de3a5",
   "metadata": {
    "pycharm": {
     "is_executing": true
    }
   },
   "source": [
    "fraction_results_1"
   ],
   "outputs": [],
   "execution_count": null
  },
  {
   "cell_type": "code",
   "id": "7a48e320-49aa-4d4e-a72d-a174c16e5bea",
   "metadata": {
    "pycharm": {
     "is_executing": true
    }
   },
   "source": [
    "df = fraction_results_1\n",
    "df[\"impactful_bool\"] = df.apply(lambda row: row.loc[\"burden_ratio_log2\"] >= df_99.loc[row.loc[\"frequency_bin\"]], axis=1) #slow"
   ],
   "outputs": [],
   "execution_count": null
  },
  {
   "cell_type": "code",
   "id": "c280cd8e-a355-4236-bf8c-aca88485b374",
   "metadata": {
    "pycharm": {
     "is_executing": true
    }
   },
   "source": [
    "df = df[df.impactful_bool]\n",
    "\n",
    "#df # breakpoint check "
   ],
   "outputs": [],
   "execution_count": null
  },
  {
   "cell_type": "code",
   "id": "650cfcfb-2dc2-4948-8977-cd20fd2cf7ad",
   "metadata": {
    "pycharm": {
     "is_executing": true
    }
   },
   "source": [
    "df = df.explode(\"case_control_gene\") # Slow due explode by size of gene_set\n",
    "\n",
    "df = df[~df[\"case_control_gene\"].apply(lambda x: any(pd.isna(case_control_gene) or case_control_gene == 0 for case_control_gene in x))]\n",
    "#df # breakpoint check"
   ],
   "outputs": [],
   "execution_count": null
  },
  {
   "cell_type": "code",
   "id": "d7d604d2-ad2a-4f4b-ab67-58109a2edcb7",
   "metadata": {},
   "source": [
    "df[[\"impactful_gene\", \"impactful_burden\"]] = df[\"case_control_gene\"].tolist()\n",
    "# Add some summary statistics about burden events\n",
    "df2 = df.merge(df.groupby([\"frequency_bin\", \"impactful_gene\"])[\"burden_ratio\"].aggregate([pd.Series.count]).reset_index())\n",
    "# Filter out rare occurrences of high burden (correlating to miniscule bumps above 99th percentile on the main plot)\n",
    "df2 = df2[df2[\"count\"]>20]\n",
    "df2.sort_values(\"burden_ratio_log2\", ascending=False, inplace=True)\n",
    "df2.drop_duplicates(subset=\"impactful_gene\", inplace=True)\n",
    "df2.sort_values(\"frequency_bin\", inplace=True)\n",
    "df2 = df2.astype({\"impactful_burden\":float})\n",
    "df2 = df2.round(2)"
   ],
   "outputs": [],
   "execution_count": null
  },
  {
   "cell_type": "code",
   "id": "7e9551f3-8f47-43c8-80ae-954780f54948",
   "metadata": {
    "pycharm": {
     "is_executing": true
    }
   },
   "source": [
    "df2 # breakpoint check"
   ],
   "outputs": [],
   "execution_count": null
  },
  {
   "cell_type": "markdown",
   "id": "477a3ee467ad2da3",
   "metadata": {},
   "source": [
    "### 6.1 Save high value burden events data to csv"
   ]
  },
  {
   "cell_type": "code",
   "id": "37fbcbe044ed9699",
   "metadata": {
    "pycharm": {
     "is_executing": true
    }
   },
   "source": [
    "# Store data\n",
    "if config[\"store_data\"]:\n",
    "    df.to_csv(\"{0}_{1}_{2}.csv\".format(case_count, control_count, iterations))\n",
    "    df.to_pickle(\"{0}_{1}_{2}.pkl\".format(case_count, control_count, iterations))"
   ],
   "outputs": [],
   "execution_count": null
  },
  {
   "cell_type": "markdown",
   "id": "6261764adb6d80e3",
   "metadata": {},
   "source": [
    "### 6.2  Plot relevant genes in each bin"
   ]
  },
  {
   "cell_type": "code",
   "id": "2b127d483a1bdf0c",
   "metadata": {
    "pycharm": {
     "is_executing": true
    }
   },
   "source": [
    "\n",
    "# Plot data, output is max 12 plots for every frequency bin.\n",
    "genes = []\n",
    "for frequency_column in fraction_results_2.columns:\n",
    "    filtered_df = df2[df2[\"frequency_bin\"] == frequency_column]\n",
    "    if filtered_df.shape[0] > 0:\n",
    "        #plt.scatter(data=filtered_df[\"gene\"], x=filtered_df[\"case_control\"], y=filtered_df[\"burden_ratio\"])\n",
    "\n",
    "        ax = filtered_df.plot(x='count', y='impactful_burden', kind='scatter', figsize=(5, 5),\n",
    "                              title=frequency_column, legend=\"impactful_gene\", facecolor='white', marker=\" \")\n",
    "        fig = px.scatter_3d(filtered_df, x='count', y='impactful_burden', z=\"burden_ratio_log2\", text=\"impactful_gene\", color=\"impactful_burden\")\n",
    "        fig.layout.scene=plotly.graph_objs.Scene(\n",
    "            xaxis=XAxis(title=\"Counts\"),\n",
    "            yaxis=YAxis(title=\"Burden ratio\"),\n",
    "            zaxis=ZAxis(title=\"Simulation burden ratio (max)\")\n",
    "        )\n",
    "\n",
    "        #fig.update_layout(template=\"none\", width=400, height=400)\n",
    "        \n",
    "        texts = []\n",
    "        filtered_df[['count', 'impactful_burden', 'impactful_gene']].apply(lambda x: texts.append(ax.text(*x, color=\"red\")), axis=1)\n",
    "        adjust_text(texts, arrowprops=dict(arrowstyle=\"-\", color='b', lw=0.2), time_lim=5, ax=ax)\n",
    "        genes.append([frequency_column, texts])\n",
    "        plt.savefig(\"{0}.png\".format(frequency_column))\n",
    "        #plt.show()\n",
    "        fig.write_html(\"{0}.html\".format(frequency_column))\n",
    "        fig.show()"
   ],
   "outputs": [],
   "execution_count": null
  },
  {
   "cell_type": "code",
   "id": "24b7388564da143e",
   "metadata": {
    "pycharm": {
     "is_executing": true
    }
   },
   "source": [
    "# Useful to see g:Profiles for these genes\n",
    "with open(\"important_genes.txt\", \"w\") as f: \n",
    "    for name, graph in genes:\n",
    "        print(name)\n",
    "        f.write(name + \"\\n\")\n",
    "        for text in graph:\n",
    "            print(text.get_text())\n",
    "            f.write(text.get_text() + \"\\n\")\n",
    "\n",
    "filtered_df"
   ],
   "outputs": [],
   "execution_count": null
  },
  {
   "cell_type": "code",
   "id": "3bcb73aa562621ca",
   "metadata": {
    "pycharm": {
     "is_executing": true
    }
   },
   "source": [
    "important_genes = [\"GLE1\", \"TWIST1\", \"FANCB\", \"RDH12\", \"NPR3\", \"FAAH2\", \"XPNPEP3\", \"AGA\", \"DIP2B\", \"SNIP1\", \"NCKAP1\"]\n",
    "#df = df[df[\"impactful_gene\"].apply(lambda x: x in important_genes)]\n",
    "\n",
    "#import itertools\n",
    "#for pair in (list(itertools.combinations(df[\"impactful_gene\"], 2))):\n",
    "#    print(\"{0},{1}\".format(pair, sum(set(pair).issubset(set(row)) for row in df['gene'])))"
   ],
   "outputs": [],
   "execution_count": null
  },
  {
   "cell_type": "code",
   "id": "b5b1cb73712e6243",
   "metadata": {
    "pycharm": {
     "is_executing": true
    }
   },
   "source": [
    "#df2"
   ],
   "outputs": [],
   "execution_count": null
  },
  {
   "cell_type": "code",
   "id": "65d0441849ba221e",
   "metadata": {
    "pycharm": {
     "is_executing": true
    }
   },
   "source": [],
   "outputs": [],
   "execution_count": null
  }
 ],
 "metadata": {
  "kernelspec": {
   "display_name": "Python 3 (ipykernel)",
   "language": "python",
   "name": "python3"
  },
  "language_info": {
   "codemirror_mode": {
    "name": "ipython",
    "version": 3
   },
   "file_extension": ".py",
   "mimetype": "text/x-python",
   "name": "python",
   "nbconvert_exporter": "python",
   "pygments_lexer": "ipython3",
   "version": "3.11.2"
  }
 },
 "nbformat": 4,
 "nbformat_minor": 5
}
