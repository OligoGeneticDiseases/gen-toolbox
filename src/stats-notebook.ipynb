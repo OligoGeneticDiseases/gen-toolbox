{
 "cells": [
  {
   "cell_type": "markdown",
   "id": "5c7aa37c",
   "metadata": {},
   "source": [
    "# Gen-Toolbox data analyis notebook\n",
    "\n",
    "This notebook is part of the gen-toolbox project, a comprehensive tool designed for collating large numbers of VCF files from unique samples, annotating variants, and creating variant frequency tables. The project is tailored to run on substantial servers and has been spearheaded by the Tartu University Hospital Centre of Medical Genetics and the Tartu University Institute of Clinical Medicine, with the backing of the Estonian Research Council grant PSG774.\n",
    "\n",
    "## Notebook Objective:\n",
    "\n",
    "This particular notebook delves into the statistical analysis of Single Nucleotide Variants (SNVs) in genomic data. The aim is to:\n",
    "\n",
    "- Load and process genomic data.\n",
    "- Compute statistical metrics and ratios.\n",
    "- Visualize results for a better understanding of the data.\n",
    "\n",
    "## Prerequisites:\n",
    "\n",
    "1. **Data Preparation**: Ensure you have the necessary VCF files and gene configurations. The notebook expects CSV or TSV formatted files.\n",
    "\n",
    "2. **Environment Setup**: If using Docker, ensure Docker is installed and running. Alternatively, ensure you have a Python environment set up with all necessary libraries.\n",
    "\n",
    "3. **Configuration**: Adjust path variables in the notebook to match the location of your data files.\n"
   ]
  },
  {
   "cell_type": "markdown",
   "id": "d808eb90-aae0-4b4a-9930-1038a1eb37ac",
   "metadata": {},
   "source": [
    "### 1. Input variables"
   ]
  },
  {
   "cell_type": "markdown",
   "id": "2c5b2988",
   "metadata": {},
   "source": [
    "#### 1.1 Path variables - change these for specifing correct paths"
   ]
  },
  {
   "cell_type": "code",
   "execution_count": null,
   "id": "2284b7d2",
   "metadata": {},
   "outputs": [],
   "source": [
    "gene_config = 'gene_config.json' \n",
    "args_case =  # add here TSV or CSV file with case data\n",
    "args_control = # add here TSV or CSV file with control data"
   ]
  },
  {
   "cell_type": "markdown",
   "id": "d7709dc6",
   "metadata": {},
   "source": [
    "#### 1.2 Configuration variables"
   ]
  },
  {
   "cell_type": "code",
   "execution_count": null,
   "id": "1b25b368-bcef-4a46-a57f-39807e6a493a",
   "metadata": {},
   "outputs": [],
   "source": [
    "is_csv = True # if False, then tsv, if True, then csv\n",
    "iterations = 100 # number of iterations for permutation test\n",
    "combination_length=5 # number of genes in a set\n",
    "case_genes_length = combination_length  # e.g. sets of 5 genes\n",
    "case_count = extract_number_from_filename(args_case) # extract number from filename\n",
    "control_count = extract_number_from_filename(args_control) # extract number from filename"
   ]
  },
  {
   "cell_type": "markdown",
   "id": "8b20dfdf-3608-4771-b465-f83bb4611fba",
   "metadata": {},
   "source": [
    "## 2. Utility functions"
   ]
  },
  {
   "cell_type": "code",
   "execution_count": null,
   "id": "9bf44d4d-520d-4660-97e7-a7267f9b0cda",
   "metadata": {},
   "outputs": [],
   "source": [
    "def load_gene_config(json_file):\n",
    "    \"\"\"Load gene configuration from a JSON file.\"\"\"\n",
    "    with open(json_file, \"r\") as file:\n",
    "        config = json.load(file)\n",
    "    return config"
   ]
  },
  {
   "cell_type": "code",
   "execution_count": null,
   "id": "cba8c565-3d54-47e3-89c8-b5eafc7ac172",
   "metadata": {},
   "outputs": [],
   "source": [
    "def extract_number_from_filename(filename: str) -> int:\n",
    "    \"\"\"Extract the number from the given filename.\"\"\"\n",
    "    match = re.search(r\"\\d+\", filename)\n",
    "    return int(match.group()) if match else None"
   ]
  },
  {
   "cell_type": "markdown",
   "id": "72afd40f-4bee-4787-9f72-26c033943b5f",
   "metadata": {},
   "source": [
    "## 3. Data Loading"
   ]
  },
  {
   "cell_type": "markdown",
   "id": "3146fbfd-7254-4e66-bb86-0a262a4eeead",
   "metadata": {},
   "source": [
    "### 3.1 Loading Gene config"
   ]
  },
  {
   "cell_type": "code",
   "execution_count": null,
   "id": "e06c6110-0f81-4a79-b36c-2632e4626526",
   "metadata": {},
   "outputs": [],
   "source": [
    "config = load_gene_config(gene_config)"
   ]
  },
  {
   "cell_type": "code",
   "execution_count": null,
   "id": "9e3a18f4-0b30-4e3f-8f68-2a2e529748a2",
   "metadata": {},
   "outputs": [],
   "source": [
    "# keys in gene_config would show information present in it\n",
    "config.keys()"
   ]
  },
  {
   "cell_type": "code",
   "execution_count": null,
   "id": "f64f1a0e-2761-45a8-addd-a9493a342fee",
   "metadata": {},
   "outputs": [],
   "source": [
    "# Lets Show some of itersect genes\n",
    "config['intersect_genes_tso'][:5]"
   ]
  },
  {
   "cell_type": "code",
   "execution_count": null,
   "id": "59ac6aa0-c39d-44c6-bf98-1dd423da7031",
   "metadata": {},
   "outputs": [],
   "source": [
    "# How many intersect genes are there\n",
    "len(config['intersect_genes_tso'])"
   ]
  },
  {
   "cell_type": "code",
   "execution_count": null,
   "id": "dca02d8f-d7cb-4ab8-8fd8-dd2ab4b81a56",
   "metadata": {},
   "outputs": [],
   "source": [
    "# printing number of genes in each conf\n",
    "for i in config:\n",
    "    print(i,':', len(config[i]))"
   ]
  },
  {
   "cell_type": "markdown",
   "id": "3bde1257-2025-4a95-b9ce-3d44c20f5ee9",
   "metadata": {},
   "source": [
    "### 3.2 Getting rv_genes and neg_control_genes for use in our test"
   ]
  },
  {
   "cell_type": "code",
   "execution_count": null,
   "id": "3209bcc5-e625-44dc-bd21-c19048812e49",
   "metadata": {},
   "outputs": [],
   "source": [
    "rv_genes = config[\"rv_genes\"]\n",
    "neg_control_genes = config[\"neg_control_genes\"]"
   ]
  },
  {
   "cell_type": "markdown",
   "id": "d371aab8-3d74-4231-be96-185c6054c925",
   "metadata": {},
   "source": [
    "### 3.3 Loading case and control SNV data\n",
    "\n",
    "For csv data file intersect_genes_tso is loaded while for tsv intersect_genes_tshc is loaded. Read the docs for clarification"
   ]
  },
  {
   "cell_type": "code",
   "execution_count": null,
   "id": "25fcab89-50d3-441b-9cd3-2636270fc3ad",
   "metadata": {},
   "outputs": [],
   "source": [
    "if is_csv:\n",
    "    intersect_genes = config[\"intersect_genes_tso\"]\n",
    "    df_case = pd.read_csv(args_case, sep=\",\", header=0)\n",
    "    df_control = pd.read_csv(args_control, sep=\",\", header=0)\n",
    "else:\n",
    "    intersect_genes = config[\"intersect_genes_tshc\"]\n",
    "    df_case = pd.read_table(args_case, sep=\"\\t\", header=0)\n",
    "    df_control = pd.read_table(args_control, sep=\"\\t\", header=0)"
   ]
  },
  {
   "cell_type": "markdown",
   "id": "7734aed9-d8d5-4390-9767-e19bb5a5438b",
   "metadata": {},
   "source": [
    "As we have loaded single file for case and control, both dataframes will be same"
   ]
  },
  {
   "cell_type": "code",
   "execution_count": null,
   "id": "7b9e9b5c-e49b-4981-aaeb-375f38dcf47c",
   "metadata": {},
   "outputs": [],
   "source": [
    "df_case.head(2)"
   ]
  },
  {
   "cell_type": "code",
   "execution_count": null,
   "id": "e8f6efc9-b8c2-4763-9bf7-9a3dd12417ae",
   "metadata": {},
   "outputs": [],
   "source": [
    "df_control.head(2)"
   ]
  },
  {
   "cell_type": "code",
   "execution_count": null,
   "id": "44e4c951-fe66-4688-821e-0a6d9ba6c531",
   "metadata": {},
   "outputs": [],
   "source": [
    "# Dataframe length\n",
    "# Each row contains a gene\n",
    "f'number of genes in case: {len(df_case)}', f'number of genes in control: {len(df_control)}'"
   ]
  },
  {
   "cell_type": "markdown",
   "id": "fc3c69b3-2be8-4d1d-8812-61e3a73ab377",
   "metadata": {},
   "source": [
    "### 3.4 Assigning the 1st column the name of gene"
   ]
  },
  {
   "cell_type": "code",
   "execution_count": null,
   "id": "4145c801-25f8-416c-b9ac-9856c39215f4",
   "metadata": {},
   "outputs": [],
   "source": [
    "df_case.rename(columns={df_case.columns[0]: \"gene\"}, inplace = True)\n",
    "df_control.rename(columns={df_control.columns[0]: \"gene\"}, inplace = True)"
   ]
  },
  {
   "cell_type": "code",
   "execution_count": null,
   "id": "3837bfbb-f48c-4fe4-b293-7ac31c9c71eb",
   "metadata": {},
   "outputs": [],
   "source": [
    "df_case.columns"
   ]
  },
  {
   "cell_type": "markdown",
   "id": "2e278aa4-f999-4bb5-ab4c-f8444f12ed23",
   "metadata": {},
   "source": [
    "### 3.5 Getting list of all genes"
   ]
  },
  {
   "cell_type": "code",
   "execution_count": null,
   "id": "98a0be0b-2aa9-477c-9c1d-2cf89d14a41d",
   "metadata": {},
   "outputs": [],
   "source": [
    "all_genes = df_case['gene']"
   ]
  },
  {
   "cell_type": "markdown",
   "id": "cba16a95-96d0-431d-91b6-2539332145f0",
   "metadata": {},
   "source": [
    "## 4. Cleaning data"
   ]
  },
  {
   "cell_type": "markdown",
   "id": "95afda65-5468-4be5-a966-439e170abb94",
   "metadata": {},
   "source": [
    "### 4.1 Selecting intersect gene from config"
   ]
  },
  {
   "cell_type": "code",
   "execution_count": null,
   "id": "4f8b8715-096d-4e89-8ca2-2b26dcc02119",
   "metadata": {},
   "outputs": [],
   "source": [
    "# Selecting only itersecting genes from config\n",
    "if intersect_genes is not None:\n",
    "    # Filter out empty genes and keep only the intersecting genes in both dataframes\n",
    "    df_case = df_case.dropna(subset=[\"gene\"])\n",
    "    df_case = df_case[df_case.gene.isin(intersect_genes)]\n",
    "    df_control = df_control.dropna(subset=[\"gene\"])\n",
    "    df_control = df_control[df_control.gene.isin(intersect_genes)]\n",
    "    df_case.reset_index(drop=True, inplace=True)\n",
    "    df_control.reset_index(drop=True, inplace=True)"
   ]
  },
  {
   "cell_type": "code",
   "execution_count": null,
   "id": "39aa9190-5021-4711-8681-c8a47b649ae5",
   "metadata": {},
   "outputs": [],
   "source": [
    "# Dataframe length after selecting only intersecting genes available in config\n",
    "f'number of genes in case: {len(df_case)}', f'number of genes in control: {len(df_control)}'"
   ]
  },
  {
   "cell_type": "code",
   "execution_count": null,
   "id": "eeb608f6-34b7-4652-9bb1-eba82dc0a40e",
   "metadata": {},
   "outputs": [],
   "source": [
    "#Check if dataframes are of equal length\n",
    "if len(df_case.index) != len(df_control.index):\n",
    "    print(\"WARNING: Case dataframe length does not match control dataframe length! The intersect of both dataframes will be analysed.\")"
   ]
  },
  {
   "cell_type": "markdown",
   "id": "29490017-4c03-4e80-9b6f-2037749797a9",
   "metadata": {},
   "source": [
    "### 4.2 Taking intersect of both data frames and sorting on gene column\n",
    "\n",
    "This step is performed to ensure that same genes for case and control are present and we can apply indexwise operation in our statistical test. Randomly selected indices will produce same genes from both data frames.\n",
    "\n",
    "Sorting is done because if we select gene names randomly and then filter both dataframes for selected gene names then it will be a slow process\n"
   ]
  },
  {
   "cell_type": "code",
   "execution_count": null,
   "id": "402e9c42-2d5a-444e-a25b-78630fee9029",
   "metadata": {},
   "outputs": [],
   "source": [
    "# Take only the intersect of two dataframes based on gene column\n",
    "intersection_values = set(df_case['gene']).intersection(df_control['gene'])\n",
    "df_case = df_case[df_case[\"gene\"].isin(intersection_values)]\n",
    "df_case = df_case.sort_values(by=\"gene\")\n",
    "df_control = df_control[df_control[\"gene\"].isin(intersection_values)]\n",
    "df_control = df_control.sort_values(by=\"gene\")\n",
    "df_case.reset_index(drop=True, inplace=True)\n",
    "df_control.reset_index(drop=True, inplace=True)"
   ]
  },
  {
   "cell_type": "code",
   "execution_count": null,
   "id": "a1b7796d-9c28-42f2-961a-d800b60c377d",
   "metadata": {},
   "outputs": [],
   "source": [
    "# The rows must match in order to do index based math\n",
    "assert df_case[\"gene\"].equals(df_control[\"gene\"]), \"Case and control dataframe indices do not match!\""
   ]
  },
  {
   "cell_type": "code",
   "execution_count": null,
   "id": "9aba747d-b862-45fb-8d45-5a9875df6448",
   "metadata": {},
   "outputs": [],
   "source": []
  },
  {
   "cell_type": "markdown",
   "id": "928d9238-21f1-4ddb-9c1b-21df5d3899e9",
   "metadata": {},
   "source": [
    "## 5. Statistical test"
   ]
  },
  {
   "cell_type": "markdown",
   "id": "26191d54-527e-45c8-aecb-824623689d79",
   "metadata": {},
   "source": [
    "### 5.1 Initializing empty dataframes to store results"
   ]
  },
  {
   "cell_type": "code",
   "execution_count": null,
   "id": "21239c0d-561b-4e44-9387-b780f6e4983b",
   "metadata": {},
   "outputs": [],
   "source": [
    "fraction_results_1 = pd.DataFrame()\n",
    "fraction_results_2 = pd.DataFrame(columns=df_case.columns[1:].tolist())"
   ]
  },
  {
   "cell_type": "markdown",
   "id": "d9420303-9f18-4e26-99a7-95f21b3a6c3d",
   "metadata": {},
   "source": [
    "### 5.2 Calculating desired variables"
   ]
  },
  {
   "cell_type": "markdown",
   "id": "db49ab92-b924-477a-8a7b-8fbca61c96db",
   "metadata": {},
   "source": [
    "If we have passed only 1 file it will make expected_ratio to be 1"
   ]
  },
  {
   "cell_type": "code",
   "execution_count": null,
   "id": "5db58e73-76ef-4d2c-9f95-baf2601e05ff",
   "metadata": {},
   "outputs": [],
   "source": [
    "expected_ratio = case_count / control_count\n",
    "df_case.reset_index(drop=True, inplace=True)\n",
    "df_control.reset_index(drop=True, inplace=True)\n",
    "columns_to_add = df_case.columns[1:]\n",
    "\n",
    "# Calculate the mean of the case and control dataframes\n",
    "df_case_mean = df_case.mean()\n",
    "df_control_mean = df_control.mean()\n",
    "\n",
    "num_columns = df_case.shape[1]\n",
    "\n",
    "print(\"Case means \\n{0}\\nControl means \\n{1}\".format(df_case_mean, df_control_mean))\n",
    "print(\"Expected ratio cases / controls: {0}, log2 {1}\".format(expected_ratio, np.log2(expected_ratio)))\n",
    "print(\"Expected ratio cases / controls by group (log2): \\n {0}\".format(np.log2(df_case_mean / df_control_mean)))"
   ]
  },
  {
   "cell_type": "code",
   "execution_count": null,
   "id": "d55e1ba6-c504-4898-a3a6-6f7a9c2e1580",
   "metadata": {},
   "outputs": [],
   "source": [
    "# Divisible columns, look at the ratios grossly\n",
    "divison_result_gross = df_case[columns_to_add] / df_control[columns_to_add]\n",
    "r = divison_result_gross[divison_result_gross[:-1] > expected_ratio].dropna(how=\"all\")\n",
    "r[\"gene\"] = df_case[\"gene\"]  ## Do nothing"
   ]
  },
  {
   "cell_type": "markdown",
   "id": "339c514a-ea91-459f-b47e-73283fe8fc55",
   "metadata": {},
   "source": [
    "### 5.2 Random selection of indices for statistical test"
   ]
  },
  {
   "cell_type": "code",
   "execution_count": null,
   "id": "8ee3b2ef-c216-4ee6-9a5e-0f0c6c3151da",
   "metadata": {},
   "outputs": [],
   "source": [
    "indices = np.array([np.random.choice(df_case.index, size=case_genes_length, replace=False) for _ in range(iterations)])"
   ]
  },
  {
   "cell_type": "markdown",
   "id": "f7cfca81-973c-4d21-a211-2c9259ccd428",
   "metadata": {},
   "source": [
    "### 5.3 Taking sum for columns against selected indices for each iteration"
   ]
  },
  {
   "cell_type": "code",
   "execution_count": null,
   "id": "661f6b27-fd03-4e04-b5be-b470b61226c5",
   "metadata": {},
   "outputs": [],
   "source": [
    "# Calculate the sum of total variants for the case and control groups using the sampled indices\n",
    "total_variants_case = np.array([df_case.iloc[idx, 1:].sum().to_numpy() for idx in indices])\n",
    "total_variants_control = np.array([df_control.iloc[idx, 1:].sum().to_numpy() for idx in indices])"
   ]
  },
  {
   "cell_type": "code",
   "execution_count": null,
   "id": "ca6f5cf1-d603-48fe-8a33-4eb917cd00a3",
   "metadata": {},
   "outputs": [],
   "source": [
    "total_variants_case[0]"
   ]
  },
  {
   "cell_type": "markdown",
   "id": "a34c436c-0656-4ae8-8259-ca2b7a3cce87",
   "metadata": {},
   "source": [
    "### 5.4 Ratios vector for each column based on given condition to include sum"
   ]
  },
  {
   "cell_type": "code",
   "execution_count": null,
   "id": "03238c50-146d-4df1-95f6-e51134cc0d7a",
   "metadata": {},
   "outputs": [],
   "source": [
    "ratios_vector = np.where(np.logical_and(total_variants_case > 1, total_variants_control > 1),\\\n",
    "                total_variants_case / total_variants_control,\\\n",
    "                np.NaN)"
   ]
  },
  {
   "cell_type": "code",
   "execution_count": null,
   "id": "14559290-b596-4f04-845e-992ab5b7295d",
   "metadata": {},
   "outputs": [],
   "source": [
    "# numer of iterations and column number can be seen in shape\n",
    "ratios_vector.shape"
   ]
  },
  {
   "cell_type": "code",
   "execution_count": null,
   "id": "c0e56801-da3e-4ea7-999f-43a3c85e4ed6",
   "metadata": {},
   "outputs": [],
   "source": [
    "# Where sum is less than 1 NaN will be placed for the ratio in that\n",
    "ratios_vector[0]"
   ]
  },
  {
   "cell_type": "markdown",
   "id": "c7e6146e-5483-41c7-9abf-19cbb95a976a",
   "metadata": {},
   "source": [
    "### 5.5 Satisfying below statistical condition to get results\n",
    "\n",
    "\n",
    "\n",
    "\n",
    "1. $$ \\log_2\\left(\\frac{\\text{ratios\\_vector}}{\\text{expected\\_ratio}}\\right) > 0.7 $$\n",
    "\n",
    "\n",
    "2. $$ \\text{total\\_variants\\_case} > \\text{case\\_genes\\_length} $$\n",
    "\n",
    "\n",
    "3. $$ \\text{total\\_variants\\_control} > \\text{case\\_genes\\_length} $$\n"
   ]
  },
  {
   "cell_type": "code",
   "execution_count": null,
   "id": "4d263e42-3fc7-4f3b-aefe-6f27986da22c",
   "metadata": {},
   "outputs": [],
   "source": [
    "fraction_results_tmp = pd.DataFrame(ratios_vector, columns=df_case.columns[1:].tolist())\n",
    "\n",
    "complex_condition = np.logical_and(\n",
    "                    np.log2(ratios_vector/expected_ratio) > 0.7,\n",
    "                    total_variants_case > case_genes_length,\n",
    "                    total_variants_control > case_genes_length\n",
    "                    ).T.flatten()\n",
    "\n",
    "gene = np.array([df_case.gene[idx].to_numpy() for idx in indices])\n",
    "case = np.array([df_case.iloc[idx, 1:].to_numpy().T for idx in indices]).transpose((1, 0, 2))\n",
    "control = np.array([df_control.iloc[idx, 1:].to_numpy().T for idx in indices]).transpose((1, 0, 2))\n",
    "case = case.reshape((-1, case.shape[-1]))\n",
    "control = control.reshape((-1, control.shape[-1]))\n",
    "case_control = case/control\n",
    "\n",
    "fraction_results_1 = pd.DataFrame()\n",
    "fraction_results_1['frequency_bin'] = np.repeat(fraction_results_tmp.columns, len(fraction_results_tmp))\n",
    "fraction_results_1['burden_ratio'] = fraction_results_tmp.to_numpy().T.flatten()\n",
    "fraction_results_1['gene'] = list(np.tile(gene, (len(df_case.columns[1:].tolist()),1)))\n",
    "fraction_results_1['case'] = list(case)\n",
    "fraction_results_1['control'] = list(control)\n",
    "fraction_results_1['case_control'] = list(case_control)\n",
    "fraction_results_1 = fraction_results_1[complex_condition].reset_index(drop=True)\n",
    "fraction_results_1['burden_event'] = list(range(len(fraction_results_1)))"
   ]
  },
  {
   "cell_type": "code",
   "execution_count": null,
   "id": "fe7951bc-2a35-4b70-84b5-d82ba478f0a8",
   "metadata": {},
   "outputs": [],
   "source": [
    "# while working with case and control data this condition will get satisfied for some samples\n",
    "fraction_results_1"
   ]
  },
  {
   "cell_type": "code",
   "execution_count": null,
   "id": "32d06ce9-9264-42cc-99f3-e8f45d40dbff",
   "metadata": {},
   "outputs": [],
   "source": [
    "# Verify True and False condition indexes\n",
    "print(list(complex_condition))"
   ]
  },
  {
   "cell_type": "markdown",
   "id": "a2b5a437-20f4-4a51-a633-dd41938f146a",
   "metadata": {},
   "source": [
    "### 5.6 Storing Dataframe"
   ]
  },
  {
   "cell_type": "code",
   "execution_count": null,
   "id": "912dc6d9-38c1-4bf7-9493-5fddf00adbeb",
   "metadata": {},
   "outputs": [],
   "source": [
    "fraction_results_1.to_csv(\"{0}_{1}_{2}.csv\".format(case_count, control_count, iterations))"
   ]
  },
  {
   "cell_type": "markdown",
   "id": "073ceec1-1d4f-440f-9200-1d8b77989d93",
   "metadata": {},
   "source": [
    "### 5.7 Getting ratio with expected ratio"
   ]
  },
  {
   "cell_type": "code",
   "execution_count": null,
   "id": "cf0befe7-2f5c-4d06-b821-6de39ab8ed17",
   "metadata": {},
   "outputs": [],
   "source": [
    "fraction_results_2 = pd.DataFrame(ratios_vector/expected_ratio, columns=df_case.columns[1:].tolist())"
   ]
  },
  {
   "cell_type": "markdown",
   "id": "d90ebade-3579-4634-b5af-18c417749ec6",
   "metadata": {},
   "source": [
    "### 5.8 Preparing for plot"
   ]
  },
  {
   "cell_type": "code",
   "execution_count": null,
   "id": "675be646-aead-4754-86a6-2d6a1958f137",
   "metadata": {},
   "outputs": [],
   "source": [
    "fig, axs = plt.subplots(\n",
    "    len(fraction_results_2.columns),\n",
    "    1,\n",
    "    sharex=\"none\",\n",
    "    tight_layout=False,\n",
    "    figsize=(12, 24),\n",
    ")\n",
    "i = 0\n",
    "for frequency_column in fraction_results_2.columns:\n",
    "    fraction_results_2[frequency_column].dropna(inplace=True)\n",
    "\n",
    "    if fraction_results_2[frequency_column].any():\n",
    "        # Average sample normalization enrichment ratios for \"likely impactful\" and \"likely non-impactful\" genes\n",
    "        q_avg = np.divide(\n",
    "            np.sum(df_case[df_case.gene.isin(rv_genes)][frequency_column]),\n",
    "            np.sum(df_control[df_control.gene.isin(rv_genes)][frequency_column]),)\n",
    "        q_avg_control_group = np.divide(\n",
    "            np.sum(df_case[df_case.gene.isin(neg_control_genes)][frequency_column]),\n",
    "            np.sum(\n",
    "                df_control[df_control.gene.isin(neg_control_genes)][frequency_column]),)\n",
    "        print(\n",
    "            \"Impact group (av-norm. ): {0}, case_genes_enrichment: {1}, control_genes_enrichment: {2}\".format(\n",
    "                frequency_column, q_avg, q_avg_control_group\n",
    "            )\n",
    "        )\n",
    "        fraction_results_2[frequency_column + \"_log2\"] = np.log2(\n",
    "            fraction_results_2[frequency_column]).dropna()\n",
    "\n",
    "        # Unused block\n",
    "        mu, std = sp.norm.fit(fraction_results_2[frequency_column + \"_log2\"].dropna())\n",
    "        percentile_99 = np.percentile(fraction_results_2[frequency_column + \"_log2\"].dropna(), 99)\n",
    "        xmin, xmax = (\n",
    "            fraction_results_2[frequency_column + \"_log2\"].min(),\n",
    "            fraction_results_2[frequency_column + \"_log2\"].dropna().max(),\n",
    "        )\n",
    "        x = np.linspace(mu - 3 * std, mu + 3*std, 100)\n",
    "        _, bins, _ = axs[i].hist(\n",
    "            fraction_results_2[frequency_column+ \"_log2\"],\n",
    "            density=False,\n",
    "            log=False,\n",
    "            histtype=\"stepfilled\",\n",
    "            stacked=True,\n",
    "            bins=500,\n",
    "        )\n",
    "        p = sp.norm.pdf(bins, mu, std)\n",
    "        axs[i].set_title(\n",
    "            \"{0}: mean_enrichment={1} positive_genes={2} negative_genes={3} 99th percentile (purple)={4}\".format(\n",
    "                fraction_results_2[frequency_column].name + \"_log2\",\n",
    "                np.round(fraction_results_2[frequency_column + \"_log2\"].mean(), 2),\n",
    "                np.round(np.log2(q_avg), 2),\n",
    "                np.round(np.log2(q_avg_control_group), 2),\n",
    "                np.round(percentile_99, 2)\n",
    "                )\n",
    "        )\n",
    "        axs[i].axvline(percentile_99, color=\"purple\")\n",
    "        i +=1\n",
    "plt.show()\n",
    "print(\"Done {0} iterations\".format(iterations))\n"
   ]
  },
  {
   "cell_type": "markdown",
   "id": "70bff8b6-631a-4028-a694-36214797e531",
   "metadata": {},
   "source": [
    "# Library Imports"
   ]
  },
  {
   "cell_type": "code",
   "execution_count": null,
   "id": "e0a8063a-80c2-4d7d-9058-9346b5080f8c",
   "metadata": {},
   "outputs": [],
   "source": [
    "import argparse\n",
    "import datetime\n",
    "import json\n",
    "import re\n",
    "import sys\n",
    "import uuid\n",
    "from pathlib import Path\n",
    "\n",
    "import scipy.stats as sp\n",
    "from sklearn.decomposition import PCA\n",
    "from sklearn.preprocessing import StandardScaler\n",
    "from tqdm import tqdm\n",
    "\n",
    "import matplotlib.pyplot as plt\n",
    "import numpy as np\n",
    "import pandas as pd"
   ]
  }
 ],
 "metadata": {
  "kernelspec": {
   "display_name": "deepenv",
   "language": "python",
   "name": "deepenv"
  },
  "language_info": {
   "codemirror_mode": {
    "name": "ipython",
    "version": 3
   },
   "file_extension": ".py",
   "mimetype": "text/x-python",
   "name": "python",
   "nbconvert_exporter": "python",
   "pygments_lexer": "ipython3",
   "version": "3.11.4"
  }
 },
 "nbformat": 4,
 "nbformat_minor": 5
}
